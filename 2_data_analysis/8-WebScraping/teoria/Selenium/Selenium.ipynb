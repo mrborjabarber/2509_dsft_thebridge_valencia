{
 "cells": [
  {
   "cell_type": "markdown",
   "metadata": {},
   "source": [
    "# Web Scraping: Selenium"
   ]
  },
  {
   "cell_type": "markdown",
   "metadata": {},
   "source": [
    "A menudo, los datos están disponibles públicamente para nosotros, pero no en una forma que sea fácilmente utilizable. Ahí es donde entra en juego el web scraping, podemos usar web scraping para obtener nuestros datos deseados en un formato conveniente que luego se puede usar. A continuación, mostraré cómo se puede extraer información de interés de un sitio web usando el paquete Selenium en Python. Selenium nos permite manejar una ventana del navegador e interactuar con el sitio web mediante programación. \n",
    "\n",
    "Selenium también tiene varios métodos que facilitan la extracción de datos.\n",
    "En este Jupyter Notebook vamos a usar Python 3 en Windows.\n",
    "\n",
    "En primer lugar, tendremos que descargar un controlador.\n",
    "\n",
    "Usaremos ChromeDriver para Google Chrome. Para obtener una lista completa de controladores y plataformas compatibles, consulte [Selenium](https://www.selenium.dev/downloads/). Si desea utilizar Google Chrome, diríjase a [chrome](https://chromedriver.chromium.org/) y descargue el controlador que corresponde a su versión actual de Google Chrome.\n",
    "\n",
    "Como saber cual es la version de chrome que utilizo simple utilizamos pegamos el siguiente enlace en la barra de chrome chrome://settings/help\n",
    "\n",
    "Antes de comenzar se preguntaran si ya se BeautifulSoup cual es la diferencia con Selenium.\n",
    "\n",
    "A diferencia BeautifulSoup, Selenium no trabaja con el texto fuente en HTML de la web en cuestión, sino que carga la página en un navegador sin interfaz de usuario. El navegador interpreta entonces el código fuente de la página y crea, a partir de él, un Document Object Model (modelo de objetos de documento o DOM). Esta interfaz estandarizada permite poner a prueba las interacciones de los usuarios. De esta forma se consigue, por ejemplo, simular clics y rellenar formularios automáticamente. Los cambios en la web que resultan de dichas acciones se reflejan en el DOM. La estructura del proceso de web scraping con Selenium es la siguiente:\n",
    "\n",
    "URL → Solicitud HTTP → HTML → Selenium → DOM\n",
    "\n"
   ]
  },
  {
   "cell_type": "markdown",
   "metadata": {},
   "source": [
    "## Comencemos importando las bibliotecas que usaremos:"
   ]
  },
  {
   "cell_type": "code",
   "execution_count": 2,
   "metadata": {},
   "outputs": [],
   "source": [
    "# pip install selenium"
   ]
  },
  {
   "cell_type": "code",
   "execution_count": 1,
   "metadata": {
    "ExecuteTime": {
     "end_time": "2021-02-26T12:16:59.303652Z",
     "start_time": "2021-02-26T12:16:59.300657Z"
    }
   },
   "outputs": [],
   "source": [
    "from selenium import webdriver\n",
    "from selenium.webdriver.chrome.service import Service\n",
    "from selenium.webdriver.common.by import By\n",
    "# import urllib3 # urllib3 es un cliente HTTP potente y fácil de usar para Python.\n",
    "import re # Expresiones regulares \n",
    "import time\n",
    "import pandas as pd"
   ]
  },
  {
   "cell_type": "markdown",
   "metadata": {},
   "source": [
    "El objeto driver es con el que trabajaremos a partir de ahora"
   ]
  },
  {
   "cell_type": "code",
   "execution_count": 27,
   "metadata": {},
   "outputs": [],
   "source": [
    "service = Service(executable_path='./chromedriver.exe')\n",
    "options = webdriver.ChromeOptions()"
   ]
  },
  {
   "cell_type": "code",
   "execution_count": 28,
   "metadata": {},
   "outputs": [],
   "source": [
    "driver = webdriver.Chrome(service=service, options=options)\n",
    "# ...\n",
    "# driver.quit()"
   ]
  },
  {
   "cell_type": "code",
   "execution_count": 29,
   "metadata": {},
   "outputs": [],
   "source": [
    "# Creamos el driver con el que nos vamos a manejar en la sesión de scrapeo:\n",
    "\n",
    "driver.get(\"http://www.google.es\")\n",
    "\n",
    "# time.sleep(5)\n",
    "\n",
    "# driver.quit()"
   ]
  },
  {
   "cell_type": "code",
   "execution_count": 26,
   "metadata": {},
   "outputs": [],
   "source": [
    "driver.quit()"
   ]
  },
  {
   "cell_type": "markdown",
   "metadata": {},
   "source": [
    "Ahora si queremos hacer click en el boton de \"Rechazar\". Selenium proporciona varios métodos para localizar elementos en la página web. Usaremos el método find_element para crear un objeto de botón, con el que luego podremos interactuar:"
   ]
  },
  {
   "cell_type": "code",
   "execution_count": 30,
   "metadata": {},
   "outputs": [],
   "source": [
    "loadMore = driver.find_element(By.XPATH, '/html/body/div[2]/div[2]/div[3]/span/div/div/div/div[3]/div[1]/button[1]')"
   ]
  },
  {
   "cell_type": "code",
   "execution_count": 31,
   "metadata": {},
   "outputs": [],
   "source": [
    "loadMore.click()"
   ]
  },
  {
   "cell_type": "code",
   "execution_count": 32,
   "metadata": {},
   "outputs": [],
   "source": [
    "search_box = driver.find_element(By.XPATH, \"/html/body/div[1]/div[3]/form/div[1]/div[1]/div[1]/div[1]/div[2]/textarea\")\n",
    "search_box.send_keys(\"thebridgeschool\")\n",
    "search_box.submit()"
   ]
  },
  {
   "cell_type": "code",
   "execution_count": 34,
   "metadata": {},
   "outputs": [],
   "source": [
    "search_box = driver.find_element(By.XPATH, \"/html/body/span[1]/div/div/div/form/div[1]/div[1]/div[2]/div[1]/div[2]/textarea\")\n",
    "search_box.clear()\n",
    "search_box.send_keys(\"selenium\")\n",
    "search_box.submit()"
   ]
  },
  {
   "cell_type": "code",
   "execution_count": 36,
   "metadata": {},
   "outputs": [],
   "source": [
    "lista_conceptos = ['Europa','Rusia','China','Estados unidos']\n",
    "for concepto in lista_conceptos:\n",
    "    search_box = driver.find_element(By.XPATH, \"/html/body/span[1]/div/div/div/form/div[1]/div[1]/div[2]/div[1]/div[2]/textarea\")\n",
    "    search_box.clear()\n",
    "    search_box.send_keys(concepto)\n",
    "    search_box.submit()\n",
    "    time.sleep(5)"
   ]
  },
  {
   "cell_type": "code",
   "execution_count": 37,
   "metadata": {},
   "outputs": [],
   "source": [
    "driver.quit()"
   ]
  },
  {
   "cell_type": "markdown",
   "metadata": {},
   "source": [
    "# Filmaffinity"
   ]
  },
  {
   "cell_type": "code",
   "execution_count": 52,
   "metadata": {},
   "outputs": [],
   "source": [
    "service = Service(executable_path='./chromedriver.exe')\n",
    "options = webdriver.ChromeOptions()\n",
    "driver = webdriver.Chrome(service=service, options=options)"
   ]
  },
  {
   "cell_type": "code",
   "execution_count": 53,
   "metadata": {},
   "outputs": [],
   "source": [
    "# indicamos la URL de la página web a la que queremos acceder:\n",
    "url = 'https://www.filmaffinity.com/es/main.html'\n",
    "# el objeto driver nos va a permitir alterar el estado del la página\n",
    "driver.get(url)"
   ]
  },
  {
   "cell_type": "code",
   "execution_count": 51,
   "metadata": {},
   "outputs": [],
   "source": [
    "driver.quit()"
   ]
  },
  {
   "cell_type": "markdown",
   "metadata": {},
   "source": [
    "La página de Filmaffinity se ha abierto"
   ]
  },
  {
   "cell_type": "markdown",
   "metadata": {},
   "source": [
    "Pero...."
   ]
  },
  {
   "cell_type": "markdown",
   "metadata": {},
   "source": [
    "Nos hemos encontrado con un pop-up que nos pide aceptar cookies"
   ]
  },
  {
   "cell_type": "markdown",
   "metadata": {},
   "source": [
    "1. Buscamos el botón\n",
    "2. Hacemos click en el botón"
   ]
  },
  {
   "cell_type": "markdown",
   "metadata": {},
   "source": [
    "Vamos a quitar el boton para seguir"
   ]
  },
  {
   "cell_type": "code",
   "execution_count": 54,
   "metadata": {
    "ExecuteTime": {
     "end_time": "2021-02-26T10:22:48.546287Z",
     "start_time": "2021-02-26T10:22:48.489040Z"
    }
   },
   "outputs": [],
   "source": [
    "elements_by_tag = driver.find_elements(By.TAG_NAME,'button')\n",
    "elements_by_class_name = driver.find_elements(By.CLASS_NAME, 'css-2tkghh')\n",
    "element_by_xpath = driver.find_element(By.XPATH, '/html/body/div[1]/div/div/div/div[2]/div/button[3]')"
   ]
  },
  {
   "cell_type": "code",
   "execution_count": 5,
   "metadata": {},
   "outputs": [],
   "source": [
    "# /html/body/div[1]/div/div/div/div[2]/div/button[3]"
   ]
  },
  {
   "cell_type": "markdown",
   "metadata": {},
   "source": [
    "Una vez tenemos los elementos podemos hacer varias cosas con ellos"
   ]
  },
  {
   "cell_type": "markdown",
   "metadata": {},
   "source": [
    "Podemos extraer todos los atributos que tenga"
   ]
  },
  {
   "cell_type": "code",
   "execution_count": 41,
   "metadata": {
    "ExecuteTime": {
     "end_time": "2021-02-26T10:22:51.542538Z",
     "start_time": "2021-02-26T10:22:51.508077Z"
    }
   },
   "outputs": [
    {
     "data": {
      "text/plain": [
       "['__abstractmethods__',\n",
       " '__class__',\n",
       " '__delattr__',\n",
       " '__dict__',\n",
       " '__dir__',\n",
       " '__doc__',\n",
       " '__eq__',\n",
       " '__format__',\n",
       " '__ge__',\n",
       " '__getattribute__',\n",
       " '__getstate__',\n",
       " '__gt__',\n",
       " '__hash__',\n",
       " '__init__',\n",
       " '__init_subclass__',\n",
       " '__le__',\n",
       " '__lt__',\n",
       " '__module__',\n",
       " '__ne__',\n",
       " '__new__',\n",
       " '__reduce__',\n",
       " '__reduce_ex__',\n",
       " '__repr__',\n",
       " '__setattr__',\n",
       " '__sizeof__',\n",
       " '__str__',\n",
       " '__subclasshook__',\n",
       " '__weakref__',\n",
       " '_abc_impl',\n",
       " '_execute',\n",
       " '_id',\n",
       " '_parent',\n",
       " '_upload',\n",
       " 'accessible_name',\n",
       " 'aria_role',\n",
       " 'clear',\n",
       " 'click',\n",
       " 'find_element',\n",
       " 'find_elements',\n",
       " 'get_attribute',\n",
       " 'get_dom_attribute',\n",
       " 'get_property',\n",
       " 'id',\n",
       " 'is_displayed',\n",
       " 'is_enabled',\n",
       " 'is_selected',\n",
       " 'location',\n",
       " 'location_once_scrolled_into_view',\n",
       " 'parent',\n",
       " 'rect',\n",
       " 'screenshot',\n",
       " 'screenshot_as_base64',\n",
       " 'screenshot_as_png',\n",
       " 'send_keys',\n",
       " 'shadow_root',\n",
       " 'size',\n",
       " 'submit',\n",
       " 'tag_name',\n",
       " 'text',\n",
       " 'value_of_css_property']"
      ]
     },
     "execution_count": 41,
     "metadata": {},
     "output_type": "execute_result"
    }
   ],
   "source": [
    "dir(element_by_xpath)\n",
    "# obtenemos todos sus métodos y atributos:"
   ]
  },
  {
   "cell_type": "markdown",
   "metadata": {},
   "source": [
    "Podemos evaluar que tipo de elemento es (tag)"
   ]
  },
  {
   "cell_type": "code",
   "execution_count": 18,
   "metadata": {
    "ExecuteTime": {
     "end_time": "2021-02-26T10:22:53.325430Z",
     "start_time": "2021-02-26T10:22:53.306520Z"
    }
   },
   "outputs": [
    {
     "data": {
      "text/plain": [
       "'button'"
      ]
     },
     "execution_count": 18,
     "metadata": {},
     "output_type": "execute_result"
    }
   ],
   "source": [
    "element_by_xpath.tag_name"
   ]
  },
  {
   "cell_type": "markdown",
   "metadata": {},
   "source": [
    "Podemos sacar el valor que tiene (el texto)"
   ]
  },
  {
   "cell_type": "code",
   "execution_count": 7,
   "metadata": {
    "ExecuteTime": {
     "end_time": "2021-02-26T10:22:54.583190Z",
     "start_time": "2021-02-26T10:22:54.553596Z"
    }
   },
   "outputs": [
    {
     "data": {
      "text/plain": [
       "'NO ACEPTO'"
      ]
     },
     "execution_count": 7,
     "metadata": {},
     "output_type": "execute_result"
    }
   ],
   "source": [
    "element_by_xpath.text"
   ]
  },
  {
   "cell_type": "code",
   "execution_count": 42,
   "metadata": {},
   "outputs": [
    {
     "name": "stdout",
     "output_type": "stream",
     "text": [
      "socios\n",
      "MÁS OPCIONES\n",
      "NO ACEPTO\n",
      "ACEPTO\n"
     ]
    }
   ],
   "source": [
    "for i in range(0,len(elements_by_tag)):\n",
    "    print(elements_by_tag[i].text)"
   ]
  },
  {
   "cell_type": "markdown",
   "metadata": {},
   "source": [
    "Incluso podemos guardar una imagen del elemento"
   ]
  },
  {
   "cell_type": "code",
   "execution_count": 40,
   "metadata": {},
   "outputs": [
    {
     "data": {
      "text/plain": [
       "selenium.webdriver.remote.webelement.WebElement"
      ]
     },
     "execution_count": 40,
     "metadata": {},
     "output_type": "execute_result"
    }
   ],
   "source": [
    "type(element_by_xpath)\n",
    "# Vemos que es tipo 'WebElement' y en la documentación podremos encontrar sus métodos"
   ]
  },
  {
   "cell_type": "code",
   "execution_count": 43,
   "metadata": {
    "ExecuteTime": {
     "end_time": "2021-02-26T10:24:41.830050Z",
     "start_time": "2021-02-26T10:24:41.510086Z"
    }
   },
   "outputs": [
    {
     "data": {
      "text/plain": [
       "True"
      ]
     },
     "execution_count": 43,
     "metadata": {},
     "output_type": "execute_result"
    }
   ],
   "source": [
    "# guardamos como 'mi_imagen.png' la imagen asociada al xpath\n",
    "element_by_xpath.screenshot('mi_imagen.png')"
   ]
  },
  {
   "cell_type": "markdown",
   "metadata": {
    "ExecuteTime": {
     "end_time": "2021-02-25T09:56:21.322475Z",
     "start_time": "2021-02-25T09:56:21.318715Z"
    }
   },
   "source": [
    "Evaluamos que elementos hemos encontrado por el tag:"
   ]
  },
  {
   "cell_type": "code",
   "execution_count": null,
   "metadata": {},
   "outputs": [
    {
     "name": "stdout",
     "output_type": "stream",
     "text": [
      "Elemento: 0\n",
      "Texto del elemento 0 es socios\n",
      "El tag del elemento 0 es button\n",
      "Elemento: 1\n",
      "Texto del elemento 1 es MÁS OPCIONES\n",
      "El tag del elemento 1 es button\n",
      "Elemento: 2\n",
      "Texto del elemento 2 es NO ACEPTO\n",
      "El tag del elemento 2 es button\n",
      "Elemento: 3\n",
      "Texto del elemento 3 es ACEPTO\n",
      "El tag del elemento 3 es button\n"
     ]
    }
   ],
   "source": [
    "for index, element in enumerate(elements_by_tag):\n",
    "    print('Elemento:', index)\n",
    "    print('Texto del elemento',index, 'es', element.text)\n",
    "    print('El tag del elemento',index, 'es', element.tag_name)\n",
    "    element.screenshot('mi_imagen'+str(index)+'.png')"
   ]
  },
  {
   "cell_type": "markdown",
   "metadata": {},
   "source": [
    "Basta de tonterias seguimos"
   ]
  },
  {
   "cell_type": "markdown",
   "metadata": {},
   "source": [
    "Instanciamos el elemento del tag [2] en la variable boton aceptar"
   ]
  },
  {
   "cell_type": "code",
   "execution_count": 11,
   "metadata": {
    "ExecuteTime": {
     "end_time": "2021-02-26T10:24:47.302978Z",
     "start_time": "2021-02-26T10:24:47.291261Z"
    }
   },
   "outputs": [],
   "source": [
    "boton_aceptar = elements_by_tag[2]"
   ]
  },
  {
   "cell_type": "markdown",
   "metadata": {},
   "source": [
    "Si el elemento es interactivo podremos hacer más cosas además de las anteriores. Por ejemplo: hacer click"
   ]
  },
  {
   "cell_type": "code",
   "execution_count": 12,
   "metadata": {
    "ExecuteTime": {
     "end_time": "2021-02-26T10:24:48.611716Z",
     "start_time": "2021-02-26T10:24:48.390430Z"
    }
   },
   "outputs": [],
   "source": [
    "boton_aceptar.click()"
   ]
  },
  {
   "cell_type": "code",
   "execution_count": 55,
   "metadata": {},
   "outputs": [],
   "source": [
    "boton_no_aceptar = element_by_xpath\n",
    "boton_no_aceptar.click()"
   ]
  },
  {
   "cell_type": "code",
   "execution_count": null,
   "metadata": {},
   "outputs": [],
   "source": [
    "# driver.back()"
   ]
  },
  {
   "cell_type": "markdown",
   "metadata": {},
   "source": [
    "Buscamos una película por título"
   ]
  },
  {
   "cell_type": "code",
   "execution_count": 49,
   "metadata": {},
   "outputs": [],
   "source": [
    "from selenium.webdriver.common.keys import Keys"
   ]
  },
  {
   "cell_type": "code",
   "execution_count": 56,
   "metadata": {
    "ExecuteTime": {
     "end_time": "2021-02-26T10:28:14.592155Z",
     "start_time": "2021-02-26T10:28:13.509998Z"
    }
   },
   "outputs": [],
   "source": [
    "buscador = driver.find_element(By.XPATH, '/html/body/header/div[1]/div/div[2]/div/form/div/input')"
   ]
  },
  {
   "cell_type": "code",
   "execution_count": 59,
   "metadata": {},
   "outputs": [],
   "source": [
    "buscador.send_keys('Oppenheimmer')\n",
    "# buscador.clear()"
   ]
  },
  {
   "cell_type": "code",
   "execution_count": 58,
   "metadata": {},
   "outputs": [],
   "source": [
    "buscador.clear()"
   ]
  },
  {
   "cell_type": "code",
   "execution_count": 60,
   "metadata": {},
   "outputs": [],
   "source": [
    "# una vez escrita la búsqueda deberíamos poder activarla:\n",
    "# buscador.send_keys(Keys.ENTER)\n",
    "buscador.submit()"
   ]
  },
  {
   "cell_type": "code",
   "execution_count": null,
   "metadata": {},
   "outputs": [],
   "source": [
    "# volvemos a la página anterior\n",
    "driver.back()\n",
    "# driver.forward()"
   ]
  },
  {
   "cell_type": "code",
   "execution_count": 64,
   "metadata": {},
   "outputs": [],
   "source": [
    "buscador = driver.find_element(By.XPATH, '/html/body/header/div[1]/div/div[2]/div/form/div/input')\n",
    "buscador.clear()"
   ]
  },
  {
   "cell_type": "code",
   "execution_count": 32,
   "metadata": {},
   "outputs": [],
   "source": [
    "buscador = driver.find_element(By.XPATH, '/html/body/header/div[1]/div/div[2]/div/form/div/input')\n",
    "buscador.send_keys('Oppenheimer')"
   ]
  },
  {
   "cell_type": "code",
   "execution_count": 34,
   "metadata": {},
   "outputs": [],
   "source": [
    "# buscador.send_keys(Keys.ENTER)"
   ]
  },
  {
   "cell_type": "markdown",
   "metadata": {
    "ExecuteTime": {
     "end_time": "2021-02-25T10:09:19.308961Z",
     "start_time": "2021-02-25T10:09:19.299983Z"
    }
   },
   "source": [
    "### Vamos a buscar todas las películas que se estrenan el próximo viernes"
   ]
  },
  {
   "cell_type": "markdown",
   "metadata": {},
   "source": [
    "1. Cogemos los containers que hay en la zona lateral"
   ]
  },
  {
   "cell_type": "code",
   "execution_count": 65,
   "metadata": {
    "ExecuteTime": {
     "end_time": "2021-02-25T10:40:53.961145Z",
     "start_time": "2021-02-25T10:40:53.793388Z"
    }
   },
   "outputs": [],
   "source": [
    "menu_lateral = driver.find_element(By.ID, 'lsmenu') "
   ]
  },
  {
   "cell_type": "code",
   "execution_count": 66,
   "metadata": {},
   "outputs": [],
   "source": [
    "mis_secciones = menu_lateral.find_elements(By.TAG_NAME, 'a')"
   ]
  },
  {
   "cell_type": "markdown",
   "metadata": {},
   "source": [
    "2. Vemos con cuál nos tenemos que quedar"
   ]
  },
  {
   "cell_type": "code",
   "execution_count": 67,
   "metadata": {},
   "outputs": [
    {
     "data": {
      "text/plain": [
       "[<selenium.webdriver.remote.webelement.WebElement (session=\"89e9f08479c74382b0b74e325eb37df0\", element=\"f.E7F22BF6ED9D7A9CD0066FCDDBC114E7.d.AAC38ADD62AEC38582052FF151C571B1.e.3090\")>,\n",
       " <selenium.webdriver.remote.webelement.WebElement (session=\"89e9f08479c74382b0b74e325eb37df0\", element=\"f.E7F22BF6ED9D7A9CD0066FCDDBC114E7.d.AAC38ADD62AEC38582052FF151C571B1.e.3108\")>,\n",
       " <selenium.webdriver.remote.webelement.WebElement (session=\"89e9f08479c74382b0b74e325eb37df0\", element=\"f.E7F22BF6ED9D7A9CD0066FCDDBC114E7.d.AAC38ADD62AEC38582052FF151C571B1.e.3107\")>,\n",
       " <selenium.webdriver.remote.webelement.WebElement (session=\"89e9f08479c74382b0b74e325eb37df0\", element=\"f.E7F22BF6ED9D7A9CD0066FCDDBC114E7.d.AAC38ADD62AEC38582052FF151C571B1.e.3109\")>,\n",
       " <selenium.webdriver.remote.webelement.WebElement (session=\"89e9f08479c74382b0b74e325eb37df0\", element=\"f.E7F22BF6ED9D7A9CD0066FCDDBC114E7.d.AAC38ADD62AEC38582052FF151C571B1.e.3110\")>,\n",
       " <selenium.webdriver.remote.webelement.WebElement (session=\"89e9f08479c74382b0b74e325eb37df0\", element=\"f.E7F22BF6ED9D7A9CD0066FCDDBC114E7.d.AAC38ADD62AEC38582052FF151C571B1.e.3112\")>,\n",
       " <selenium.webdriver.remote.webelement.WebElement (session=\"89e9f08479c74382b0b74e325eb37df0\", element=\"f.E7F22BF6ED9D7A9CD0066FCDDBC114E7.d.AAC38ADD62AEC38582052FF151C571B1.e.3113\")>,\n",
       " <selenium.webdriver.remote.webelement.WebElement (session=\"89e9f08479c74382b0b74e325eb37df0\", element=\"f.E7F22BF6ED9D7A9CD0066FCDDBC114E7.d.AAC38ADD62AEC38582052FF151C571B1.e.3114\")>,\n",
       " <selenium.webdriver.remote.webelement.WebElement (session=\"89e9f08479c74382b0b74e325eb37df0\", element=\"f.E7F22BF6ED9D7A9CD0066FCDDBC114E7.d.AAC38ADD62AEC38582052FF151C571B1.e.3115\")>,\n",
       " <selenium.webdriver.remote.webelement.WebElement (session=\"89e9f08479c74382b0b74e325eb37df0\", element=\"f.E7F22BF6ED9D7A9CD0066FCDDBC114E7.d.AAC38ADD62AEC38582052FF151C571B1.e.3116\")>,\n",
       " <selenium.webdriver.remote.webelement.WebElement (session=\"89e9f08479c74382b0b74e325eb37df0\", element=\"f.E7F22BF6ED9D7A9CD0066FCDDBC114E7.d.AAC38ADD62AEC38582052FF151C571B1.e.3117\")>,\n",
       " <selenium.webdriver.remote.webelement.WebElement (session=\"89e9f08479c74382b0b74e325eb37df0\", element=\"f.E7F22BF6ED9D7A9CD0066FCDDBC114E7.d.AAC38ADD62AEC38582052FF151C571B1.e.3118\")>,\n",
       " <selenium.webdriver.remote.webelement.WebElement (session=\"89e9f08479c74382b0b74e325eb37df0\", element=\"f.E7F22BF6ED9D7A9CD0066FCDDBC114E7.d.AAC38ADD62AEC38582052FF151C571B1.e.3119\")>,\n",
       " <selenium.webdriver.remote.webelement.WebElement (session=\"89e9f08479c74382b0b74e325eb37df0\", element=\"f.E7F22BF6ED9D7A9CD0066FCDDBC114E7.d.AAC38ADD62AEC38582052FF151C571B1.e.3120\")>,\n",
       " <selenium.webdriver.remote.webelement.WebElement (session=\"89e9f08479c74382b0b74e325eb37df0\", element=\"f.E7F22BF6ED9D7A9CD0066FCDDBC114E7.d.AAC38ADD62AEC38582052FF151C571B1.e.3121\")>,\n",
       " <selenium.webdriver.remote.webelement.WebElement (session=\"89e9f08479c74382b0b74e325eb37df0\", element=\"f.E7F22BF6ED9D7A9CD0066FCDDBC114E7.d.AAC38ADD62AEC38582052FF151C571B1.e.3122\")>,\n",
       " <selenium.webdriver.remote.webelement.WebElement (session=\"89e9f08479c74382b0b74e325eb37df0\", element=\"f.E7F22BF6ED9D7A9CD0066FCDDBC114E7.d.AAC38ADD62AEC38582052FF151C571B1.e.3123\")>,\n",
       " <selenium.webdriver.remote.webelement.WebElement (session=\"89e9f08479c74382b0b74e325eb37df0\", element=\"f.E7F22BF6ED9D7A9CD0066FCDDBC114E7.d.AAC38ADD62AEC38582052FF151C571B1.e.3124\")>,\n",
       " <selenium.webdriver.remote.webelement.WebElement (session=\"89e9f08479c74382b0b74e325eb37df0\", element=\"f.E7F22BF6ED9D7A9CD0066FCDDBC114E7.d.AAC38ADD62AEC38582052FF151C571B1.e.3125\")>,\n",
       " <selenium.webdriver.remote.webelement.WebElement (session=\"89e9f08479c74382b0b74e325eb37df0\", element=\"f.E7F22BF6ED9D7A9CD0066FCDDBC114E7.d.AAC38ADD62AEC38582052FF151C571B1.e.3126\")>,\n",
       " <selenium.webdriver.remote.webelement.WebElement (session=\"89e9f08479c74382b0b74e325eb37df0\", element=\"f.E7F22BF6ED9D7A9CD0066FCDDBC114E7.d.AAC38ADD62AEC38582052FF151C571B1.e.3127\")>,\n",
       " <selenium.webdriver.remote.webelement.WebElement (session=\"89e9f08479c74382b0b74e325eb37df0\", element=\"f.E7F22BF6ED9D7A9CD0066FCDDBC114E7.d.AAC38ADD62AEC38582052FF151C571B1.e.3128\")>,\n",
       " <selenium.webdriver.remote.webelement.WebElement (session=\"89e9f08479c74382b0b74e325eb37df0\", element=\"f.E7F22BF6ED9D7A9CD0066FCDDBC114E7.d.AAC38ADD62AEC38582052FF151C571B1.e.3129\")>,\n",
       " <selenium.webdriver.remote.webelement.WebElement (session=\"89e9f08479c74382b0b74e325eb37df0\", element=\"f.E7F22BF6ED9D7A9CD0066FCDDBC114E7.d.AAC38ADD62AEC38582052FF151C571B1.e.3088\")>,\n",
       " <selenium.webdriver.remote.webelement.WebElement (session=\"89e9f08479c74382b0b74e325eb37df0\", element=\"f.E7F22BF6ED9D7A9CD0066FCDDBC114E7.d.AAC38ADD62AEC38582052FF151C571B1.e.3130\")>,\n",
       " <selenium.webdriver.remote.webelement.WebElement (session=\"89e9f08479c74382b0b74e325eb37df0\", element=\"f.E7F22BF6ED9D7A9CD0066FCDDBC114E7.d.AAC38ADD62AEC38582052FF151C571B1.e.3131\")>,\n",
       " <selenium.webdriver.remote.webelement.WebElement (session=\"89e9f08479c74382b0b74e325eb37df0\", element=\"f.E7F22BF6ED9D7A9CD0066FCDDBC114E7.d.AAC38ADD62AEC38582052FF151C571B1.e.3132\")>,\n",
       " <selenium.webdriver.remote.webelement.WebElement (session=\"89e9f08479c74382b0b74e325eb37df0\", element=\"f.E7F22BF6ED9D7A9CD0066FCDDBC114E7.d.AAC38ADD62AEC38582052FF151C571B1.e.3133\")>,\n",
       " <selenium.webdriver.remote.webelement.WebElement (session=\"89e9f08479c74382b0b74e325eb37df0\", element=\"f.E7F22BF6ED9D7A9CD0066FCDDBC114E7.d.AAC38ADD62AEC38582052FF151C571B1.e.3134\")>,\n",
       " <selenium.webdriver.remote.webelement.WebElement (session=\"89e9f08479c74382b0b74e325eb37df0\", element=\"f.E7F22BF6ED9D7A9CD0066FCDDBC114E7.d.AAC38ADD62AEC38582052FF151C571B1.e.3135\")>,\n",
       " <selenium.webdriver.remote.webelement.WebElement (session=\"89e9f08479c74382b0b74e325eb37df0\", element=\"f.E7F22BF6ED9D7A9CD0066FCDDBC114E7.d.AAC38ADD62AEC38582052FF151C571B1.e.3136\")>,\n",
       " <selenium.webdriver.remote.webelement.WebElement (session=\"89e9f08479c74382b0b74e325eb37df0\", element=\"f.E7F22BF6ED9D7A9CD0066FCDDBC114E7.d.AAC38ADD62AEC38582052FF151C571B1.e.3137\")>,\n",
       " <selenium.webdriver.remote.webelement.WebElement (session=\"89e9f08479c74382b0b74e325eb37df0\", element=\"f.E7F22BF6ED9D7A9CD0066FCDDBC114E7.d.AAC38ADD62AEC38582052FF151C571B1.e.3138\")>,\n",
       " <selenium.webdriver.remote.webelement.WebElement (session=\"89e9f08479c74382b0b74e325eb37df0\", element=\"f.E7F22BF6ED9D7A9CD0066FCDDBC114E7.d.AAC38ADD62AEC38582052FF151C571B1.e.3139\")>,\n",
       " <selenium.webdriver.remote.webelement.WebElement (session=\"89e9f08479c74382b0b74e325eb37df0\", element=\"f.E7F22BF6ED9D7A9CD0066FCDDBC114E7.d.AAC38ADD62AEC38582052FF151C571B1.e.3140\")>,\n",
       " <selenium.webdriver.remote.webelement.WebElement (session=\"89e9f08479c74382b0b74e325eb37df0\", element=\"f.E7F22BF6ED9D7A9CD0066FCDDBC114E7.d.AAC38ADD62AEC38582052FF151C571B1.e.3141\")>,\n",
       " <selenium.webdriver.remote.webelement.WebElement (session=\"89e9f08479c74382b0b74e325eb37df0\", element=\"f.E7F22BF6ED9D7A9CD0066FCDDBC114E7.d.AAC38ADD62AEC38582052FF151C571B1.e.3142\")>,\n",
       " <selenium.webdriver.remote.webelement.WebElement (session=\"89e9f08479c74382b0b74e325eb37df0\", element=\"f.E7F22BF6ED9D7A9CD0066FCDDBC114E7.d.AAC38ADD62AEC38582052FF151C571B1.e.3143\")>,\n",
       " <selenium.webdriver.remote.webelement.WebElement (session=\"89e9f08479c74382b0b74e325eb37df0\", element=\"f.E7F22BF6ED9D7A9CD0066FCDDBC114E7.d.AAC38ADD62AEC38582052FF151C571B1.e.3144\")>,\n",
       " <selenium.webdriver.remote.webelement.WebElement (session=\"89e9f08479c74382b0b74e325eb37df0\", element=\"f.E7F22BF6ED9D7A9CD0066FCDDBC114E7.d.AAC38ADD62AEC38582052FF151C571B1.e.3145\")>,\n",
       " <selenium.webdriver.remote.webelement.WebElement (session=\"89e9f08479c74382b0b74e325eb37df0\", element=\"f.E7F22BF6ED9D7A9CD0066FCDDBC114E7.d.AAC38ADD62AEC38582052FF151C571B1.e.3146\")>,\n",
       " <selenium.webdriver.remote.webelement.WebElement (session=\"89e9f08479c74382b0b74e325eb37df0\", element=\"f.E7F22BF6ED9D7A9CD0066FCDDBC114E7.d.AAC38ADD62AEC38582052FF151C571B1.e.3147\")>,\n",
       " <selenium.webdriver.remote.webelement.WebElement (session=\"89e9f08479c74382b0b74e325eb37df0\", element=\"f.E7F22BF6ED9D7A9CD0066FCDDBC114E7.d.AAC38ADD62AEC38582052FF151C571B1.e.3148\")>,\n",
       " <selenium.webdriver.remote.webelement.WebElement (session=\"89e9f08479c74382b0b74e325eb37df0\", element=\"f.E7F22BF6ED9D7A9CD0066FCDDBC114E7.d.AAC38ADD62AEC38582052FF151C571B1.e.3149\")>,\n",
       " <selenium.webdriver.remote.webelement.WebElement (session=\"89e9f08479c74382b0b74e325eb37df0\", element=\"f.E7F22BF6ED9D7A9CD0066FCDDBC114E7.d.AAC38ADD62AEC38582052FF151C571B1.e.3150\")>]"
      ]
     },
     "execution_count": 67,
     "metadata": {},
     "output_type": "execute_result"
    }
   ],
   "source": [
    "mis_secciones"
   ]
  },
  {
   "cell_type": "code",
   "execution_count": 68,
   "metadata": {
    "ExecuteTime": {
     "end_time": "2021-02-25T10:40:55.130681Z",
     "start_time": "2021-02-25T10:40:54.930234Z"
    }
   },
   "outputs": [],
   "source": [
    "for a in mis_secciones[:5]:\n",
    "    # print(a)\n",
    "    a.click()\n",
    "    time.sleep(3)\n",
    "    driver.back()"
   ]
  },
  {
   "cell_type": "markdown",
   "metadata": {},
   "source": [
    "Accedemos al container central, en el que aparecen los estrenos por semana que queremos ver, exactamente igual que hemos hecho antes"
   ]
  },
  {
   "cell_type": "code",
   "execution_count": null,
   "metadata": {},
   "outputs": [],
   "source": [
    "driver.forward()\n",
    "# driver.back"
   ]
  },
  {
   "cell_type": "code",
   "execution_count": 61,
   "metadata": {
    "ExecuteTime": {
     "end_time": "2021-02-25T10:43:53.772471Z",
     "start_time": "2021-02-25T10:43:53.757510Z"
    }
   },
   "outputs": [],
   "source": [
    "cajon_central = driver.find_elements(By.CLASS_NAME, 'padding-movie-catrd')"
   ]
  },
  {
   "cell_type": "code",
   "execution_count": 62,
   "metadata": {
    "ExecuteTime": {
     "end_time": "2021-02-25T11:04:59.734561Z",
     "start_time": "2021-02-25T11:04:59.617626Z"
    }
   },
   "outputs": [
    {
     "name": "stdout",
     "output_type": "stream",
     "text": [
      "Borromini y Bernini: Eternos rivales\n",
      "(7 de octubre)\n",
      "https://www.filmaffinity.com/es/film773810.html\n",
      "Joker: Folie à Deux\n",
      "(4 de octubre)\n",
      "https://www.filmaffinity.com/es/film630860.html\n",
      "Alas blancas\n",
      "(4 de octubre)\n",
      "https://www.filmaffinity.com/es/film734110.html\n",
      "Los destellos\n",
      "(4 de octubre)\n",
      "https://www.filmaffinity.com/es/film356977.html\n",
      "Crossing\n",
      "(4 de octubre)\n",
      "https://www.filmaffinity.com/es/film295796.html\n",
      "Antes era divertido\n",
      "(4 de octubre)\n",
      "https://www.filmaffinity.com/es/film549023.html\n",
      "Saturno\n",
      "(4 de octubre)\n",
      "https://www.filmaffinity.com/es/film627095.html\n",
      "Orgullo Vieja\n",
      "(4 de octubre)\n",
      "https://www.filmaffinity.com/es/film413001.html\n",
      "Fin de viaje, Sahara\n",
      "(4 de octubre)\n",
      "https://www.filmaffinity.com/es/film168387.html\n",
      "Super/Man: La historia de Christopher Reeve\n",
      "(10 de octubre)\n",
      "https://www.filmaffinity.com/es/film791753.html\n",
      "Robot salvaje\n",
      "(11 de octubre)\n",
      "https://www.filmaffinity.com/es/film605382.html\n",
      "La infiltrada\n",
      "(11 de octubre)\n",
      "https://www.filmaffinity.com/es/film932478.html\n",
      "La sustancia\n",
      "(11 de octubre)\n",
      "https://www.filmaffinity.com/es/film833687.html\n",
      "My Hero Academia: You're Next\n",
      "(11 de octubre)\n",
      "https://www.filmaffinity.com/es/film415648.html\n",
      "The Apprentice. La historia de Trump\n",
      "(11 de octubre)\n",
      "https://www.filmaffinity.com/es/film806584.html\n",
      "Los Radley\n",
      "(11 de octubre)\n",
      "https://www.filmaffinity.com/es/film688147.html\n",
      "Strange Darling\n",
      "(11 de octubre)\n",
      "https://www.filmaffinity.com/es/film377182.html\n",
      "Spider-Man: Lejos de casa\n",
      "(11 de octubre)\n",
      "https://www.filmaffinity.com/es/film978970.html\n",
      "El 5 inicial (Serie de TV)\n",
      "(9 de octubre)\n",
      "https://www.filmaffinity.com/es/film440935.html\n",
      "El secreto del río (Serie de TV)\n",
      "(9 de octubre)\n",
      "https://www.filmaffinity.com/es/film189512.html\n",
      "Engaño (Miniserie de TV)\n",
      "(9 de octubre)\n",
      "https://www.filmaffinity.com/es/film346827.html\n",
      "Ali Wong: Single Lady\n",
      "(8 de octubre)\n",
      "https://www.filmaffinity.com/es/film636235.html\n",
      "El chico y la garza\n",
      "(7 de octubre)\n",
      "https://www.filmaffinity.com/es/film489419.html\n",
      "Los hermanos Menendez\n",
      "(7 de octubre)\n",
      "https://www.filmaffinity.com/es/film295277.html\n",
      "Bajo terapia\n",
      "(7 de octubre)\n",
      "https://www.filmaffinity.com/es/film621003.html\n",
      "Ranma ½ (Serie de TV)\n",
      "(5 de octubre)\n",
      "https://www.filmaffinity.com/es/film725016.html\n",
      "El hoyo 2\n",
      "(4 de octubre)\n",
      "https://www.filmaffinity.com/es/film675103.html\n",
      "The Day of the Jackal (Serie de TV)\n",
      "(6 de diciembre)\n",
      "https://www.filmaffinity.com/es/film700222.html\n",
      "Landman (Serie de TV)\n",
      "(20 de noviembre)\n",
      "https://www.filmaffinity.com/es/film322987.html\n",
      "Mamen Mayo (Serie de TV)\n",
      "(18 de noviembre)\n",
      "https://www.filmaffinity.com/es/film577045.html\n",
      "Yellowstone (Serie de TV)\n",
      "(14 de noviembre)\n",
      "https://www.filmaffinity.com/es/film777909.html\n",
      "Operaciones especiales: Lioness (Serie de TV)\n",
      "(1 de noviembre)\n",
      "https://www.filmaffinity.com/es/film736866.html\n",
      "Hysteria! (Serie de TV)\n",
      "(28 de octubre)\n",
      "https://www.filmaffinity.com/es/film301253.html\n",
      "Funny Woman (Serie de TV)\n",
      "(11 de octubre)\n",
      "https://www.filmaffinity.com/es/film380694.html\n",
      "Frasier (Serie de TV)\n",
      "(23 de septiembre)\n",
      "https://www.filmaffinity.com/es/film466558.html\n",
      "Tulsa King (Serie de TV)\n",
      "(18 de septiembre)\n",
      "https://www.filmaffinity.com/es/film176560.html\n",
      "La Máquina (Miniserie de TV)\n",
      "(9 de octubre)\n",
      "https://www.filmaffinity.com/es/film580275.html\n",
      "Kiff (Serie de TV)\n",
      "(5 de octubre)\n",
      "https://www.filmaffinity.com/es/film835878.html\n",
      "Aguanta la respiración\n",
      "(3 de octubre)\n",
      "https://www.filmaffinity.com/es/film298863.html\n",
      "Ayla y los Mirror (Serie de TV)\n",
      "(27 de septiembre)\n",
      "https://www.filmaffinity.com/es/film799261.html\n",
      "Del revés 2 (Inside Out 2)\n",
      "(25 de septiembre)\n",
      "https://www.filmaffinity.com/es/film103131.html\n",
      "Mamá Cake (Serie de TV)\n",
      "(25 de septiembre)\n",
      "https://www.filmaffinity.com/es/film189162.html\n",
      "Agatha, ¿quién si no? (Miniserie de TV)\n",
      "(19 de septiembre)\n",
      "https://www.filmaffinity.com/es/film584311.html\n",
      "LEGO Star Wars: Reconstruye la Galaxia (Miniserie de TV)\n",
      "(13 de septiembre)\n",
      "https://www.filmaffinity.com/es/film492860.html\n",
      "Hit Monkey (Serie de TV)\n",
      "(9 de septiembre)\n",
      "https://www.filmaffinity.com/es/film413534.html\n",
      "De viaje con mi asesino\n",
      "(9 de octubre)\n",
      "https://www.filmaffinity.com/es/film244267.html\n",
      "Prisoner (Miniserie de TV)\n",
      "(9 de octubre)\n",
      "https://www.filmaffinity.com/es/film780881.html\n",
      "Shahid, crecer o morir en Palestina\n",
      "(9 de octubre)\n",
      "https://www.filmaffinity.com/es/film764491.html\n",
      "A State of Rage: Hijas de la Tierra Santa\n",
      "(8 de octubre)\n",
      "https://www.filmaffinity.com/es/film813527.html\n",
      "Vincent debe morir\n",
      "(8 de octubre)\n",
      "https://www.filmaffinity.com/es/film655254.html\n",
      "Horror Park\n",
      "(7 de octubre)\n",
      "https://www.filmaffinity.com/es/film989427.html\n",
      "La hierba del diablo\n",
      "(7 de octubre)\n",
      "https://www.filmaffinity.com/es/film919166.html\n",
      "We Will Dance Again\n",
      "(7 de octubre)\n",
      "https://www.filmaffinity.com/es/film390907.html\n",
      "Los poderes de Lolo\n",
      "(7 de octubre)\n",
      "https://www.filmaffinity.com/es/film778415.html\n",
      "Found (Serie de TV)\n",
      "(9 de octubre)\n",
      "https://www.filmaffinity.com/es/film679106.html\n",
      "La franquicia (Serie de TV)\n",
      "(7 de octubre)\n",
      "https://www.filmaffinity.com/es/film447109.html\n",
      "La mente del poder (Serie de TV)\n",
      "(7 de octubre)\n",
      "https://www.filmaffinity.com/es/film908728.html\n",
      "The Grindr Killer Scandal: A Faking It Special (TV)\n",
      "(6 de octubre)\n",
      "https://www.filmaffinity.com/es/film938467.html\n",
      "Ángel de la muerte (Serie de TV)\n",
      "(4 de octubre)\n",
      "https://www.filmaffinity.com/es/film407500.html\n",
      "El misterio de Salem's Lot\n",
      "(3 de octubre)\n",
      "https://www.filmaffinity.com/es/film530568.html\n",
      "Hora de aventuras con Fionna y Cake (Serie de TV)\n",
      "(3 de octubre)\n",
      "https://www.filmaffinity.com/es/film243567.html\n",
      "Chylka (Serie de TV)\n",
      "(3 de octubre)\n",
      "https://www.filmaffinity.com/es/film324752.html\n",
      "Uzumaki (Miniserie de TV)\n",
      "(29 de septiembre)\n",
      "https://www.filmaffinity.com/es/film202279.html\n",
      "Rivales\n",
      "(7 de octubre)\n",
      "https://www.filmaffinity.com/es/film500773.html\n",
      "El diario\n",
      "(4 de octubre)\n",
      "https://www.filmaffinity.com/es/film994915.html\n",
      "La casa de los susurros\n",
      "(3 de octubre)\n",
      "https://www.filmaffinity.com/es/film197335.html\n",
      "La leyenda de Vox Machina (Serie de TV)\n",
      "(3 de octubre)\n",
      "https://www.filmaffinity.com/es/film138195.html\n",
      "BlackBerry\n",
      "(3 de octubre)\n",
      "https://www.filmaffinity.com/es/film438775.html\n",
      "Un romance picante (Serie de TV)\n",
      "(3 de octubre)\n",
      "https://www.filmaffinity.com/es/film713619.html\n",
      "Kylie Minogue: Pop Icon\n",
      "(29 de septiembre)\n",
      "https://www.filmaffinity.com/es/film299507.html\n",
      "OT23: La gira (Miniserie de TV)\n",
      "(27 de septiembre)\n",
      "https://www.filmaffinity.com/es/film126451.html\n",
      "Sol de justicia\n",
      "(26 de septiembre)\n",
      "https://www.filmaffinity.com/es/film230878.html\n",
      "Inside No. 9 (Serie de TV)\n",
      "(8 de octubre)\n",
      "https://www.filmaffinity.com/es/film194736.html\n",
      "R.M.N.\n",
      "(6 de octubre)\n",
      "https://www.filmaffinity.com/es/film981868.html\n",
      "Green Border\n",
      "(4 de octubre)\n",
      "https://www.filmaffinity.com/es/film487638.html\n",
      "Sueños y pan\n",
      "(4 de octubre)\n",
      "https://www.filmaffinity.com/es/film953033.html\n",
      "Todos morimos en la oscuridad\n",
      "(4 de octubre)\n",
      "https://www.filmaffinity.com/es/film978396.html\n",
      "Boye, el enemigo público\n",
      "(4 de octubre)\n",
      "https://www.filmaffinity.com/es/film919481.html\n",
      "Último recurso\n",
      "(4 de octubre)\n",
      "https://www.filmaffinity.com/es/film896960.html\n",
      "Deus Irae\n",
      "(4 de octubre)\n",
      "https://www.filmaffinity.com/es/film978414.html\n",
      "Cenizas a las cenizas\n",
      "(4 de octubre)\n",
      "https://www.filmaffinity.com/es/film835578.html\n",
      "Una maldición familiar (Serie de TV)\n",
      "(4 de octubre)\n",
      "https://www.filmaffinity.com/es/film884855.html\n",
      "Buscando a Wanda (Serie de TV)\n",
      "(2 de octubre)\n",
      "https://www.filmaffinity.com/es/film338886.html\n",
      "Wolfs\n",
      "(27 de septiembre)\n",
      "https://www.filmaffinity.com/es/film646472.html\n",
      "Familia de medianoche (Miniserie de TV)\n",
      "(25 de septiembre)\n",
      "https://www.filmaffinity.com/es/film630765.html\n",
      "La Maison (Serie de TV)\n",
      "(20 de septiembre)\n",
      "https://www.filmaffinity.com/es/film257421.html\n",
      "Apple Music Live: Camila Cabello\n",
      "(5 de septiembre)\n",
      "https://www.filmaffinity.com/es/film405818.html\n",
      "Slow Horses (Serie de TV)\n",
      "(4 de septiembre)\n",
      "https://www.filmaffinity.com/es/film223695.html\n",
      "Estrellas del K-Pop (Serie de TV)\n",
      "(30 de agosto)\n",
      "https://www.filmaffinity.com/es/film536041.html\n",
      "Napoleón\n",
      "(29 de agosto)\n",
      "https://www.filmaffinity.com/es/film188322.html\n",
      "Un año difícil\n",
      "(8 de octubre)\n",
      "https://www.filmaffinity.com/es/film924798.html\n",
      "Cerrar los ojos\n",
      "(8 de octubre)\n",
      "https://www.filmaffinity.com/es/film792411.html\n",
      "Oscuridad total\n",
      "(8 de octubre)\n",
      "https://www.filmaffinity.com/es/film554274.html\n",
      "El mal no existe\n",
      "(8 de octubre)\n",
      "https://www.filmaffinity.com/es/film955742.html\n",
      "Lassie (Una nueva aventura)\n",
      "(8 de octubre)\n",
      "https://www.filmaffinity.com/es/film127490.html\n",
      "UFO Sweden: Cazadores de ovnis\n",
      "(8 de octubre)\n",
      "https://www.filmaffinity.com/es/film675906.html\n",
      "Un lugar tranquilo: Día 1\n",
      "(7 de octubre)\n",
      "https://www.filmaffinity.com/es/film778061.html\n",
      "Solitude\n",
      "(7 de octubre)\n",
      "https://www.filmaffinity.com/es/film315331.html\n",
      "La familia Benetón\n",
      "(7 de octubre)\n",
      "https://www.filmaffinity.com/es/film307067.html\n",
      "Romper el círculo\n",
      "(9 de octubre)\n",
      "https://www.filmaffinity.com/es/film607991.html\n",
      "Tenement\n",
      "(8 de octubre)\n",
      "https://www.filmaffinity.com/es/film442423.html\n",
      "Campamento de verano\n",
      "(7 de octubre)\n",
      "https://www.filmaffinity.com/es/film518689.html\n",
      "Sombras del pasado\n",
      "(5 de octubre)\n",
      "https://www.filmaffinity.com/es/film334434.html\n",
      "Back to Black\n",
      "(4 de octubre)\n",
      "https://www.filmaffinity.com/es/film159385.html\n",
      "La bandera\n",
      "(4 de octubre)\n",
      "https://www.filmaffinity.com/es/film340575.html\n",
      "Vidas perfectas\n",
      "(4 de octubre)\n",
      "https://www.filmaffinity.com/es/film616633.html\n",
      "Si fuéramos los últimos\n",
      "(4 de octubre)\n",
      "https://www.filmaffinity.com/es/film723145.html\n",
      "Oscuridad total\n",
      "(4 de octubre)\n",
      "https://www.filmaffinity.com/es/film554274.html\n",
      "Tomb Raider: La leyenda de Lara Croft (Serie de TV)\n",
      "(10 de octubre)\n",
      "https://www.filmaffinity.com/es/film927086.html\n",
      "Outer Banks (Serie de TV)\n",
      "(10 de octubre)\n",
      "https://www.filmaffinity.com/es/film280010.html\n",
      "La vida y las películas de Erşan Kuneri (Serie de TV)\n",
      "(10 de octubre)\n",
      "https://www.filmaffinity.com/es/film330691.html\n",
      "María Soledad: El fin del silencio\n",
      "(10 de octubre)\n",
      "https://www.filmaffinity.com/es/film575075.html\n",
      "El lugar de la otra\n",
      "(11 de octubre)\n",
      "https://www.filmaffinity.com/es/film614211.html\n",
      "Invasión, insurrección\n",
      "(11 de octubre)\n",
      "https://www.filmaffinity.com/es/film883285.html\n",
      "Una aventura en Marruecos\n",
      "(11 de octubre)\n",
      "https://www.filmaffinity.com/es/film350440.html\n",
      "Un negocio virtuoso (Serie de TV)\n",
      "(12 de octubre)\n",
      "https://www.filmaffinity.com/es/film242618.html\n",
      "Los poderosos MonsterWheelies (Serie de TV)\n",
      "(14 de octubre)\n",
      "https://www.filmaffinity.com/es/film688324.html\n"
     ]
    }
   ],
   "source": [
    "for peli in cajon_central:\n",
    "    print(peli.find_element(By.TAG_NAME, 'div').text)\n",
    "    print(peli.find_element(By.TAG_NAME, 'a').get_attribute('href'))"
   ]
  },
  {
   "cell_type": "markdown",
   "metadata": {},
   "source": [
    "Vamos a ver cómo nos podemos mover entre ventanas del navegador\n",
    "\n",
    "Abrir nueva ventana:"
   ]
  },
  {
   "cell_type": "code",
   "execution_count": 69,
   "metadata": {},
   "outputs": [],
   "source": [
    "driver.execute_script('window.open(\"\");')"
   ]
  },
  {
   "cell_type": "markdown",
   "metadata": {},
   "source": [
    "Movernos a otra ventana"
   ]
  },
  {
   "cell_type": "code",
   "execution_count": 71,
   "metadata": {},
   "outputs": [],
   "source": [
    "driver.switch_to.window(driver.window_handles[1])"
   ]
  },
  {
   "cell_type": "markdown",
   "metadata": {},
   "source": [
    "Cerrar ventana"
   ]
  },
  {
   "cell_type": "code",
   "execution_count": 72,
   "metadata": {},
   "outputs": [],
   "source": [
    "driver.close()"
   ]
  },
  {
   "cell_type": "markdown",
   "metadata": {},
   "source": [
    "Una vez cerramos la ventana tenemos que indicarle a qué ventana tiene que ir"
   ]
  },
  {
   "cell_type": "code",
   "execution_count": 73,
   "metadata": {
    "ExecuteTime": {
     "end_time": "2021-02-25T12:05:01.711952Z",
     "start_time": "2021-02-25T12:05:01.583709Z"
    }
   },
   "outputs": [],
   "source": [
    "driver.switch_to.window(driver.window_handles[-1])"
   ]
  },
  {
   "cell_type": "code",
   "execution_count": 74,
   "metadata": {},
   "outputs": [],
   "source": [
    "driver.quit()"
   ]
  },
  {
   "cell_type": "code",
   "execution_count": 42,
   "metadata": {},
   "outputs": [
    {
     "name": "stdout",
     "output_type": "stream",
     "text": [
      "['Saltar al contenido principal', 'Saltar al contenido principal', 'Saltar al contenido principal', 'Saltar al contenido principal']\n"
     ]
    }
   ],
   "source": [
    "service = Service(executable_path='./chromedriver.exe')\n",
    "options = webdriver.ChromeOptions()\n",
    "driver = webdriver.Chrome(service=service, options=options)\n",
    "time.sleep(3)\n",
    "\n",
    "driver.get(\"http://www.google.es\")\n",
    "loadMore = driver.find_element(By.XPATH, '/html/body/div[2]/div[2]/div[3]/span/div/div/div/div[3]/div[1]/button[1]')\n",
    "loadMore.click()\n",
    "\n",
    "lista_conceptos = [\"precio bitcoin\", \"precio ethereum\", \"precio sp500\", \"precio oro\"]\n",
    "search_box = driver.find_element(By.XPATH, \"/html/body/div[1]/div[3]/form/div[1]/div[1]/div[1]/div/div[2]/textarea\")\n",
    "lista_titulos = []\n",
    "\n",
    "for concepto in lista_conceptos:\n",
    "    search_box.send_keys(concepto)\n",
    "    search_box.submit()\n",
    "    link = driver.find_element(By.TAG_NAME, \"a\")\n",
    "    lista_titulos.append(link.text)\n",
    "    time.sleep(5)\n",
    "    driver.back()\n",
    "print(lista_titulos)"
   ]
  },
  {
   "cell_type": "code",
   "execution_count": 43,
   "metadata": {},
   "outputs": [],
   "source": [
    "driver.quit()"
   ]
  },
  {
   "cell_type": "markdown",
   "metadata": {},
   "source": [
    "### IMDB"
   ]
  },
  {
   "cell_type": "code",
   "execution_count": 86,
   "metadata": {},
   "outputs": [],
   "source": [
    "service = Service(executable_path='./chromedriver.exe')\n",
    "options = webdriver.ChromeOptions()\n",
    "driver = webdriver.Chrome(service=service, options=options)\n",
    "time.sleep(2)\n",
    "\n",
    "driver.get(\"https://www.imdb.com/chart/top/\")\n",
    "loadMore = driver.find_element(By.XPATH, '/html/body/div[2]/div/div/div[2]/div/button[1]')\n",
    "loadMore.click()\n",
    "time.sleep(2)\n",
    "pelicula = driver.find_element(By.XPATH, '/html/body/div[2]/main/div/div[3]/section/div/div[2]/div/ul/li[1]/div[2]/div/div/div[1]/a')\n",
    "pelicula.click()\n",
    "time.sleep(2)\n",
    "puntuar = driver.find_element(By.XPATH, '/html/body/div[2]/main/div/section[1]/section/div[3]/section/section/div[3]/div[2]/div[2]/div[1]/div/div[2]/button')\n",
    "puntuar.click()\n",
    "time.sleep(2)\n",
    "# estrellas_10 = driver.find_element(By.XPATH, '/html/body/div[4]/div[2]/div/div[2]/div/div[2]/div[2]/div/div[2]/button[9]')\n",
    "# estrellas_10.click()\n",
    "# time.sleep(2)\n",
    "# confirmar = driver.find_element(By.XPATH, '/html/body/div[4]/div[2]/div/div[2]/div/div[2]/div[2]/button')\n",
    "# confirmar.click()\n",
    "time.sleep(2)\n",
    "driver.back()\n",
    "driver.back()\n",
    "driver.quit()"
   ]
  },
  {
   "cell_type": "code",
   "execution_count": null,
   "metadata": {},
   "outputs": [],
   "source": []
  }
 ],
 "metadata": {
  "hide_input": false,
  "kernelspec": {
   "display_name": "Python 3",
   "language": "python",
   "name": "python3"
  },
  "language_info": {
   "codemirror_mode": {
    "name": "ipython",
    "version": 3
   },
   "file_extension": ".py",
   "mimetype": "text/x-python",
   "name": "python",
   "nbconvert_exporter": "python",
   "pygments_lexer": "ipython3",
   "version": "3.11.3"
  },
  "nbTranslate": {
   "displayLangs": [
    "*"
   ],
   "hotkey": "alt-t",
   "langInMainMenu": true,
   "sourceLang": "en",
   "targetLang": "fr",
   "useGoogleTranslate": true
  },
  "varInspector": {
   "cols": {
    "lenName": 16,
    "lenType": 16,
    "lenVar": 40
   },
   "kernels_config": {
    "python": {
     "delete_cmd_postfix": "",
     "delete_cmd_prefix": "del ",
     "library": "var_list.py",
     "varRefreshCmd": "print(var_dic_list())"
    },
    "r": {
     "delete_cmd_postfix": ") ",
     "delete_cmd_prefix": "rm(",
     "library": "var_list.r",
     "varRefreshCmd": "cat(var_dic_list()) "
    }
   },
   "types_to_exclude": [
    "module",
    "function",
    "builtin_function_or_method",
    "instance",
    "_Feature"
   ],
   "window_display": false
  }
 },
 "nbformat": 4,
 "nbformat_minor": 2
}
