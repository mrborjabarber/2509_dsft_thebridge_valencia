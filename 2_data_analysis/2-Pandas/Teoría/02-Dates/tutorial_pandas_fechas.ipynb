{
 "cells": [
  {
   "cell_type": "markdown",
   "metadata": {},
   "source": [
    "# Pandas: Operaciones con fechas y series temporales en análisis de datos\n",
    "\n",
    "Borja Barber Lead intructor DS \n"
   ]
  },
  {
   "cell_type": "markdown",
   "metadata": {},
   "source": [
    "## Tipos de datos de fecha\n",
    "\n",
    "En Pandas, las **fechas** y **horas** se manejan principalmente utilizando los tipos de datos `datetime64` y `Timedelta`. Estos tipos de datos permiten realizar operaciones avanzadas de manipulación y análisis de datos temporales. A continuación, se describen en detalle estos tipos de datos y cómo se utilizan en Pandas.\n",
    "\n",
    "Pandas utiliza el tipo de datos `datetime64[ns]` para representar **fechas** y **horas** con precisión de nanosegundos. Este tipo de datos es fundamental para realizar operaciones de análisis temporal de manera eficiente.\n",
    "\n",
    "Para **convertir** una columna de un DataFrame a tipo `datetime`, se utiliza la función `pd.to_datetime()`. Por ejemplo:"
   ]
  },
  {
   "cell_type": "code",
   "execution_count": null,
   "metadata": {},
   "outputs": [],
   "source": [
    "import pandas as pd\n",
    "\n",
    "# Crear un DataFrame con datos de ejemplo\n",
    "data = {'fecha': ['2023-01-01', '2023-02-01', '2023-03-01']}\n",
    "df = pd.DataFrame(data)\n",
    "\n",
    "# Convertir la columna 'fecha' a tipo datetime\n",
    "df['fecha'] = pd.to_datetime(df['fecha'])\n",
    "print(df.dtypes)"
   ]
  },
  {
   "cell_type": "markdown",
   "metadata": {},
   "source": [
    "El tipo de datos `Timedelta` se utiliza para representar **diferencias de tiempo** entre dos fechas. Este tipo de datos es útil para calcular duraciones, intervalos y realizar operaciones aritméticas con fechas. Para crear una columna de tipo `Timedelta`, se puede utilizar la función `pd.to_timedelta()`. Por ejemplo:"
   ]
  },
  {
   "cell_type": "code",
   "execution_count": null,
   "metadata": {},
   "outputs": [],
   "source": [
    "import pandas as pd\n",
    "\n",
    "# Crear un DataFrame con datos de ejemplo\n",
    "data = {'inicio': ['2023-01-01', '2023-02-01'], 'fin': ['2023-01-10', '2023-02-10']}\n",
    "df = pd.DataFrame(data)\n",
    "\n",
    "# Convertir las columnas 'inicio' y 'fin' a tipo datetime\n",
    "df['inicio'] = pd.to_datetime(df['inicio'])\n",
    "df['fin'] = pd.to_datetime(df['fin'])\n",
    "\n",
    "# Calcular la diferencia entre las fechas\n",
    "df['duracion'] = df['fin'] - df['inicio']\n",
    "print(df)"
   ]
  },
  {
   "cell_type": "markdown",
   "metadata": {},
   "source": [
    "En el ejemplo anterior no se utiliza `.to_timedelta()` porque la diferencia entre dos columnas de tipo `datetime` (como `df['fin'] - df['inicio']`) automáticamente genera un objeto de tipo `Timedelta`.\n",
    "\n",
    "Cuando se resta una fecha de otra en Pandas, el resultado es directamente una duración o intervalo de tiempo representado como `Timedelta`. Por tanto, en este caso no es necesario usar explícitamente `pd.to_timedelta()`.\n",
    "\n",
    "`pd.to_timedelta()` se utiliza principalmente cuando se quiere crear o convertir directamente a un tipo `Timedelta` a partir de otros tipos de datos como cadenas o números. Por ejemplo, cuando se desea convertir un número a una duración específica (días, horas, minutos) a partir de una columna que no está en formato de fecha.\n",
    "\n",
    "Además de `datetime64` y `Timedelta`, Pandas también soporta el tipo de datos `Period` para trabajar con **periodos de tiempo**. Un `Period` representa una unidad de tiempo específica, como un mes o un año. Para crear una columna de tipo `Period`, se puede utilizar la función `pd.period_range()`. Por ejemplo:"
   ]
  },
  {
   "cell_type": "code",
   "execution_count": null,
   "metadata": {},
   "outputs": [],
   "source": [
    "import pandas as pd\n",
    "\n",
    "# Crear un rango de periodos mensuales\n",
    "periodos = pd.period_range(start='2023-01', end='2023-06', freq='M')\n",
    "print(periodos)"
   ]
  },
  {
   "cell_type": "markdown",
   "metadata": {},
   "source": [
    "Es importante tener en cuenta que las operaciones con tipos de datos de fecha pueden ser sensibles al formato y la zona horaria. Pandas maneja las **zonas horarias** mediante el uso de la librería `pytz` o la funcionalidad de zona horaria de `datetime`. Para ajustar la zona horaria de una serie de fechas, se puede utilizar el método `.tz_localize()` y `.tz_convert()`. Por ejemplo:"
   ]
  },
  {
   "cell_type": "code",
   "execution_count": null,
   "metadata": {},
   "outputs": [],
   "source": [
    "import pandas as pd\n",
    "\n",
    "# Crear una serie de fechas\n",
    "fechas = pd.date_range(start='2023-01-01', periods=3, freq='D', tz='UTC')\n",
    "\n",
    "# Convertir la zona horaria de UTC a US/Eastern\n",
    "fechas = fechas.tz_convert('US/Eastern')\n",
    "print(fechas)"
   ]
  },
  {
   "cell_type": "markdown",
   "metadata": {},
   "source": [
    "En resumen, el manejo de tipos de datos de fecha en Pandas es fundamental para realizar análisis temporales precisos y eficientes. La conversión y manipulación de fechas utilizando `datetime64`, `Timedelta` y `Period` permite realizar operaciones avanzadas y obtener *insights* valiosos de los datos temporales."
   ]
  },
  {
   "cell_type": "markdown",
   "metadata": {},
   "source": [
    "## Operaciones con fechas\n",
    "\n",
    "Pandas ofrece una variedad de funciones y métodos para realizar **operaciones con fechas** de manera eficiente. Estas operaciones son esenciales para tareas de análisis temporal, como la agregación de datos por intervalos de tiempo, el cálculo de diferencias entre fechas y la manipulación de series temporales. A continuación, se presentan algunas de las operaciones más comunes con fechas en Pandas.\n",
    "\n",
    "Para **extraer componentes específicos de una fecha**, como el año, el mes o el día, se pueden utilizar los atributos del tipo `datetime`. Por ejemplo, para obtener el año de una columna de fechas, se puede utilizar el atributo `.dt.year`:"
   ]
  },
  {
   "cell_type": "code",
   "execution_count": null,
   "metadata": {},
   "outputs": [],
   "source": [
    "import pandas as pd\n",
    "\n",
    "# Crear un DataFrame con datos de ejemplo\n",
    "data = {'fecha': ['2023-01-01', '2023-02-15', '2023-03-30']}\n",
    "df = pd.DataFrame(data)\n",
    "\n",
    "# Convertir la columna 'fecha' a tipo datetime\n",
    "df['fecha'] = pd.to_datetime(df['fecha'])\n",
    "\n",
    "# Extraer el año de la columna 'fecha'\n",
    "df['año'] = df['fecha'].dt.year\n",
    "print(df)"
   ]
  },
  {
   "cell_type": "markdown",
   "metadata": {},
   "source": [
    "De manera similar, se pueden extraer otros componentes, como el mes (`.dt.month`), el día (`.dt.day`), la hora (`.dt.hour`), el minuto (`.dt.minute`) y el segundo (`.dt.second`).\n",
    "\n",
    "Otra operación común es la de calcular **diferencias entre fechas**. Esto se puede lograr restando una columna de fechas de otra, lo que resulta en una columna de tipo `Timedelta`. Por ejemplo:"
   ]
  },
  {
   "cell_type": "code",
   "execution_count": null,
   "metadata": {},
   "outputs": [],
   "source": [
    "import pandas as pd\n",
    "\n",
    "# Crear un DataFrame con datos de ejemplo\n",
    "data = {'inicio': ['2023-01-01', '2023-02-01'], 'fin': ['2023-01-10', '2023-02-10']}\n",
    "df = pd.DataFrame(data)\n",
    "\n",
    "# Convertir las columnas 'inicio' y 'fin' a tipo datetime\n",
    "df['inicio'] = pd.to_datetime(df['inicio'])\n",
    "df['fin'] = pd.to_datetime(df['fin'])\n",
    "\n",
    "# Calcular la diferencia entre las fechas\n",
    "df['duracion'] = df['fin'] - df['inicio']\n",
    "print(df)"
   ]
  },
  {
   "cell_type": "markdown",
   "metadata": {},
   "source": [
    "Además de calcular diferencias, Pandas permite realizar **operaciones aritméticas con fechas**, como sumar o restar un número específico de días, semanas, meses o años. Para esto, se puede utilizar el objeto `pd.DateOffset`. Por ejemplo, para añadir 10 días a una columna de fechas:"
   ]
  },
  {
   "cell_type": "code",
   "execution_count": null,
   "metadata": {},
   "outputs": [],
   "source": [
    "import pandas as pd\n",
    "\n",
    "# Crear un DataFrame con datos de ejemplo\n",
    "data = {'fecha': ['2023-01-01', '2023-02-01', '2023-03-01']}\n",
    "df = pd.DataFrame(data)\n",
    "\n",
    "# Convertir la columna 'fecha' a tipo datetime\n",
    "df['fecha'] = pd.to_datetime(df['fecha'])\n",
    "\n",
    "# Añadir 10 días a cada fecha\n",
    "df['fecha_mas_10_dias'] = df['fecha'] + pd.DateOffset(days=10)\n",
    "print(df)"
   ]
  },
  {
   "cell_type": "markdown",
   "metadata": {},
   "source": [
    "Pandas también facilita la **comparación de fechas**. Se pueden utilizar operadores de comparación (`<`, `<=`, `>`, `>=`, `==`, `!=`) para filtrar datos basados en condiciones temporales. Por ejemplo, para filtrar un DataFrame y obtener solo las filas con fechas posteriores al 1 de febrero de 2023:"
   ]
  },
  {
   "cell_type": "code",
   "execution_count": null,
   "metadata": {},
   "outputs": [],
   "source": [
    "import pandas as pd\n",
    "\n",
    "# Crear un DataFrame con datos de ejemplo\n",
    "data = {'fecha': ['2023-01-01', '2023-02-15', '2023-03-30']}\n",
    "df = pd.DataFrame(data)\n",
    "\n",
    "# Convertir la columna 'fecha' a tipo datetime\n",
    "df['fecha'] = pd.to_datetime(df['fecha'])\n",
    "\n",
    "# Filtrar filas con fechas posteriores al 1 de febrero de 2023\n",
    "df_filtrado = df[df['fecha'] > '2023-02-01']\n",
    "print(df_filtrado)"
   ]
  },
  {
   "cell_type": "markdown",
   "metadata": {},
   "source": [
    "Finalmente, Pandas permite la **manipulación de fechas** mediante la función `pd.date_range()`, que genera una serie de fechas con una frecuencia específica. Esto es útil para crear series temporales o rellenar datos faltantes en un rango de fechas. Por ejemplo, para crear una serie de fechas diarias:"
   ]
  },
  {
   "cell_type": "code",
   "execution_count": null,
   "metadata": {},
   "outputs": [],
   "source": [
    "import pandas as pd\n",
    "\n",
    "# Crear una serie de fechas diarias\n",
    "fechas = pd.date_range(start='2023-01-01', end='2023-01-10', freq='D')\n",
    "print(fechas)"
   ]
  },
  {
   "cell_type": "markdown",
   "metadata": {},
   "source": [
    "Estas operaciones con fechas son fundamentales para realizar análisis temporal y manipulación de datos en Pandas, permitiendo a los ingenieros de software trabajar de manera más eficiente con datos temporales."
   ]
  },
  {
   "cell_type": "markdown",
   "metadata": {},
   "source": [
    "## Series temporales en Pandas\n",
    "\n",
    "Las **series temporales** en Pandas son una herramienta fundamental para el análisis de datos que varían con el tiempo. Una **serie temporal** es una secuencia de datos ordenados cronológicamente, y Pandas proporciona una variedad de funcionalidades para manipular y analizar estas series.\n",
    "\n",
    "Para **crear una serie temporal**, se utiliza el objeto `pd.date_range()` que genera una secuencia de fechas con una frecuencia específica. Por ejemplo, para crear una serie temporal diaria:"
   ]
  },
  {
   "cell_type": "code",
   "execution_count": null,
   "metadata": {},
   "outputs": [],
   "source": [
    "import pandas as pd\n",
    "\n",
    "# Crear una serie temporal diaria\n",
    "fechas = pd.date_range(start='2023-01-01', end='2023-01-10', freq='D')\n",
    "serie_temporal = pd.Series(range(len(fechas)), index=fechas)\n",
    "print(serie_temporal)"
   ]
  },
  {
   "cell_type": "markdown",
   "metadata": {},
   "source": [
    "Las series temporales en Pandas permiten realizar una serie de operaciones avanzadas, como el resampling, el desplazamiento y la interpolación.\n",
    "\n",
    "El **resampling** es la operación de convertir una serie temporal de una frecuencia a otra. Por ejemplo, cambiar una serie diaria a una serie mensual. Esto se puede hacer utilizando el método `.resample()`. Por ejemplo, para obtener la suma mensual de una serie diaria:"
   ]
  },
  {
   "cell_type": "code",
   "execution_count": null,
   "metadata": {},
   "outputs": [],
   "source": [
    "# Resamplear la serie temporal para obtener la suma mensual\n",
    "serie_mensual = serie_temporal.resample('ME').sum()\n",
    "print(serie_mensual)"
   ]
  },
  {
   "cell_type": "markdown",
   "metadata": {},
   "source": [
    "El **desplazamiento** (`shifting`) es otra operación común en el análisis de series temporales. Permite desplazar los datos hacia adelante o hacia atrás en el tiempo. Esto es útil para calcular diferencias o crear variables rezagadas. Se puede realizar utilizando el método `.shift()`. Por ejemplo, para desplazar una serie temporal un día hacia adelante:"
   ]
  },
  {
   "cell_type": "code",
   "execution_count": null,
   "metadata": {},
   "outputs": [],
   "source": [
    "# Desplazar la serie temporal un día hacia adelante\n",
    "serie_desplazada = serie_temporal.shift(1)\n",
    "print(serie_desplazada)"
   ]
  },
  {
   "cell_type": "markdown",
   "metadata": {},
   "source": [
    "La **interpolación** se utiliza para rellenar valores faltantes en una serie temporal. Pandas ofrece varios métodos de interpolación, como lineal, polinómica y spline. Para utilizar la interpolación lineal:"
   ]
  },
  {
   "cell_type": "code",
   "execution_count": null,
   "metadata": {},
   "outputs": [],
   "source": [
    "# Introducir valores NaN en la serie temporal\n",
    "serie_temporal[2:4] = None\n",
    "\n",
    "# Interpolar los valores faltantes\n",
    "serie_interpolada = serie_temporal.interpolate(method='linear')\n",
    "print(serie_interpolada)"
   ]
  },
  {
   "cell_type": "markdown",
   "metadata": {},
   "source": [
    "Además, Pandas permite trabajar con series temporales que contienen datos de diferentes zonas horarias. Para **ajustar la zona horaria de una serie temporal**, se utilizan los métodos `.tz_localize()` y `.tz_convert()`. Por ejemplo, para convertir una serie temporal a la zona horaria `US/Eastern`:"
   ]
  },
  {
   "cell_type": "code",
   "execution_count": null,
   "metadata": {},
   "outputs": [],
   "source": [
    "# Crear una serie temporal con zona horaria UTC\n",
    "serie_temporal_utc = serie_temporal.tz_localize('UTC')\n",
    "\n",
    "# Convertir la serie temporal a la zona horaria US/Eastern\n",
    "serie_temporal_est = serie_temporal_utc.tz_convert('US/Eastern')\n",
    "print(serie_temporal_est)"
   ]
  },
  {
   "cell_type": "markdown",
   "metadata": {},
   "source": [
    "Pandas también permite realizar operaciones de **rolling** (ventana móvil), que son útiles para calcular estadísticas móviles, como medias o sumas móviles. Esto se puede hacer utilizando el método `.rolling()`. Por ejemplo, para calcular una media móvil de 3 días:"
   ]
  },
  {
   "cell_type": "code",
   "execution_count": null,
   "metadata": {},
   "outputs": [],
   "source": [
    "# Calcular una media móvil de 3 días\n",
    "media_movil = serie_temporal.rolling(window=3).mean()\n",
    "print(media_movil)"
   ]
  },
  {
   "cell_type": "markdown",
   "metadata": {},
   "source": [
    "Finalmente, Pandas ofrece herramientas para trabajar con fechas y horas, como la **extracción de componentes temporales** (año, mes, día, etc.) y la manipulación de periodos de tiempo con el objeto `Period`. Por ejemplo, para extraer el mes de una serie temporal:"
   ]
  },
  {
   "cell_type": "code",
   "execution_count": null,
   "metadata": {},
   "outputs": [],
   "source": [
    "# Extraer el mes de la serie temporal\n",
    "mes = serie_temporal.index.month\n",
    "print(mes)"
   ]
  },
  {
   "cell_type": "markdown",
   "metadata": {},
   "source": [
    "Estas funcionalidades avanzadas permiten manipular y analizar series temporales de manera eficiente, facilitando el análisis de tendencias, estacionalidades y otros patrones temporales en los datos."
   ]
  },
  {
   "cell_type": "markdown",
   "metadata": {},
   "source": [
    "## Resampling\n",
    "\n",
    "El **resampling** es una técnica utilizada en Pandas para cambiar la frecuencia de una serie temporal. Este proceso puede implicar tanto la agregación de datos de una frecuencia más alta a una más baja (downsampling) como la interpolación de datos de una frecuencia más baja a una más alta (upsampling). A continuación, se presentan los conceptos clave y ejemplos prácticos de cómo utilizar el **resampling** en Pandas.\n",
    "\n",
    "Para realizar el resampling en Pandas, se utiliza el método `.resample()`, que permite especificar la nueva frecuencia deseada. Este método se aplica a una serie temporal o a una columna de un DataFrame que contiene datos temporales.\n",
    "\n",
    "### Downsampling\n",
    "\n",
    "El **downsampling** consiste en reducir la frecuencia de una serie temporal agregando los datos. Por ejemplo, si se tiene una serie con datos diarios y se desea convertirla en una serie mensual, se puede utilizar el método `.resample()` junto con una función de agregación como `.sum()`, `.mean()`, etc."
   ]
  },
  {
   "cell_type": "code",
   "execution_count": null,
   "metadata": {},
   "outputs": [],
   "source": [
    "import pandas as pd\n",
    "\n",
    "# Crear una serie temporal diaria\n",
    "fechas = pd.date_range(start='2023-01-01', end='2023-01-31', freq='D')\n",
    "serie_temporal = pd.Series(range(len(fechas)), index=fechas)\n",
    "\n",
    "# Resamplear la serie temporal para obtener la suma mensual\n",
    "serie_mensual = serie_temporal.resample('ME').sum()\n",
    "print(serie_mensual)"
   ]
  },
  {
   "cell_type": "markdown",
   "metadata": {},
   "source": [
    "### Upsampling\n",
    "\n",
    "El **upsampling** consiste en aumentar la frecuencia de una serie temporal, generalmente mediante la interpolación de datos. A diferencia del downsampling, el upsampling requiere un método de relleno para llenar los valores generados en la nueva frecuencia. Se puede especificar el método de relleno utilizando `.ffill()` (forward fill) o `.bfill()` (backward fill)."
   ]
  },
  {
   "cell_type": "code",
   "execution_count": null,
   "metadata": {},
   "outputs": [],
   "source": [
    "import pandas as pd\n",
    "\n",
    "# Crear una serie temporal mensual\n",
    "fechas = pd.date_range(start='2023-01-01', end='2023-04-01', freq='ME')\n",
    "serie_temporal = pd.Series(range(len(fechas)), index=fechas)\n",
    "\n",
    "# Resamplear la serie temporal para obtener datos diarios y llenar los valores faltantes\n",
    "serie_diaria = serie_temporal.resample('D').ffill()\n",
    "print(serie_diaria)"
   ]
  },
  {
   "cell_type": "markdown",
   "metadata": {},
   "source": [
    "### Resampling con funciones personalizadas\n",
    "\n",
    "Además de las funciones de agregación predefinidas, Pandas permite aplicar funciones personalizadas al resampleo. Esto se logra utilizando el método `.apply()` junto con una función definida por el usuario."
   ]
  },
  {
   "cell_type": "code",
   "execution_count": null,
   "metadata": {},
   "outputs": [],
   "source": [
    "import pandas as pd\n",
    "\n",
    "# Crear una serie temporal diaria\n",
    "fechas = pd.date_range(start='2023-01-01', end='2023-01-10', freq='D')\n",
    "serie_temporal = pd.Series(range(len(fechas)), index=fechas)\n",
    "\n",
    "# Definir una función personalizada para el resampling\n",
    "def custom_agg(x):\n",
    "    return x.max() - x.min()\n",
    "\n",
    "# Resamplear la serie temporal utilizando la función personalizada\n",
    "serie_resampleada = serie_temporal.resample('3D').apply(custom_agg)\n",
    "print(serie_resampleada)"
   ]
  },
  {
   "cell_type": "markdown",
   "metadata": {},
   "source": [
    "### Consideraciones adicionales\n",
    "\n",
    "Al realizar **resampling**, es importante tener en cuenta la alineación de los datos y los intervalos de tiempo. Pandas ofrece parámetros adicionales en el método `.resample()` para ajustar el comportamiento del resampleo, como `label` y `closed`, que determinan cómo se etiquetan y cierran los intervalos de tiempo."
   ]
  },
  {
   "cell_type": "code",
   "execution_count": null,
   "metadata": {},
   "outputs": [],
   "source": [
    "import pandas as pd\n",
    "\n",
    "# Crear una serie temporal diaria\n",
    "fechas = pd.date_range(start='2023-01-01', end='2023-01-10', freq='D')\n",
    "serie_temporal = pd.Series(range(len(fechas)), index=fechas)\n",
    "\n",
    "# Resamplear la serie temporal con etiquetas y cierres personalizados\n",
    "serie_resampleada = serie_temporal.resample('3D', label='left', closed='left').sum()\n",
    "print(serie_resampleada)"
   ]
  },
  {
   "cell_type": "markdown",
   "metadata": {},
   "source": [
    "El **resampling** es una técnica esencial en el análisis de series temporales, permitiendo cambiar la resolución temporal de los datos para adaptarse a diferentes necesidades analíticas."
   ]
  },
  {
   "cell_type": "markdown",
   "metadata": {},
   "source": [
    "## Aprendizajes de esta lección\n",
    "\n",
    "- Convertir columnas de un DataFrame a tipo datetime utilizando `pd.to_datetime()`.\n",
    "- Calcular diferencias entre fechas con el tipo de datos Timedelta.\n",
    "- Trabajar con periodos de tiempo utilizando el tipo de datos Period y la función `pd.period_range()`.\n",
    "- Realizar operaciones aritméticas con fechas usando `pd.DateOffset`.\n",
    "- Comparar y filtrar DataFrames basados en condiciones temporales.\n",
    "- Crear y manipular series temporales con `pd.date_range()`.\n",
    "- Realizar resampling de series temporales para cambiar la frecuencia de los datos.\n",
    "- Llevar a cabo operaciones de rolling (ventana móvil) y aplicar funciones personalizadas al resampleo.\n",
    "- Ajustar y manejar zonas horarias de series temporales con `tz_localize()` y `tz_convert()`."
   ]
  }
 ],
 "metadata": {
  "kernelspec": {
   "display_name": "Python 3",
   "language": "python",
   "name": "python3"
  },
  "language_info": {
   "codemirror_mode": {
    "name": "ipython",
    "version": 3
   },
   "file_extension": ".py",
   "mimetype": "text/x-python",
   "name": "python",
   "nbconvert_exporter": "python",
   "pygments_lexer": "ipython3",
   "version": "3.11.9"
  }
 },
 "nbformat": 4,
 "nbformat_minor": 4
}
