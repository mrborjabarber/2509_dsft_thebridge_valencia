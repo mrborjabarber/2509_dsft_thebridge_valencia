{
 "cells": [
  {
   "cell_type": "code",
   "execution_count": 11,
   "metadata": {},
   "outputs": [],
   "source": [
    "import psycopg2\n",
    "import pandas as pd\n",
    "import random\n",
    "import numpy as np\n",
    "import os\n",
    "from dotenv import load_dotenv"
   ]
  },
  {
   "cell_type": "code",
   "execution_count": 13,
   "metadata": {},
   "outputs": [
    {
     "data": {
      "text/plain": [
       "True"
      ]
     },
     "execution_count": 13,
     "metadata": {},
     "output_type": "execute_result"
    }
   ],
   "source": [
    "load_dotenv()"
   ]
  },
  {
   "cell_type": "code",
   "execution_count": 14,
   "metadata": {},
   "outputs": [],
   "source": [
    "db_user = os.getenv(\"DB_USER\") \n",
    "db_password = os.getenv(\"DB_PASSWORD\") \n",
    "db_host = os.getenv(\"DB_HOST\") \n",
    "db_name = os.getenv(\"DB_NAME\")"
   ]
  },
  {
   "cell_type": "markdown",
   "metadata": {},
   "source": [
    "## CONEXION A BASES DE DATOS(RENDER)"
   ]
  },
  {
   "cell_type": "code",
   "execution_count": 15,
   "metadata": {},
   "outputs": [],
   "source": [
    "connection = psycopg2.connect(\n",
    "        host=db_host,       \n",
    "        database=db_name,        \n",
    "        user=db_user,            \n",
    "        password=db_password,        \n",
    "        port=5432\n",
    "        ) \n",
    "\n",
    "cursor = connection.cursor()"
   ]
  },
  {
   "cell_type": "code",
   "execution_count": 16,
   "metadata": {},
   "outputs": [
    {
     "name": "stdout",
     "output_type": "stream",
     "text": [
      "Versión de PostgreSQL: ('PostgreSQL 16.6 (Debian 16.6-1.pgdg120+1) on x86_64-pc-linux-gnu, compiled by gcc (Debian 12.2.0-14) 12.2.0, 64-bit',)\n"
     ]
    }
   ],
   "source": [
    "cursor.execute(\"SELECT version();\")\n",
    "print(\"Versión de PostgreSQL:\", cursor.fetchone())"
   ]
  },
  {
   "cell_type": "markdown",
   "metadata": {},
   "source": [
    "## CREACION TABLAS BASES DE DATOS"
   ]
  },
  {
   "cell_type": "code",
   "execution_count": 213,
   "metadata": {},
   "outputs": [
    {
     "name": "stdout",
     "output_type": "stream",
     "text": [
      "Tablas creadas exitosamente.\n"
     ]
    }
   ],
   "source": [
    "# Query -> Crear tablas BBDD\n",
    "queries = [\n",
    "    \"\"\"\n",
    "    CREATE TABLE IF NOT EXISTS Promocion (\n",
    "        PromocionID SERIAL PRIMARY KEY,\n",
    "        Nombre VARCHAR(50) NOT NULL,\n",
    "        Fecha_inicio DATE DEFAULT CURRENT_DATE,\n",
    "        Fecha_fin DATE DEFAULT CURRENT_DATE\n",
    "    );\n",
    "    \"\"\",\n",
    "    \"\"\"\n",
    "    CREATE TABLE IF NOT EXISTS Modalidad (\n",
    "        ModalidadID SERIAL PRIMARY KEY,\n",
    "        Dedicacion VARCHAR(50) NOT NULL,\n",
    "        Tipo VARCHAR(50) NOT NULL\n",
    "    );\n",
    "    \"\"\",\n",
    "    \"\"\"\n",
    "    CREATE TABLE IF NOT EXISTS Campus (\n",
    "        CampusID SERIAL PRIMARY KEY,\n",
    "        Nombre VARCHAR(50) NOT NULL,\n",
    "        Ciudad VARCHAR(50),\n",
    "        Pais VARCHAR(50)\n",
    "    );\n",
    "    \"\"\",\n",
    "    \"\"\"\n",
    "    CREATE TABLE IF NOT EXISTS Aula (\n",
    "        AulaID SERIAL PRIMARY KEY,\n",
    "        Nombre VARCHAR(50) NOT NULL,\n",
    "        CampusID INT NOT NULL,\n",
    "        FOREIGN KEY (CampusID) REFERENCES Campus(CampusID)\n",
    "    );\n",
    "    \"\"\",\n",
    "    \"\"\"\n",
    "    CREATE TABLE IF NOT EXISTS Bootcamp (\n",
    "        BootcampID SERIAL PRIMARY KEY,\n",
    "        Nombre VARCHAR(50) NOT NULL,\n",
    "        CampusID INT NOT NULL,\n",
    "        ModalidadID INT NOT NULL,\n",
    "        AulaID INT NOT NULL,\n",
    "        PromocionID INT NOT NULL,\n",
    "        FOREIGN KEY (PromocionID) REFERENCES Promocion(PromocionID),\n",
    "        FOREIGN KEY (ModalidadID) REFERENCES Modalidad(ModalidadID),\n",
    "        FOREIGN KEY (AulaID) REFERENCES Aula(AulaID)\n",
    "    );\n",
    "    \"\"\",\n",
    "    \"\"\"\n",
    "    CREATE TABLE IF NOT EXISTS Alumno (\n",
    "        AlumnoID SERIAL PRIMARY KEY,\n",
    "        Nombre VARCHAR(50) NOT NULL,\n",
    "        Apellido VARCHAR(50) NOT NULL,\n",
    "        Fecha_nac DATE DEFAULT CURRENT_DATE,\n",
    "        Email VARCHAR(100),\n",
    "        BootcampID INT NOT NULL,\n",
    "        FOREIGN KEY (BootcampID) REFERENCES Bootcamp(BootcampID)\n",
    "    );\n",
    "    \"\"\",\n",
    "    \"\"\"\n",
    "    CREATE TABLE IF NOT EXISTS Proyecto (\n",
    "        ProyectoID SERIAL PRIMARY KEY,\n",
    "        NombreProyecto VARCHAR(50) NOT NULL\n",
    "    );\n",
    "    \"\"\",\n",
    "    \"\"\"\n",
    "    CREATE TABLE IF NOT EXISTS Profesor (\n",
    "        ProfesorID SERIAL PRIMARY KEY,\n",
    "        Nombre VARCHAR(50) NOT NULL,\n",
    "        Apellido VARCHAR(50) NOT NULL,\n",
    "        Fecha_nac DATE DEFAULT CURRENT_DATE,\n",
    "        Rol VARCHAR(50) NOT NULL,\n",
    "        Email VARCHAR(100),\n",
    "        CampusID INT NOT NULL,\n",
    "        FOREIGN KEY (CampusID) REFERENCES Campus(CampusID)\n",
    "    );\n",
    "    \"\"\",\n",
    "    \"\"\"\n",
    "    CREATE TABLE IF NOT EXISTS Calificacion (\n",
    "        CalificacionID SERIAL PRIMARY KEY,\n",
    "        Resultado VARCHAR(50) NOT NULL,\n",
    "        ProyectoID INT NOT NULL,\n",
    "        AlumnoID INT NOT NULL,\n",
    "        FOREIGN KEY (ProyectoID) REFERENCES Proyecto(ProyectoID),\n",
    "        FOREIGN KEY (AlumnoID) REFERENCES Alumno(AlumnoID)\n",
    "    );\n",
    "    \"\"\",\n",
    "    \"\"\"\n",
    "    CREATE TABLE IF NOT EXISTS Profe_Curso (\n",
    "        Profe_cursoID SERIAL PRIMARY KEY,\n",
    "        ProfesorID INT NOT NULL,\n",
    "        BootcampID INT NOT NULL,\n",
    "        FOREIGN KEY (ProfesorID) REFERENCES Profesor(ProfesorID),\n",
    "        FOREIGN KEY (BootcampID) REFERENCES Bootcamp(BootcampID)\n",
    "    );\n",
    "    \"\"\"\n",
    "]\n",
    "\n",
    "# Ejecutar cada consulta individualmente\n",
    "for query in queries:\n",
    "    cursor.execute(query)\n",
    "    \n",
    "# Confirmar cambios\n",
    "connection.commit()\n",
    "print(\"Tablas creadas exitosamente.\")"
   ]
  },
  {
   "cell_type": "markdown",
   "metadata": {},
   "source": [
    "# Consultar las tablas creadas"
   ]
  },
  {
   "cell_type": "code",
   "execution_count": 17,
   "metadata": {},
   "outputs": [
    {
     "name": "stdout",
     "output_type": "stream",
     "text": [
      "Tablas en la base de datos:\n",
      "campus\n",
      "aula\n",
      "bootcamp\n",
      "promocion\n",
      "modalidad\n",
      "alumno\n",
      "proyecto\n",
      "profesor\n",
      "calificacion\n",
      "profe_curso\n"
     ]
    }
   ],
   "source": [
    "# Consultar y mostrar las tablas existentes en la base de datos\n",
    "cursor.execute(\"\"\"\n",
    "        SELECT table_name\n",
    "        FROM information_schema.tables\n",
    "        WHERE table_schema = 'public';\n",
    "\"\"\")\n",
    "tablas = cursor.fetchall()\n",
    "print(\"Tablas en la base de datos:\")\n",
    "for tabla in tablas:\n",
    "    print(tabla[0])"
   ]
  },
  {
   "cell_type": "code",
   "execution_count": 248,
   "metadata": {},
   "outputs": [],
   "source": [
    "def generar_email(nombre, apellido):\n",
    "    return f\"{nombre.lower()}.{apellido.lower()}@thebridge.com\"\n",
    "\n",
    "def asignar_campus(ciudad):\n",
    "   campus_map = {\n",
    "       'Madrid': 1,\n",
    "       'Valencia': 2\n",
    "       # Agrega más ciudades y sus correspondientes campusid aquí\n",
    "   }\n",
    "   return campus_map.get(ciudad, None)"
   ]
  },
  {
   "cell_type": "markdown",
   "metadata": {},
   "source": [
    "### INSERTAR - TABLA CAMPUS"
   ]
  },
  {
   "cell_type": "code",
   "execution_count": 223,
   "metadata": {},
   "outputs": [],
   "source": [
    "# Crear un DataFrame leyendo el texto, usando \";\" como separador\n",
    "df = pd.read_csv('claustro_sep.csv', sep=\",\" , index_col=0)\n",
    "\n",
    "#Dataframe con los unicos campus de la BBDD\n",
    "df_c = df['Campus'].unique()\n",
    "\n",
    "# Iterar sobre los valores únicos y hacer el INSERT\n",
    "for c in df_c:\n",
    "    cursor.execute(\"INSERT INTO campus (nombre, ciudad, pais) VALUES (%s, %s, %s)\", (c, c, 'España'))    #cursor.execute(\"INSERT INTO campus(nombre, ciudad, pais) VALUES ('recoletos', 'madrid', 'esp')\")\n",
    "    #cursor.execute (f\"INSERT INTO campus(nombre, ciudad, pais) VALUES ({c}, {c}, 'Españaaa');\")\n",
    "    \n",
    "# Hacer commit después del bucle\n",
    "connection.commit()"
   ]
  },
  {
   "cell_type": "markdown",
   "metadata": {},
   "source": [
    "### INSERTAR - TABLA PROFESOR"
   ]
  },
  {
   "cell_type": "code",
   "execution_count": 254,
   "metadata": {},
   "outputs": [],
   "source": [
    "for index, row in df.iterrows():\n",
    "    cursor.execute('''\n",
    "    INSERT INTO profesor(nombre, apellido, fecha_nac, rol, email, campusid)\n",
    "    VALUES (%s, %s, %s,%s, %s, %s)\n",
    "    ''', (\n",
    "        row['nombre'], \n",
    "        row['apellido'], \n",
    "        '1975-10-12',\n",
    "        row['Rol'], \n",
    "        generar_email(row['nombre'], row['apellido']), \n",
    "        asignar_campus(row['Campus'])\n",
    "    ))\n",
    "\n",
    "connection.commit()"
   ]
  },
  {
   "cell_type": "markdown",
   "metadata": {},
   "source": [
    "## INSERTAR - TABLA MODALIDAD"
   ]
  },
  {
   "cell_type": "code",
   "execution_count": 259,
   "metadata": {},
   "outputs": [],
   "source": [
    "cursor.execute(\"INSERT INTO modalidad (dedicacion, tipo) VALUES ('FT', 'Presencial')\")\n",
    "cursor.execute(\"INSERT INTO modalidad (dedicacion, tipo) VALUES ('FT', 'Online')\")\n",
    "cursor.execute(\"INSERT INTO modalidad (dedicacion, tipo) VALUES ('PT', 'Presencial')\")\n",
    "cursor.execute(\"INSERT INTO modalidad (dedicacion, tipo) VALUES ('PT', 'Online')\")\n",
    "cursor.execute(\"INSERT INTO modalidad (dedicacion, tipo) VALUES ('Hibrido', 'Presencial')\")\n",
    "cursor.execute(\"INSERT INTO modalidad (dedicacion, tipo) VALUES ('Hibrido', 'Online')\")\n",
    "    \n",
    "connection.commit()"
   ]
  },
  {
   "cell_type": "markdown",
   "metadata": {},
   "source": [
    "## INSERTAR - TABLA PROMOCION"
   ]
  },
  {
   "cell_type": "code",
   "execution_count": 270,
   "metadata": {},
   "outputs": [],
   "source": [
    "cursor.execute(\"INSERT INTO promocion (nombre, fecha_inicio, fecha_fin) VALUES ('Febrero', '2024-02-12', '2024-05-31')\")\n",
    "cursor.execute(\"INSERT INTO promocion (nombre, fecha_inicio, fecha_fin) VALUES ('Septiembre', '2023-09-18', '2023-12-22')\")\n",
    "    \n",
    "connection.commit()"
   ]
  },
  {
   "cell_type": "markdown",
   "metadata": {},
   "source": [
    "## INSERTAR - TABLA BOOTCAMP"
   ]
  },
  {
   "cell_type": "code",
   "execution_count": 272,
   "metadata": {},
   "outputs": [],
   "source": [
    "consultas = [6,3,3,4,5,5]\n",
    "\n",
    "for i in consultas:\n",
    "    cursor.execute('''\n",
    "    INSERT INTO bootcamp(vertical, modalidadid, aulaid, promocionid)\n",
    "    VALUES (%s, %s, %s, %s)\n",
    "    ''', (\n",
    "        random.choice([\"DS\",\"FT\"]), \n",
    "        random.randint(1, 6),  \n",
    "        random.randint(1, 6), \n",
    "        random.randint(2, 3)))\n",
    "    \n",
    "\n",
    "connection.commit()"
   ]
  },
  {
   "cell_type": "markdown",
   "metadata": {},
   "source": [
    "## INSERTAR - TABLA ALUMNO "
   ]
  },
  {
   "cell_type": "code",
   "execution_count": 279,
   "metadata": {},
   "outputs": [],
   "source": [
    "fechas = ['1985-03-17', '1987-11-05', '1992-04-28', '1995-09-12', '1988-02-29',\n",
    "          '1998-07-15', '2001-12-31', '1990-06-20', '1989-01-01', '1994-08-18',\n",
    "          '1997-05-23', '2003-02-14', '1986-10-31', '1991-03-07', '1999-11-25',\n",
    "          '1993-08-04', '2002-05-19', '1985-12-25', '1996-04-01', '2000-09-09']"
   ]
  },
  {
   "cell_type": "code",
   "execution_count": 276,
   "metadata": {},
   "outputs": [],
   "source": [
    "df_alu = pd.read_csv('clase_1_sep.csv', sep=\",\" , index_col=0)\n",
    "df_alu.reset_index(inplace=True, drop=True)"
   ]
  },
  {
   "cell_type": "code",
   "execution_count": 280,
   "metadata": {},
   "outputs": [],
   "source": [
    "for index, row in df.iterrows():\n",
    "    cursor.execute('''\n",
    "    INSERT INTO alumno(nombre, apellido, fecha_nac,email, bootcampid)\n",
    "    VALUES (%s, %s, %s,%s, %s)\n",
    "    ''', (\n",
    "        row['nombre'], \n",
    "        row['apellido'], \n",
    "        random.choice(fechas),\n",
    "        row['Email'], \n",
    "        random.randint(1, 3)\n",
    "    ))\n",
    "\n",
    "connection.commit()"
   ]
  },
  {
   "cell_type": "markdown",
   "metadata": {},
   "source": [
    "## INSERTAR - TABLA CALIFICACION "
   ]
  },
  {
   "cell_type": "code",
   "execution_count": 295,
   "metadata": {},
   "outputs": [],
   "source": [
    "for index, row in df_c.iterrows():\n",
    "    cursor.execute('''\n",
    "    INSERT INTO calificacion(resultado, proyectoid, alumnoid)\n",
    "    VALUES (%s, %s, %s)\n",
    "    ''', (\n",
    "        random.choice([\"Apto\",\"No Apto\"]), \n",
    "        row['Proyecto'],\n",
    "        row['alumnoid']\n",
    "        ))\n",
    "    \n",
    "connection.commit()"
   ]
  },
  {
   "cell_type": "markdown",
   "metadata": {},
   "source": [
    "## INSERTAR - TABLA PROFE_CURSO"
   ]
  },
  {
   "cell_type": "code",
   "execution_count": 296,
   "metadata": {},
   "outputs": [],
   "source": [
    "cursor.execute(\"INSERT INTO profe_curso (profesorid, bootcampid) VALUES (8, 1)\")\n",
    "cursor.execute(\"INSERT INTO profe_curso (profesorid, bootcampid) VALUES (4, 1)\")\n",
    "cursor.execute(\"INSERT INTO profe_curso (profesorid, bootcampid) VALUES (1, 2)\")\n",
    "cursor.execute(\"INSERT INTO profe_curso (profesorid, bootcampid) VALUES (9, 2)\")\n",
    "cursor.execute(\"INSERT INTO profe_curso (profesorid, bootcampid) VALUES (3, 3)\")\n",
    "cursor.execute(\"INSERT INTO profe_curso (profesorid, bootcampid) VALUES (10, 3)\")\n",
    "    \n",
    "connection.commit()"
   ]
  },
  {
   "cell_type": "code",
   "execution_count": 19,
   "metadata": {},
   "outputs": [],
   "source": [
    "cursor.close()\n",
    "connection.close()"
   ]
  }
 ],
 "metadata": {
  "kernelspec": {
   "display_name": "Python 3",
   "language": "python",
   "name": "python3"
  },
  "language_info": {
   "codemirror_mode": {
    "name": "ipython",
    "version": 3
   },
   "file_extension": ".py",
   "mimetype": "text/x-python",
   "name": "python",
   "nbconvert_exporter": "python",
   "pygments_lexer": "ipython3",
   "version": "3.13.0"
  }
 },
 "nbformat": 4,
 "nbformat_minor": 2
}
