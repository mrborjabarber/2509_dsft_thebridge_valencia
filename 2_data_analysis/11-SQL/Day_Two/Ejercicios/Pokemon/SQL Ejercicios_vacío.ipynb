{
 "cells": [
  {
   "cell_type": "markdown",
   "metadata": {},
   "source": [
    "![imagen](./img/ejercicios.png)\n",
    "\n",
    "# Ejercicio SQL\n",
    "Para este ejercicio usaremos una base de datos de Pokemon. **Asegúrante que tienes el CSV \"pokemon.csv\" en la misma carpeta donde está este Notebook**. Realiza los siguientes apartados:\n",
    "\n",
    "1. Obten una tabla con todos los campos\n",
    "2. Obten una tabla con los campos \"Name\", \"Type 1\", \"Type 2\"\n",
    "3. Obten la misma tabla que el apartado anterior, pero en este caso renombrando los campos al castellano.\n",
    "4. ¿Cuales son todos los \"Type 1\" diferentes?\n",
    "5. ¿Cuales son todos los \"Type 1\" y \"Type 2\" diferentes?\n",
    "6. ¿Cuáles son los pokemon de agua? \"Type 1\" = \"Water\"\n",
    "7. Obtén una tabla con los pokemon legendarios\n",
    "8. Obtén una tabla con los pokemon legendarios de fuego (\"Type 1\" = \"Fire\")\n",
    "9. Obtén una tabla con los pokemon cuyo nombre empieze por \"W\" y tenga una defensa mayor de 100 puntos\n",
    "10. Saca una tabla con los pokemon de la primera generación, que NO sean \"Type 1\" = \"Psychic\" y tengan una velocidad superior a 130\n",
    "11. ¿Cuál es el pokemon con el ataque más alto?\n",
    "12. ¿Cuál es la media de la defensa de todos los pokemon?\n",
    "13. ¿Cuál es la media de la defensa por generación?\n",
    "14. Calcula el máximo HP por \"Type 1\"\n",
    "\n",
    "**NOTA**: se recomienda añadir un `LIMIT 5` en la mayoría de apartados para evitar grandes outputs de las queries."
   ]
  },
  {
   "cell_type": "code",
   "execution_count": null,
   "metadata": {},
   "outputs": [],
   "source": [
    "# Importamos paquetes\n",
    "import pandas as pd\n",
    "import sqlite3\n",
    "cnx = sqlite3.connect(':memory:')\n",
    "\n",
    "# Importamos datos de un CSV\n",
    "df = pd.read_csv('pokemon.csv')\n",
    "df.head()"
   ]
  },
  {
   "cell_type": "code",
   "execution_count": null,
   "metadata": {},
   "outputs": [],
   "source": [
    "# Pasamos el DataFrame de Pandas a SQL\n",
    "df.to_sql('pokemon', con=cnx, if_exists='append', index=False)\n",
    "\n",
    "# Definimos la función para hacer queries.\n",
    "def sql_query(query):\n",
    "    return pd.read_sql(query, cnx)"
   ]
  },
  {
   "cell_type": "code",
   "execution_count": null,
   "metadata": {},
   "outputs": [],
   "source": [
    "# 1. Obten una tabla con todos los campos\n",
    "query = '''\n",
    "\n",
    "'''\n",
    "\n",
    "sql_query(query)"
   ]
  },
  {
   "cell_type": "code",
   "execution_count": null,
   "metadata": {},
   "outputs": [],
   "source": [
    "# 2. Obten una tabla con los campos \"Name\", \"Type 1\", \"Type 2\"\n",
    "query = '''\n",
    "\n",
    "'''\n",
    "\n",
    "sql_query(query)"
   ]
  },
  {
   "cell_type": "code",
   "execution_count": null,
   "metadata": {},
   "outputs": [],
   "source": [
    "# 3. Obten la misma tabla que el apartado anterior, pero en este caso renombrando los campos al castellano.\n",
    "query = '''\n",
    "\n",
    "'''\n",
    "\n",
    "sql_query(query)"
   ]
  },
  {
   "cell_type": "code",
   "execution_count": null,
   "metadata": {},
   "outputs": [],
   "source": [
    "# 4. ¿Cuales son todos los \"Type 1\" diferentes?\n",
    "query = '''\n",
    "\n",
    "'''\n",
    "\n",
    "sql_query(query)"
   ]
  },
  {
   "cell_type": "code",
   "execution_count": null,
   "metadata": {},
   "outputs": [],
   "source": [
    "# 5. ¿Cuales son todos los \"Type 1\" y \"Type 2\" diferentes?\n",
    "query = '''\n",
    "\n",
    "'''\n",
    "\n",
    "sql_query(query)"
   ]
  },
  {
   "cell_type": "code",
   "execution_count": null,
   "metadata": {},
   "outputs": [],
   "source": [
    "# 6. ¿Cuáles son los pokemon de agua? \"Type 1\" = \"Water\"\n",
    "query = '''\n",
    "\n",
    "'''\n",
    "\n",
    "sql_query(query)"
   ]
  },
  {
   "cell_type": "code",
   "execution_count": null,
   "metadata": {},
   "outputs": [],
   "source": [
    "# 7. Obtén una tabla con los pokemon legendarios\n",
    "query = '''\n",
    "\n",
    "'''\n",
    "\n",
    "sql_query(query)"
   ]
  },
  {
   "cell_type": "code",
   "execution_count": null,
   "metadata": {},
   "outputs": [],
   "source": [
    "# 8. Obtén una tabla con los pokemon legendarios de fuego (\"Type 1\" = \"Fire\")\n",
    "query = '''\n",
    "\n",
    "'''\n",
    "\n",
    "sql_query(query)"
   ]
  },
  {
   "cell_type": "code",
   "execution_count": null,
   "metadata": {},
   "outputs": [],
   "source": [
    "# 9. Obtén una tabla con los pokemon cuyo nombre empieze por \"W\" y tenga una defensa mayor de 100 puntos\n",
    "query = '''\n",
    "\n",
    "'''\n",
    "\n",
    "sql_query(query)"
   ]
  },
  {
   "cell_type": "code",
   "execution_count": null,
   "metadata": {},
   "outputs": [],
   "source": [
    "# 10. Saca una tabla con los pokemon de la primera generación, que NO sean \"Type 1\" = \"Psychic\" y tengan una velocidad superior a 130\n",
    "query = '''\n",
    "\n",
    "'''\n",
    "\n",
    "sql_query(query)"
   ]
  },
  {
   "cell_type": "code",
   "execution_count": null,
   "metadata": {},
   "outputs": [],
   "source": [
    "# 11. ¿Cuál es el pokemon con el ataque más alto?\n",
    "query = '''\n",
    "\n",
    "'''\n",
    "\n",
    "sql_query(query)"
   ]
  },
  {
   "cell_type": "code",
   "execution_count": null,
   "metadata": {},
   "outputs": [],
   "source": [
    "# 12. ¿Cuál es la media de la defensa de todos los pokemon?\n",
    "query = '''\n",
    "\n",
    "'''\n",
    "\n",
    "sql_query(query)"
   ]
  },
  {
   "cell_type": "code",
   "execution_count": null,
   "metadata": {},
   "outputs": [],
   "source": [
    "# 13. ¿Cuál es la media de la defensa por generación?\n",
    "query = '''\n",
    "\n",
    "'''\n",
    "\n",
    "sql_query(query)"
   ]
  },
  {
   "cell_type": "code",
   "execution_count": null,
   "metadata": {},
   "outputs": [],
   "source": [
    "# Apartado 14. Calcula el máximo HP por \"Type 1\"\n",
    "query = '''\n",
    "\n",
    "'''\n",
    "\n",
    "sql_query(query)"
   ]
  }
 ],
 "metadata": {
  "kernelspec": {
   "display_name": "Python 3 (ipykernel)",
   "language": "python",
   "name": "python3"
  },
  "language_info": {
   "codemirror_mode": {
    "name": "ipython",
    "version": 3
   },
   "file_extension": ".py",
   "mimetype": "text/x-python",
   "name": "python",
   "nbconvert_exporter": "python",
   "pygments_lexer": "ipython3",
   "version": "3.10.9"
  }
 },
 "nbformat": 4,
 "nbformat_minor": 4
}
