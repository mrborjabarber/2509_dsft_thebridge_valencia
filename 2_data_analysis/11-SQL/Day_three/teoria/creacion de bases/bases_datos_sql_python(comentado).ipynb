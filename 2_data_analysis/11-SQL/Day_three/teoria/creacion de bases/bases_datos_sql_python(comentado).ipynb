{
 "cells": [
  {
   "cell_type": "markdown",
   "metadata": {},
   "source": [
    "# Base de Datos SQL Relacional con Python\n",
    "\n",
    "Borja Barber Lead Instructor DS\n",
    "\n",
    "\n",
    "## Introducción\n",
    "\n",
    "En este tutorial aprenderemos a crear y gestionar bases de datos SQL relacionales usando Python.\n",
    "\n",
    "Usaremos **SQLite**, una base de datos ligera que viene incluida con Python y no requiere instalación adicional.\n",
    "\n",
    "### Ejemplo: Sistema de Tienda Online\n",
    "\n",
    "Crearemos una base de datos para una tienda online con las siguientes tablas:\n",
    "- **Clientes**: información de los clientes\n",
    "- **Productos**: catálogo de productos\n",
    "- **Pedidos**: pedidos realizados\n",
    "- **Detalles_Pedido**: productos incluidos en cada pedido\n",
    "\n",
    "## Paso 1: Importar las librerías necesarias"
   ]
  },
  {
   "cell_type": "code",
   "execution_count": 1,
   "metadata": {},
   "outputs": [
    {
     "name": "stdout",
     "output_type": "stream",
     "text": [
      "Librerías importadas correctamente\n"
     ]
    }
   ],
   "source": [
    "# Importamos sqlite3, la librería estándar de Python para trabajar con bases de datos SQLite\n",
    "# SQLite es una base de datos embebida que no requiere servidor\n",
    "import sqlite3\n",
    "\n",
    "# Importamos datetime para trabajar con fechas y horas\n",
    "# Esto nos permitirá registrar cuándo ocurren eventos (ej: fecha de registro de cliente)\n",
    "from datetime import datetime\n",
    "\n",
    "# Importamos pandas para visualizar mejor los resultados (opcional pero recomendado)\n",
    "# Pandas nos permite mostrar los datos en formato tabla más legible\n",
    "import pandas as pd\n",
    "\n",
    "# Mensaje de confirmación para saber que todo se importó correctamente\n",
    "print(\"Librerías importadas correctamente\")"
   ]
  },
  {
   "cell_type": "markdown",
   "metadata": {},
   "source": [
    "## Paso 2: Crear la conexión a la base de datos\n",
    "\n",
    "Para trabajar con SQLite necesitamos:\n",
    "1. **Conexión**: objeto que representa la conexión con la base de datos\n",
    "2. **Cursor**: objeto que nos permite ejecutar comandos SQL"
   ]
  },
  {
   "cell_type": "code",
   "execution_count": 2,
   "metadata": {},
   "outputs": [
    {
     "name": "stdout",
     "output_type": "stream",
     "text": [
      "Conexión establecida exitosamente\n",
      "Base de datos: tienda_online.db\n"
     ]
    }
   ],
   "source": [
    "# Creamos la conexión a la base de datos\n",
    "# sqlite3.connect() crea un archivo .db si no existe o se conecta a uno existente\n",
    "# Si el archivo 'tienda_online.db' no existe, se creará automáticamente\n",
    "conexion = sqlite3.connect('tienda_online.db')\n",
    "\n",
    "# Creamos un cursor, que es el objeto que usaremos para ejecutar comandos SQL\n",
    "# El cursor es como un \"puntero\" que nos permite navegar y modificar la base de datos\n",
    "cursor = conexion.cursor()\n",
    "\n",
    "# Mensajes informativos para confirmar que la conexión fue exitosa\n",
    "print(\"Conexión establecida exitosamente\")\n",
    "print(f\"Base de datos: tienda_online.db\")"
   ]
  },
  {
   "cell_type": "markdown",
   "metadata": {},
   "source": [
    "## Paso 3: Crear la tabla CLIENTES\n",
    "\n",
    "Comenzamos creando la tabla de clientes con los siguientes campos:\n",
    "- **id_cliente**: identificador único (clave primaria)\n",
    "- **nombre**: nombre del cliente\n",
    "- **email**: correo electrónico (único)\n",
    "- **telefono**: número de teléfono\n",
    "- **direccion**: dirección de envío\n",
    "- **fecha_registro**: fecha en que se registró el cliente"
   ]
  },
  {
   "cell_type": "code",
   "execution_count": 3,
   "metadata": {},
   "outputs": [
    {
     "name": "stdout",
     "output_type": "stream",
     "text": [
      "✓ Tabla CLIENTES creada exitosamente\n"
     ]
    }
   ],
   "source": [
    "# Primero eliminamos la tabla si ya existe (útil para reiniciar desde cero)\n",
    "# DROP TABLE IF EXISTS es una operación segura que no da error si la tabla no existe\n",
    "cursor.execute('DROP TABLE IF EXISTS Clientes')\n",
    "\n",
    "# Creamos la tabla Clientes con SQL usando cursor.execute()\n",
    "# Tipos de datos en SQLite:\n",
    "#   - INTEGER: números enteros\n",
    "#   - TEXT: cadenas de texto\n",
    "#   - REAL: números decimales\n",
    "#   - DATE: fechas\n",
    "# Restricciones:\n",
    "#   - PRIMARY KEY: identifica de forma única cada registro\n",
    "#   - AUTOINCREMENT: genera automáticamente el ID (1, 2, 3, ...)\n",
    "#   - NOT NULL: el campo no puede estar vacío (es obligatorio)\n",
    "#   - UNIQUE: no puede haber valores duplicados (ej: dos emails iguales)\n",
    "cursor.execute('''\n",
    "    CREATE TABLE Clientes (\n",
    "        id_cliente INTEGER PRIMARY KEY AUTOINCREMENT,\n",
    "        nombre TEXT NOT NULL,\n",
    "        email TEXT NOT NULL UNIQUE,\n",
    "        telefono TEXT,\n",
    "        direccion TEXT,\n",
    "        fecha_registro DATE NOT NULL\n",
    "    )\n",
    "''')\n",
    "\n",
    "# Guardamos los cambios en la base de datos\n",
    "# commit() hace permanentes los cambios - sin esto, los cambios se pierden\n",
    "conexion.commit()\n",
    "\n",
    "print(\"✓ Tabla CLIENTES creada exitosamente\")"
   ]
  },
  {
   "cell_type": "markdown",
   "metadata": {},
   "source": [
    "## Paso 4: Crear la tabla PRODUCTOS\n",
    "\n",
    "Ahora creamos la tabla de productos para nuestro catálogo."
   ]
  },
  {
   "cell_type": "code",
   "execution_count": 5,
   "metadata": {},
   "outputs": [
    {
     "name": "stdout",
     "output_type": "stream",
     "text": [
      "✓ Tabla PRODUCTOS creada exitosamente\n"
     ]
    }
   ],
   "source": [
    "# Eliminamos la tabla Productos si existe (para empezar limpio)\n",
    "cursor.execute('DROP TABLE IF EXISTS Productos')\n",
    "\n",
    "# Creamos la tabla Productos\n",
    "# REAL: tipo de dato para números decimales (ideal para precios como 19.99)\n",
    "# INTEGER: tipo de dato para números enteros (ideal para cantidad de stock)\n",
    "# DEFAULT 0: si no especificamos el stock, por defecto será 0\n",
    "cursor.execute('''\n",
    "    CREATE TABLE Productos (\n",
    "        id_producto INTEGER PRIMARY KEY AUTOINCREMENT,\n",
    "        nombre TEXT NOT NULL,\n",
    "        descripcion TEXT,\n",
    "        precio REAL NOT NULL,\n",
    "        stock INTEGER NOT NULL DEFAULT 0,\n",
    "        categoria TEXT\n",
    "    )\n",
    "''')\n",
    "\n",
    "# Guardamos los cambios con commit()\n",
    "conexion.commit()\n",
    "\n",
    "print(\"✓ Tabla PRODUCTOS creada exitosamente\")"
   ]
  },
  {
   "cell_type": "markdown",
   "metadata": {},
   "source": [
    "## Paso 5: Crear la tabla PEDIDOS\n",
    "\n",
    "Esta tabla almacenará la información general de cada pedido.\n",
    "\n",
    "Incluye una **clave foránea** (FOREIGN KEY) que relaciona cada pedido con un cliente."
   ]
  },
  {
   "cell_type": "code",
   "execution_count": 6,
   "metadata": {},
   "outputs": [
    {
     "name": "stdout",
     "output_type": "stream",
     "text": [
      "✓ Tabla PEDIDOS creada exitosamente\n"
     ]
    }
   ],
   "source": [
    "# Eliminamos la tabla Pedidos si existe\n",
    "cursor.execute('DROP TABLE IF EXISTS Pedidos')\n",
    "\n",
    "# Creamos la tabla Pedidos\n",
    "# Esta tabla contiene información general de cada pedido\n",
    "# FOREIGN KEY: establece una relación con la tabla Clientes\n",
    "#   - id_cliente debe existir en la tabla Clientes (integridad referencial)\n",
    "# ON DELETE CASCADE: si eliminamos un cliente, automáticamente se eliminan sus pedidos\n",
    "#   - Esto mantiene la consistencia de los datos\n",
    "cursor.execute('''\n",
    "    CREATE TABLE Pedidos (\n",
    "        id_pedido INTEGER PRIMARY KEY AUTOINCREMENT,\n",
    "        id_cliente INTEGER NOT NULL,\n",
    "        fecha_pedido DATE NOT NULL,\n",
    "        estado TEXT NOT NULL DEFAULT 'Pendiente',\n",
    "        total REAL NOT NULL,\n",
    "        FOREIGN KEY (id_cliente) REFERENCES Clientes(id_cliente) ON DELETE CASCADE\n",
    "    )\n",
    "''')\n",
    "\n",
    "# Guardamos los cambios en disco\n",
    "conexion.commit()\n",
    "\n",
    "print(\"✓ Tabla PEDIDOS creada exitosamente\")"
   ]
  },
  {
   "cell_type": "markdown",
   "metadata": {},
   "source": [
    "## Paso 6: Crear la tabla DETALLES_PEDIDO\n",
    "\n",
    "Esta tabla relaciona pedidos con productos (relación muchos a muchos).\n",
    "\n",
    "Cada registro indica qué productos y en qué cantidad están en cada pedido."
   ]
  },
  {
   "cell_type": "code",
   "execution_count": 7,
   "metadata": {},
   "outputs": [
    {
     "name": "stdout",
     "output_type": "stream",
     "text": [
      "✓ Tabla DETALLES_PEDIDO creada exitosamente\n"
     ]
    }
   ],
   "source": [
    "# Eliminamos la tabla Detalles_Pedido si existe\n",
    "cursor.execute('DROP TABLE IF EXISTS Detalles_Pedido')\n",
    "\n",
    "# Creamos la tabla Detalles_Pedido\n",
    "# Esta tabla relaciona pedidos con productos (tabla intermedia)\n",
    "# Resuelve la relación muchos a muchos:\n",
    "#   - Un pedido puede tener muchos productos\n",
    "#   - Un producto puede estar en muchos pedidos\n",
    "# Esta tabla tiene DOS claves foráneas:\n",
    "#   - FOREIGN KEY hacia Pedidos: conecta con el pedido al que pertenece\n",
    "#   - FOREIGN KEY hacia Productos: conecta con el producto vendido\n",
    "# ON DELETE CASCADE: si eliminamos un pedido o producto, se eliminan sus detalles\n",
    "cursor.execute('''\n",
    "    CREATE TABLE Detalles_Pedido (\n",
    "        id_detalle INTEGER PRIMARY KEY AUTOINCREMENT,\n",
    "        id_pedido INTEGER NOT NULL,\n",
    "        id_producto INTEGER NOT NULL,\n",
    "        cantidad INTEGER NOT NULL,\n",
    "        precio_unitario REAL NOT NULL,\n",
    "        subtotal REAL NOT NULL,\n",
    "        FOREIGN KEY (id_pedido) REFERENCES Pedidos(id_pedido) ON DELETE CASCADE,\n",
    "        FOREIGN KEY (id_producto) REFERENCES Productos(id_producto) ON DELETE CASCADE\n",
    "    )\n",
    "''')\n",
    "\n",
    "# Guardamos los cambios\n",
    "conexion.commit()\n",
    "\n",
    "print(\"✓ Tabla DETALLES_PEDIDO creada exitosamente\")"
   ]
  },
  {
   "cell_type": "markdown",
   "metadata": {},
   "source": [
    "## Paso 7: Verificar las tablas creadas\n",
    "\n",
    "Vamos a consultar el esquema de la base de datos para verificar que todas las tablas se crearon correctamente."
   ]
  },
  {
   "cell_type": "code",
   "execution_count": 8,
   "metadata": {},
   "outputs": [
    {
     "name": "stdout",
     "output_type": "stream",
     "text": [
      "Tablas en la base de datos:\n",
      "========================================\n",
      "  • Clientes\n",
      "  • sqlite_sequence\n",
      "  • Productos\n",
      "  • Pedidos\n",
      "  • Detalles_Pedido\n"
     ]
    }
   ],
   "source": [
    "# Consultamos la tabla sqlite_master que contiene información sobre todas las tablas\n",
    "# sqlite_master es una tabla especial del sistema que almacena metadatos\n",
    "# WHERE type='table' filtra solo las tablas (no vistas, índices, etc.)\n",
    "cursor.execute(\"SELECT name FROM sqlite_master WHERE type='table'\")\n",
    "\n",
    "# fetchall() obtiene todos los resultados de la consulta como una lista de tuplas\n",
    "tablas = cursor.fetchall()\n",
    "\n",
    "print(\"Tablas en la base de datos:\")\n",
    "print(\"=\"*40)\n",
    "# Iteramos sobre cada tabla encontrada\n",
    "for tabla in tablas:\n",
    "    # tabla[0] contiene el nombre de la tabla (primera columna del resultado)\n",
    "    print(f\"  • {tabla[0]}\")"
   ]
  },
  {
   "cell_type": "markdown",
   "metadata": {},
   "source": [
    "## Paso 8: Insertar datos en CLIENTES\n",
    "\n",
    "Ahora vamos a insertar registros en nuestras tablas.\n",
    "\n",
    "### Método 1: Insertar un solo registro"
   ]
  },
  {
   "cell_type": "code",
   "execution_count": 9,
   "metadata": {},
   "outputs": [
    {
     "name": "stdout",
     "output_type": "stream",
     "text": [
      "✓ Cliente insertado correctamente\n",
      "ID del cliente insertado: 1\n"
     ]
    }
   ],
   "source": [
    "# Insertamos un cliente usando el comando INSERT INTO\n",
    "# INSERT INTO especifica la tabla y las columnas donde insertar datos\n",
    "# VALUES especifica los valores a insertar\n",
    "# Los signos de interrogación (?) son marcadores de posición (placeholders)\n",
    "#   - Evitan inyección SQL (un problema de seguridad grave)\n",
    "#   - SQLite reemplaza cada ? por el valor correspondiente de la tupla\n",
    "cursor.execute('''\n",
    "    INSERT INTO Clientes (nombre, email, telefono, direccion, fecha_registro)\n",
    "    VALUES (?, ?, ?, ?, ?)\n",
    "''', ('Juan Pérez', 'juan.perez@email.com', '666123456', 'Calle Mayor 10, valencia', '2024-01-15'))\n",
    "\n",
    "# Guardamos los cambios con commit()\n",
    "# Sin commit(), los cambios solo están en memoria y se perderían\n",
    "conexion.commit()\n",
    "\n",
    "print(\"✓ Cliente insertado correctamente\")\n",
    "# lastrowid nos da el ID autoincremental del último registro insertado\n",
    "print(f\"ID del cliente insertado: {cursor.lastrowid}\")"
   ]
  },
  {
   "cell_type": "markdown",
   "metadata": {},
   "source": [
    "### Método 2: Insertar múltiples registros"
   ]
  },
  {
   "cell_type": "code",
   "execution_count": 10,
   "metadata": {},
   "outputs": [
    {
     "name": "stdout",
     "output_type": "stream",
     "text": [
      "✓ 4 clientes insertados correctamente\n"
     ]
    }
   ],
   "source": [
    "# Creamos una lista de tuplas con los datos de varios clientes\n",
    "# Cada tupla representa un cliente con sus datos en el mismo orden que las columnas\n",
    "clientes_datos = [\n",
    "    ('María García', 'maria.garcia@email.com', '677234567', 'Avenida Libertad 25, Barcelona', '2024-02-20'),\n",
    "    ('Carlos Rodríguez', 'carlos.rodriguez@email.com', '688345678', 'Plaza España 5, Valencia', '2024-03-10'),\n",
    "    ('Ana Martínez', 'ana.martinez@email.com', '699456789', 'Calle Sol 15, Sevilla', '2024-03-25'),\n",
    "    ('Luis Fernández', 'luis.fernandez@email.com', '611567890', 'Calle Luna 8, Bilbao', '2024-04-05')\n",
    "]\n",
    "\n",
    "# executemany() ejecuta la misma consulta múltiples veces con diferentes datos\n",
    "# Es más eficiente que ejecutar execute() en un bucle\n",
    "# Inserta todos los clientes de la lista en una sola operación\n",
    "cursor.executemany('''\n",
    "    INSERT INTO Clientes (nombre, email, telefono, direccion, fecha_registro)\n",
    "    VALUES (?, ?, ?, ?, ?)\n",
    "''', clientes_datos)\n",
    "\n",
    "# Guardamos todos los cambios a la vez\n",
    "conexion.commit()\n",
    "\n",
    "print(f\"✓ {len(clientes_datos)} clientes insertados correctamente\")"
   ]
  },
  {
   "cell_type": "markdown",
   "metadata": {},
   "source": [
    "## Paso 9: Insertar datos en PRODUCTOS"
   ]
  },
  {
   "cell_type": "code",
   "execution_count": 11,
   "metadata": {},
   "outputs": [
    {
     "name": "stdout",
     "output_type": "stream",
     "text": [
      "✓ 8 productos insertados correctamente\n"
     ]
    }
   ],
   "source": [
    "# Lista de productos para nuestra tienda\n",
    "# Cada tupla contiene: (nombre, descripcion, precio, stock, categoria)\n",
    "# Los datos deben estar en el mismo orden que las columnas del INSERT\n",
    "productos_datos = [\n",
    "    ('Laptop HP Pavilion', 'Portátil 15.6 pulgadas, Intel i5, 8GB RAM', 699.99, 15, 'Informática'),\n",
    "    ('Mouse Logitech MX', 'Mouse inalámbrico ergonómico', 79.99, 50, 'Informática'),\n",
    "    ('Teclado Mecánico RGB', 'Teclado gaming con iluminación RGB', 129.99, 30, 'Informática'),\n",
    "    ('Monitor Samsung 27\"', 'Monitor Full HD IPS 27 pulgadas', 249.99, 20, 'Informática'),\n",
    "    ('Auriculares Sony WH-1000XM4', 'Auriculares con cancelación de ruido', 299.99, 25, 'Audio'),\n",
    "    ('Webcam Logitech C920', 'Webcam Full HD 1080p', 89.99, 40, 'Informática'),\n",
    "    ('SSD Samsung 1TB', 'Disco duro sólido 1TB NVMe', 119.99, 35, 'Almacenamiento'),\n",
    "    ('Cable HDMI 2m', 'Cable HDMI 2.0 alta velocidad', 12.99, 100, 'Accesorios')\n",
    "]\n",
    "\n",
    "# Insertamos todos los productos de una vez usando executemany()\n",
    "# Es mucho más rápido que insertar uno por uno\n",
    "cursor.executemany('''\n",
    "    INSERT INTO Productos (nombre, descripcion, precio, stock, categoria)\n",
    "    VALUES (?, ?, ?, ?, ?)\n",
    "''', productos_datos)\n",
    "\n",
    "# Confirmamos los cambios en la base de datos\n",
    "conexion.commit()\n",
    "\n",
    "print(f\"✓ {len(productos_datos)} productos insertados correctamente\")"
   ]
  },
  {
   "cell_type": "markdown",
   "metadata": {},
   "source": [
    "## Paso 10: Consultar datos - SELECT básico\n",
    "\n",
    "Ahora vamos a aprender a consultar los datos insertados."
   ]
  },
  {
   "cell_type": "code",
   "execution_count": 12,
   "metadata": {},
   "outputs": [
    {
     "name": "stdout",
     "output_type": "stream",
     "text": [
      "CLIENTES REGISTRADOS:\n",
      "================================================================================\n",
      "ID: 1 | Nombre: Juan Pérez | Email: juan.perez@email.com\n",
      "ID: 2 | Nombre: María García | Email: maria.garcia@email.com\n",
      "ID: 3 | Nombre: Carlos Rodríguez | Email: carlos.rodriguez@email.com\n",
      "ID: 4 | Nombre: Ana Martínez | Email: ana.martinez@email.com\n",
      "ID: 5 | Nombre: Luis Fernández | Email: luis.fernandez@email.com\n",
      "\n",
      "Total de clientes: 5\n"
     ]
    }
   ],
   "source": [
    "# Consultamos todos los clientes usando SELECT\n",
    "# SELECT * significa \"seleccionar todas las columnas\"\n",
    "# FROM Clientes especifica la tabla a consultar\n",
    "cursor.execute('SELECT * FROM Clientes')\n",
    "\n",
    "# fetchall() obtiene todos los resultados como una lista de tuplas\n",
    "# Cada tupla representa un cliente con todos sus campos\n",
    "clientes = cursor.fetchall()\n",
    "\n",
    "print(\"CLIENTES REGISTRADOS:\")\n",
    "print(\"=\"*80)\n",
    "# Iteramos sobre cada cliente\n",
    "for cliente in clientes:\n",
    "    # Accedemos a los campos por índice: [0]=id_cliente, [1]=nombre, [2]=email\n",
    "    print(f\"ID: {cliente[0]} | Nombre: {cliente[1]} | Email: {cliente[2]}\")\n",
    "\n",
    "# len() cuenta cuántos clientes hay en total\n",
    "print(f\"\\nTotal de clientes: {len(clientes)}\")"
   ]
  },
  {
   "cell_type": "markdown",
   "metadata": {},
   "source": [
    "### Usar Pandas para mejor visualización"
   ]
  },
  {
   "cell_type": "code",
   "execution_count": 13,
   "metadata": {},
   "outputs": [
    {
     "name": "stdout",
     "output_type": "stream",
     "text": [
      "TABLA CLIENTES:\n"
     ]
    },
    {
     "data": {
      "text/html": [
       "<div>\n",
       "<style scoped>\n",
       "    .dataframe tbody tr th:only-of-type {\n",
       "        vertical-align: middle;\n",
       "    }\n",
       "\n",
       "    .dataframe tbody tr th {\n",
       "        vertical-align: top;\n",
       "    }\n",
       "\n",
       "    .dataframe thead th {\n",
       "        text-align: right;\n",
       "    }\n",
       "</style>\n",
       "<table border=\"1\" class=\"dataframe\">\n",
       "  <thead>\n",
       "    <tr style=\"text-align: right;\">\n",
       "      <th></th>\n",
       "      <th>id_cliente</th>\n",
       "      <th>nombre</th>\n",
       "      <th>email</th>\n",
       "      <th>telefono</th>\n",
       "      <th>direccion</th>\n",
       "      <th>fecha_registro</th>\n",
       "    </tr>\n",
       "  </thead>\n",
       "  <tbody>\n",
       "    <tr>\n",
       "      <th>0</th>\n",
       "      <td>1</td>\n",
       "      <td>Juan Pérez</td>\n",
       "      <td>juan.perez@email.com</td>\n",
       "      <td>666123456</td>\n",
       "      <td>Calle Mayor 10, valencia</td>\n",
       "      <td>2024-01-15</td>\n",
       "    </tr>\n",
       "    <tr>\n",
       "      <th>1</th>\n",
       "      <td>2</td>\n",
       "      <td>María García</td>\n",
       "      <td>maria.garcia@email.com</td>\n",
       "      <td>677234567</td>\n",
       "      <td>Avenida Libertad 25, Barcelona</td>\n",
       "      <td>2024-02-20</td>\n",
       "    </tr>\n",
       "    <tr>\n",
       "      <th>2</th>\n",
       "      <td>3</td>\n",
       "      <td>Carlos Rodríguez</td>\n",
       "      <td>carlos.rodriguez@email.com</td>\n",
       "      <td>688345678</td>\n",
       "      <td>Plaza España 5, Valencia</td>\n",
       "      <td>2024-03-10</td>\n",
       "    </tr>\n",
       "    <tr>\n",
       "      <th>3</th>\n",
       "      <td>4</td>\n",
       "      <td>Ana Martínez</td>\n",
       "      <td>ana.martinez@email.com</td>\n",
       "      <td>699456789</td>\n",
       "      <td>Calle Sol 15, Sevilla</td>\n",
       "      <td>2024-03-25</td>\n",
       "    </tr>\n",
       "    <tr>\n",
       "      <th>4</th>\n",
       "      <td>5</td>\n",
       "      <td>Luis Fernández</td>\n",
       "      <td>luis.fernandez@email.com</td>\n",
       "      <td>611567890</td>\n",
       "      <td>Calle Luna 8, Bilbao</td>\n",
       "      <td>2024-04-05</td>\n",
       "    </tr>\n",
       "  </tbody>\n",
       "</table>\n",
       "</div>"
      ],
      "text/plain": [
       "   id_cliente            nombre                       email   telefono  \\\n",
       "0           1        Juan Pérez        juan.perez@email.com  666123456   \n",
       "1           2      María García      maria.garcia@email.com  677234567   \n",
       "2           3  Carlos Rodríguez  carlos.rodriguez@email.com  688345678   \n",
       "3           4      Ana Martínez      ana.martinez@email.com  699456789   \n",
       "4           5    Luis Fernández    luis.fernandez@email.com  611567890   \n",
       "\n",
       "                        direccion fecha_registro  \n",
       "0        Calle Mayor 10, valencia     2024-01-15  \n",
       "1  Avenida Libertad 25, Barcelona     2024-02-20  \n",
       "2        Plaza España 5, Valencia     2024-03-10  \n",
       "3           Calle Sol 15, Sevilla     2024-03-25  \n",
       "4            Calle Luna 8, Bilbao     2024-04-05  "
      ]
     },
     "metadata": {},
     "output_type": "display_data"
    }
   ],
   "source": [
    "# Usamos pandas para mostrar los resultados en formato tabla más legible\n",
    "# read_sql_query() ejecuta la consulta SQL y devuelve un DataFrame de pandas\n",
    "# Un DataFrame es una estructura de datos tabular (como una hoja de Excel)\n",
    "# El segundo parámetro (conexion) indica qué base de datos usar\n",
    "df_clientes = pd.read_sql_query('SELECT * FROM Clientes', conexion)\n",
    "\n",
    "print(\"TABLA CLIENTES:\")\n",
    "# display() muestra el DataFrame en formato tabla bonito en Jupyter\n",
    "display(df_clientes)"
   ]
  },
  {
   "cell_type": "markdown",
   "metadata": {},
   "source": [
    "## Paso 11: Consultas con filtros - WHERE"
   ]
  },
  {
   "cell_type": "code",
   "execution_count": 14,
   "metadata": {},
   "outputs": [
    {
     "name": "stdout",
     "output_type": "stream",
     "text": [
      "PRODUCTOS DE INFORMÁTICA:\n",
      "================================================================================\n"
     ]
    },
    {
     "data": {
      "text/html": [
       "<div>\n",
       "<style scoped>\n",
       "    .dataframe tbody tr th:only-of-type {\n",
       "        vertical-align: middle;\n",
       "    }\n",
       "\n",
       "    .dataframe tbody tr th {\n",
       "        vertical-align: top;\n",
       "    }\n",
       "\n",
       "    .dataframe thead th {\n",
       "        text-align: right;\n",
       "    }\n",
       "</style>\n",
       "<table border=\"1\" class=\"dataframe\">\n",
       "  <thead>\n",
       "    <tr style=\"text-align: right;\">\n",
       "      <th></th>\n",
       "      <th>nombre</th>\n",
       "      <th>precio</th>\n",
       "      <th>stock</th>\n",
       "    </tr>\n",
       "  </thead>\n",
       "  <tbody>\n",
       "    <tr>\n",
       "      <th>0</th>\n",
       "      <td>Laptop HP Pavilion</td>\n",
       "      <td>699.99</td>\n",
       "      <td>15</td>\n",
       "    </tr>\n",
       "    <tr>\n",
       "      <th>1</th>\n",
       "      <td>Mouse Logitech MX</td>\n",
       "      <td>79.99</td>\n",
       "      <td>50</td>\n",
       "    </tr>\n",
       "    <tr>\n",
       "      <th>2</th>\n",
       "      <td>Teclado Mecánico RGB</td>\n",
       "      <td>129.99</td>\n",
       "      <td>30</td>\n",
       "    </tr>\n",
       "    <tr>\n",
       "      <th>3</th>\n",
       "      <td>Monitor Samsung 27\"</td>\n",
       "      <td>249.99</td>\n",
       "      <td>20</td>\n",
       "    </tr>\n",
       "    <tr>\n",
       "      <th>4</th>\n",
       "      <td>Webcam Logitech C920</td>\n",
       "      <td>89.99</td>\n",
       "      <td>40</td>\n",
       "    </tr>\n",
       "  </tbody>\n",
       "</table>\n",
       "</div>"
      ],
      "text/plain": [
       "                 nombre  precio  stock\n",
       "0    Laptop HP Pavilion  699.99     15\n",
       "1     Mouse Logitech MX   79.99     50\n",
       "2  Teclado Mecánico RGB  129.99     30\n",
       "3   Monitor Samsung 27\"  249.99     20\n",
       "4  Webcam Logitech C920   89.99     40"
      ]
     },
     "metadata": {},
     "output_type": "display_data"
    }
   ],
   "source": [
    "# Ejemplo 1: Buscar productos de una categoría específica\n",
    "print(\"PRODUCTOS DE INFORMÁTICA:\")\n",
    "print(\"=\"*80)\n",
    "\n",
    "# WHERE filtra los registros que cumplan una condición\n",
    "# categoria = 'Informática' solo devuelve productos de esa categoría\n",
    "# SELECT nombre, precio, stock: solo seleccionamos estas 3 columnas (no todas)\n",
    "df_informatica = pd.read_sql_query('''\n",
    "    SELECT nombre, precio, stock \n",
    "    FROM Productos \n",
    "    WHERE categoria = 'Informática'\n",
    "''', conexion)\n",
    "\n",
    "# Mostramos el resultado en formato tabla\n",
    "display(df_informatica)"
   ]
  },
  {
   "cell_type": "code",
   "execution_count": 15,
   "metadata": {},
   "outputs": [
    {
     "name": "stdout",
     "output_type": "stream",
     "text": [
      "PRODUCTOS ECONÓMICOS (< 100€):\n",
      "================================================================================\n"
     ]
    },
    {
     "data": {
      "text/html": [
       "<div>\n",
       "<style scoped>\n",
       "    .dataframe tbody tr th:only-of-type {\n",
       "        vertical-align: middle;\n",
       "    }\n",
       "\n",
       "    .dataframe tbody tr th {\n",
       "        vertical-align: top;\n",
       "    }\n",
       "\n",
       "    .dataframe thead th {\n",
       "        text-align: right;\n",
       "    }\n",
       "</style>\n",
       "<table border=\"1\" class=\"dataframe\">\n",
       "  <thead>\n",
       "    <tr style=\"text-align: right;\">\n",
       "      <th></th>\n",
       "      <th>nombre</th>\n",
       "      <th>precio</th>\n",
       "      <th>categoria</th>\n",
       "    </tr>\n",
       "  </thead>\n",
       "  <tbody>\n",
       "    <tr>\n",
       "      <th>0</th>\n",
       "      <td>Cable HDMI 2m</td>\n",
       "      <td>12.99</td>\n",
       "      <td>Accesorios</td>\n",
       "    </tr>\n",
       "    <tr>\n",
       "      <th>1</th>\n",
       "      <td>Mouse Logitech MX</td>\n",
       "      <td>79.99</td>\n",
       "      <td>Informática</td>\n",
       "    </tr>\n",
       "    <tr>\n",
       "      <th>2</th>\n",
       "      <td>Webcam Logitech C920</td>\n",
       "      <td>89.99</td>\n",
       "      <td>Informática</td>\n",
       "    </tr>\n",
       "  </tbody>\n",
       "</table>\n",
       "</div>"
      ],
      "text/plain": [
       "                 nombre  precio    categoria\n",
       "0         Cable HDMI 2m   12.99   Accesorios\n",
       "1     Mouse Logitech MX   79.99  Informática\n",
       "2  Webcam Logitech C920   89.99  Informática"
      ]
     },
     "metadata": {},
     "output_type": "display_data"
    }
   ],
   "source": [
    "# Ejemplo 2: Buscar productos con precio menor a 100€\n",
    "print(\"PRODUCTOS ECONÓMICOS (< 100€):\")\n",
    "print(\"=\"*80)\n",
    "\n",
    "# WHERE precio < 100: filtra productos cuyo precio sea menor a 100\n",
    "# ORDER BY precio ASC: ordena los resultados por precio de menor a mayor\n",
    "#   - ASC = ascendente (de menor a mayor)\n",
    "#   - DESC = descendente (de mayor a menor)\n",
    "df_economicos = pd.read_sql_query('''\n",
    "    SELECT nombre, precio, categoria\n",
    "    FROM Productos \n",
    "    WHERE precio < 100\n",
    "    ORDER BY precio ASC\n",
    "''', conexion)\n",
    "\n",
    "display(df_economicos)"
   ]
  },
  {
   "cell_type": "code",
   "execution_count": 16,
   "metadata": {},
   "outputs": [
    {
     "name": "stdout",
     "output_type": "stream",
     "text": [
      "PRODUCTOS CON STOCK BAJO:\n",
      "================================================================================\n"
     ]
    },
    {
     "data": {
      "text/html": [
       "<div>\n",
       "<style scoped>\n",
       "    .dataframe tbody tr th:only-of-type {\n",
       "        vertical-align: middle;\n",
       "    }\n",
       "\n",
       "    .dataframe tbody tr th {\n",
       "        vertical-align: top;\n",
       "    }\n",
       "\n",
       "    .dataframe thead th {\n",
       "        text-align: right;\n",
       "    }\n",
       "</style>\n",
       "<table border=\"1\" class=\"dataframe\">\n",
       "  <thead>\n",
       "    <tr style=\"text-align: right;\">\n",
       "      <th></th>\n",
       "      <th>nombre</th>\n",
       "      <th>stock</th>\n",
       "      <th>precio</th>\n",
       "    </tr>\n",
       "  </thead>\n",
       "  <tbody>\n",
       "    <tr>\n",
       "      <th>0</th>\n",
       "      <td>Laptop HP Pavilion</td>\n",
       "      <td>15</td>\n",
       "      <td>699.99</td>\n",
       "    </tr>\n",
       "    <tr>\n",
       "      <th>1</th>\n",
       "      <td>Monitor Samsung 27\"</td>\n",
       "      <td>20</td>\n",
       "      <td>249.99</td>\n",
       "    </tr>\n",
       "  </tbody>\n",
       "</table>\n",
       "</div>"
      ],
      "text/plain": [
       "                nombre  stock  precio\n",
       "0   Laptop HP Pavilion     15  699.99\n",
       "1  Monitor Samsung 27\"     20  249.99"
      ]
     },
     "metadata": {},
     "output_type": "display_data"
    }
   ],
   "source": [
    "# Ejemplo 3: Buscar productos con stock bajo (menos de 25 unidades)\n",
    "print(\"PRODUCTOS CON STOCK BAJO:\")\n",
    "print(\"=\"*80)\n",
    "\n",
    "# WHERE stock < 25: filtra productos con menos de 25 unidades en stock\n",
    "# ORDER BY stock ASC: ordena del stock más bajo al más alto\n",
    "# Esto es útil para saber qué productos necesitamos reponer urgentemente\n",
    "df_stock_bajo = pd.read_sql_query('''\n",
    "    SELECT nombre, stock, precio\n",
    "    FROM Productos \n",
    "    WHERE stock < 25\n",
    "    ORDER BY stock ASC\n",
    "''', conexion)\n",
    "\n",
    "display(df_stock_bajo)"
   ]
  },
  {
   "cell_type": "markdown",
   "metadata": {},
   "source": [
    "## Paso 12: Crear pedidos (relaciones entre tablas)\n",
    "\n",
    "Ahora vamos a crear pedidos relacionando clientes con productos."
   ]
  },
  {
   "cell_type": "code",
   "execution_count": 17,
   "metadata": {},
   "outputs": [
    {
     "name": "stdout",
     "output_type": "stream",
     "text": [
      "✓ Pedido #1 creado para Juan Pérez\n"
     ]
    }
   ],
   "source": [
    "# PEDIDO 1: Juan Pérez compra una laptop y un mouse\n",
    "\n",
    "# Primero insertamos el registro del pedido en la tabla Pedidos\n",
    "# Este registro contiene la información general del pedido\n",
    "# (1, ...) significa id_cliente=1 que corresponde a Juan Pérez\n",
    "# 779.98 es el total del pedido (suma de los productos)\n",
    "cursor.execute('''\n",
    "    INSERT INTO Pedidos (id_cliente, fecha_pedido, estado, total)\n",
    "    VALUES (?, ?, ?, ?)\n",
    "''', (1, '2024-05-15', 'Completado', 779.98))\n",
    "\n",
    "# Obtenemos el ID del pedido recién creado con lastrowid\n",
    "# Necesitamos este ID para relacionar los productos con este pedido\n",
    "id_pedido_1 = cursor.lastrowid\n",
    "\n",
    "# Ahora insertamos los detalles del pedido en la tabla Detalles_Pedido\n",
    "# Cada tupla representa un producto en el pedido\n",
    "# Formato: (id_pedido, id_producto, cantidad, precio_unitario, subtotal)\n",
    "detalles_pedido_1 = [\n",
    "    (id_pedido_1, 1, 1, 699.99, 699.99),  # 1 Laptop HP (id_producto=1)\n",
    "    (id_pedido_1, 2, 1, 79.99, 79.99)      # 1 Mouse Logitech (id_producto=2)\n",
    "]\n",
    "\n",
    "# Insertamos todos los detalles del pedido\n",
    "cursor.executemany('''\n",
    "    INSERT INTO Detalles_Pedido (id_pedido, id_producto, cantidad, precio_unitario, subtotal)\n",
    "    VALUES (?, ?, ?, ?, ?)\n",
    "''', detalles_pedido_1)\n",
    "\n",
    "# Guardamos los cambios (tanto el pedido como sus detalles)\n",
    "conexion.commit()\n",
    "print(f\"✓ Pedido #{id_pedido_1} creado para Juan Pérez\")"
   ]
  },
  {
   "cell_type": "code",
   "execution_count": 18,
   "metadata": {},
   "outputs": [
    {
     "name": "stdout",
     "output_type": "stream",
     "text": [
      "✓ Pedido #2 creado para María García\n"
     ]
    }
   ],
   "source": [
    "# PEDIDO 2: María García compra auriculares y un cable HDMI\n",
    "\n",
    "# Insertamos el pedido principal para María García (id_cliente=2)\n",
    "# El estado es 'En tránsito' indicando que el pedido ya fue enviado\n",
    "cursor.execute('''\n",
    "    INSERT INTO Pedidos (id_cliente, fecha_pedido, estado, total)\n",
    "    VALUES (?, ?, ?, ?)\n",
    "''', (2, '2024-05-20', 'En tránsito', 312.98))\n",
    "\n",
    "# Guardamos el ID del nuevo pedido\n",
    "id_pedido_2 = cursor.lastrowid\n",
    "\n",
    "# Preparamos los detalles del pedido\n",
    "# (id_pedido, id_producto, cantidad, precio_unitario, subtotal)\n",
    "detalles_pedido_2 = [\n",
    "    (id_pedido_2, 5, 1, 299.99, 299.99),  # 1 Auriculares Sony (id_producto=5)\n",
    "    (id_pedido_2, 8, 1, 12.99, 12.99)      # 1 Cable HDMI (id_producto=8)\n",
    "]\n",
    "\n",
    "# Insertamos los detalles\n",
    "cursor.executemany('''\n",
    "    INSERT INTO Detalles_Pedido (id_pedido, id_producto, cantidad, precio_unitario, subtotal)\n",
    "    VALUES (?, ?, ?, ?, ?)\n",
    "''', detalles_pedido_2)\n",
    "\n",
    "# Confirmamos los cambios en la base de datos\n",
    "conexion.commit()\n",
    "print(f\"✓ Pedido #{id_pedido_2} creado para María García\")"
   ]
  },
  {
   "cell_type": "code",
   "execution_count": 19,
   "metadata": {},
   "outputs": [
    {
     "name": "stdout",
     "output_type": "stream",
     "text": [
      "✓ Pedido #3 creado para Carlos Rodríguez\n"
     ]
    }
   ],
   "source": [
    "# PEDIDO 3: Carlos Rodríguez compra un monitor, teclado y 2 cables HDMI\n",
    "\n",
    "# Insertamos el pedido para Carlos Rodríguez (id_cliente=3)\n",
    "# Estado 'Pendiente' significa que aún no se ha procesado o enviado\n",
    "cursor.execute('''\n",
    "    INSERT INTO Pedidos (id_cliente, fecha_pedido, estado, total)\n",
    "    VALUES (?, ?, ?, ?)\n",
    "''', (3, '2024-05-22', 'Pendiente', 405.96))\n",
    "\n",
    "# Obtenemos el ID del pedido creado\n",
    "id_pedido_3 = cursor.lastrowid\n",
    "\n",
    "# Detalles del pedido\n",
    "# Nota: En la última línea, cantidad=2 y subtotal=25.98 (2 cables × 12.99€)\n",
    "detalles_pedido_3 = [\n",
    "    (id_pedido_3, 4, 1, 249.99, 249.99),    # 1 Monitor Samsung (id_producto=4)\n",
    "    (id_pedido_3, 3, 1, 129.99, 129.99),    # 1 Teclado Mecánico (id_producto=3)\n",
    "    (id_pedido_3, 8, 2, 12.99, 25.98)       # 2 Cables HDMI (id_producto=8)\n",
    "]\n",
    "\n",
    "# Insertamos los detalles del pedido\n",
    "cursor.executemany('''\n",
    "    INSERT INTO Detalles_Pedido (id_pedido, id_producto, cantidad, precio_unitario, subtotal)\n",
    "    VALUES (?, ?, ?, ?, ?)\n",
    "''', detalles_pedido_3)\n",
    "\n",
    "# Guardamos todos los cambios\n",
    "conexion.commit()\n",
    "print(f\"✓ Pedido #{id_pedido_3} creado para Carlos Rodríguez\")"
   ]
  },
  {
   "cell_type": "markdown",
   "metadata": {},
   "source": [
    "## Paso 13: Consultas con JOIN (unir tablas)\n",
    "\n",
    "Los JOIN nos permiten combinar información de varias tablas relacionadas.\n",
    "\n",
    "### Consulta 1: Ver todos los pedidos con información del cliente"
   ]
  },
  {
   "cell_type": "code",
   "execution_count": 20,
   "metadata": {},
   "outputs": [
    {
     "name": "stdout",
     "output_type": "stream",
     "text": [
      "TODOS LOS PEDIDOS CON INFORMACIÓN DEL CLIENTE:\n",
      "================================================================================\n"
     ]
    },
    {
     "data": {
      "text/html": [
       "<div>\n",
       "<style scoped>\n",
       "    .dataframe tbody tr th:only-of-type {\n",
       "        vertical-align: middle;\n",
       "    }\n",
       "\n",
       "    .dataframe tbody tr th {\n",
       "        vertical-align: top;\n",
       "    }\n",
       "\n",
       "    .dataframe thead th {\n",
       "        text-align: right;\n",
       "    }\n",
       "</style>\n",
       "<table border=\"1\" class=\"dataframe\">\n",
       "  <thead>\n",
       "    <tr style=\"text-align: right;\">\n",
       "      <th></th>\n",
       "      <th>id_pedido</th>\n",
       "      <th>cliente</th>\n",
       "      <th>email</th>\n",
       "      <th>fecha_pedido</th>\n",
       "      <th>estado</th>\n",
       "      <th>total</th>\n",
       "    </tr>\n",
       "  </thead>\n",
       "  <tbody>\n",
       "    <tr>\n",
       "      <th>0</th>\n",
       "      <td>3</td>\n",
       "      <td>Carlos Rodríguez</td>\n",
       "      <td>carlos.rodriguez@email.com</td>\n",
       "      <td>2024-05-22</td>\n",
       "      <td>Pendiente</td>\n",
       "      <td>405.96</td>\n",
       "    </tr>\n",
       "    <tr>\n",
       "      <th>1</th>\n",
       "      <td>2</td>\n",
       "      <td>María García</td>\n",
       "      <td>maria.garcia@email.com</td>\n",
       "      <td>2024-05-20</td>\n",
       "      <td>En tránsito</td>\n",
       "      <td>312.98</td>\n",
       "    </tr>\n",
       "    <tr>\n",
       "      <th>2</th>\n",
       "      <td>1</td>\n",
       "      <td>Juan Pérez</td>\n",
       "      <td>juan.perez@email.com</td>\n",
       "      <td>2024-05-15</td>\n",
       "      <td>Completado</td>\n",
       "      <td>779.98</td>\n",
       "    </tr>\n",
       "  </tbody>\n",
       "</table>\n",
       "</div>"
      ],
      "text/plain": [
       "   id_pedido           cliente                       email fecha_pedido  \\\n",
       "0          3  Carlos Rodríguez  carlos.rodriguez@email.com   2024-05-22   \n",
       "1          2      María García      maria.garcia@email.com   2024-05-20   \n",
       "2          1        Juan Pérez        juan.perez@email.com   2024-05-15   \n",
       "\n",
       "        estado   total  \n",
       "0    Pendiente  405.96  \n",
       "1  En tránsito  312.98  \n",
       "2   Completado  779.98  "
      ]
     },
     "metadata": {},
     "output_type": "display_data"
    }
   ],
   "source": [
    "# INNER JOIN combina las tablas Pedidos y Clientes usando id_cliente\n",
    "# Esto nos permite ver información de ambas tablas en una sola consulta\n",
    "# \n",
    "# FROM Pedidos p: seleccionamos de Pedidos (usamos alias 'p' para abreviar)\n",
    "# INNER JOIN Clientes c: unimos con Clientes (alias 'c')\n",
    "# ON p.id_cliente = c.id_cliente: la condición de unión (cómo se relacionan)\n",
    "#\n",
    "# c.nombre AS cliente: renombramos la columna 'nombre' a 'cliente' en el resultado\n",
    "# ORDER BY p.fecha_pedido DESC: ordenamos por fecha, del más reciente al más antiguo\n",
    "df_pedidos_completo = pd.read_sql_query('''\n",
    "    SELECT \n",
    "        p.id_pedido,\n",
    "        c.nombre AS cliente,\n",
    "        c.email,\n",
    "        p.fecha_pedido,\n",
    "        p.estado,\n",
    "        p.total\n",
    "    FROM Pedidos p\n",
    "    INNER JOIN Clientes c ON p.id_cliente = c.id_cliente\n",
    "    ORDER BY p.fecha_pedido DESC\n",
    "''', conexion)\n",
    "\n",
    "print(\"TODOS LOS PEDIDOS CON INFORMACIÓN DEL CLIENTE:\")\n",
    "print(\"=\"*80)\n",
    "display(df_pedidos_completo)"
   ]
  },
  {
   "cell_type": "markdown",
   "metadata": {},
   "source": [
    "### Consulta 2: Detalle completo de un pedido específico"
   ]
  },
  {
   "cell_type": "code",
   "execution_count": 21,
   "metadata": {},
   "outputs": [
    {
     "name": "stdout",
     "output_type": "stream",
     "text": [
      "DETALLE DEL PEDIDO #1 (Juan Pérez):\n",
      "================================================================================\n"
     ]
    },
    {
     "data": {
      "text/html": [
       "<div>\n",
       "<style scoped>\n",
       "    .dataframe tbody tr th:only-of-type {\n",
       "        vertical-align: middle;\n",
       "    }\n",
       "\n",
       "    .dataframe tbody tr th {\n",
       "        vertical-align: top;\n",
       "    }\n",
       "\n",
       "    .dataframe thead th {\n",
       "        text-align: right;\n",
       "    }\n",
       "</style>\n",
       "<table border=\"1\" class=\"dataframe\">\n",
       "  <thead>\n",
       "    <tr style=\"text-align: right;\">\n",
       "      <th></th>\n",
       "      <th>id_pedido</th>\n",
       "      <th>producto</th>\n",
       "      <th>cantidad</th>\n",
       "      <th>precio_unitario</th>\n",
       "      <th>subtotal</th>\n",
       "    </tr>\n",
       "  </thead>\n",
       "  <tbody>\n",
       "    <tr>\n",
       "      <th>0</th>\n",
       "      <td>1</td>\n",
       "      <td>Laptop HP Pavilion</td>\n",
       "      <td>1</td>\n",
       "      <td>699.99</td>\n",
       "      <td>699.99</td>\n",
       "    </tr>\n",
       "    <tr>\n",
       "      <th>1</th>\n",
       "      <td>1</td>\n",
       "      <td>Mouse Logitech MX</td>\n",
       "      <td>1</td>\n",
       "      <td>79.99</td>\n",
       "      <td>79.99</td>\n",
       "    </tr>\n",
       "  </tbody>\n",
       "</table>\n",
       "</div>"
      ],
      "text/plain": [
       "   id_pedido            producto  cantidad  precio_unitario  subtotal\n",
       "0          1  Laptop HP Pavilion         1           699.99    699.99\n",
       "1          1   Mouse Logitech MX         1            79.99     79.99"
      ]
     },
     "metadata": {},
     "output_type": "display_data"
    },
    {
     "name": "stdout",
     "output_type": "stream",
     "text": [
      "\n",
      "TOTAL DEL PEDIDO: 779.98€\n"
     ]
    }
   ],
   "source": [
    "# Consultamos el detalle del pedido #1 (Juan Pérez)\n",
    "# Esta consulta une 3 tablas para mostrar información completa:\n",
    "#   - Detalles_Pedido: contiene qué productos y cantidades\n",
    "#   - Productos: contiene los nombres de los productos\n",
    "#\n",
    "# FROM Detalles_Pedido dp: tabla principal (alias 'dp')\n",
    "# INNER JOIN Productos prod: unimos con Productos (alias 'prod')\n",
    "# ON dp.id_producto = prod.id_producto: relacionamos por id_producto\n",
    "# WHERE dp.id_pedido = 1: filtramos solo el pedido con ID 1\n",
    "df_detalle_pedido = pd.read_sql_query('''\n",
    "    SELECT \n",
    "        dp.id_pedido,\n",
    "        prod.nombre AS producto,\n",
    "        dp.cantidad,\n",
    "        dp.precio_unitario,\n",
    "        dp.subtotal\n",
    "    FROM Detalles_Pedido dp\n",
    "    INNER JOIN Productos prod ON dp.id_producto = prod.id_producto\n",
    "    WHERE dp.id_pedido = 1\n",
    "''', conexion)\n",
    "\n",
    "print(\"DETALLE DEL PEDIDO #1 (Juan Pérez):\")\n",
    "print(\"=\"*80)\n",
    "display(df_detalle_pedido)\n",
    "# Calculamos el total del pedido sumando todos los subtotales\n",
    "# .sum() suma todos los valores de la columna 'subtotal'\n",
    "# :.2f formatea el número a 2 decimales\n",
    "print(f\"\\nTOTAL DEL PEDIDO: {df_detalle_pedido['subtotal'].sum():.2f}€\")"
   ]
  },
  {
   "cell_type": "markdown",
   "metadata": {},
   "source": [
    "### Consulta 3: Resumen de compras por cliente"
   ]
  },
  {
   "cell_type": "code",
   "execution_count": 22,
   "metadata": {},
   "outputs": [
    {
     "name": "stdout",
     "output_type": "stream",
     "text": [
      "RESUMEN DE COMPRAS POR CLIENTE:\n",
      "================================================================================\n"
     ]
    },
    {
     "data": {
      "text/html": [
       "<div>\n",
       "<style scoped>\n",
       "    .dataframe tbody tr th:only-of-type {\n",
       "        vertical-align: middle;\n",
       "    }\n",
       "\n",
       "    .dataframe tbody tr th {\n",
       "        vertical-align: top;\n",
       "    }\n",
       "\n",
       "    .dataframe thead th {\n",
       "        text-align: right;\n",
       "    }\n",
       "</style>\n",
       "<table border=\"1\" class=\"dataframe\">\n",
       "  <thead>\n",
       "    <tr style=\"text-align: right;\">\n",
       "      <th></th>\n",
       "      <th>cliente</th>\n",
       "      <th>total_pedidos</th>\n",
       "      <th>total_gastado</th>\n",
       "    </tr>\n",
       "  </thead>\n",
       "  <tbody>\n",
       "    <tr>\n",
       "      <th>0</th>\n",
       "      <td>Juan Pérez</td>\n",
       "      <td>1</td>\n",
       "      <td>779.98</td>\n",
       "    </tr>\n",
       "    <tr>\n",
       "      <th>1</th>\n",
       "      <td>Carlos Rodríguez</td>\n",
       "      <td>1</td>\n",
       "      <td>405.96</td>\n",
       "    </tr>\n",
       "    <tr>\n",
       "      <th>2</th>\n",
       "      <td>María García</td>\n",
       "      <td>1</td>\n",
       "      <td>312.98</td>\n",
       "    </tr>\n",
       "    <tr>\n",
       "      <th>3</th>\n",
       "      <td>Ana Martínez</td>\n",
       "      <td>0</td>\n",
       "      <td>NaN</td>\n",
       "    </tr>\n",
       "    <tr>\n",
       "      <th>4</th>\n",
       "      <td>Luis Fernández</td>\n",
       "      <td>0</td>\n",
       "      <td>NaN</td>\n",
       "    </tr>\n",
       "  </tbody>\n",
       "</table>\n",
       "</div>"
      ],
      "text/plain": [
       "            cliente  total_pedidos  total_gastado\n",
       "0        Juan Pérez              1         779.98\n",
       "1  Carlos Rodríguez              1         405.96\n",
       "2      María García              1         312.98\n",
       "3      Ana Martínez              0            NaN\n",
       "4    Luis Fernández              0            NaN"
      ]
     },
     "metadata": {},
     "output_type": "display_data"
    }
   ],
   "source": [
    "# Usamos funciones de agregación para obtener resúmenes:\n",
    "#   - COUNT(): cuenta el número de registros\n",
    "#   - SUM(): suma valores numéricos\n",
    "#   - AVG(): calcula el promedio\n",
    "#   - MIN(): obtiene el valor mínimo\n",
    "#   - MAX(): obtiene el valor máximo\n",
    "#\n",
    "# LEFT JOIN incluye TODOS los clientes, incluso los que no tienen pedidos\n",
    "# (a diferencia de INNER JOIN que solo incluye clientes con pedidos)\n",
    "#\n",
    "# GROUP BY agrupa los resultados por cliente\n",
    "# Esto permite calcular el total de pedidos y gasto por cada cliente\n",
    "# ORDER BY total_gastado DESC: ordena de mayor a menor gasto\n",
    "df_resumen_clientes = pd.read_sql_query('''\n",
    "    SELECT \n",
    "        c.nombre AS cliente,\n",
    "        COUNT(p.id_pedido) AS total_pedidos,\n",
    "        SUM(p.total) AS total_gastado\n",
    "    FROM Clientes c\n",
    "    LEFT JOIN Pedidos p ON c.id_cliente = p.id_cliente\n",
    "    GROUP BY c.id_cliente, c.nombre\n",
    "    ORDER BY total_gastado DESC\n",
    "''', conexion)\n",
    "\n",
    "print(\"RESUMEN DE COMPRAS POR CLIENTE:\")\n",
    "print(\"=\"*80)\n",
    "display(df_resumen_clientes)"
   ]
  },
  {
   "cell_type": "markdown",
   "metadata": {},
   "source": [
    "### Consulta 4: Productos más vendidos"
   ]
  },
  {
   "cell_type": "code",
   "execution_count": 23,
   "metadata": {},
   "outputs": [
    {
     "name": "stdout",
     "output_type": "stream",
     "text": [
      "PRODUCTOS MÁS VENDIDOS:\n",
      "================================================================================\n"
     ]
    },
    {
     "data": {
      "text/html": [
       "<div>\n",
       "<style scoped>\n",
       "    .dataframe tbody tr th:only-of-type {\n",
       "        vertical-align: middle;\n",
       "    }\n",
       "\n",
       "    .dataframe tbody tr th {\n",
       "        vertical-align: top;\n",
       "    }\n",
       "\n",
       "    .dataframe thead th {\n",
       "        text-align: right;\n",
       "    }\n",
       "</style>\n",
       "<table border=\"1\" class=\"dataframe\">\n",
       "  <thead>\n",
       "    <tr style=\"text-align: right;\">\n",
       "      <th></th>\n",
       "      <th>producto</th>\n",
       "      <th>unidades_vendidas</th>\n",
       "      <th>ingresos_totales</th>\n",
       "    </tr>\n",
       "  </thead>\n",
       "  <tbody>\n",
       "    <tr>\n",
       "      <th>0</th>\n",
       "      <td>Cable HDMI 2m</td>\n",
       "      <td>3</td>\n",
       "      <td>38.97</td>\n",
       "    </tr>\n",
       "    <tr>\n",
       "      <th>1</th>\n",
       "      <td>Laptop HP Pavilion</td>\n",
       "      <td>1</td>\n",
       "      <td>699.99</td>\n",
       "    </tr>\n",
       "    <tr>\n",
       "      <th>2</th>\n",
       "      <td>Mouse Logitech MX</td>\n",
       "      <td>1</td>\n",
       "      <td>79.99</td>\n",
       "    </tr>\n",
       "    <tr>\n",
       "      <th>3</th>\n",
       "      <td>Teclado Mecánico RGB</td>\n",
       "      <td>1</td>\n",
       "      <td>129.99</td>\n",
       "    </tr>\n",
       "    <tr>\n",
       "      <th>4</th>\n",
       "      <td>Monitor Samsung 27\"</td>\n",
       "      <td>1</td>\n",
       "      <td>249.99</td>\n",
       "    </tr>\n",
       "    <tr>\n",
       "      <th>5</th>\n",
       "      <td>Auriculares Sony WH-1000XM4</td>\n",
       "      <td>1</td>\n",
       "      <td>299.99</td>\n",
       "    </tr>\n",
       "  </tbody>\n",
       "</table>\n",
       "</div>"
      ],
      "text/plain": [
       "                      producto  unidades_vendidas  ingresos_totales\n",
       "0                Cable HDMI 2m                  3             38.97\n",
       "1           Laptop HP Pavilion                  1            699.99\n",
       "2            Mouse Logitech MX                  1             79.99\n",
       "3         Teclado Mecánico RGB                  1            129.99\n",
       "4          Monitor Samsung 27\"                  1            249.99\n",
       "5  Auriculares Sony WH-1000XM4                  1            299.99"
      ]
     },
     "metadata": {},
     "output_type": "display_data"
    }
   ],
   "source": [
    "# Consultamos qué productos se han vendido más\n",
    "# Esta consulta nos ayuda a identificar los productos más populares\n",
    "#\n",
    "# SUM(dp.cantidad): suma todas las cantidades vendidas de cada producto\n",
    "# SUM(dp.subtotal): suma los ingresos generados por cada producto\n",
    "# GROUP BY agrupa por producto para calcular totales de cada uno\n",
    "# ORDER BY unidades_vendidas DESC: ordena del más vendido al menos vendido\n",
    "df_productos_vendidos = pd.read_sql_query('''\n",
    "    SELECT \n",
    "        prod.nombre AS producto,\n",
    "        SUM(dp.cantidad) AS unidades_vendidas,\n",
    "        SUM(dp.subtotal) AS ingresos_totales\n",
    "    FROM Detalles_Pedido dp\n",
    "    INNER JOIN Productos prod ON dp.id_producto = prod.id_producto\n",
    "    GROUP BY prod.id_producto, prod.nombre\n",
    "    ORDER BY unidades_vendidas DESC\n",
    "''', conexion)\n",
    "\n",
    "print(\"PRODUCTOS MÁS VENDIDOS:\")\n",
    "print(\"=\"*80)\n",
    "display(df_productos_vendidos)"
   ]
  },
  {
   "cell_type": "markdown",
   "metadata": {},
   "source": [
    "## Paso 14: Actualizar datos - UPDATE"
   ]
  },
  {
   "cell_type": "code",
   "execution_count": 24,
   "metadata": {},
   "outputs": [
    {
     "name": "stdout",
     "output_type": "stream",
     "text": [
      "Estado del pedido #3 antes:\n",
      "  Estado: Pendiente\n",
      "\n",
      "Estado del pedido #3 después:\n",
      "  Estado: En tránsito\n",
      "\n",
      "✓ Estado actualizado correctamente\n"
     ]
    }
   ],
   "source": [
    "# Ejemplo 1: Cambiar el estado de un pedido\n",
    "# Primero consultamos el estado actual del pedido #3\n",
    "print(\"Estado del pedido #3 antes:\")\n",
    "cursor.execute('SELECT estado FROM Pedidos WHERE id_pedido = 3')\n",
    "# fetchone() obtiene solo el primer resultado (una tupla)\n",
    "# [0] accede al primer elemento de la tupla (el estado)\n",
    "print(f\"  Estado: {cursor.fetchone()[0]}\")\n",
    "\n",
    "# UPDATE modifica registros existentes en una tabla\n",
    "# SET especifica qué campo(s) queremos cambiar y su nuevo valor\n",
    "# WHERE especifica qué registros modificar (sin WHERE se modificarían TODOS)\n",
    "cursor.execute('''\n",
    "    UPDATE Pedidos \n",
    "    SET estado = 'En tránsito'\n",
    "    WHERE id_pedido = 3\n",
    "''')\n",
    "\n",
    "# Guardamos el cambio\n",
    "conexion.commit()\n",
    "\n",
    "# Verificamos que el cambio se aplicó correctamente\n",
    "print(\"\\nEstado del pedido #3 después:\")\n",
    "cursor.execute('SELECT estado FROM Pedidos WHERE id_pedido = 3')\n",
    "print(f\"  Estado: {cursor.fetchone()[0]}\")\n",
    "print(\"\\n✓ Estado actualizado correctamente\")"
   ]
  },
  {
   "cell_type": "code",
   "execution_count": 25,
   "metadata": {},
   "outputs": [
    {
     "name": "stdout",
     "output_type": "stream",
     "text": [
      "Stock del Monitor Samsung antes:\n",
      "  Stock: 20 unidades\n",
      "\n",
      "Stock del Monitor Samsung después:\n",
      "  Stock: 19 unidades\n",
      "\n",
      "✓ Stock actualizado correctamente\n"
     ]
    }
   ],
   "source": [
    "# Ejemplo 2: Actualizar el stock después de una venta\n",
    "# Consultamos el stock actual del Monitor Samsung (id_producto=4)\n",
    "print(\"Stock del Monitor Samsung antes:\")\n",
    "cursor.execute('SELECT stock FROM Productos WHERE id_producto = 4')\n",
    "print(f\"  Stock: {cursor.fetchone()[0]} unidades\")\n",
    "\n",
    "# Reducimos el stock en 1 unidad porque se vendió 1 monitor\n",
    "# SET stock = stock - 1: toma el valor actual y le resta 1\n",
    "# Esto es mejor que poner un número fijo porque no necesitamos saber el stock actual\n",
    "cursor.execute('''\n",
    "    UPDATE Productos \n",
    "    SET stock = stock - 1\n",
    "    WHERE id_producto = 4\n",
    "''')\n",
    "\n",
    "# Confirmamos el cambio\n",
    "conexion.commit()\n",
    "\n",
    "# Verificamos el nuevo stock\n",
    "print(\"\\nStock del Monitor Samsung después:\")\n",
    "cursor.execute('SELECT stock FROM Productos WHERE id_producto = 4')\n",
    "print(f\"  Stock: {cursor.fetchone()[0]} unidades\")\n",
    "print(\"\\n✓ Stock actualizado correctamente\")"
   ]
  },
  {
   "cell_type": "code",
   "execution_count": 26,
   "metadata": {},
   "outputs": [
    {
     "name": "stdout",
     "output_type": "stream",
     "text": [
      "Precio del Cable HDMI antes:\n",
      "  Precio: 12.99€\n",
      "\n",
      "Precio del Cable HDMI después (20% descuento):\n",
      "  Precio: 10.39€\n",
      "\n",
      "✓ Precio actualizado correctamente\n"
     ]
    }
   ],
   "source": [
    "# Ejemplo 3: Actualizar el precio de un producto\n",
    "# Consultamos el precio actual del Cable HDMI (id_producto=8)\n",
    "print(\"Precio del Cable HDMI antes:\")\n",
    "cursor.execute('SELECT precio FROM Productos WHERE id_producto = 8')\n",
    "print(f\"  Precio: {cursor.fetchone()[0]}€\") \n",
    "\n",
    "# Aplicamos un descuento del 20%\n",
    "# precio * 0.8 equivale a reducir el precio al 80% del original\n",
    "# (0.8 = 1 - 0.2, donde 0.2 es el 20% de descuento)\n",
    "cursor.execute('''\n",
    "    UPDATE Productos \n",
    "    SET precio = precio * 0.8\n",
    "    WHERE id_producto = 8\n",
    "''')\n",
    "\n",
    "# Guardamos el cambio\n",
    "conexion.commit()\n",
    "\n",
    "# Verificamos el nuevo precio\n",
    "print(\"\\nPrecio del Cable HDMI después (20% descuento):\")\n",
    "cursor.execute('SELECT precio FROM Productos WHERE id_producto = 8')\n",
    "# :.2f formatea el número a 2 decimales (ej: 10.392 → 10.39)\n",
    "print(f\"  Precio: {cursor.fetchone()[0]:.2f}€\")\n",
    "print(\"\\n✓ Precio actualizado correctamente\")"
   ]
  },
  {
   "cell_type": "markdown",
   "metadata": {},
   "source": [
    "## Paso 15: Eliminar datos - DELETE"
   ]
  },
  {
   "cell_type": "code",
   "execution_count": 27,
   "metadata": {},
   "outputs": [
    {
     "name": "stdout",
     "output_type": "stream",
     "text": [
      "✓ Cliente temporal creado con ID: 6\n",
      "✓ Cliente temporal eliminado\n",
      "\n",
      "Verificación: 0 clientes encontrados con ese ID (debería ser 0)\n"
     ]
    }
   ],
   "source": [
    "# Primero insertamos un cliente temporal para luego eliminarlo\n",
    "# Este es solo un ejemplo didáctico para mostrar cómo funciona DELETE\n",
    "cursor.execute('''\n",
    "    INSERT INTO Clientes (nombre, email, telefono, direccion, fecha_registro)\n",
    "    VALUES (?, ?, ?, ?, ?)\n",
    "''', ('Cliente Temporal', 'temporal@email.com', '600000000', 'Dirección Temporal', '2024-05-25'))\n",
    "\n",
    "# Guardamos el ID del cliente temporal\n",
    "id_temporal = cursor.lastrowid\n",
    "conexion.commit()\n",
    "\n",
    "print(f\"✓ Cliente temporal creado con ID: {id_temporal}\")\n",
    "\n",
    "# DELETE elimina registros de una tabla\n",
    "# WHERE especifica qué registros eliminar\n",
    "# IMPORTANTE: Sin WHERE se eliminarían TODOS los registros de la tabla\n",
    "# (?,) es una tupla con un solo elemento (nota la coma)\n",
    "cursor.execute('DELETE FROM Clientes WHERE id_cliente = ?', (id_temporal,))\n",
    "conexion.commit()\n",
    "\n",
    "print(f\"✓ Cliente temporal eliminado\")\n",
    "\n",
    "# Verificamos que se eliminó correctamente\n",
    "# COUNT(*) cuenta cuántos registros cumplen la condición\n",
    "cursor.execute('SELECT COUNT(*) FROM Clientes WHERE id_cliente = ?', (id_temporal,))\n",
    "count = cursor.fetchone()[0]\n",
    "print(f\"\\nVerificación: {count} clientes encontrados con ese ID (debería ser 0)\")"
   ]
  },
  {
   "cell_type": "markdown",
   "metadata": {},
   "source": [
    "## Paso 16: Consultas avanzadas - Subconsultas"
   ]
  },
  {
   "cell_type": "code",
   "execution_count": 28,
   "metadata": {},
   "outputs": [
    {
     "name": "stdout",
     "output_type": "stream",
     "text": [
      "Gasto promedio por pedido: 499.64€\n",
      "\n",
      "CLIENTES CON PEDIDOS SUPERIORES AL PROMEDIO:\n",
      "================================================================================\n"
     ]
    },
    {
     "data": {
      "text/html": [
       "<div>\n",
       "<style scoped>\n",
       "    .dataframe tbody tr th:only-of-type {\n",
       "        vertical-align: middle;\n",
       "    }\n",
       "\n",
       "    .dataframe tbody tr th {\n",
       "        vertical-align: top;\n",
       "    }\n",
       "\n",
       "    .dataframe thead th {\n",
       "        text-align: right;\n",
       "    }\n",
       "</style>\n",
       "<table border=\"1\" class=\"dataframe\">\n",
       "  <thead>\n",
       "    <tr style=\"text-align: right;\">\n",
       "      <th></th>\n",
       "      <th>cliente</th>\n",
       "      <th>id_pedido</th>\n",
       "      <th>total</th>\n",
       "    </tr>\n",
       "  </thead>\n",
       "  <tbody>\n",
       "    <tr>\n",
       "      <th>0</th>\n",
       "      <td>Juan Pérez</td>\n",
       "      <td>1</td>\n",
       "      <td>779.98</td>\n",
       "    </tr>\n",
       "  </tbody>\n",
       "</table>\n",
       "</div>"
      ],
      "text/plain": [
       "      cliente  id_pedido   total\n",
       "0  Juan Pérez          1  779.98"
      ]
     },
     "metadata": {},
     "output_type": "display_data"
    }
   ],
   "source": [
    "# Ejemplo: Encontrar clientes que han gastado más que el promedio\n",
    "# Este es un ejemplo de SUBCONSULTA (query dentro de otra query)\n",
    "\n",
    "# Primero calculamos el gasto promedio de todos los pedidos\n",
    "# AVG() calcula el promedio (average)\n",
    "cursor.execute('''\n",
    "    SELECT AVG(total) FROM Pedidos\n",
    "''')\n",
    "promedio = cursor.fetchone()[0]\n",
    "print(f\"Gasto promedio por pedido: {promedio:.2f}€\\n\")\n",
    "\n",
    "# Ahora buscamos pedidos con total superior al promedio\n",
    "# WHERE p.total > (SELECT AVG(total) FROM Pedidos): subconsulta\n",
    "# La subconsulta se ejecuta primero y devuelve un valor (el promedio)\n",
    "# Luego se compara cada pedido con ese valor\n",
    "# Esto es útil para identificar clientes premium o pedidos importantes\n",
    "df_clientes_premium = pd.read_sql_query('''\n",
    "    SELECT \n",
    "        c.nombre AS cliente,\n",
    "        p.id_pedido,\n",
    "        p.total\n",
    "    FROM Clientes c\n",
    "    INNER JOIN Pedidos p ON c.id_cliente = p.id_cliente\n",
    "    WHERE p.total > (SELECT AVG(total) FROM Pedidos)\n",
    "    ORDER BY p.total DESC\n",
    "''', conexion)\n",
    "\n",
    "print(\"CLIENTES CON PEDIDOS SUPERIORES AL PROMEDIO:\")\n",
    "print(\"=\"*80)\n",
    "display(df_clientes_premium)"
   ]
  },
  {
   "cell_type": "markdown",
   "metadata": {},
   "source": [
    "## Paso 17: Funciones de agregación y estadísticas"
   ]
  },
  {
   "cell_type": "code",
   "execution_count": 29,
   "metadata": {},
   "outputs": [
    {
     "name": "stdout",
     "output_type": "stream",
     "text": [
      "ESTADÍSTICAS DE LA TIENDA:\n",
      "================================================================================\n",
      "Total de pedidos: 3\n",
      "Ingresos totales: 1498.92€\n",
      "Ticket promedio: 499.64€\n",
      "Pedido mínimo: 312.98€\n",
      "Pedido máximo: 779.98€\n"
     ]
    }
   ],
   "source": [
    "# Obtenemos estadísticas generales de la tienda usando funciones de agregación\n",
    "# Todas estas funciones se calculan en una sola consulta para eficiencia\n",
    "#\n",
    "# Funciones de agregación:\n",
    "#   - COUNT(*): cuenta el número total de pedidos\n",
    "#   - SUM(total): suma todos los totales (ingresos totales)\n",
    "#   - AVG(total): calcula el promedio de los totales (ticket promedio)\n",
    "#   - MIN(total): encuentra el pedido de menor valor\n",
    "#   - MAX(total): encuentra el pedido de mayor valor\n",
    "cursor.execute('''\n",
    "    SELECT \n",
    "        COUNT(*) AS total_pedidos,\n",
    "        SUM(total) AS ingresos_totales,\n",
    "        AVG(total) AS ticket_promedio,\n",
    "        MIN(total) AS pedido_minimo,\n",
    "        MAX(total) AS pedido_maximo\n",
    "    FROM Pedidos\n",
    "''')\n",
    "\n",
    "# Obtenemos la fila con todas las estadísticas\n",
    "stats = cursor.fetchone()\n",
    "\n",
    "print(\"ESTADÍSTICAS DE LA TIENDA:\")\n",
    "print(\"=\"*80)\n",
    "# Accedemos a cada estadística por su índice\n",
    "print(f\"Total de pedidos: {stats[0]}\")\n",
    "print(f\"Ingresos totales: {stats[1]:.2f}€\")\n",
    "print(f\"Ticket promedio: {stats[2]:.2f}€\")\n",
    "print(f\"Pedido mínimo: {stats[3]:.2f}€\")\n",
    "print(f\"Pedido máximo: {stats[4]:.2f}€\")"
   ]
  },
  {
   "cell_type": "code",
   "execution_count": 30,
   "metadata": {},
   "outputs": [
    {
     "name": "stdout",
     "output_type": "stream",
     "text": [
      "\n",
      "ESTADÍSTICAS POR CATEGORÍA:\n",
      "================================================================================\n"
     ]
    },
    {
     "data": {
      "text/html": [
       "<div>\n",
       "<style scoped>\n",
       "    .dataframe tbody tr th:only-of-type {\n",
       "        vertical-align: middle;\n",
       "    }\n",
       "\n",
       "    .dataframe tbody tr th {\n",
       "        vertical-align: top;\n",
       "    }\n",
       "\n",
       "    .dataframe thead th {\n",
       "        text-align: right;\n",
       "    }\n",
       "</style>\n",
       "<table border=\"1\" class=\"dataframe\">\n",
       "  <thead>\n",
       "    <tr style=\"text-align: right;\">\n",
       "      <th></th>\n",
       "      <th>categoria</th>\n",
       "      <th>cantidad_productos</th>\n",
       "      <th>precio_promedio</th>\n",
       "      <th>stock_total</th>\n",
       "    </tr>\n",
       "  </thead>\n",
       "  <tbody>\n",
       "    <tr>\n",
       "      <th>0</th>\n",
       "      <td>Informática</td>\n",
       "      <td>5</td>\n",
       "      <td>249.990</td>\n",
       "      <td>154</td>\n",
       "    </tr>\n",
       "    <tr>\n",
       "      <th>1</th>\n",
       "      <td>Audio</td>\n",
       "      <td>1</td>\n",
       "      <td>299.990</td>\n",
       "      <td>25</td>\n",
       "    </tr>\n",
       "    <tr>\n",
       "      <th>2</th>\n",
       "      <td>Almacenamiento</td>\n",
       "      <td>1</td>\n",
       "      <td>119.990</td>\n",
       "      <td>35</td>\n",
       "    </tr>\n",
       "    <tr>\n",
       "      <th>3</th>\n",
       "      <td>Accesorios</td>\n",
       "      <td>1</td>\n",
       "      <td>10.392</td>\n",
       "      <td>100</td>\n",
       "    </tr>\n",
       "  </tbody>\n",
       "</table>\n",
       "</div>"
      ],
      "text/plain": [
       "        categoria  cantidad_productos  precio_promedio  stock_total\n",
       "0     Informática                   5          249.990          154\n",
       "1           Audio                   1          299.990           25\n",
       "2  Almacenamiento                   1          119.990           35\n",
       "3      Accesorios                   1           10.392          100"
      ]
     },
     "metadata": {},
     "output_type": "display_data"
    }
   ],
   "source": [
    "# Estadísticas por categoría de productos\n",
    "# Esta consulta agrupa productos por categoría y calcula métricas para cada una\n",
    "#\n",
    "# COUNT(*): cuenta cuántos productos hay en cada categoría\n",
    "# AVG(precio): calcula el precio promedio de los productos en cada categoría\n",
    "# SUM(stock): suma el stock total de cada categoría\n",
    "# GROUP BY categoria: agrupa los resultados por categoría\n",
    "# Esto nos permite ver un resumen de cada categoría en lugar de productos individuales\n",
    "df_stats_categoria = pd.read_sql_query('''\n",
    "    SELECT \n",
    "        categoria,\n",
    "        COUNT(*) AS cantidad_productos,\n",
    "        AVG(precio) AS precio_promedio,\n",
    "        SUM(stock) AS stock_total\n",
    "    FROM Productos\n",
    "    GROUP BY categoria\n",
    "    ORDER BY cantidad_productos DESC\n",
    "''', conexion)\n",
    "\n",
    "print(\"\\nESTADÍSTICAS POR CATEGORÍA:\")\n",
    "print(\"=\"*80)\n",
    "display(df_stats_categoria)"
   ]
  },
  {
   "cell_type": "markdown",
   "metadata": {},
   "source": [
    "## Paso 18: Crear una función auxiliar para consultas comunes\n",
    "\n",
    "Vamos a crear funciones Python que encapsulen operaciones comunes de la base de datos."
   ]
  },
  {
   "cell_type": "code",
   "execution_count": 31,
   "metadata": {},
   "outputs": [
    {
     "name": "stdout",
     "output_type": "stream",
     "text": [
      "✓ Funciones auxiliares creadas correctamente\n"
     ]
    }
   ],
   "source": [
    "def buscar_cliente_por_email(email):\n",
    "    \"\"\"\n",
    "    Busca un cliente por su email\n",
    "    \n",
    "    Esta función encapsula una consulta SQL común en una función Python reutilizable.\n",
    "    Es una buena práctica para evitar repetir código.\n",
    "    \n",
    "    Args:\n",
    "        email (str): Email del cliente a buscar\n",
    "    \n",
    "    Returns:\n",
    "        tuple: Tupla con los datos del cliente (id, nombre, email, etc.) \n",
    "               o None si no existe ningún cliente con ese email\n",
    "    \"\"\"\n",
    "    # Ejecutamos la consulta usando el parámetro email\n",
    "    cursor.execute('SELECT * FROM Clientes WHERE email = ?', (email,))\n",
    "    # fetchone() devuelve None si no hay resultados\n",
    "    return cursor.fetchone()\n",
    "\n",
    "def obtener_pedidos_cliente(id_cliente):\n",
    "    \"\"\"\n",
    "    Obtiene todos los pedidos de un cliente específico\n",
    "    \n",
    "    Args:\n",
    "        id_cliente (int): ID del cliente\n",
    "    \n",
    "    Returns:\n",
    "        DataFrame: DataFrame de pandas con los pedidos del cliente\n",
    "                   ordenados por fecha (más reciente primero)\n",
    "    \"\"\"\n",
    "    query = '''\n",
    "        SELECT \n",
    "            id_pedido,\n",
    "            fecha_pedido,\n",
    "            estado,\n",
    "            total\n",
    "        FROM Pedidos\n",
    "        WHERE id_cliente = ?\n",
    "        ORDER BY fecha_pedido DESC\n",
    "    '''\n",
    "    # params=(id_cliente,) pasa el parámetro a la consulta\n",
    "    return pd.read_sql_query(query, conexion, params=(id_cliente,))\n",
    "\n",
    "def crear_pedido(id_cliente, productos_lista):\n",
    "    \"\"\"\n",
    "    Crea un nuevo pedido con múltiples productos de forma automática\n",
    "    \n",
    "    Esta función simplifica la creación de pedidos al:\n",
    "    1. Calcular automáticamente el total\n",
    "    2. Crear el registro del pedido\n",
    "    3. Crear todos los detalles del pedido\n",
    "    \n",
    "    Args:\n",
    "        id_cliente (int): ID del cliente que realiza el pedido\n",
    "        productos_lista (list): Lista de tuplas (id_producto, cantidad)\n",
    "                               Ejemplo: [(1, 2), (3, 1)] = 2 unidades del producto 1 y 1 del producto 3\n",
    "    \n",
    "    Returns:\n",
    "        int: ID del pedido creado\n",
    "    \"\"\"\n",
    "    # Calculamos el total del pedido sumando todos los subtotales\n",
    "    total = 0\n",
    "    detalles = []\n",
    "    \n",
    "    # Iteramos sobre cada producto en la lista\n",
    "    for id_producto, cantidad in productos_lista:\n",
    "        # Obtenemos el precio actual del producto desde la base de datos\n",
    "        cursor.execute('SELECT precio FROM Productos WHERE id_producto = ?', (id_producto,))\n",
    "        precio = cursor.fetchone()[0]\n",
    "        # Calculamos el subtotal (precio × cantidad)\n",
    "        subtotal = precio * cantidad\n",
    "        total += subtotal\n",
    "        # Guardamos los detalles para insertarlos después\n",
    "        detalles.append((id_producto, cantidad, precio, subtotal))\n",
    "    \n",
    "    # Insertamos el pedido principal\n",
    "    # datetime('now') obtiene la fecha y hora actual automáticamente\n",
    "    cursor.execute('''\n",
    "        INSERT INTO Pedidos (id_cliente, fecha_pedido, estado, total)\n",
    "        VALUES (?, datetime('now'), 'Pendiente', ?)\n",
    "    ''', (id_cliente, total))\n",
    "    \n",
    "    # Obtenemos el ID del pedido recién creado\n",
    "    id_pedido = cursor.lastrowid\n",
    "    \n",
    "    # Insertamos todos los detalles del pedido\n",
    "    for id_producto, cantidad, precio, subtotal in detalles:\n",
    "        cursor.execute('''\n",
    "            INSERT INTO Detalles_Pedido (id_pedido, id_producto, cantidad, precio_unitario, subtotal)\n",
    "            VALUES (?, ?, ?, ?, ?)\n",
    "        ''', (id_pedido, id_producto, cantidad, precio, subtotal))\n",
    "    \n",
    "    # Guardamos todos los cambios (pedido + detalles)\n",
    "    conexion.commit()\n",
    "    return id_pedido\n",
    "\n",
    "print(\"✓ Funciones auxiliares creadas correctamente\")"
   ]
  },
  {
   "cell_type": "markdown",
   "metadata": {},
   "source": [
    "### Probar las funciones auxiliares"
   ]
  },
  {
   "cell_type": "code",
   "execution_count": 32,
   "metadata": {},
   "outputs": [
    {
     "name": "stdout",
     "output_type": "stream",
     "text": [
      "CLIENTE ENCONTRADO:\n",
      "  ID: 1\n",
      "  Nombre: Juan Pérez\n",
      "  Email: juan.perez@email.com\n",
      "  Teléfono: 666123456\n"
     ]
    }
   ],
   "source": [
    "# Ejemplo 1: Buscar un cliente por email usando nuestra función\n",
    "# Llamamos a la función que creamos anteriormente\n",
    "cliente = buscar_cliente_por_email('juan.perez@email.com')\n",
    "\n",
    "# Mostramos los datos del cliente encontrado\n",
    "print(\"CLIENTE ENCONTRADO:\")\n",
    "# Accedemos a cada campo por su índice en la tupla\n",
    "print(f\"  ID: {cliente[0]}\")\n",
    "print(f\"  Nombre: {cliente[1]}\")\n",
    "print(f\"  Email: {cliente[2]}\")\n",
    "print(f\"  Teléfono: {cliente[3]}\")"
   ]
  },
  {
   "cell_type": "code",
   "execution_count": 33,
   "metadata": {},
   "outputs": [
    {
     "name": "stdout",
     "output_type": "stream",
     "text": [
      "PEDIDOS DE JUAN PÉREZ:\n",
      "================================================================================\n"
     ]
    },
    {
     "data": {
      "text/html": [
       "<div>\n",
       "<style scoped>\n",
       "    .dataframe tbody tr th:only-of-type {\n",
       "        vertical-align: middle;\n",
       "    }\n",
       "\n",
       "    .dataframe tbody tr th {\n",
       "        vertical-align: top;\n",
       "    }\n",
       "\n",
       "    .dataframe thead th {\n",
       "        text-align: right;\n",
       "    }\n",
       "</style>\n",
       "<table border=\"1\" class=\"dataframe\">\n",
       "  <thead>\n",
       "    <tr style=\"text-align: right;\">\n",
       "      <th></th>\n",
       "      <th>id_pedido</th>\n",
       "      <th>fecha_pedido</th>\n",
       "      <th>estado</th>\n",
       "      <th>total</th>\n",
       "    </tr>\n",
       "  </thead>\n",
       "  <tbody>\n",
       "    <tr>\n",
       "      <th>0</th>\n",
       "      <td>1</td>\n",
       "      <td>2024-05-15</td>\n",
       "      <td>Completado</td>\n",
       "      <td>779.98</td>\n",
       "    </tr>\n",
       "  </tbody>\n",
       "</table>\n",
       "</div>"
      ],
      "text/plain": [
       "   id_pedido fecha_pedido      estado   total\n",
       "0          1   2024-05-15  Completado  779.98"
      ]
     },
     "metadata": {},
     "output_type": "display_data"
    }
   ],
   "source": [
    "# Ejemplo 2: Obtener todos los pedidos de un cliente\n",
    "# ID 1 corresponde a Juan Pérez\n",
    "pedidos_juan = obtener_pedidos_cliente(1)\n",
    "\n",
    "print(\"PEDIDOS DE JUAN PÉREZ:\")\n",
    "print(\"=\"*80)\n",
    "# La función nos devuelve un DataFrame listo para mostrar\n",
    "display(pedidos_juan)"
   ]
  },
  {
   "cell_type": "code",
   "execution_count": 34,
   "metadata": {},
   "outputs": [
    {
     "name": "stdout",
     "output_type": "stream",
     "text": [
      "✓ Nuevo pedido #4 creado para Ana Martínez\n",
      "\n",
      "DETALLE DEL PEDIDO CREADO:\n"
     ]
    },
    {
     "data": {
      "text/html": [
       "<div>\n",
       "<style scoped>\n",
       "    .dataframe tbody tr th:only-of-type {\n",
       "        vertical-align: middle;\n",
       "    }\n",
       "\n",
       "    .dataframe tbody tr th {\n",
       "        vertical-align: top;\n",
       "    }\n",
       "\n",
       "    .dataframe thead th {\n",
       "        text-align: right;\n",
       "    }\n",
       "</style>\n",
       "<table border=\"1\" class=\"dataframe\">\n",
       "  <thead>\n",
       "    <tr style=\"text-align: right;\">\n",
       "      <th></th>\n",
       "      <th>id_pedido</th>\n",
       "      <th>producto</th>\n",
       "      <th>cantidad</th>\n",
       "      <th>precio_unitario</th>\n",
       "      <th>subtotal</th>\n",
       "    </tr>\n",
       "  </thead>\n",
       "  <tbody>\n",
       "    <tr>\n",
       "      <th>0</th>\n",
       "      <td>4</td>\n",
       "      <td>Webcam Logitech C920</td>\n",
       "      <td>1</td>\n",
       "      <td>89.99</td>\n",
       "      <td>89.99</td>\n",
       "    </tr>\n",
       "    <tr>\n",
       "      <th>1</th>\n",
       "      <td>4</td>\n",
       "      <td>SSD Samsung 1TB</td>\n",
       "      <td>1</td>\n",
       "      <td>119.99</td>\n",
       "      <td>119.99</td>\n",
       "    </tr>\n",
       "  </tbody>\n",
       "</table>\n",
       "</div>"
      ],
      "text/plain": [
       "   id_pedido              producto  cantidad  precio_unitario  subtotal\n",
       "0          4  Webcam Logitech C920         1            89.99     89.99\n",
       "1          4       SSD Samsung 1TB         1           119.99    119.99"
      ]
     },
     "metadata": {},
     "output_type": "display_data"
    }
   ],
   "source": [
    "# Ejemplo 3: Crear un nuevo pedido usando nuestra función auxiliar\n",
    "# Ana Martínez (ID=4) compra una webcam y un SSD\n",
    "# La función crea_pedido se encarga de:\n",
    "#   1. Buscar los precios actuales de los productos\n",
    "#   2. Calcular los subtotales y el total\n",
    "#   3. Crear el pedido y sus detalles\n",
    "# Todo esto con una sola llamada, mucho más simple que hacerlo manualmente\n",
    "nuevo_pedido = crear_pedido(\n",
    "    id_cliente=4,\n",
    "    productos_lista=[\n",
    "        (6, 1),  # (id_producto, cantidad): 1 Webcam Logitech (id_producto=6)\n",
    "        (7, 1)   # 1 SSD Samsung (id_producto=7)\n",
    "    ]\n",
    ")\n",
    "\n",
    "print(f\"✓ Nuevo pedido #{nuevo_pedido} creado para Ana Martínez\")\n",
    "\n",
    "# Consultamos y mostramos el detalle del pedido recién creado\n",
    "# Usamos f-string para incluir el ID del pedido en la consulta\n",
    "df_nuevo = pd.read_sql_query(f'''\n",
    "    SELECT \n",
    "        dp.id_pedido,\n",
    "        prod.nombre AS producto,\n",
    "        dp.cantidad,\n",
    "        dp.precio_unitario,\n",
    "        dp.subtotal\n",
    "    FROM Detalles_Pedido dp\n",
    "    INNER JOIN Productos prod ON dp.id_producto = prod.id_producto\n",
    "    WHERE dp.id_pedido = {nuevo_pedido}\n",
    "''', conexion)\n",
    "\n",
    "print(\"\\nDETALLE DEL PEDIDO CREADO:\")\n",
    "display(df_nuevo)"
   ]
  },
  {
   "cell_type": "markdown",
   "metadata": {},
   "source": [
    "## Paso 19: Transacciones (garantizar consistencia de datos)\n",
    "\n",
    "Las transacciones permiten agrupar múltiples operaciones y revertirlas si algo falla."
   ]
  },
  {
   "cell_type": "code",
   "execution_count": 35,
   "metadata": {},
   "outputs": [
    {
     "name": "stdout",
     "output_type": "stream",
     "text": [
      "Iniciando transferencia de stock...\n",
      "\n",
      "STOCK ANTES:\n",
      "  Mouse Logitech MX: 50 unidades\n",
      "  Teclado Mecánico RGB: 30 unidades\n",
      "\n",
      "STOCK DESPUÉS:\n",
      "  Mouse Logitech MX: 45 unidades\n",
      "  Teclado Mecánico RGB: 35 unidades\n",
      "\n",
      "✓ Transferencia completada exitosamente\n"
     ]
    }
   ],
   "source": [
    "# Ejemplo de TRANSACCIÓN: transferir stock entre productos\n",
    "# Una transacción agrupa múltiples operaciones en una sola unidad atómica:\n",
    "#   - O se ejecutan TODAS las operaciones\n",
    "#   - O NO se ejecuta NINGUNA (si hay error)\n",
    "# Esto garantiza la consistencia de los datos\n",
    "\n",
    "try:\n",
    "    # BEGIN TRANSACTION inicia una transacción explícita\n",
    "    # Todas las operaciones posteriores son tentativas hasta el commit()\n",
    "    cursor.execute('BEGIN TRANSACTION')\n",
    "    \n",
    "    print(\"Iniciando transferencia de stock...\\n\")\n",
    "    \n",
    "    # Consultamos el stock actual de los productos involucrados\n",
    "    cursor.execute('SELECT nombre, stock FROM Productos WHERE id_producto IN (2, 3)')\n",
    "    print(\"STOCK ANTES:\")\n",
    "    for prod in cursor.fetchall():\n",
    "        print(f\"  {prod[0]}: {prod[1]} unidades\")\n",
    "    \n",
    "    # Reducimos stock del Mouse (ID=2) en 5 unidades\n",
    "    cursor.execute('UPDATE Productos SET stock = stock - 5 WHERE id_producto = 2')\n",
    "    \n",
    "    # Aumentamos stock del Teclado (ID=3) en 5 unidades\n",
    "    # Es como si transfiriéramos stock de un producto a otro\n",
    "    cursor.execute('UPDATE Productos SET stock = stock + 5 WHERE id_producto = 3')\n",
    "    \n",
    "    # Si llegamos aquí sin errores, confirmamos la transacción\n",
    "    # commit() hace permanentes todos los cambios\n",
    "    conexion.commit()\n",
    "    \n",
    "    # Consultamos el stock después de la transferencia\n",
    "    cursor.execute('SELECT nombre, stock FROM Productos WHERE id_producto IN (2, 3)')\n",
    "    print(\"\\nSTOCK DESPUÉS:\")\n",
    "    for prod in cursor.fetchall():\n",
    "        print(f\"  {prod[0]}: {prod[1]} unidades\")\n",
    "    \n",
    "    print(\"\\n✓ Transferencia completada exitosamente\")\n",
    "    \n",
    "except Exception as e:\n",
    "    # Si ocurre CUALQUIER error, revertimos TODOS los cambios\n",
    "    # rollback() deshace todas las operaciones de la transacción\n",
    "    # La base de datos vuelve al estado anterior al BEGIN TRANSACTION\n",
    "    conexion.rollback()\n",
    "    print(f\"✗ Error en la transacción: {e}\")\n",
    "    print(\"Cambios revertidos\")"
   ]
  },
  {
   "cell_type": "markdown",
   "metadata": {},
   "source": [
    "## Paso 20: Exportar datos a CSV"
   ]
  },
  {
   "cell_type": "code",
   "execution_count": 36,
   "metadata": {},
   "outputs": [
    {
     "name": "stdout",
     "output_type": "stream",
     "text": [
      "✓ Productos exportados a 'productos_export.csv'\n",
      "✓ Reporte de pedidos exportado a 'reporte_pedidos.csv'\n"
     ]
    }
   ],
   "source": [
    "# Exportamos datos de la base de datos a archivos CSV\n",
    "# CSV (Comma-Separated Values) es un formato universal que puede abrirse en Excel\n",
    "\n",
    "# Exportamos la tabla de productos completa a un archivo CSV\n",
    "df_productos = pd.read_sql_query('SELECT * FROM Productos', conexion)\n",
    "# to_csv() guarda el DataFrame en un archivo CSV\n",
    "# index=False: no incluye el índice de pandas en el archivo\n",
    "# encoding='utf-8': asegura que los caracteres especiales (ñ, acentos) se guarden correctamente\n",
    "df_productos.to_csv('productos_export.csv', index=False, encoding='utf-8')\n",
    "print(\"✓ Productos exportados a 'productos_export.csv'\")\n",
    "\n",
    "# Exportamos un reporte personalizado de pedidos\n",
    "# Este CSV combina información de pedidos y clientes\n",
    "df_reporte = pd.read_sql_query('''\n",
    "    SELECT \n",
    "        p.id_pedido,\n",
    "        c.nombre AS cliente,\n",
    "        p.fecha_pedido,\n",
    "        p.estado,\n",
    "        p.total\n",
    "    FROM Pedidos p\n",
    "    INNER JOIN Clientes c ON p.id_cliente = c.id_cliente\n",
    "''', conexion)\n",
    "df_reporte.to_csv('reporte_pedidos.csv', index=False, encoding='utf-8')\n",
    "print(\"✓ Reporte de pedidos exportado a 'reporte_pedidos.csv'\")"
   ]
  },
  {
   "cell_type": "markdown",
   "metadata": {},
   "source": [
    "## Paso 21: Crear índices para mejorar rendimiento\n",
    "\n",
    "Los índices aceleran las consultas sobre columnas que se buscan frecuentemente."
   ]
  },
  {
   "cell_type": "code",
   "execution_count": 37,
   "metadata": {},
   "outputs": [
    {
     "name": "stdout",
     "output_type": "stream",
     "text": [
      "✓ Índice creado en Clientes.email\n",
      "✓ Índice creado en Productos.categoria\n",
      "✓ Índice creado en Pedidos.estado\n",
      "✓ Índice compuesto creado en Pedidos(id_cliente, fecha_pedido)\n",
      "\n",
      "✓ Todos los índices creados correctamente\n"
     ]
    }
   ],
   "source": [
    "# Creamos ÍNDICES para mejorar el rendimiento de las consultas\n",
    "# Un índice es como el índice de un libro: permite encontrar información más rápido\n",
    "# Sin índice, la base de datos debe revisar TODOS los registros (búsqueda secuencial)\n",
    "# Con índice, puede ir directamente a los registros relevantes (búsqueda optimizada)\n",
    "\n",
    "# Índice en el campo email de la tabla Clientes\n",
    "# IF NOT EXISTS evita error si el índice ya existe\n",
    "# Útil porque frecuentemente buscamos clientes por email\n",
    "cursor.execute('CREATE INDEX IF NOT EXISTS idx_clientes_email ON Clientes(email)')\n",
    "print(\"✓ Índice creado en Clientes.email\")\n",
    "\n",
    "# Índice en el campo categoría de Productos\n",
    "# Acelera búsquedas como \"todos los productos de Informática\"\n",
    "cursor.execute('CREATE INDEX IF NOT EXISTS idx_productos_categoria ON Productos(categoria)')\n",
    "print(\"✓ Índice creado en Productos.categoria\")\n",
    "\n",
    "# Índice en el estado de Pedidos\n",
    "# Útil para consultas como \"todos los pedidos pendientes\"\n",
    "cursor.execute('CREATE INDEX IF NOT EXISTS idx_pedidos_estado ON Pedidos(estado)')\n",
    "print(\"✓ Índice creado en Pedidos.estado\")\n",
    "\n",
    "# Índice COMPUESTO (en múltiples columnas)\n",
    "# Optimiza consultas que filtran por cliente Y fecha simultáneamente\n",
    "# Ejemplo: \"todos los pedidos del cliente 5 en marzo\"\n",
    "cursor.execute('CREATE INDEX IF NOT EXISTS idx_pedidos_cliente_fecha ON Pedidos(id_cliente, fecha_pedido)')\n",
    "print(\"✓ Índice compuesto creado en Pedidos(id_cliente, fecha_pedido)\")\n",
    "\n",
    "# Guardamos la creación de los índices\n",
    "conexion.commit()\n",
    "print(\"\\n✓ Todos los índices creados correctamente\")"
   ]
  },
  {
   "cell_type": "markdown",
   "metadata": {},
   "source": [
    "## Paso 22: Consulta de metadatos de la base de datos"
   ]
  },
  {
   "cell_type": "code",
   "execution_count": 38,
   "metadata": {},
   "outputs": [
    {
     "name": "stdout",
     "output_type": "stream",
     "text": [
      "ESTRUCTURA DE LA BASE DE DATOS:\n",
      "================================================================================\n",
      "\n",
      "Tabla: Clientes\n",
      "--------------------------------------------------------------------------------\n",
      "CREATE TABLE Clientes (\n",
      "        id_cliente INTEGER PRIMARY KEY AUTOINCREMENT,\n",
      "        nombre TEXT NOT NULL,\n",
      "        email TEXT NOT NULL UNIQUE,\n",
      "        telefono TEXT,\n",
      "        direccion TEXT,\n",
      "        fecha_registro DATE NOT NULL\n",
      "    )\n",
      "\n",
      "Tabla: sqlite_sequence\n",
      "--------------------------------------------------------------------------------\n",
      "CREATE TABLE sqlite_sequence(name,seq)\n",
      "\n",
      "Tabla: Productos\n",
      "--------------------------------------------------------------------------------\n",
      "CREATE TABLE Productos (\n",
      "        id_producto INTEGER PRIMARY KEY AUTOINCREMENT,\n",
      "        nombre TEXT NOT NULL,\n",
      "        descripcion TEXT,\n",
      "        precio REAL NOT NULL,\n",
      "        stock INTEGER NOT NULL DEFAULT 0,\n",
      "        categoria TEXT\n",
      "    )\n",
      "\n",
      "Tabla: Pedidos\n",
      "--------------------------------------------------------------------------------\n",
      "CREATE TABLE Pedidos (\n",
      "        id_pedido INTEGER PRIMARY KEY AUTOINCREMENT,\n",
      "        id_cliente INTEGER NOT NULL,\n",
      "        fecha_pedido DATE NOT NULL,\n",
      "        estado TEXT NOT NULL DEFAULT 'Pendiente',\n",
      "        total REAL NOT NULL,\n",
      "        FOREIGN KEY (id_cliente) REFERENCES Clientes(id_cliente) ON DELETE CASCADE\n",
      "    )\n",
      "\n",
      "Tabla: Detalles_Pedido\n",
      "--------------------------------------------------------------------------------\n",
      "CREATE TABLE Detalles_Pedido (\n",
      "        id_detalle INTEGER PRIMARY KEY AUTOINCREMENT,\n",
      "        id_pedido INTEGER NOT NULL,\n",
      "        id_producto INTEGER NOT NULL,\n",
      "        cantidad INTEGER NOT NULL,\n",
      "        precio_unitario REAL NOT NULL,\n",
      "        subtotal REAL NOT NULL,\n",
      "        FOREIGN KEY (id_pedido) REFERENCES Pedidos(id_pedido) ON DELETE CASCADE,\n",
      "        FOREIGN KEY (id_producto) REFERENCES Productos(id_producto) ON DELETE CASCADE\n",
      "    )\n"
     ]
    }
   ],
   "source": [
    "# Obtener información sobre la estructura de todas las tablas\n",
    "# sqlite_master es una tabla especial del sistema que contiene metadatos\n",
    "# Contiene información sobre todas las tablas, índices, vistas, etc.\n",
    "# type='table': filtramos solo las tablas (no índices ni otros objetos)\n",
    "# sql: columna que contiene el comando CREATE TABLE original\n",
    "cursor.execute(\"SELECT name, sql FROM sqlite_master WHERE type='table'\")\n",
    "tablas_info = cursor.fetchall()\n",
    "\n",
    "print(\"ESTRUCTURA DE LA BASE DE DATOS:\")\n",
    "print(\"=\"*80)\n",
    "# Iteramos sobre cada tabla y mostramos su definición SQL completa\n",
    "for nombre, sql in tablas_info:\n",
    "    print(f\"\\nTabla: {nombre}\")\n",
    "    print(\"-\" * 80)\n",
    "    # sql contiene el comando CREATE TABLE completo que creó la tabla\n",
    "    print(sql)"
   ]
  },
  {
   "cell_type": "code",
   "execution_count": 39,
   "metadata": {},
   "outputs": [
    {
     "name": "stdout",
     "output_type": "stream",
     "text": [
      "\n",
      "ÍNDICES EN LA BASE DE DATOS:\n",
      "================================================================================\n",
      "\n",
      "idx_clientes_email:\n",
      "  CREATE INDEX idx_clientes_email ON Clientes(email)\n",
      "\n",
      "idx_productos_categoria:\n",
      "  CREATE INDEX idx_productos_categoria ON Productos(categoria)\n",
      "\n",
      "idx_pedidos_estado:\n",
      "  CREATE INDEX idx_pedidos_estado ON Pedidos(estado)\n",
      "\n",
      "idx_pedidos_cliente_fecha:\n",
      "  CREATE INDEX idx_pedidos_cliente_fecha ON Pedidos(id_cliente, fecha_pedido)\n"
     ]
    }
   ],
   "source": [
    "# Obtener información sobre todos los índices en la base de datos\n",
    "# type='index': filtramos solo los índices\n",
    "# Los índices automáticos (creados por PRIMARY KEY) no tienen SQL\n",
    "cursor.execute(\"SELECT name, sql FROM sqlite_master WHERE type='index'\")\n",
    "indices_info = cursor.fetchall()\n",
    "\n",
    "print(\"\\nÍNDICES EN LA BASE DE DATOS:\")\n",
    "print(\"=\"*80)\n",
    "for nombre, sql in indices_info:\n",
    "    # if sql: filtra índices automáticos que tienen sql=None\n",
    "    if sql:\n",
    "        print(f\"\\n{nombre}:\")\n",
    "        # Mostramos el comando CREATE INDEX que creó el índice\n",
    "        print(f\"  {sql}\")"
   ]
  },
  {
   "cell_type": "markdown",
   "metadata": {},
   "source": [
    "## Paso 23: Resumen final y estadísticas completas"
   ]
  },
  {
   "cell_type": "code",
   "execution_count": 40,
   "metadata": {},
   "outputs": [
    {
     "name": "stdout",
     "output_type": "stream",
     "text": [
      "================================================================================\n",
      "RESUMEN COMPLETO DE LA BASE DE DATOS\n",
      "================================================================================\n",
      "\n",
      "Total de clientes: 5\n",
      "Total de productos: 8\n",
      "Total de pedidos: 4\n",
      "Total de líneas de pedido: 9\n",
      "\n",
      "Ingresos totales: 1708.90€\n",
      "Ticket promedio: 427.23€\n",
      "Valor del inventario: 39737.06€\n",
      "\n",
      "================================================================================\n"
     ]
    }
   ],
   "source": [
    "print(\"=\"*80)\n",
    "print(\"RESUMEN COMPLETO DE LA BASE DE DATOS\")\n",
    "print(\"=\"*80)\n",
    "\n",
    "# Contamos registros en cada tabla usando COUNT(*)\n",
    "# COUNT(*) devuelve el número total de filas en la tabla\n",
    "cursor.execute('SELECT COUNT(*) FROM Clientes')\n",
    "print(f\"\\nTotal de clientes: {cursor.fetchone()[0]}\")\n",
    "\n",
    "cursor.execute('SELECT COUNT(*) FROM Productos')\n",
    "print(f\"Total de productos: {cursor.fetchone()[0]}\")\n",
    "\n",
    "cursor.execute('SELECT COUNT(*) FROM Pedidos')\n",
    "print(f\"Total de pedidos: {cursor.fetchone()[0]}\")\n",
    "\n",
    "cursor.execute('SELECT COUNT(*) FROM Detalles_Pedido')\n",
    "print(f\"Total de líneas de pedido: {cursor.fetchone()[0]}\")\n",
    "\n",
    "# Estadísticas financieras de la tienda\n",
    "# SUM(total): suma todos los totales de pedidos = ingresos totales\n",
    "cursor.execute('SELECT SUM(total) FROM Pedidos')\n",
    "print(f\"\\nIngresos totales: {cursor.fetchone()[0]:.2f}€\")\n",
    "\n",
    "# AVG(total): calcula el ticket promedio (gasto promedio por pedido)\n",
    "cursor.execute('SELECT AVG(total) FROM Pedidos')\n",
    "print(f\"Ticket promedio: {cursor.fetchone()[0]:.2f}€\")\n",
    "\n",
    "# Calculamos el valor total del inventario\n",
    "# precio * stock da el valor de cada producto\n",
    "# SUM() suma el valor de todos los productos\n",
    "cursor.execute('SELECT SUM(precio * stock) FROM Productos')\n",
    "print(f\"Valor del inventario: {cursor.fetchone()[0]:.2f}€\")\n",
    "\n",
    "print(\"\\n\" + \"=\"*80)"
   ]
  },
  {
   "cell_type": "markdown",
   "metadata": {},
   "source": [
    "## Paso 24: Cerrar la conexión\n",
    "\n",
    "**IMPORTANTE**: Siempre debemos cerrar la conexión cuando terminamos de trabajar con la base de datos."
   ]
  },
  {
   "cell_type": "code",
   "execution_count": 41,
   "metadata": {},
   "outputs": [
    {
     "name": "stdout",
     "output_type": "stream",
     "text": [
      "✓ Conexión cerrada correctamente\n",
      "\n",
      "La base de datos 'tienda_online.db' ha sido guardada en el disco.\n",
      "Puedes abrir este archivo con cualquier cliente de SQLite para explorar los datos.\n"
     ]
    }
   ],
   "source": [
    "# IMPORTANTE: Siempre cerrar la conexión cuando terminamos\n",
    "# Esto libera recursos del sistema y asegura que todos los cambios se guarden\n",
    "\n",
    "# Cerramos el cursor primero\n",
    "# El cursor ya no podrá ejecutar más comandos SQL después de esto\n",
    "cursor.close()\n",
    "\n",
    "# Cerramos la conexión a la base de datos\n",
    "# Esto guarda cualquier cambio pendiente y libera el archivo de la base de datos\n",
    "conexion.close()\n",
    "\n",
    "print(\"✓ Conexión cerrada correctamente\")\n",
    "print(\"\\nLa base de datos 'tienda_online.db' ha sido guardada en el disco.\")\n",
    "print(\"Puedes abrir este archivo con cualquier cliente de SQLite para explorar los datos.\")"
   ]
  },
  {
   "cell_type": "markdown",
   "metadata": {},
   "source": [
    "## Resumen de conceptos aprendidos\n",
    "\n",
    "### Comandos SQL principales:\n",
    "1. **CREATE TABLE**: Crear tablas con campos y restricciones\n",
    "2. **INSERT INTO**: Insertar datos en las tablas\n",
    "3. **SELECT**: Consultar datos (con WHERE, ORDER BY, GROUP BY)\n",
    "4. **UPDATE**: Actualizar registros existentes\n",
    "5. **DELETE**: Eliminar registros\n",
    "6. **JOIN**: Unir tablas relacionadas (INNER JOIN, LEFT JOIN)\n",
    "7. **INDEX**: Crear índices para mejorar rendimiento\n",
    "\n",
    "### Conceptos de bases de datos relacionales:\n",
    "- **Clave primaria (PRIMARY KEY)**: Identificador único de cada registro\n",
    "- **Clave foránea (FOREIGN KEY)**: Relación entre tablas\n",
    "- **Restricciones**: NOT NULL, UNIQUE, DEFAULT\n",
    "- **Relaciones**: Uno a muchos, muchos a muchos\n",
    "- **Integridad referencial**: ON DELETE CASCADE\n",
    "\n",
    "### Operaciones con Python:\n",
    "- Conectar a la base de datos con `sqlite3.connect()`\n",
    "- Ejecutar comandos SQL con `cursor.execute()`\n",
    "- Obtener resultados con `fetchone()`, `fetchall()`\n",
    "- Confirmar cambios con `commit()`\n",
    "- Revertir cambios con `rollback()`\n",
    "- Usar pandas para mejor visualización\n",
    "- Crear funciones auxiliares para operaciones comunes\n",
    "\n",
    "### Buenas prácticas:\n",
    "- Siempre usar parámetros (`?`) en lugar de concatenar strings (evita inyección SQL)\n",
    "- Cerrar conexiones cuando ya no se necesiten\n",
    "- Usar transacciones para operaciones críticas\n",
    "- Crear índices en columnas frecuentemente consultadas\n",
    "- Normalizar las tablas para evitar redundancia\n",
    "\n",
    "---\n",
    "\n",
    "**¡Felicidades!** Has completado el tutorial de bases de datos SQL relacionales con Python.\n",
    "\n",
    "Ahora tienes los conocimientos básicos para crear, gestionar y consultar bases de datos en tus propios proyectos."
   ]
  }
 ],
 "metadata": {
  "kernelspec": {
   "display_name": "Python 3",
   "language": "python",
   "name": "python3"
  },
  "language_info": {
   "codemirror_mode": {
    "name": "ipython",
    "version": 3
   },
   "file_extension": ".py",
   "mimetype": "text/x-python",
   "name": "python",
   "nbconvert_exporter": "python",
   "pygments_lexer": "ipython3",
   "version": "3.11.9"
  }
 },
 "nbformat": 4,
 "nbformat_minor": 4
}
