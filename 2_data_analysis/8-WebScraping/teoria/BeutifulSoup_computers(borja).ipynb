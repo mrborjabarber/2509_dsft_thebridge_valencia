{
 "cells": [
  {
   "cell_type": "markdown",
   "id": "7bdd4b4f",
   "metadata": {},
   "source": [
    "# WEB SCRAPING CON BEAUTIFUL SOUP"
   ]
  },
  {
   "cell_type": "markdown",
   "id": "b7ad73db",
   "metadata": {},
   "source": [
    "El web scraping es el proceso de extraer datos de sitios web, y Python proporciona bibliotecas potentes como Beautiful Soup 4 que facilitan el raspado y análisis de contenido HTML y XML."
   ]
  },
  {
   "cell_type": "markdown",
   "id": "bea52b3f",
   "metadata": {},
   "source": [
    "Importaciones"
   ]
  },
  {
   "cell_type": "code",
   "execution_count": null,
   "id": "1adf63d7",
   "metadata": {},
   "outputs": [],
   "source": [
    "# Importamos BeautifulSoup para parsear HTML\n",
    "from bs4 import BeautifulSoup\n",
    "# Importamos requests para hacer peticiones HTTP\n",
    "import requests\n",
    "# Importamos pandas para manejar los datos en DataFrames\n",
    "import pandas as pd"
   ]
  },
  {
   "cell_type": "markdown",
   "id": "7fe95d35",
   "metadata": {},
   "source": [
    "Estamos recopilando datos de periféricos de computadora del sitio \"MD Computers\" usando Beautiful Soup 4"
   ]
  },
  {
   "cell_type": "markdown",
   "id": "cd258aef",
   "metadata": {},
   "source": [
    "Introduce el artículo del cual quieres recopilar información."
   ]
  },
  {
   "cell_type": "code",
   "execution_count": null,
   "id": "9c8eac1e",
   "metadata": {},
   "outputs": [],
   "source": [
    "# Solicitamos al usuario que introduzca el artículo que quiere buscar\n",
    "search_item = input(\"Which item do you want to search? \")"
   ]
  },
  {
   "cell_type": "markdown",
   "id": "bc32cb7e",
   "metadata": {},
   "source": [
    "Desde la URL dinámica del sitio web estamos formateando el resultado de búsqueda en la URL."
   ]
  },
  {
   "cell_type": "code",
   "execution_count": null,
   "id": "a75403e3",
   "metadata": {},
   "outputs": [],
   "source": [
    "# Construimos la URL de búsqueda insertando el término que introdujo el usuario\n",
    "url = f\"https://mdcomputers.in/index.php?submit_search=&route=product%2Fsearch&&search={search_item}\""
   ]
  },
  {
   "cell_type": "code",
   "execution_count": null,
   "id": "96eed9d3",
   "metadata": {},
   "outputs": [],
   "source": [
    "url"
   ]
  },
  {
   "cell_type": "markdown",
   "id": "f95e9813",
   "metadata": {},
   "source": [
    "Parseando el contenido HTML de la página."
   ]
  },
  {
   "cell_type": "code",
   "execution_count": null,
   "id": "d9aeb466",
   "metadata": {},
   "outputs": [],
   "source": [
    "# Obtenemos el contenido HTML de la página como texto\n",
    "page_ = requests.get(url).text\n",
    "# Parseamos el HTML con BeautifulSoup para poder navegar por él\n",
    "doc = BeautifulSoup(page_, \"html.parser\")"
   ]
  },
  {
   "cell_type": "markdown",
   "id": "4c6bfd9c",
   "metadata": {},
   "source": [
    "Encontrando el número total de páginas de resultados filtrando las etiquetas HTML por nombre de clase"
   ]
  },
  {
   "cell_type": "code",
   "execution_count": null,
   "id": "c2e423ec",
   "metadata": {},
   "outputs": [],
   "source": [
    "# Buscamos el elemento que contiene el número total de páginas\n",
    "#total_pages_x = doc.find(class_=\"col-sm-6 text-right\")\n",
    "# Encontramos el elemento con la clase que muestra la paginación\n",
    "total_pages_x = doc.find(class_=\"col-md-6 text-md-end mb-2\")"
   ]
  },
  {
   "cell_type": "code",
   "execution_count": null,
   "id": "518b3723",
   "metadata": {},
   "outputs": [],
   "source": [
    "\n",
    "#Extrae el número de páginas del texto, tomando el valor que está entre paréntesis antes del espacio.\n",
    "total_pages_x.text.split(\"(\")[1].split(\" \")[0]"
   ]
  },
  {
   "cell_type": "code",
   "execution_count": null,
   "id": "5949d712",
   "metadata": {},
   "outputs": [],
   "source": [
    "# Convertimos el número de páginas a entero para poder usarlo en el bucle\n",
    "total_pages = int(total_pages_x.text.split(\"(\")[1].split(\" \")[0])"
   ]
  },
  {
   "cell_type": "code",
   "execution_count": null,
   "id": "1eb6c3d4",
   "metadata": {},
   "outputs": [],
   "source": [
    "# Mostramos el total de páginas\n",
    "total_pages"
   ]
  },
  {
   "cell_type": "markdown",
   "id": "60aa546e",
   "metadata": {},
   "source": [
    "Total de páginas de resultados obtenidas para la búsqueda"
   ]
  },
  {
   "cell_type": "code",
   "execution_count": null,
   "id": "4370b299",
   "metadata": {},
   "outputs": [],
   "source": [
    "# Verificamos el número total de páginas\n",
    "total_pages"
   ]
  },
  {
   "cell_type": "markdown",
   "id": "8d76987b",
   "metadata": {},
   "source": [
    "Vamos a recopilar el nombre del artículo, su enlace y su precio (antiguo y nuevo) a continuación"
   ]
  },
  {
   "cell_type": "markdown",
   "id": "2b120fa9",
   "metadata": {},
   "source": [
    "Creando listas vacías para los datos"
   ]
  },
  {
   "cell_type": "code",
   "execution_count": null,
   "id": "073d5708",
   "metadata": {},
   "outputs": [],
   "source": [
    "# Inicializamos listas vacías para almacenar los datos de cada producto\n",
    "link = []          # Para guardar los enlaces de los productos\n",
    "item_name = []     # Para guardar los nombres de los productos\n",
    "new_price = []     # Para guardar los precios actuales\n",
    "old_price = []     # Para guardar los precios anteriores"
   ]
  },
  {
   "cell_type": "markdown",
   "id": "ab4aad0a",
   "metadata": {},
   "source": [
    "Aquí está el código principal que extrae la información del código HTML"
   ]
  },
  {
   "cell_type": "markdown",
   "id": "9618ac31",
   "metadata": {},
   "source": [
    "Desde esta URL, podemos buscar los productos que necesitamos, iterando a través de las páginas hasta el total de páginas de resultados que obtuvimos anteriormente."
   ]
  },
  {
   "cell_type": "code",
   "execution_count": null,
   "id": "15aa19e0",
   "metadata": {},
   "outputs": [],
   "source": [
    "# Iteramos a través de todas las páginas de resultados\n",
    "for page in range(1, total_pages + 1):\n",
    "    # Construimos la URL para cada página específica\n",
    "    url = f\"https://mdcomputers.in/index.php?route=product/search&page={page}&search={search_item}\"\n",
    "    print(url)\n",
    "    # Obtenemos el contenido HTML de la página actual\n",
    "    page_ = requests.get(url).text\n",
    "    # Parseamos el HTML con BeautifulSoup\n",
    "    doc = BeautifulSoup(page_, \"html.parser\")\n",
    "    \n",
    "    # Encontramos todos los elementos div que contienen información de productos\n",
    "    items = doc.find_all(class_ = \"product-wrapper\") #Encontrando el div principal para cada producto que contiene los datos\n",
    "    print(items)\n",
    "    # Iteramos a través de cada producto encontrado\n",
    "    for item in items:\n",
    "        \n",
    "        # Extraemos el enlace del producto del atributo href dentro del tag h3\n",
    "        link.append((item.find(\"h3\")).find(\"a\")['href'])\n",
    "        # Extraemos el nombre del producto del texto dentro del tag h3\n",
    "        item_name.append(((item.find(\"h3\")).find(\"a\")).text)\n",
    "        # Extraemos el precio antiguo (tachado) eliminando el símbolo de moneda\n",
    "        old_price.append(((item.find(\"span\",class_ = \"del\")).find(\"span\",class_ = \"amount\")).text[1:])\n",
    "        # Extraemos el precio nuevo (actual) eliminando el símbolo de moneda\n",
    "        new_price.append(((item.find(\"span\",class_ = \"ins\")).find(\"span\",class_ = \"amount\")).text[1:])\n",
    "        #try:\n",
    "            # En algunos productos no hay precio antiguo, por lo que se usa try para manejar el error\n",
    "        #    old_price.append(((item.find(\"div\",class_ = \"price\")).find(\"span\",class_ = \"price-old\")).string[1:])    \n",
    "        #except:\n",
    "        #    # Para productos sin precio antiguo, se declara como null\n",
    "        #    old_price.append(None)"
   ]
  },
  {
   "cell_type": "code",
   "execution_count": null,
   "id": "7d86c258",
   "metadata": {},
   "outputs": [],
   "source": [
    "# Verificamos el número total de nombres de productos recopilados\n",
    "len(item_name)"
   ]
  },
  {
   "cell_type": "code",
   "execution_count": null,
   "id": "7565b8b3",
   "metadata": {},
   "outputs": [],
   "source": [
    "# Verificamos el número total de enlaces recopilados\n",
    "len(link)"
   ]
  },
  {
   "cell_type": "code",
   "execution_count": null,
   "id": "f07e4d46",
   "metadata": {},
   "outputs": [],
   "source": [
    "# Mostramos la lista de nombres ordenados alfabéticamente\n",
    "sorted(item_name)"
   ]
  },
  {
   "cell_type": "markdown",
   "id": "3db39bf1",
   "metadata": {},
   "source": [
    "Convirtiendo las listas a un Diccionario y luego a un DataFrame."
   ]
  },
  {
   "cell_type": "code",
   "execution_count": null,
   "id": "29b603eb",
   "metadata": {},
   "outputs": [],
   "source": [
    "# Creamos un diccionario con todas las listas de datos recopilados\n",
    "my_dict = {'item_name': item_name , 'link': link , 'new_price': new_price , 'old_price': old_price}"
   ]
  },
  {
   "cell_type": "code",
   "execution_count": null,
   "id": "35e0c3fd",
   "metadata": {},
   "outputs": [],
   "source": [
    "# Verificamos la longitud de la lista de precios antiguos\n",
    "len(old_price)"
   ]
  },
  {
   "cell_type": "code",
   "execution_count": null,
   "id": "f2b7524b",
   "metadata": {},
   "outputs": [],
   "source": [
    "# Verificamos que todas las listas tengan la misma longitud\n",
    "for key in my_dict:\n",
    "    print(len(my_dict[key]))"
   ]
  },
  {
   "cell_type": "code",
   "execution_count": null,
   "id": "ab25907c",
   "metadata": {},
   "outputs": [],
   "source": [
    "# Convertimos el diccionario en un DataFrame de pandas para facilitar el manejo de datos\n",
    "df = pd.DataFrame(my_dict)"
   ]
  },
  {
   "cell_type": "markdown",
   "id": "c4952bb7",
   "metadata": {},
   "source": [
    "Aquí está nuestro DataFrame con los datos requeridos"
   ]
  },
  {
   "cell_type": "code",
   "execution_count": null,
   "id": "ed2bc5c0",
   "metadata": {},
   "outputs": [],
   "source": [
    "# Mostramos el DataFrame completo con todos los productos y sus datos\n",
    "df"
   ]
  },
  {
   "cell_type": "markdown",
   "id": "cab3d08f",
   "metadata": {},
   "source": [
    "Convirtiendo el DataFrame a un documento de Excel con el nombre del archivo como el artículo que buscamos"
   ]
  },
  {
   "cell_type": "code",
   "execution_count": null,
   "id": "b69ef4cd",
   "metadata": {},
   "outputs": [],
   "source": [
    "# Exportamos el DataFrame a un archivo Excel con el nombre basado en el término de búsqueda\n",
    "df.to_excel(f'{search_item}_list_mdcomputers.xlsx')"
   ]
  },
  {
   "cell_type": "markdown",
   "id": "bfcf2dce",
   "metadata": {},
   "source": [
    "Finalmente hemos extraído los datos del sitio web (MD Computers) exitosamente usando BeautifulSoup4."
   ]
  }
 ],
 "metadata": {
  "kernelspec": {
   "display_name": "Python 3",
   "language": "python",
   "name": "python3"
  },
  "language_info": {
   "codemirror_mode": {
    "name": "ipython",
    "version": 3
   },
   "file_extension": ".py",
   "mimetype": "text/x-python",
   "name": "python",
   "nbconvert_exporter": "python",
   "pygments_lexer": "ipython3",
   "version": "3.11.9"
  }
 },
 "nbformat": 4,
 "nbformat_minor": 5
}
