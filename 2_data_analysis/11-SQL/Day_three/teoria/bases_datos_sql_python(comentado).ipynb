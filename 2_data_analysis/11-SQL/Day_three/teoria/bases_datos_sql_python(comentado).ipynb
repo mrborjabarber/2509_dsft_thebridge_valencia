{
 "cells": [
  {
   "cell_type": "markdown",
   "metadata": {},
   "source": [
    "# Base de Datos SQL Relacional con Python\n",
    "\n",
    "Borja Barber Lead Instructor DS\n",
    "\n",
    "\n",
    "## Introducción\n",
    "\n",
    "En este tutorial aprenderemos a crear y gestionar bases de datos SQL relacionales usando Python.\n",
    "\n",
    "Usaremos **SQLite**, una base de datos ligera que viene incluida con Python y no requiere instalación adicional.\n",
    "\n",
    "### Ejemplo: Sistema de Tienda Online\n",
    "\n",
    "Crearemos una base de datos para una tienda online con las siguientes tablas:\n",
    "- **Clientes**: información de los clientes\n",
    "- **Productos**: catálogo de productos\n",
    "- **Pedidos**: pedidos realizados\n",
    "- **Detalles_Pedido**: productos incluidos en cada pedido\n",
    "\n",
    "## Paso 1: Importar las librerías necesarias"
   ]
  },
  {
   "cell_type": "code",
   "execution_count": null,
   "metadata": {},
   "outputs": [],
   "source": "# Importamos sqlite3, la librería estándar de Python para trabajar con bases de datos SQLite\n# SQLite es una base de datos embebida que no requiere servidor\nimport sqlite3\n\n# Importamos datetime para trabajar con fechas y horas\n# Esto nos permitirá registrar cuándo ocurren eventos (ej: fecha de registro de cliente)\nfrom datetime import datetime\n\n# Importamos pandas para visualizar mejor los resultados (opcional pero recomendado)\n# Pandas nos permite mostrar los datos en formato tabla más legible\nimport pandas as pd\n\n# Mensaje de confirmación para saber que todo se importó correctamente\nprint(\"Librerías importadas correctamente\")"
  },
  {
   "cell_type": "markdown",
   "metadata": {},
   "source": [
    "## Paso 2: Crear la conexión a la base de datos\n",
    "\n",
    "Para trabajar con SQLite necesitamos:\n",
    "1. **Conexión**: objeto que representa la conexión con la base de datos\n",
    "2. **Cursor**: objeto que nos permite ejecutar comandos SQL"
   ]
  },
  {
   "cell_type": "code",
   "execution_count": null,
   "metadata": {},
   "outputs": [],
   "source": "# Creamos la conexión a la base de datos\n# sqlite3.connect() crea un archivo .db si no existe o se conecta a uno existente\n# Si el archivo 'tienda_online.db' no existe, se creará automáticamente\nconexion = sqlite3.connect('tienda_online.db')\n\n# Creamos un cursor, que es el objeto que usaremos para ejecutar comandos SQL\n# El cursor es como un \"puntero\" que nos permite navegar y modificar la base de datos\ncursor = conexion.cursor()\n\n# Mensajes informativos para confirmar que la conexión fue exitosa\nprint(\"Conexión establecida exitosamente\")\nprint(f\"Base de datos: tienda_online.db\")"
  },
  {
   "cell_type": "markdown",
   "metadata": {},
   "source": [
    "## Paso 3: Crear la tabla CLIENTES\n",
    "\n",
    "Comenzamos creando la tabla de clientes con los siguientes campos:\n",
    "- **id_cliente**: identificador único (clave primaria)\n",
    "- **nombre**: nombre del cliente\n",
    "- **email**: correo electrónico (único)\n",
    "- **telefono**: número de teléfono\n",
    "- **direccion**: dirección de envío\n",
    "- **fecha_registro**: fecha en que se registró el cliente"
   ]
  },
  {
   "cell_type": "code",
   "execution_count": null,
   "metadata": {},
   "outputs": [],
   "source": "# Primero eliminamos la tabla si ya existe (útil para reiniciar desde cero)\n# DROP TABLE IF EXISTS es una operación segura que no da error si la tabla no existe\ncursor.execute('DROP TABLE IF EXISTS Clientes')\n\n# Creamos la tabla Clientes con SQL usando cursor.execute()\n# Tipos de datos en SQLite:\n#   - INTEGER: números enteros\n#   - TEXT: cadenas de texto\n#   - REAL: números decimales\n#   - DATE: fechas\n# Restricciones:\n#   - PRIMARY KEY: identifica de forma única cada registro\n#   - AUTOINCREMENT: genera automáticamente el ID (1, 2, 3, ...)\n#   - NOT NULL: el campo no puede estar vacío (es obligatorio)\n#   - UNIQUE: no puede haber valores duplicados (ej: dos emails iguales)\ncursor.execute('''\n    CREATE TABLE Clientes (\n        id_cliente INTEGER PRIMARY KEY AUTOINCREMENT,\n        nombre TEXT NOT NULL,\n        email TEXT NOT NULL UNIQUE,\n        telefono TEXT,\n        direccion TEXT,\n        fecha_registro DATE NOT NULL\n    )\n''')\n\n# Guardamos los cambios en la base de datos\n# commit() hace permanentes los cambios - sin esto, los cambios se pierden\nconexion.commit()\n\nprint(\"✓ Tabla CLIENTES creada exitosamente\")"
  },
  {
   "cell_type": "markdown",
   "metadata": {},
   "source": [
    "## Paso 4: Crear la tabla PRODUCTOS\n",
    "\n",
    "Ahora creamos la tabla de productos para nuestro catálogo."
   ]
  },
  {
   "cell_type": "code",
   "execution_count": null,
   "metadata": {},
   "outputs": [],
   "source": "# Eliminamos la tabla Productos si existe (para empezar limpio)\ncursor.execute('DROP TABLE IF EXISTS Productos')\n\n# Creamos la tabla Productos\n# REAL: tipo de dato para números decimales (ideal para precios como 19.99)\n# INTEGER: tipo de dato para números enteros (ideal para cantidad de stock)\n# DEFAULT 0: si no especificamos el stock, por defecto será 0\ncursor.execute('''\n    CREATE TABLE Productos (\n        id_producto INTEGER PRIMARY KEY AUTOINCREMENT,\n        nombre TEXT NOT NULL,\n        descripcion TEXT,\n        precio REAL NOT NULL,\n        stock INTEGER NOT NULL DEFAULT 0,\n        categoria TEXT\n    )\n''')\n\n# Guardamos los cambios con commit()\nconexion.commit()\n\nprint(\"✓ Tabla PRODUCTOS creada exitosamente\")"
  },
  {
   "cell_type": "markdown",
   "metadata": {},
   "source": [
    "## Paso 5: Crear la tabla PEDIDOS\n",
    "\n",
    "Esta tabla almacenará la información general de cada pedido.\n",
    "\n",
    "Incluye una **clave foránea** (FOREIGN KEY) que relaciona cada pedido con un cliente."
   ]
  },
  {
   "cell_type": "code",
   "execution_count": null,
   "metadata": {},
   "outputs": [],
   "source": "# Eliminamos la tabla Pedidos si existe\ncursor.execute('DROP TABLE IF EXISTS Pedidos')\n\n# Creamos la tabla Pedidos\n# Esta tabla contiene información general de cada pedido\n# FOREIGN KEY: establece una relación con la tabla Clientes\n#   - id_cliente debe existir en la tabla Clientes (integridad referencial)\n# ON DELETE CASCADE: si eliminamos un cliente, automáticamente se eliminan sus pedidos\n#   - Esto mantiene la consistencia de los datos\ncursor.execute('''\n    CREATE TABLE Pedidos (\n        id_pedido INTEGER PRIMARY KEY AUTOINCREMENT,\n        id_cliente INTEGER NOT NULL,\n        fecha_pedido DATE NOT NULL,\n        estado TEXT NOT NULL DEFAULT 'Pendiente',\n        total REAL NOT NULL,\n        FOREIGN KEY (id_cliente) REFERENCES Clientes(id_cliente) ON DELETE CASCADE\n    )\n''')\n\n# Guardamos los cambios en disco\nconexion.commit()\n\nprint(\"✓ Tabla PEDIDOS creada exitosamente\")"
  },
  {
   "cell_type": "markdown",
   "metadata": {},
   "source": [
    "## Paso 6: Crear la tabla DETALLES_PEDIDO\n",
    "\n",
    "Esta tabla relaciona pedidos con productos (relación muchos a muchos).\n",
    "\n",
    "Cada registro indica qué productos y en qué cantidad están en cada pedido."
   ]
  },
  {
   "cell_type": "code",
   "execution_count": null,
   "metadata": {},
   "outputs": [],
   "source": "# Eliminamos la tabla Detalles_Pedido si existe\ncursor.execute('DROP TABLE IF EXISTS Detalles_Pedido')\n\n# Creamos la tabla Detalles_Pedido\n# Esta tabla relaciona pedidos con productos (tabla intermedia)\n# Resuelve la relación muchos a muchos:\n#   - Un pedido puede tener muchos productos\n#   - Un producto puede estar en muchos pedidos\n# Esta tabla tiene DOS claves foráneas:\n#   - FOREIGN KEY hacia Pedidos: conecta con el pedido al que pertenece\n#   - FOREIGN KEY hacia Productos: conecta con el producto vendido\n# ON DELETE CASCADE: si eliminamos un pedido o producto, se eliminan sus detalles\ncursor.execute('''\n    CREATE TABLE Detalles_Pedido (\n        id_detalle INTEGER PRIMARY KEY AUTOINCREMENT,\n        id_pedido INTEGER NOT NULL,\n        id_producto INTEGER NOT NULL,\n        cantidad INTEGER NOT NULL,\n        precio_unitario REAL NOT NULL,\n        subtotal REAL NOT NULL,\n        FOREIGN KEY (id_pedido) REFERENCES Pedidos(id_pedido) ON DELETE CASCADE,\n        FOREIGN KEY (id_producto) REFERENCES Productos(id_producto) ON DELETE CASCADE\n    )\n''')\n\n# Guardamos los cambios\nconexion.commit()\n\nprint(\"✓ Tabla DETALLES_PEDIDO creada exitosamente\")"
  },
  {
   "cell_type": "markdown",
   "metadata": {},
   "source": [
    "## Paso 7: Verificar las tablas creadas\n",
    "\n",
    "Vamos a consultar el esquema de la base de datos para verificar que todas las tablas se crearon correctamente."
   ]
  },
  {
   "cell_type": "code",
   "execution_count": null,
   "metadata": {},
   "outputs": [],
   "source": "# Consultamos la tabla sqlite_master que contiene información sobre todas las tablas\n# sqlite_master es una tabla especial del sistema que almacena metadatos\n# WHERE type='table' filtra solo las tablas (no vistas, índices, etc.)\ncursor.execute(\"SELECT name FROM sqlite_master WHERE type='table'\")\n\n# fetchall() obtiene todos los resultados de la consulta como una lista de tuplas\ntablas = cursor.fetchall()\n\nprint(\"Tablas en la base de datos:\")\nprint(\"=\"*40)\n# Iteramos sobre cada tabla encontrada\nfor tabla in tablas:\n    # tabla[0] contiene el nombre de la tabla (primera columna del resultado)\n    print(f\"  • {tabla[0]}\")"
  },
  {
   "cell_type": "markdown",
   "metadata": {},
   "source": [
    "## Paso 8: Insertar datos en CLIENTES\n",
    "\n",
    "Ahora vamos a insertar registros en nuestras tablas.\n",
    "\n",
    "### Método 1: Insertar un solo registro"
   ]
  },
  {
   "cell_type": "code",
   "execution_count": null,
   "metadata": {},
   "outputs": [],
   "source": "# Insertamos un cliente usando el comando INSERT INTO\n# INSERT INTO especifica la tabla y las columnas donde insertar datos\n# VALUES especifica los valores a insertar\n# Los signos de interrogación (?) son marcadores de posición (placeholders)\n#   - Evitan inyección SQL (un problema de seguridad grave)\n#   - SQLite reemplaza cada ? por el valor correspondiente de la tupla\ncursor.execute('''\n    INSERT INTO Clientes (nombre, email, telefono, direccion, fecha_registro)\n    VALUES (?, ?, ?, ?, ?)\n''', ('Juan Pérez', 'juan.perez@email.com', '666123456', 'Calle Mayor 10, Madrid', '2024-01-15'))\n\n# Guardamos los cambios con commit()\n# Sin commit(), los cambios solo están en memoria y se perderían\nconexion.commit()\n\nprint(\"✓ Cliente insertado correctamente\")\n# lastrowid nos da el ID autoincremental del último registro insertado\nprint(f\"ID del cliente insertado: {cursor.lastrowid}\")"
  },
  {
   "cell_type": "markdown",
   "metadata": {},
   "source": [
    "### Método 2: Insertar múltiples registros"
   ]
  },
  {
   "cell_type": "code",
   "execution_count": null,
   "metadata": {},
   "outputs": [],
   "source": "# Creamos una lista de tuplas con los datos de varios clientes\n# Cada tupla representa un cliente con sus datos en el mismo orden que las columnas\nclientes_datos = [\n    ('María García', 'maria.garcia@email.com', '677234567', 'Avenida Libertad 25, Barcelona', '2024-02-20'),\n    ('Carlos Rodríguez', 'carlos.rodriguez@email.com', '688345678', 'Plaza España 5, Valencia', '2024-03-10'),\n    ('Ana Martínez', 'ana.martinez@email.com', '699456789', 'Calle Sol 15, Sevilla', '2024-03-25'),\n    ('Luis Fernández', 'luis.fernandez@email.com', '611567890', 'Calle Luna 8, Bilbao', '2024-04-05')\n]\n\n# executemany() ejecuta la misma consulta múltiples veces con diferentes datos\n# Es más eficiente que ejecutar execute() en un bucle\n# Inserta todos los clientes de la lista en una sola operación\ncursor.executemany('''\n    INSERT INTO Clientes (nombre, email, telefono, direccion, fecha_registro)\n    VALUES (?, ?, ?, ?, ?)\n''', clientes_datos)\n\n# Guardamos todos los cambios a la vez\nconexion.commit()\n\nprint(f\"✓ {len(clientes_datos)} clientes insertados correctamente\")"
  },
  {
   "cell_type": "markdown",
   "metadata": {},
   "source": [
    "## Paso 9: Insertar datos en PRODUCTOS"
   ]
  },
  {
   "cell_type": "code",
   "execution_count": null,
   "metadata": {},
   "outputs": [],
   "source": "# Lista de productos para nuestra tienda\n# Cada tupla contiene: (nombre, descripcion, precio, stock, categoria)\n# Los datos deben estar en el mismo orden que las columnas del INSERT\nproductos_datos = [\n    ('Laptop HP Pavilion', 'Portátil 15.6 pulgadas, Intel i5, 8GB RAM', 699.99, 15, 'Informática'),\n    ('Mouse Logitech MX', 'Mouse inalámbrico ergonómico', 79.99, 50, 'Informática'),\n    ('Teclado Mecánico RGB', 'Teclado gaming con iluminación RGB', 129.99, 30, 'Informática'),\n    ('Monitor Samsung 27\"', 'Monitor Full HD IPS 27 pulgadas', 249.99, 20, 'Informática'),\n    ('Auriculares Sony WH-1000XM4', 'Auriculares con cancelación de ruido', 299.99, 25, 'Audio'),\n    ('Webcam Logitech C920', 'Webcam Full HD 1080p', 89.99, 40, 'Informática'),\n    ('SSD Samsung 1TB', 'Disco duro sólido 1TB NVMe', 119.99, 35, 'Almacenamiento'),\n    ('Cable HDMI 2m', 'Cable HDMI 2.0 alta velocidad', 12.99, 100, 'Accesorios')\n]\n\n# Insertamos todos los productos de una vez usando executemany()\n# Es mucho más rápido que insertar uno por uno\ncursor.executemany('''\n    INSERT INTO Productos (nombre, descripcion, precio, stock, categoria)\n    VALUES (?, ?, ?, ?, ?)\n''', productos_datos)\n\n# Confirmamos los cambios en la base de datos\nconexion.commit()\n\nprint(f\"✓ {len(productos_datos)} productos insertados correctamente\")"
  },
  {
   "cell_type": "markdown",
   "metadata": {},
   "source": [
    "## Paso 10: Consultar datos - SELECT básico\n",
    "\n",
    "Ahora vamos a aprender a consultar los datos insertados."
   ]
  },
  {
   "cell_type": "code",
   "execution_count": null,
   "metadata": {},
   "outputs": [],
   "source": "# Consultamos todos los clientes usando SELECT\n# SELECT * significa \"seleccionar todas las columnas\"\n# FROM Clientes especifica la tabla a consultar\ncursor.execute('SELECT * FROM Clientes')\n\n# fetchall() obtiene todos los resultados como una lista de tuplas\n# Cada tupla representa un cliente con todos sus campos\nclientes = cursor.fetchall()\n\nprint(\"CLIENTES REGISTRADOS:\")\nprint(\"=\"*80)\n# Iteramos sobre cada cliente\nfor cliente in clientes:\n    # Accedemos a los campos por índice: [0]=id_cliente, [1]=nombre, [2]=email\n    print(f\"ID: {cliente[0]} | Nombre: {cliente[1]} | Email: {cliente[2]}\")\n\n# len() cuenta cuántos clientes hay en total\nprint(f\"\\nTotal de clientes: {len(clientes)}\")"
  },
  {
   "cell_type": "markdown",
   "metadata": {},
   "source": [
    "### Usar Pandas para mejor visualización"
   ]
  },
  {
   "cell_type": "code",
   "execution_count": null,
   "metadata": {},
   "outputs": [],
   "source": "# Usamos pandas para mostrar los resultados en formato tabla más legible\n# read_sql_query() ejecuta la consulta SQL y devuelve un DataFrame de pandas\n# Un DataFrame es una estructura de datos tabular (como una hoja de Excel)\n# El segundo parámetro (conexion) indica qué base de datos usar\ndf_clientes = pd.read_sql_query('SELECT * FROM Clientes', conexion)\n\nprint(\"TABLA CLIENTES:\")\n# display() muestra el DataFrame en formato tabla bonito en Jupyter\ndisplay(df_clientes)"
  },
  {
   "cell_type": "markdown",
   "metadata": {},
   "source": [
    "## Paso 11: Consultas con filtros - WHERE"
   ]
  },
  {
   "cell_type": "code",
   "execution_count": null,
   "metadata": {},
   "outputs": [],
   "source": "# Ejemplo 1: Buscar productos de una categoría específica\nprint(\"PRODUCTOS DE INFORMÁTICA:\")\nprint(\"=\"*80)\n\n# WHERE filtra los registros que cumplan una condición\n# categoria = 'Informática' solo devuelve productos de esa categoría\n# SELECT nombre, precio, stock: solo seleccionamos estas 3 columnas (no todas)\ndf_informatica = pd.read_sql_query('''\n    SELECT nombre, precio, stock \n    FROM Productos \n    WHERE categoria = 'Informática'\n''', conexion)\n\n# Mostramos el resultado en formato tabla\ndisplay(df_informatica)"
  },
  {
   "cell_type": "code",
   "execution_count": null,
   "metadata": {},
   "outputs": [],
   "source": "# Ejemplo 2: Buscar productos con precio menor a 100€\nprint(\"PRODUCTOS ECONÓMICOS (< 100€):\")\nprint(\"=\"*80)\n\n# WHERE precio < 100: filtra productos cuyo precio sea menor a 100\n# ORDER BY precio ASC: ordena los resultados por precio de menor a mayor\n#   - ASC = ascendente (de menor a mayor)\n#   - DESC = descendente (de mayor a menor)\ndf_economicos = pd.read_sql_query('''\n    SELECT nombre, precio, categoria\n    FROM Productos \n    WHERE precio < 100\n    ORDER BY precio ASC\n''', conexion)\n\ndisplay(df_economicos)"
  },
  {
   "cell_type": "code",
   "execution_count": null,
   "metadata": {},
   "outputs": [],
   "source": "# Ejemplo 3: Buscar productos con stock bajo (menos de 25 unidades)\nprint(\"PRODUCTOS CON STOCK BAJO:\")\nprint(\"=\"*80)\n\n# WHERE stock < 25: filtra productos con menos de 25 unidades en stock\n# ORDER BY stock ASC: ordena del stock más bajo al más alto\n# Esto es útil para saber qué productos necesitamos reponer urgentemente\ndf_stock_bajo = pd.read_sql_query('''\n    SELECT nombre, stock, precio\n    FROM Productos \n    WHERE stock < 25\n    ORDER BY stock ASC\n''', conexion)\n\ndisplay(df_stock_bajo)"
  },
  {
   "cell_type": "markdown",
   "metadata": {},
   "source": [
    "## Paso 12: Crear pedidos (relaciones entre tablas)\n",
    "\n",
    "Ahora vamos a crear pedidos relacionando clientes con productos."
   ]
  },
  {
   "cell_type": "code",
   "execution_count": null,
   "metadata": {},
   "outputs": [],
   "source": "# PEDIDO 1: Juan Pérez compra una laptop y un mouse\n\n# Primero insertamos el registro del pedido en la tabla Pedidos\n# Este registro contiene la información general del pedido\n# (1, ...) significa id_cliente=1 que corresponde a Juan Pérez\n# 779.98 es el total del pedido (suma de los productos)\ncursor.execute('''\n    INSERT INTO Pedidos (id_cliente, fecha_pedido, estado, total)\n    VALUES (?, ?, ?, ?)\n''', (1, '2024-05-15', 'Completado', 779.98))\n\n# Obtenemos el ID del pedido recién creado con lastrowid\n# Necesitamos este ID para relacionar los productos con este pedido\nid_pedido_1 = cursor.lastrowid\n\n# Ahora insertamos los detalles del pedido en la tabla Detalles_Pedido\n# Cada tupla representa un producto en el pedido\n# Formato: (id_pedido, id_producto, cantidad, precio_unitario, subtotal)\ndetalles_pedido_1 = [\n    (id_pedido_1, 1, 1, 699.99, 699.99),  # 1 Laptop HP (id_producto=1)\n    (id_pedido_1, 2, 1, 79.99, 79.99)      # 1 Mouse Logitech (id_producto=2)\n]\n\n# Insertamos todos los detalles del pedido\ncursor.executemany('''\n    INSERT INTO Detalles_Pedido (id_pedido, id_producto, cantidad, precio_unitario, subtotal)\n    VALUES (?, ?, ?, ?, ?)\n''', detalles_pedido_1)\n\n# Guardamos los cambios (tanto el pedido como sus detalles)\nconexion.commit()\nprint(f\"✓ Pedido #{id_pedido_1} creado para Juan Pérez\")"
  },
  {
   "cell_type": "code",
   "execution_count": null,
   "metadata": {},
   "outputs": [],
   "source": "# PEDIDO 2: María García compra auriculares y un cable HDMI\n\n# Insertamos el pedido principal para María García (id_cliente=2)\n# El estado es 'En tránsito' indicando que el pedido ya fue enviado\ncursor.execute('''\n    INSERT INTO Pedidos (id_cliente, fecha_pedido, estado, total)\n    VALUES (?, ?, ?, ?)\n''', (2, '2024-05-20', 'En tránsito', 312.98))\n\n# Guardamos el ID del nuevo pedido\nid_pedido_2 = cursor.lastrowid\n\n# Preparamos los detalles del pedido\n# (id_pedido, id_producto, cantidad, precio_unitario, subtotal)\ndetalles_pedido_2 = [\n    (id_pedido_2, 5, 1, 299.99, 299.99),  # 1 Auriculares Sony (id_producto=5)\n    (id_pedido_2, 8, 1, 12.99, 12.99)      # 1 Cable HDMI (id_producto=8)\n]\n\n# Insertamos los detalles\ncursor.executemany('''\n    INSERT INTO Detalles_Pedido (id_pedido, id_producto, cantidad, precio_unitario, subtotal)\n    VALUES (?, ?, ?, ?, ?)\n''', detalles_pedido_2)\n\n# Confirmamos los cambios en la base de datos\nconexion.commit()\nprint(f\"✓ Pedido #{id_pedido_2} creado para María García\")"
  },
  {
   "cell_type": "code",
   "execution_count": null,
   "metadata": {},
   "outputs": [],
   "source": "# PEDIDO 3: Carlos Rodríguez compra un monitor, teclado y 2 cables HDMI\n\n# Insertamos el pedido para Carlos Rodríguez (id_cliente=3)\n# Estado 'Pendiente' significa que aún no se ha procesado o enviado\ncursor.execute('''\n    INSERT INTO Pedidos (id_cliente, fecha_pedido, estado, total)\n    VALUES (?, ?, ?, ?)\n''', (3, '2024-05-22', 'Pendiente', 405.96))\n\n# Obtenemos el ID del pedido creado\nid_pedido_3 = cursor.lastrowid\n\n# Detalles del pedido\n# Nota: En la última línea, cantidad=2 y subtotal=25.98 (2 cables × 12.99€)\ndetalles_pedido_3 = [\n    (id_pedido_3, 4, 1, 249.99, 249.99),    # 1 Monitor Samsung (id_producto=4)\n    (id_pedido_3, 3, 1, 129.99, 129.99),    # 1 Teclado Mecánico (id_producto=3)\n    (id_pedido_3, 8, 2, 12.99, 25.98)       # 2 Cables HDMI (id_producto=8)\n]\n\n# Insertamos los detalles del pedido\ncursor.executemany('''\n    INSERT INTO Detalles_Pedido (id_pedido, id_producto, cantidad, precio_unitario, subtotal)\n    VALUES (?, ?, ?, ?, ?)\n''', detalles_pedido_3)\n\n# Guardamos todos los cambios\nconexion.commit()\nprint(f\"✓ Pedido #{id_pedido_3} creado para Carlos Rodríguez\")"
  },
  {
   "cell_type": "markdown",
   "metadata": {},
   "source": [
    "## Paso 13: Consultas con JOIN (unir tablas)\n",
    "\n",
    "Los JOIN nos permiten combinar información de varias tablas relacionadas.\n",
    "\n",
    "### Consulta 1: Ver todos los pedidos con información del cliente"
   ]
  },
  {
   "cell_type": "code",
   "execution_count": null,
   "metadata": {},
   "outputs": [],
   "source": "# INNER JOIN combina las tablas Pedidos y Clientes usando id_cliente\n# Esto nos permite ver información de ambas tablas en una sola consulta\n# \n# FROM Pedidos p: seleccionamos de Pedidos (usamos alias 'p' para abreviar)\n# INNER JOIN Clientes c: unimos con Clientes (alias 'c')\n# ON p.id_cliente = c.id_cliente: la condición de unión (cómo se relacionan)\n#\n# c.nombre AS cliente: renombramos la columna 'nombre' a 'cliente' en el resultado\n# ORDER BY p.fecha_pedido DESC: ordenamos por fecha, del más reciente al más antiguo\ndf_pedidos_completo = pd.read_sql_query('''\n    SELECT \n        p.id_pedido,\n        c.nombre AS cliente,\n        c.email,\n        p.fecha_pedido,\n        p.estado,\n        p.total\n    FROM Pedidos p\n    INNER JOIN Clientes c ON p.id_cliente = c.id_cliente\n    ORDER BY p.fecha_pedido DESC\n''', conexion)\n\nprint(\"TODOS LOS PEDIDOS CON INFORMACIÓN DEL CLIENTE:\")\nprint(\"=\"*80)\ndisplay(df_pedidos_completo)"
  },
  {
   "cell_type": "markdown",
   "metadata": {},
   "source": [
    "### Consulta 2: Detalle completo de un pedido específico"
   ]
  },
  {
   "cell_type": "code",
   "execution_count": null,
   "metadata": {},
   "outputs": [],
   "source": "# Consultamos el detalle del pedido #1 (Juan Pérez)\n# Esta consulta une 3 tablas para mostrar información completa:\n#   - Detalles_Pedido: contiene qué productos y cantidades\n#   - Productos: contiene los nombres de los productos\n#\n# FROM Detalles_Pedido dp: tabla principal (alias 'dp')\n# INNER JOIN Productos prod: unimos con Productos (alias 'prod')\n# ON dp.id_producto = prod.id_producto: relacionamos por id_producto\n# WHERE dp.id_pedido = 1: filtramos solo el pedido con ID 1\ndf_detalle_pedido = pd.read_sql_query('''\n    SELECT \n        dp.id_pedido,\n        prod.nombre AS producto,\n        dp.cantidad,\n        dp.precio_unitario,\n        dp.subtotal\n    FROM Detalles_Pedido dp\n    INNER JOIN Productos prod ON dp.id_producto = prod.id_producto\n    WHERE dp.id_pedido = 1\n''', conexion)\n\nprint(\"DETALLE DEL PEDIDO #1 (Juan Pérez):\")\nprint(\"=\"*80)\ndisplay(df_detalle_pedido)\n# Calculamos el total del pedido sumando todos los subtotales\n# .sum() suma todos los valores de la columna 'subtotal'\n# :.2f formatea el número a 2 decimales\nprint(f\"\\nTOTAL DEL PEDIDO: {df_detalle_pedido['subtotal'].sum():.2f}€\")"
  },
  {
   "cell_type": "markdown",
   "metadata": {},
   "source": [
    "### Consulta 3: Resumen de compras por cliente"
   ]
  },
  {
   "cell_type": "code",
   "execution_count": null,
   "metadata": {},
   "outputs": [],
   "source": "# Usamos funciones de agregación para obtener resúmenes:\n#   - COUNT(): cuenta el número de registros\n#   - SUM(): suma valores numéricos\n#   - AVG(): calcula el promedio\n#   - MIN(): obtiene el valor mínimo\n#   - MAX(): obtiene el valor máximo\n#\n# LEFT JOIN incluye TODOS los clientes, incluso los que no tienen pedidos\n# (a diferencia de INNER JOIN que solo incluye clientes con pedidos)\n#\n# GROUP BY agrupa los resultados por cliente\n# Esto permite calcular el total de pedidos y gasto por cada cliente\n# ORDER BY total_gastado DESC: ordena de mayor a menor gasto\ndf_resumen_clientes = pd.read_sql_query('''\n    SELECT \n        c.nombre AS cliente,\n        COUNT(p.id_pedido) AS total_pedidos,\n        SUM(p.total) AS total_gastado\n    FROM Clientes c\n    LEFT JOIN Pedidos p ON c.id_cliente = p.id_cliente\n    GROUP BY c.id_cliente, c.nombre\n    ORDER BY total_gastado DESC\n''', conexion)\n\nprint(\"RESUMEN DE COMPRAS POR CLIENTE:\")\nprint(\"=\"*80)\ndisplay(df_resumen_clientes)"
  },
  {
   "cell_type": "markdown",
   "metadata": {},
   "source": [
    "### Consulta 4: Productos más vendidos"
   ]
  },
  {
   "cell_type": "code",
   "execution_count": null,
   "metadata": {},
   "outputs": [],
   "source": "# Consultamos qué productos se han vendido más\n# Esta consulta nos ayuda a identificar los productos más populares\n#\n# SUM(dp.cantidad): suma todas las cantidades vendidas de cada producto\n# SUM(dp.subtotal): suma los ingresos generados por cada producto\n# GROUP BY agrupa por producto para calcular totales de cada uno\n# ORDER BY unidades_vendidas DESC: ordena del más vendido al menos vendido\ndf_productos_vendidos = pd.read_sql_query('''\n    SELECT \n        prod.nombre AS producto,\n        SUM(dp.cantidad) AS unidades_vendidas,\n        SUM(dp.subtotal) AS ingresos_totales\n    FROM Detalles_Pedido dp\n    INNER JOIN Productos prod ON dp.id_producto = prod.id_producto\n    GROUP BY prod.id_producto, prod.nombre\n    ORDER BY unidades_vendidas DESC\n''', conexion)\n\nprint(\"PRODUCTOS MÁS VENDIDOS:\")\nprint(\"=\"*80)\ndisplay(df_productos_vendidos)"
  },
  {
   "cell_type": "markdown",
   "metadata": {},
   "source": [
    "## Paso 14: Actualizar datos - UPDATE"
   ]
  },
  {
   "cell_type": "code",
   "execution_count": null,
   "metadata": {},
   "outputs": [],
   "source": "# Ejemplo 1: Cambiar el estado de un pedido\n# Primero consultamos el estado actual del pedido #3\nprint(\"Estado del pedido #3 antes:\")\ncursor.execute('SELECT estado FROM Pedidos WHERE id_pedido = 3')\n# fetchone() obtiene solo el primer resultado (una tupla)\n# [0] accede al primer elemento de la tupla (el estado)\nprint(f\"  Estado: {cursor.fetchone()[0]}\")\n\n# UPDATE modifica registros existentes en una tabla\n# SET especifica qué campo(s) queremos cambiar y su nuevo valor\n# WHERE especifica qué registros modificar (sin WHERE se modificarían TODOS)\ncursor.execute('''\n    UPDATE Pedidos \n    SET estado = 'En tránsito'\n    WHERE id_pedido = 3\n''')\n\n# Guardamos el cambio\nconexion.commit()\n\n# Verificamos que el cambio se aplicó correctamente\nprint(\"\\nEstado del pedido #3 después:\")\ncursor.execute('SELECT estado FROM Pedidos WHERE id_pedido = 3')\nprint(f\"  Estado: {cursor.fetchone()[0]}\")\nprint(\"\\n✓ Estado actualizado correctamente\")"
  },
  {
   "cell_type": "code",
   "execution_count": null,
   "metadata": {},
   "outputs": [],
   "source": "# Ejemplo 2: Actualizar el stock después de una venta\n# Consultamos el stock actual del Monitor Samsung (id_producto=4)\nprint(\"Stock del Monitor Samsung antes:\")\ncursor.execute('SELECT stock FROM Productos WHERE id_producto = 4')\nprint(f\"  Stock: {cursor.fetchone()[0]} unidades\")\n\n# Reducimos el stock en 1 unidad porque se vendió 1 monitor\n# SET stock = stock - 1: toma el valor actual y le resta 1\n# Esto es mejor que poner un número fijo porque no necesitamos saber el stock actual\ncursor.execute('''\n    UPDATE Productos \n    SET stock = stock - 1\n    WHERE id_producto = 4\n''')\n\n# Confirmamos el cambio\nconexion.commit()\n\n# Verificamos el nuevo stock\nprint(\"\\nStock del Monitor Samsung después:\")\ncursor.execute('SELECT stock FROM Productos WHERE id_producto = 4')\nprint(f\"  Stock: {cursor.fetchone()[0]} unidades\")\nprint(\"\\n✓ Stock actualizado correctamente\")"
  },
  {
   "cell_type": "code",
   "execution_count": null,
   "metadata": {},
   "outputs": [],
   "source": "# Ejemplo 3: Actualizar el precio de un producto\n# Consultamos el precio actual del Cable HDMI (id_producto=8)\nprint(\"Precio del Cable HDMI antes:\")\ncursor.execute('SELECT precio FROM Productos WHERE id_producto = 8')\nprint(f\"  Precio: {cursor.fetchone()[0]}€\")\n\n# Aplicamos un descuento del 20%\n# precio * 0.8 equivale a reducir el precio al 80% del original\n# (0.8 = 1 - 0.2, donde 0.2 es el 20% de descuento)\ncursor.execute('''\n    UPDATE Productos \n    SET precio = precio * 0.8\n    WHERE id_producto = 8\n''')\n\n# Guardamos el cambio\nconexion.commit()\n\n# Verificamos el nuevo precio\nprint(\"\\nPrecio del Cable HDMI después (20% descuento):\")\ncursor.execute('SELECT precio FROM Productos WHERE id_producto = 8')\n# :.2f formatea el número a 2 decimales (ej: 10.392 → 10.39)\nprint(f\"  Precio: {cursor.fetchone()[0]:.2f}€\")\nprint(\"\\n✓ Precio actualizado correctamente\")"
  },
  {
   "cell_type": "markdown",
   "metadata": {},
   "source": [
    "## Paso 15: Eliminar datos - DELETE"
   ]
  },
  {
   "cell_type": "code",
   "execution_count": null,
   "metadata": {},
   "outputs": [],
   "source": "# Primero insertamos un cliente temporal para luego eliminarlo\n# Este es solo un ejemplo didáctico para mostrar cómo funciona DELETE\ncursor.execute('''\n    INSERT INTO Clientes (nombre, email, telefono, direccion, fecha_registro)\n    VALUES (?, ?, ?, ?, ?)\n''', ('Cliente Temporal', 'temporal@email.com', '600000000', 'Dirección Temporal', '2024-05-25'))\n\n# Guardamos el ID del cliente temporal\nid_temporal = cursor.lastrowid\nconexion.commit()\n\nprint(f\"✓ Cliente temporal creado con ID: {id_temporal}\")\n\n# DELETE elimina registros de una tabla\n# WHERE especifica qué registros eliminar\n# IMPORTANTE: Sin WHERE se eliminarían TODOS los registros de la tabla\n# (?,) es una tupla con un solo elemento (nota la coma)\ncursor.execute('DELETE FROM Clientes WHERE id_cliente = ?', (id_temporal,))\nconexion.commit()\n\nprint(f\"✓ Cliente temporal eliminado\")\n\n# Verificamos que se eliminó correctamente\n# COUNT(*) cuenta cuántos registros cumplen la condición\ncursor.execute('SELECT COUNT(*) FROM Clientes WHERE id_cliente = ?', (id_temporal,))\ncount = cursor.fetchone()[0]\nprint(f\"\\nVerificación: {count} clientes encontrados con ese ID (debería ser 0)\")"
  },
  {
   "cell_type": "markdown",
   "metadata": {},
   "source": [
    "## Paso 16: Consultas avanzadas - Subconsultas"
   ]
  },
  {
   "cell_type": "code",
   "execution_count": null,
   "metadata": {},
   "outputs": [],
   "source": "# Ejemplo: Encontrar clientes que han gastado más que el promedio\n# Este es un ejemplo de SUBCONSULTA (query dentro de otra query)\n\n# Primero calculamos el gasto promedio de todos los pedidos\n# AVG() calcula el promedio (average)\ncursor.execute('''\n    SELECT AVG(total) FROM Pedidos\n''')\npromedio = cursor.fetchone()[0]\nprint(f\"Gasto promedio por pedido: {promedio:.2f}€\\n\")\n\n# Ahora buscamos pedidos con total superior al promedio\n# WHERE p.total > (SELECT AVG(total) FROM Pedidos): subconsulta\n# La subconsulta se ejecuta primero y devuelve un valor (el promedio)\n# Luego se compara cada pedido con ese valor\n# Esto es útil para identificar clientes premium o pedidos importantes\ndf_clientes_premium = pd.read_sql_query('''\n    SELECT \n        c.nombre AS cliente,\n        p.id_pedido,\n        p.total\n    FROM Clientes c\n    INNER JOIN Pedidos p ON c.id_cliente = p.id_cliente\n    WHERE p.total > (SELECT AVG(total) FROM Pedidos)\n    ORDER BY p.total DESC\n''', conexion)\n\nprint(\"CLIENTES CON PEDIDOS SUPERIORES AL PROMEDIO:\")\nprint(\"=\"*80)\ndisplay(df_clientes_premium)"
  },
  {
   "cell_type": "markdown",
   "metadata": {},
   "source": [
    "## Paso 17: Funciones de agregación y estadísticas"
   ]
  },
  {
   "cell_type": "code",
   "execution_count": null,
   "metadata": {},
   "outputs": [],
   "source": "# Obtenemos estadísticas generales de la tienda usando funciones de agregación\n# Todas estas funciones se calculan en una sola consulta para eficiencia\n#\n# Funciones de agregación:\n#   - COUNT(*): cuenta el número total de pedidos\n#   - SUM(total): suma todos los totales (ingresos totales)\n#   - AVG(total): calcula el promedio de los totales (ticket promedio)\n#   - MIN(total): encuentra el pedido de menor valor\n#   - MAX(total): encuentra el pedido de mayor valor\ncursor.execute('''\n    SELECT \n        COUNT(*) AS total_pedidos,\n        SUM(total) AS ingresos_totales,\n        AVG(total) AS ticket_promedio,\n        MIN(total) AS pedido_minimo,\n        MAX(total) AS pedido_maximo\n    FROM Pedidos\n''')\n\n# Obtenemos la fila con todas las estadísticas\nstats = cursor.fetchone()\n\nprint(\"ESTADÍSTICAS DE LA TIENDA:\")\nprint(\"=\"*80)\n# Accedemos a cada estadística por su índice\nprint(f\"Total de pedidos: {stats[0]}\")\nprint(f\"Ingresos totales: {stats[1]:.2f}€\")\nprint(f\"Ticket promedio: {stats[2]:.2f}€\")\nprint(f\"Pedido mínimo: {stats[3]:.2f}€\")\nprint(f\"Pedido máximo: {stats[4]:.2f}€\")"
  },
  {
   "cell_type": "code",
   "execution_count": null,
   "metadata": {},
   "outputs": [],
   "source": "# Estadísticas por categoría de productos\n# Esta consulta agrupa productos por categoría y calcula métricas para cada una\n#\n# COUNT(*): cuenta cuántos productos hay en cada categoría\n# AVG(precio): calcula el precio promedio de los productos en cada categoría\n# SUM(stock): suma el stock total de cada categoría\n# GROUP BY categoria: agrupa los resultados por categoría\n# Esto nos permite ver un resumen de cada categoría en lugar de productos individuales\ndf_stats_categoria = pd.read_sql_query('''\n    SELECT \n        categoria,\n        COUNT(*) AS cantidad_productos,\n        AVG(precio) AS precio_promedio,\n        SUM(stock) AS stock_total\n    FROM Productos\n    GROUP BY categoria\n    ORDER BY cantidad_productos DESC\n''', conexion)\n\nprint(\"\\nESTADÍSTICAS POR CATEGORÍA:\")\nprint(\"=\"*80)\ndisplay(df_stats_categoria)"
  },
  {
   "cell_type": "markdown",
   "metadata": {},
   "source": [
    "## Paso 18: Crear una función auxiliar para consultas comunes\n",
    "\n",
    "Vamos a crear funciones Python que encapsulen operaciones comunes de la base de datos."
   ]
  },
  {
   "cell_type": "code",
   "execution_count": null,
   "metadata": {},
   "outputs": [],
   "source": "def buscar_cliente_por_email(email):\n    \"\"\"\n    Busca un cliente por su email\n    \n    Esta función encapsula una consulta SQL común en una función Python reutilizable.\n    Es una buena práctica para evitar repetir código.\n    \n    Args:\n        email (str): Email del cliente a buscar\n    \n    Returns:\n        tuple: Tupla con los datos del cliente (id, nombre, email, etc.) \n               o None si no existe ningún cliente con ese email\n    \"\"\"\n    # Ejecutamos la consulta usando el parámetro email\n    cursor.execute('SELECT * FROM Clientes WHERE email = ?', (email,))\n    # fetchone() devuelve None si no hay resultados\n    return cursor.fetchone()\n\ndef obtener_pedidos_cliente(id_cliente):\n    \"\"\"\n    Obtiene todos los pedidos de un cliente específico\n    \n    Args:\n        id_cliente (int): ID del cliente\n    \n    Returns:\n        DataFrame: DataFrame de pandas con los pedidos del cliente\n                   ordenados por fecha (más reciente primero)\n    \"\"\"\n    query = '''\n        SELECT \n            id_pedido,\n            fecha_pedido,\n            estado,\n            total\n        FROM Pedidos\n        WHERE id_cliente = ?\n        ORDER BY fecha_pedido DESC\n    '''\n    # params=(id_cliente,) pasa el parámetro a la consulta\n    return pd.read_sql_query(query, conexion, params=(id_cliente,))\n\ndef crear_pedido(id_cliente, productos_lista):\n    \"\"\"\n    Crea un nuevo pedido con múltiples productos de forma automática\n    \n    Esta función simplifica la creación de pedidos al:\n    1. Calcular automáticamente el total\n    2. Crear el registro del pedido\n    3. Crear todos los detalles del pedido\n    \n    Args:\n        id_cliente (int): ID del cliente que realiza el pedido\n        productos_lista (list): Lista de tuplas (id_producto, cantidad)\n                               Ejemplo: [(1, 2), (3, 1)] = 2 unidades del producto 1 y 1 del producto 3\n    \n    Returns:\n        int: ID del pedido creado\n    \"\"\"\n    # Calculamos el total del pedido sumando todos los subtotales\n    total = 0\n    detalles = []\n    \n    # Iteramos sobre cada producto en la lista\n    for id_producto, cantidad in productos_lista:\n        # Obtenemos el precio actual del producto desde la base de datos\n        cursor.execute('SELECT precio FROM Productos WHERE id_producto = ?', (id_producto,))\n        precio = cursor.fetchone()[0]\n        # Calculamos el subtotal (precio × cantidad)\n        subtotal = precio * cantidad\n        total += subtotal\n        # Guardamos los detalles para insertarlos después\n        detalles.append((id_producto, cantidad, precio, subtotal))\n    \n    # Insertamos el pedido principal\n    # datetime('now') obtiene la fecha y hora actual automáticamente\n    cursor.execute('''\n        INSERT INTO Pedidos (id_cliente, fecha_pedido, estado, total)\n        VALUES (?, datetime('now'), 'Pendiente', ?)\n    ''', (id_cliente, total))\n    \n    # Obtenemos el ID del pedido recién creado\n    id_pedido = cursor.lastrowid\n    \n    # Insertamos todos los detalles del pedido\n    for id_producto, cantidad, precio, subtotal in detalles:\n        cursor.execute('''\n            INSERT INTO Detalles_Pedido (id_pedido, id_producto, cantidad, precio_unitario, subtotal)\n            VALUES (?, ?, ?, ?, ?)\n        ''', (id_pedido, id_producto, cantidad, precio, subtotal))\n    \n    # Guardamos todos los cambios (pedido + detalles)\n    conexion.commit()\n    return id_pedido\n\nprint(\"✓ Funciones auxiliares creadas correctamente\")"
  },
  {
   "cell_type": "markdown",
   "metadata": {},
   "source": [
    "### Probar las funciones auxiliares"
   ]
  },
  {
   "cell_type": "code",
   "execution_count": null,
   "metadata": {},
   "outputs": [],
   "source": "# Ejemplo 1: Buscar un cliente por email usando nuestra función\n# Llamamos a la función que creamos anteriormente\ncliente = buscar_cliente_por_email('juan.perez@email.com')\n\n# Mostramos los datos del cliente encontrado\nprint(\"CLIENTE ENCONTRADO:\")\n# Accedemos a cada campo por su índice en la tupla\nprint(f\"  ID: {cliente[0]}\")\nprint(f\"  Nombre: {cliente[1]}\")\nprint(f\"  Email: {cliente[2]}\")\nprint(f\"  Teléfono: {cliente[3]}\")"
  },
  {
   "cell_type": "code",
   "execution_count": null,
   "metadata": {},
   "outputs": [],
   "source": "# Ejemplo 2: Obtener todos los pedidos de un cliente\n# ID 1 corresponde a Juan Pérez\npedidos_juan = obtener_pedidos_cliente(1)\n\nprint(\"PEDIDOS DE JUAN PÉREZ:\")\nprint(\"=\"*80)\n# La función nos devuelve un DataFrame listo para mostrar\ndisplay(pedidos_juan)"
  },
  {
   "cell_type": "code",
   "execution_count": null,
   "metadata": {},
   "outputs": [],
   "source": "# Ejemplo 3: Crear un nuevo pedido usando nuestra función auxiliar\n# Ana Martínez (ID=4) compra una webcam y un SSD\n# La función crea_pedido se encarga de:\n#   1. Buscar los precios actuales de los productos\n#   2. Calcular los subtotales y el total\n#   3. Crear el pedido y sus detalles\n# Todo esto con una sola llamada, mucho más simple que hacerlo manualmente\nnuevo_pedido = crear_pedido(\n    id_cliente=4,\n    productos_lista=[\n        (6, 1),  # (id_producto, cantidad): 1 Webcam Logitech (id_producto=6)\n        (7, 1)   # 1 SSD Samsung (id_producto=7)\n    ]\n)\n\nprint(f\"✓ Nuevo pedido #{nuevo_pedido} creado para Ana Martínez\")\n\n# Consultamos y mostramos el detalle del pedido recién creado\n# Usamos f-string para incluir el ID del pedido en la consulta\ndf_nuevo = pd.read_sql_query(f'''\n    SELECT \n        dp.id_pedido,\n        prod.nombre AS producto,\n        dp.cantidad,\n        dp.precio_unitario,\n        dp.subtotal\n    FROM Detalles_Pedido dp\n    INNER JOIN Productos prod ON dp.id_producto = prod.id_producto\n    WHERE dp.id_pedido = {nuevo_pedido}\n''', conexion)\n\nprint(\"\\nDETALLE DEL PEDIDO CREADO:\")\ndisplay(df_nuevo)"
  },
  {
   "cell_type": "markdown",
   "metadata": {},
   "source": [
    "## Paso 19: Transacciones (garantizar consistencia de datos)\n",
    "\n",
    "Las transacciones permiten agrupar múltiples operaciones y revertirlas si algo falla."
   ]
  },
  {
   "cell_type": "code",
   "execution_count": null,
   "metadata": {},
   "outputs": [],
   "source": "# Ejemplo de TRANSACCIÓN: transferir stock entre productos\n# Una transacción agrupa múltiples operaciones en una sola unidad atómica:\n#   - O se ejecutan TODAS las operaciones\n#   - O NO se ejecuta NINGUNA (si hay error)\n# Esto garantiza la consistencia de los datos\n\ntry:\n    # BEGIN TRANSACTION inicia una transacción explícita\n    # Todas las operaciones posteriores son tentativas hasta el commit()\n    cursor.execute('BEGIN TRANSACTION')\n    \n    print(\"Iniciando transferencia de stock...\\n\")\n    \n    # Consultamos el stock actual de los productos involucrados\n    cursor.execute('SELECT nombre, stock FROM Productos WHERE id_producto IN (2, 3)')\n    print(\"STOCK ANTES:\")\n    for prod in cursor.fetchall():\n        print(f\"  {prod[0]}: {prod[1]} unidades\")\n    \n    # Reducimos stock del Mouse (ID=2) en 5 unidades\n    cursor.execute('UPDATE Productos SET stock = stock - 5 WHERE id_producto = 2')\n    \n    # Aumentamos stock del Teclado (ID=3) en 5 unidades\n    # Es como si transfiriéramos stock de un producto a otro\n    cursor.execute('UPDATE Productos SET stock = stock + 5 WHERE id_producto = 3')\n    \n    # Si llegamos aquí sin errores, confirmamos la transacción\n    # commit() hace permanentes todos los cambios\n    conexion.commit()\n    \n    # Consultamos el stock después de la transferencia\n    cursor.execute('SELECT nombre, stock FROM Productos WHERE id_producto IN (2, 3)')\n    print(\"\\nSTOCK DESPUÉS:\")\n    for prod in cursor.fetchall():\n        print(f\"  {prod[0]}: {prod[1]} unidades\")\n    \n    print(\"\\n✓ Transferencia completada exitosamente\")\n    \nexcept Exception as e:\n    # Si ocurre CUALQUIER error, revertimos TODOS los cambios\n    # rollback() deshace todas las operaciones de la transacción\n    # La base de datos vuelve al estado anterior al BEGIN TRANSACTION\n    conexion.rollback()\n    print(f\"✗ Error en la transacción: {e}\")\n    print(\"Cambios revertidos\")"
  },
  {
   "cell_type": "markdown",
   "metadata": {},
   "source": [
    "## Paso 20: Exportar datos a CSV"
   ]
  },
  {
   "cell_type": "code",
   "execution_count": null,
   "metadata": {},
   "outputs": [],
   "source": "# Exportamos datos de la base de datos a archivos CSV\n# CSV (Comma-Separated Values) es un formato universal que puede abrirse en Excel\n\n# Exportamos la tabla de productos completa a un archivo CSV\ndf_productos = pd.read_sql_query('SELECT * FROM Productos', conexion)\n# to_csv() guarda el DataFrame en un archivo CSV\n# index=False: no incluye el índice de pandas en el archivo\n# encoding='utf-8': asegura que los caracteres especiales (ñ, acentos) se guarden correctamente\ndf_productos.to_csv('productos_export.csv', index=False, encoding='utf-8')\nprint(\"✓ Productos exportados a 'productos_export.csv'\")\n\n# Exportamos un reporte personalizado de pedidos\n# Este CSV combina información de pedidos y clientes\ndf_reporte = pd.read_sql_query('''\n    SELECT \n        p.id_pedido,\n        c.nombre AS cliente,\n        p.fecha_pedido,\n        p.estado,\n        p.total\n    FROM Pedidos p\n    INNER JOIN Clientes c ON p.id_cliente = c.id_cliente\n''', conexion)\ndf_reporte.to_csv('reporte_pedidos.csv', index=False, encoding='utf-8')\nprint(\"✓ Reporte de pedidos exportado a 'reporte_pedidos.csv'\")"
  },
  {
   "cell_type": "markdown",
   "metadata": {},
   "source": [
    "## Paso 21: Crear índices para mejorar rendimiento\n",
    "\n",
    "Los índices aceleran las consultas sobre columnas que se buscan frecuentemente."
   ]
  },
  {
   "cell_type": "code",
   "execution_count": null,
   "metadata": {},
   "outputs": [],
   "source": "# Creamos ÍNDICES para mejorar el rendimiento de las consultas\n# Un índice es como el índice de un libro: permite encontrar información más rápido\n# Sin índice, la base de datos debe revisar TODOS los registros (búsqueda secuencial)\n# Con índice, puede ir directamente a los registros relevantes (búsqueda optimizada)\n\n# Índice en el campo email de la tabla Clientes\n# IF NOT EXISTS evita error si el índice ya existe\n# Útil porque frecuentemente buscamos clientes por email\ncursor.execute('CREATE INDEX IF NOT EXISTS idx_clientes_email ON Clientes(email)')\nprint(\"✓ Índice creado en Clientes.email\")\n\n# Índice en el campo categoría de Productos\n# Acelera búsquedas como \"todos los productos de Informática\"\ncursor.execute('CREATE INDEX IF NOT EXISTS idx_productos_categoria ON Productos(categoria)')\nprint(\"✓ Índice creado en Productos.categoria\")\n\n# Índice en el estado de Pedidos\n# Útil para consultas como \"todos los pedidos pendientes\"\ncursor.execute('CREATE INDEX IF NOT EXISTS idx_pedidos_estado ON Pedidos(estado)')\nprint(\"✓ Índice creado en Pedidos.estado\")\n\n# Índice COMPUESTO (en múltiples columnas)\n# Optimiza consultas que filtran por cliente Y fecha simultáneamente\n# Ejemplo: \"todos los pedidos del cliente 5 en marzo\"\ncursor.execute('CREATE INDEX IF NOT EXISTS idx_pedidos_cliente_fecha ON Pedidos(id_cliente, fecha_pedido)')\nprint(\"✓ Índice compuesto creado en Pedidos(id_cliente, fecha_pedido)\")\n\n# Guardamos la creación de los índices\nconexion.commit()\nprint(\"\\n✓ Todos los índices creados correctamente\")"
  },
  {
   "cell_type": "markdown",
   "metadata": {},
   "source": [
    "## Paso 22: Consulta de metadatos de la base de datos"
   ]
  },
  {
   "cell_type": "code",
   "execution_count": null,
   "metadata": {},
   "outputs": [],
   "source": "# Obtener información sobre la estructura de todas las tablas\n# sqlite_master es una tabla especial del sistema que contiene metadatos\n# Contiene información sobre todas las tablas, índices, vistas, etc.\n# type='table': filtramos solo las tablas (no índices ni otros objetos)\n# sql: columna que contiene el comando CREATE TABLE original\ncursor.execute(\"SELECT name, sql FROM sqlite_master WHERE type='table'\")\ntablas_info = cursor.fetchall()\n\nprint(\"ESTRUCTURA DE LA BASE DE DATOS:\")\nprint(\"=\"*80)\n# Iteramos sobre cada tabla y mostramos su definición SQL completa\nfor nombre, sql in tablas_info:\n    print(f\"\\nTabla: {nombre}\")\n    print(\"-\" * 80)\n    # sql contiene el comando CREATE TABLE completo que creó la tabla\n    print(sql)"
  },
  {
   "cell_type": "code",
   "execution_count": null,
   "metadata": {},
   "outputs": [],
   "source": "# Obtener información sobre todos los índices en la base de datos\n# type='index': filtramos solo los índices\n# Los índices automáticos (creados por PRIMARY KEY) no tienen SQL\ncursor.execute(\"SELECT name, sql FROM sqlite_master WHERE type='index'\")\nindices_info = cursor.fetchall()\n\nprint(\"\\nÍNDICES EN LA BASE DE DATOS:\")\nprint(\"=\"*80)\nfor nombre, sql in indices_info:\n    # if sql: filtra índices automáticos que tienen sql=None\n    if sql:\n        print(f\"\\n{nombre}:\")\n        # Mostramos el comando CREATE INDEX que creó el índice\n        print(f\"  {sql}\")"
  },
  {
   "cell_type": "markdown",
   "metadata": {},
   "source": [
    "## Paso 23: Resumen final y estadísticas completas"
   ]
  },
  {
   "cell_type": "code",
   "execution_count": null,
   "metadata": {},
   "outputs": [],
   "source": "print(\"=\"*80)\nprint(\"RESUMEN COMPLETO DE LA BASE DE DATOS\")\nprint(\"=\"*80)\n\n# Contamos registros en cada tabla usando COUNT(*)\n# COUNT(*) devuelve el número total de filas en la tabla\ncursor.execute('SELECT COUNT(*) FROM Clientes')\nprint(f\"\\nTotal de clientes: {cursor.fetchone()[0]}\")\n\ncursor.execute('SELECT COUNT(*) FROM Productos')\nprint(f\"Total de productos: {cursor.fetchone()[0]}\")\n\ncursor.execute('SELECT COUNT(*) FROM Pedidos')\nprint(f\"Total de pedidos: {cursor.fetchone()[0]}\")\n\ncursor.execute('SELECT COUNT(*) FROM Detalles_Pedido')\nprint(f\"Total de líneas de pedido: {cursor.fetchone()[0]}\")\n\n# Estadísticas financieras de la tienda\n# SUM(total): suma todos los totales de pedidos = ingresos totales\ncursor.execute('SELECT SUM(total) FROM Pedidos')\nprint(f\"\\nIngresos totales: {cursor.fetchone()[0]:.2f}€\")\n\n# AVG(total): calcula el ticket promedio (gasto promedio por pedido)\ncursor.execute('SELECT AVG(total) FROM Pedidos')\nprint(f\"Ticket promedio: {cursor.fetchone()[0]:.2f}€\")\n\n# Calculamos el valor total del inventario\n# precio * stock da el valor de cada producto\n# SUM() suma el valor de todos los productos\ncursor.execute('SELECT SUM(precio * stock) FROM Productos')\nprint(f\"Valor del inventario: {cursor.fetchone()[0]:.2f}€\")\n\nprint(\"\\n\" + \"=\"*80)"
  },
  {
   "cell_type": "markdown",
   "metadata": {},
   "source": [
    "## Paso 24: Cerrar la conexión\n",
    "\n",
    "**IMPORTANTE**: Siempre debemos cerrar la conexión cuando terminamos de trabajar con la base de datos."
   ]
  },
  {
   "cell_type": "code",
   "execution_count": null,
   "metadata": {},
   "outputs": [],
   "source": "# IMPORTANTE: Siempre cerrar la conexión cuando terminamos\n# Esto libera recursos del sistema y asegura que todos los cambios se guarden\n\n# Cerramos el cursor primero\n# El cursor ya no podrá ejecutar más comandos SQL después de esto\ncursor.close()\n\n# Cerramos la conexión a la base de datos\n# Esto guarda cualquier cambio pendiente y libera el archivo de la base de datos\nconexion.close()\n\nprint(\"✓ Conexión cerrada correctamente\")\nprint(\"\\nLa base de datos 'tienda_online.db' ha sido guardada en el disco.\")\nprint(\"Puedes abrir este archivo con cualquier cliente de SQLite para explorar los datos.\")"
  },
  {
   "cell_type": "markdown",
   "metadata": {},
   "source": [
    "## Resumen de conceptos aprendidos\n",
    "\n",
    "### Comandos SQL principales:\n",
    "1. **CREATE TABLE**: Crear tablas con campos y restricciones\n",
    "2. **INSERT INTO**: Insertar datos en las tablas\n",
    "3. **SELECT**: Consultar datos (con WHERE, ORDER BY, GROUP BY)\n",
    "4. **UPDATE**: Actualizar registros existentes\n",
    "5. **DELETE**: Eliminar registros\n",
    "6. **JOIN**: Unir tablas relacionadas (INNER JOIN, LEFT JOIN)\n",
    "7. **INDEX**: Crear índices para mejorar rendimiento\n",
    "\n",
    "### Conceptos de bases de datos relacionales:\n",
    "- **Clave primaria (PRIMARY KEY)**: Identificador único de cada registro\n",
    "- **Clave foránea (FOREIGN KEY)**: Relación entre tablas\n",
    "- **Restricciones**: NOT NULL, UNIQUE, DEFAULT\n",
    "- **Relaciones**: Uno a muchos, muchos a muchos\n",
    "- **Integridad referencial**: ON DELETE CASCADE\n",
    "\n",
    "### Operaciones con Python:\n",
    "- Conectar a la base de datos con `sqlite3.connect()`\n",
    "- Ejecutar comandos SQL con `cursor.execute()`\n",
    "- Obtener resultados con `fetchone()`, `fetchall()`\n",
    "- Confirmar cambios con `commit()`\n",
    "- Revertir cambios con `rollback()`\n",
    "- Usar pandas para mejor visualización\n",
    "- Crear funciones auxiliares para operaciones comunes\n",
    "\n",
    "### Buenas prácticas:\n",
    "- Siempre usar parámetros (`?`) en lugar de concatenar strings (evita inyección SQL)\n",
    "- Cerrar conexiones cuando ya no se necesiten\n",
    "- Usar transacciones para operaciones críticas\n",
    "- Crear índices en columnas frecuentemente consultadas\n",
    "- Normalizar las tablas para evitar redundancia\n",
    "\n",
    "---\n",
    "\n",
    "**¡Felicidades!** Has completado el tutorial de bases de datos SQL relacionales con Python.\n",
    "\n",
    "Ahora tienes los conocimientos básicos para crear, gestionar y consultar bases de datos en tus propios proyectos."
   ]
  }
 ],
 "metadata": {
  "kernelspec": {
   "display_name": "Python 3",
   "language": "python",
   "name": "python3"
  },
  "language_info": {
   "codemirror_mode": {
    "name": "ipython",
    "version": 3
   },
   "file_extension": ".py",
   "mimetype": "text/x-python",
   "name": "python",
   "nbconvert_exporter": "python",
   "pygments_lexer": "ipython3",
   "version": "3.8.0"
  }
 },
 "nbformat": 4,
 "nbformat_minor": 4
}