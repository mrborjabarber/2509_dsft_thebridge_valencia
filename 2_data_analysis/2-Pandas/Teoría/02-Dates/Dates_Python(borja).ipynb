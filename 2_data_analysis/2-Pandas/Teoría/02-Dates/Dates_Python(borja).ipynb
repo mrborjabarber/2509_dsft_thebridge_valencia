{
 "cells": [
  {
   "attachments": {},
   "cell_type": "markdown",
   "metadata": {},
   "source": [
    "# Trabajando con datetime en Pandas DataFrame"
   ]
  },
  {
   "cell_type": "code",
   "execution_count": null,
   "metadata": {},
   "outputs": [],
   "source": [
    "# Importamos las librerías necesarias para trabajar con DataFrames y arrays\n",
    "import pandas as pd\n",
    "import numpy as np"
   ]
  },
  {
   "attachments": {},
   "cell_type": "markdown",
   "metadata": {},
   "source": [
    "### 1. Fechas y Horas en Python\n",
    "Los objetos básicos de Python para trabajar con fechas y horas residen en el módulo incorporado ``datetime``.\n",
    "Junto con el módulo de terceros ``dateutil``, puedes usarlo para realizar rápidamente una gran cantidad de funcionalidades útiles sobre fechas y horas.\n",
    "Por ejemplo, puedes construir manualmente una fecha usando el tipo ``datetime``:"
   ]
  },
  {
   "cell_type": "code",
   "execution_count": null,
   "metadata": {
    "colab": {},
    "colab_type": "code",
    "id": "P9iOKc-y_tc0",
    "outputId": "a35079fe-25fb-49ff-b3bf-2c614f6df36c",
    "tags": []
   },
   "outputs": [],
   "source": [
    "# Creamos un objeto datetime especificando año, mes y día\n",
    "from datetime import datetime\n",
    "datetime(year = 2015, month = 7, day = 4)"
   ]
  },
  {
   "attachments": {},
   "cell_type": "markdown",
   "metadata": {
    "colab_type": "text",
    "id": "Gq_hMa31_tc5"
   },
   "source": [
    "O, usando el módulo ``dateutil``, puedes analizar fechas desde una variedad de formatos de cadena de texto:"
   ]
  },
  {
   "cell_type": "code",
   "execution_count": null,
   "metadata": {
    "colab": {},
    "colab_type": "code",
    "collapsed": false,
    "id": "3iGEr-ov_tc6",
    "jupyter": {
     "outputs_hidden": false
    },
    "outputId": "4a7bfee1-23e8-49fb-8fcd-6620bc935fc9"
   },
   "outputs": [],
   "source": [
    "# https://dateutil.readthedocs.io/en/stable/parser.html#functions\n",
    "# Parseamos fechas desde diferentes formatos de texto\n",
    "from dateutil import parser\n",
    "print(parser.parse(\"4th of July, 2015\"))  # Formato en inglés natural\n",
    "print(parser.parse(\"07/04/2015\"))  # Formato MM/DD/YYYY (por defecto americano)\n",
    "print(parser.parse(\"07/04/2015\", dayfirst=True))  # Formato DD/MM/YYYY (europeo)"
   ]
  },
  {
   "cell_type": "code",
   "execution_count": null,
   "metadata": {},
   "outputs": [],
   "source": [
    "# Más ejemplos de parseo de fechas en diferentes formatos\n",
    "print(parser.parse(\"7/4/2015\"))  # Formato M/D/YYYY\n",
    "print(parser.parse(\"07-04-2015\"))  # Formato MM-DD-YYYY\n",
    "print(parser.parse(\"2015-07-04\"))  # Formato ISO 8601 (YYYY-MM-DD)"
   ]
  },
  {
   "attachments": {},
   "cell_type": "markdown",
   "metadata": {
    "colab_type": "text",
    "id": "tDzmAqGB_tc8"
   },
   "source": [
    "Una vez que tienes un objeto ``datetime``, puedes hacer cosas como imprimir el día de la semana:"
   ]
  },
  {
   "cell_type": "code",
   "execution_count": null,
   "metadata": {
    "colab": {},
    "colab_type": "code",
    "collapsed": false,
    "id": "ReivhqKW_tc9",
    "jupyter": {
     "outputs_hidden": false
    },
    "outputId": "d0ad4501-bc07-40f1-d981-f59b9061334f"
   },
   "outputs": [],
   "source": [
    "# https://docs.python.org/3/library/datetime.html#strftime-and-strptime-behavior\n",
    "# Usamos strftime con el código %A para obtener el nombre completo del día de la semana\n",
    "datetime(year = 2025, month = 4, day = 2).strftime('%A')"
   ]
  },
  {
   "attachments": {},
   "cell_type": "markdown",
   "metadata": {},
   "source": [
    "### 2. Fechas y Horas en numpy"
   ]
  },
  {
   "cell_type": "code",
   "execution_count": null,
   "metadata": {},
   "outputs": [],
   "source": [
    "# Creamos un array numpy con tipo datetime64\n",
    "# El formato debe ser YYYY-MM-DD para que numpy lo reconozca correctamente\n",
    "import numpy as np\n",
    "date = np.array('2015-07-04', dtype = np.datetime64)\n",
    "date"
   ]
  },
  {
   "cell_type": "code",
   "execution_count": null,
   "metadata": {
    "collapsed": true,
    "jupyter": {
     "outputs_hidden": true
    },
    "tags": []
   },
   "outputs": [],
   "source": [
    "# Este formato (MM-DD-YYYY) no es reconocido por numpy datetime64 y genera un error\n",
    "# numpy requiere el formato ISO 8601 (YYYY-MM-DD)\n",
    "#np.array('07-04-2015', dtype = np.datetime64)"
   ]
  },
  {
   "attachments": {},
   "cell_type": "markdown",
   "metadata": {
    "colab_type": "text",
    "id": "hoSVu9OC_tdD"
   },
   "source": [
    "Una vez que tenemos esta fecha formateada, sin embargo, podemos realizar rápidamente operaciones vectorizadas sobre ella:"
   ]
  },
  {
   "cell_type": "code",
   "execution_count": null,
   "metadata": {},
   "outputs": [],
   "source": [
    "# Mostramos la fecha creada anteriormente\n",
    "date"
   ]
  },
  {
   "cell_type": "code",
   "execution_count": null,
   "metadata": {},
   "outputs": [],
   "source": [
    "# Creamos un array de números del 0 al 13\n",
    "np.arange(14)"
   ]
  },
  {
   "cell_type": "code",
   "execution_count": null,
   "metadata": {
    "colab": {},
    "colab_type": "code",
    "collapsed": false,
    "id": "acUKf6du_tdE",
    "jupyter": {
     "outputs_hidden": false
    },
    "outputId": "06504330-04bc-4d3e-e2ff-8ffc1fb491e7"
   },
   "outputs": [],
   "source": [
    "# Sumamos días a una fecha de forma vectorizada\n",
    "# Esto crea un array de 12 fechas consecutivas empezando desde '2015-07-04'\n",
    "dates = date + np.arange(12)\n",
    "dates"
   ]
  },
  {
   "cell_type": "code",
   "execution_count": null,
   "metadata": {},
   "outputs": [],
   "source": [
    "# Accedemos al primer elemento del array de fechas\n",
    "dates[0]"
   ]
  },
  {
   "attachments": {},
   "cell_type": "markdown",
   "metadata": {
    "colab_type": "text",
    "id": "9pu3289z_tdP"
   },
   "source": [
    "Aquí hay un datetime basado en minutos:"
   ]
  },
  {
   "cell_type": "code",
   "execution_count": null,
   "metadata": {
    "colab": {},
    "colab_type": "code",
    "collapsed": false,
    "id": "7ZwqzcvI_tdQ",
    "jupyter": {
     "outputs_hidden": false
    },
    "outputId": "544af26b-b6dc-4198-fe28-ee87f3a3a277"
   },
   "outputs": [],
   "source": [
    "# Creamos un datetime con precisión de segundos\n",
    "# numpy automáticamente detecta la unidad basándose en el formato proporcionado\n",
    "np.datetime64('2015-07-04 12:00:30')"
   ]
  },
  {
   "attachments": {},
   "cell_type": "markdown",
   "metadata": {
    "colab_type": "text",
    "id": "Y5ftMJVh_tdX"
   },
   "source": [
    "Nota que la zona horaria se establece automáticamente según la hora local del ordenador que ejecuta el código.\n",
    "Puedes forzar cualquier unidad fundamental deseada usando uno de los muchos códigos de formato; por ejemplo, aquí forzaremos un tiempo basado en nanosegundos."
   ]
  },
  {
   "attachments": {},
   "cell_type": "markdown",
   "metadata": {
    "colab_type": "text",
    "id": "_rybFBQV_tdf"
   },
   "source": [
    "La siguiente tabla, extraída de la [documentación de NumPy datetime64](http://docs.scipy.org/doc/numpy/reference/arrays.datetime.html), lista los códigos de formato disponibles junto con los intervalos de tiempo relativos y absolutos que pueden codificar:"
   ]
  },
  {
   "attachments": {},
   "cell_type": "markdown",
   "metadata": {
    "colab_type": "text",
    "id": "5cu6JVco_tdf"
   },
   "source": [
    "|Código  | Significado     | Intervalo temporal (relativo) | Intervalo temporal (absoluto)   |\n",
    "|--------|-----------------|-------------------------------|----------------------------------|\n",
    "| ``Y``  | Año             | ± 9.2e18 años                 | [9.2e18 AC, 9.2e18 DC]          |\n",
    "| ``M``  | Mes             | ± 7.6e17 años                 | [7.6e17 AC, 7.6e17 DC]          |\n",
    "| ``W``  | Semana          | ± 1.7e17 años                 | [1.7e17 AC, 1.7e17 DC]          |\n",
    "| ``D``  | Día             | ± 2.5e16 años                 | [2.5e16 AC, 2.5e16 DC]          |\n",
    "| ``h``  | Hora            | ± 1.0e15 años                 | [1.0e15 AC, 1.0e15 DC]          |\n",
    "| ``m``  | Minuto          | ± 1.7e13 años                 | [1.7e13 AC, 1.7e13 DC]          |\n",
    "| ``s``  | Segundo         | ± 2.9e12 años                 | [ 2.9e9 AC, 2.9e9 DC]           |\n",
    "| ``ms`` | Milisegundo     | ± 2.9e9 años                  | [ 2.9e6 AC, 2.9e6 DC]           |\n",
    "| ``us`` | Microsegundo    | ± 2.9e6 años                  | [290301 AC, 294241 DC]          |\n",
    "| ``ns`` | Nanosegundo     | ± 292 años                    | [ 1678 DC, 2262 DC]             |\n",
    "| ``ps`` | Picosegundo     | ± 106 días                    | [ 1969 DC, 1970 DC]             |\n",
    "| ``fs`` | Femtosegundo    | ± 2.6 horas                   | [ 1969 DC, 1970 DC]             |\n",
    "| ``as`` | Attosegundo     | ± 9.2 segundos                | [ 1969 DC, 1970 DC]             |"
   ]
  },
  {
   "attachments": {},
   "cell_type": "markdown",
   "metadata": {},
   "source": [
    "### 3. Fechas y Horas en Pandas"
   ]
  },
  {
   "attachments": {},
   "cell_type": "markdown",
   "metadata": {},
   "source": [
    "#### Argumentos por defecto"
   ]
  },
  {
   "cell_type": "code",
   "execution_count": null,
   "metadata": {},
   "outputs": [],
   "source": [
    "# Importamos pandas para trabajar con DataFrames\n",
    "import pandas as pd"
   ]
  },
  {
   "cell_type": "code",
   "execution_count": null,
   "metadata": {},
   "outputs": [],
   "source": [
    "# Creamos un DataFrame con fechas en formato texto\n",
    "# Por defecto, pandas las trata como objetos (strings), no como fechas\n",
    "df = pd.DataFrame({'date': ['3/10/2000', '3/11/2000', '3/12/2000'],\n",
    "                   'value': [2, 3, 4]})\n",
    "df"
   ]
  },
  {
   "cell_type": "code",
   "execution_count": null,
   "metadata": {},
   "outputs": [],
   "source": [
    "# Verificamos los tipos de datos de cada columna\n",
    "# La columna 'date' es de tipo 'object' (texto), no datetime\n",
    "df.dtypes"
   ]
  },
  {
   "cell_type": "code",
   "execution_count": null,
   "metadata": {},
   "outputs": [],
   "source": [
    "# Convertimos la columna 'date' de texto a tipo datetime\n",
    "# Por defecto, dayfirst=False, por lo que interpreta el formato como MM/DD/YYYY (americano)\n",
    "df['date'] = pd.to_datetime(df['date']) # dayfirst = False\n",
    "df"
   ]
  },
  {
   "cell_type": "code",
   "execution_count": null,
   "metadata": {},
   "outputs": [],
   "source": [
    "# Ahora verificamos que la columna 'date' es de tipo datetime64[ns]\n",
    "df.dtypes"
   ]
  },
  {
   "attachments": {},
   "cell_type": "markdown",
   "metadata": {},
   "source": [
    "#### Formato día primero"
   ]
  },
  {
   "cell_type": "code",
   "execution_count": null,
   "metadata": {},
   "outputs": [],
   "source": [
    "# Creamos el mismo DataFrame pero ahora usamos dayfirst=True\n",
    "# Esto interpreta las fechas en formato DD/MM/YYYY (europeo)\n",
    "df = pd.DataFrame({'date': ['3/10/2000', '3/11/2000', '3/12/2000'],\n",
    "                   'value': [2, 3, 4]})\n",
    "\n",
    "df['date'] = pd.to_datetime(df['date'], dayfirst=True)\n",
    "df"
   ]
  },
  {
   "attachments": {},
   "cell_type": "markdown",
   "metadata": {},
   "source": [
    "#### Formato personalizado"
   ]
  },
  {
   "cell_type": "code",
   "execution_count": null,
   "metadata": {},
   "outputs": [],
   "source": [
    "# Usamos el parámetro 'format' para especificar exactamente el formato de entrada\n",
    "# Esto es útil cuando tienes formatos complejos o para mejorar el rendimiento\n",
    "df = pd.DataFrame({'date': ['2016-6-10 20:30:0', \n",
    "                            '2016-7-1 19:45:30', \n",
    "                            '2013-10-12 4:5:1'],\n",
    "                   'value': [2, 3, 4]})\n",
    "\n",
    "df['date'] = pd.to_datetime(df['date'], format=\"%Y-%m-%d %H:%M:%S\")\n",
    "df"
   ]
  },
  {
   "attachments": {},
   "cell_type": "markdown",
   "metadata": {},
   "source": [
    "#### Manejar errores de parseo"
   ]
  },
  {
   "cell_type": "code",
   "execution_count": null,
   "metadata": {
    "collapsed": true,
    "jupyter": {
     "outputs_hidden": true
    },
    "tags": []
   },
   "outputs": [],
   "source": [
    "# Este código genera un error porque 'a/11/2000' no es una fecha válida\n",
    "# Por defecto, pandas lanza una excepción cuando encuentra un valor que no puede parsear\n",
    "df = pd.DataFrame({'date': ['3/10/2000', 'a/11/2000', '3/12/2000'],\n",
    "                   'value': [2, 3, 4]})\n",
    "\n",
    "df['date'] = pd.to_datetime(df['date'])"
   ]
  },
  {
   "cell_type": "code",
   "execution_count": null,
   "metadata": {},
   "outputs": [],
   "source": [
    "# Con errors='ignore', pandas deja la columna sin modificar si encuentra errores\n",
    "# La columna sigue siendo de tipo 'object' en lugar de datetime\n",
    "df = pd.DataFrame({'date': ['3/10/2000', 'a/11/2000', '3/12/2000'],\n",
    "                   'value': [2, 3, 4]})\n",
    "\n",
    "df['date'] = pd.to_datetime(df['date'], errors = 'ignore')\n",
    "df.dtypes"
   ]
  },
  {
   "cell_type": "code",
   "execution_count": null,
   "metadata": {},
   "outputs": [],
   "source": [
    "# Con errors='coerce', pandas convierte valores inválidos en NaT (Not a Time)\n",
    "# Esto permite convertir la columna a datetime manteniendo las filas con errores como valores nulos\n",
    "df = pd.DataFrame({'date': ['3/10/2000', 'a/11/2000', '3/12/2000'],\n",
    "                   'value': [2, 3, 4]})\n",
    "\n",
    "df['date'] = pd.to_datetime(df['date'], errors = 'coerce')\n",
    "df"
   ]
  },
  {
   "cell_type": "code",
   "execution_count": null,
   "metadata": {},
   "outputs": [],
   "source": [
    "# Filtramos las filas donde la fecha es nula (NaT)\n",
    "# Esto nos permite identificar qué registros tuvieron errores de parseo\n",
    "df[df['date'].isnull()]"
   ]
  },
  {
   "cell_type": "code",
   "execution_count": null,
   "metadata": {},
   "outputs": [],
   "source": [
    "# Verificamos que ahora la columna 'date' es de tipo datetime64[ns]\n",
    "# A pesar de tener un valor NaT, el tipo de la columna es datetime\n",
    "df.dtypes"
   ]
  },
  {
   "cell_type": "code",
   "execution_count": null,
   "metadata": {},
   "outputs": [],
   "source": [
    "# Mostramos el valor de fechas válidas e inválidas\n",
    "# NaT (Not a Time) es el equivalente de NaN para fechas\n",
    "print(df.at[0, 'date'])\n",
    "print(df.at[1, 'date'])"
   ]
  },
  {
   "attachments": {},
   "cell_type": "markdown",
   "metadata": {},
   "source": [
    "### 4. Ensamblar un datetime desde múltiples columnas"
   ]
  },
  {
   "cell_type": "code",
   "execution_count": null,
   "metadata": {},
   "outputs": [],
   "source": [
    "# Creamos un DataFrame con columnas separadas para año, mes y día\n",
    "df = pd.DataFrame({'year': [2015, 2016],\n",
    "                   'month': [2, 3],\n",
    "                   'day': [4, 5]})\n",
    "\n",
    "df"
   ]
  },
  {
   "cell_type": "code",
   "execution_count": null,
   "metadata": {},
   "outputs": [],
   "source": [
    "# Verificamos que todas las columnas son de tipo entero\n",
    "df.dtypes"
   ]
  },
  {
   "cell_type": "code",
   "execution_count": null,
   "metadata": {},
   "outputs": [],
   "source": [
    "# pd.to_datetime puede combinar automáticamente columnas 'year', 'month' y 'day'\n",
    "# en una sola columna datetime\n",
    "df['date'] = pd.to_datetime(df)"
   ]
  },
  {
   "cell_type": "code",
   "execution_count": null,
   "metadata": {},
   "outputs": [],
   "source": [
    "# Mostramos el DataFrame con la nueva columna 'date' creada\n",
    "df"
   ]
  },
  {
   "cell_type": "code",
   "execution_count": null,
   "metadata": {},
   "outputs": [],
   "source": [
    "# Verificamos que la nueva columna 'date' es de tipo datetime64[ns]\n",
    "df.dtypes"
   ]
  },
  {
   "attachments": {},
   "cell_type": "markdown",
   "metadata": {},
   "source": [
    "### 5. Obtener año, mes y día"
   ]
  },
  {
   "cell_type": "code",
   "execution_count": null,
   "metadata": {},
   "outputs": [],
   "source": [
    "# Creamos un DataFrame con nombres y fechas de nacimiento\n",
    "df = pd.DataFrame({'name': ['Tom', 'Andy', 'Lucas'],\n",
    "                 'DoB': ['08-05-1997', '04-28-1996', '12-16-1995']})\n",
    "\n",
    "# Convertimos las fechas de nacimiento a formato datetime\n",
    "df['DoB'] = pd.to_datetime(df['DoB'])\n",
    "df"
   ]
  },
  {
   "cell_type": "code",
   "execution_count": null,
   "metadata": {},
   "outputs": [],
   "source": [
    "# Extraemos componentes individuales de la fecha usando el accessor .dt\n",
    "# .dt.year extrae el año, .dt.month el mes, y .dt.day el día\n",
    "df['year'] = df['DoB'].dt.year\n",
    "df['month'] = df['DoB'].dt.month\n",
    "df['day'] = df['DoB'].dt.day\n",
    "df"
   ]
  },
  {
   "cell_type": "code",
   "execution_count": null,
   "metadata": {},
   "outputs": [],
   "source": [
    "# Verificamos los tipos de datos de las columnas\n",
    "# Las columnas year, month y day son enteros (int64)\n",
    "df.dtypes"
   ]
  },
  {
   "attachments": {},
   "cell_type": "markdown",
   "metadata": {},
   "source": [
    "### 6. Obtener la semana del año, el día de la semana y año bisiesto"
   ]
  },
  {
   "cell_type": "code",
   "execution_count": null,
   "metadata": {},
   "outputs": [],
   "source": [
    "# Extraemos información adicional sobre las fechas\n",
    "# .isocalendar().week obtiene el número de semana del año según ISO 8601\n",
    "# .dayofweek devuelve el día de la semana (0=Lunes, 6=Domingo)\n",
    "# .is_leap_year indica si el año es bisiesto\n",
    "df['week_of_year'] = df['DoB'].dt.isocalendar().week\n",
    "df['day_of_week'] = df['DoB'].dt.dayofweek\n",
    "df['is_leap_year'] = df['DoB'].dt.is_leap_year\n",
    "df"
   ]
  },
  {
   "cell_type": "code",
   "execution_count": null,
   "metadata": {},
   "outputs": [],
   "source": [
    "# Creamos un diccionario para mapear números de día a nombres en español\n",
    "# Usamos .map() para convertir los números del día de la semana en nombres legibles\n",
    "dw_mapping={\n",
    "    0: 'Monday', \n",
    "    1: 'Tuesday', \n",
    "    2: 'Wednesday', \n",
    "    3: 'Thursday', \n",
    "    4: 'Friday',\n",
    "    5: 'Saturday', \n",
    "    6: 'Sunday'\n",
    "} \n",
    "df['day_of_week_name']=df['DoB'].dt.weekday.map(dw_mapping)\n",
    "df"
   ]
  },
  {
   "attachments": {},
   "cell_type": "markdown",
   "metadata": {},
   "source": [
    "### 7. Obtener la edad a partir de la fecha de nacimiento"
   ]
  },
  {
   "cell_type": "code",
   "execution_count": null,
   "metadata": {},
   "outputs": [],
   "source": [
    "# Obtenemos la fecha y hora actual usando pd.to_datetime('today')\n",
    "pd.to_datetime('today')"
   ]
  },
  {
   "cell_type": "code",
   "execution_count": null,
   "metadata": {},
   "outputs": [],
   "source": [
    "# Alternativa usando datetime.today() del módulo datetime\n",
    "datetime.today()"
   ]
  },
  {
   "cell_type": "code",
   "execution_count": null,
   "metadata": {},
   "outputs": [],
   "source": [
    "# Celda vacía (puede usarse para notas o código adicional)"
   ]
  },
  {
   "cell_type": "code",
   "execution_count": null,
   "metadata": {},
   "outputs": [],
   "source": [
    "# Calculamos la edad restando la fecha de nacimiento de la fecha actual\n",
    "# Convertimos el resultado a días con .dt.days y dividimos por 365.25 para obtener años\n",
    "# (365.25 tiene en cuenta los años bisiestos)\n",
    "today = pd.to_datetime('today')\n",
    "df['age'] = (today - df['DoB']).dt.days//365.25\n",
    "\n",
    "df"
   ]
  },
  {
   "attachments": {},
   "cell_type": "markdown",
   "metadata": {},
   "source": [
    "### 8. Mejorar el rendimiento estableciendo la columna de fecha como índice"
   ]
  },
  {
   "cell_type": "code",
   "execution_count": null,
   "metadata": {},
   "outputs": [],
   "source": [
    "# Leemos un archivo CSV y parseamos la columna 'date' directamente como datetime\n",
    "# Esto es más eficiente que leer y luego convertir\n",
    "df = pd.read_csv('data/city_sales.csv', parse_dates = ['date'])\n",
    "df"
   ]
  },
  {
   "cell_type": "code",
   "execution_count": null,
   "metadata": {},
   "outputs": [],
   "source": [
    "\n",
    "import pandas as pd\n",
    "print(pd.__version__)"
   ]
  },
  {
   "cell_type": "code",
   "execution_count": null,
   "metadata": {},
   "outputs": [],
   "source": [
    "# Mostramos estadísticas descriptivas de todas las columnas\n",
    "# datetime_is_numeric=True trata las fechas como números para calcular estadísticas\n",
    "\n",
    "\n",
    "#df.describe(include='all', datetime_is_numeric=True) --asi se deberia escribir pero da errores\n",
    "#manera alternativa: \n",
    "\n",
    "try:\n",
    "    display(df.describe(include='all', datetime_is_numeric=True))\n",
    "except TypeError:\n",
    "    display(df.describe(include='all'))"
   ]
  },
  {
   "cell_type": "code",
   "execution_count": null,
   "metadata": {},
   "outputs": [],
   "source": [
    "# Verificamos que hay 4 ciudades con 448786 registros cada una\n",
    "# 4 * 448786 = 1795144 (total de filas)\n",
    "4*448786"
   ]
  },
  {
   "cell_type": "code",
   "execution_count": null,
   "metadata": {},
   "outputs": [],
   "source": [
    "# Verificamos que 'date' es de tipo datetime64[ns]\n",
    "df.dtypes"
   ]
  },
  {
   "cell_type": "code",
   "execution_count": null,
   "metadata": {
    "collapsed": true,
    "jupyter": {
     "outputs_hidden": true
    },
    "tags": []
   },
   "outputs": [],
   "source": [
    "# Leemos el CSV y establecemos 'date' como índice en dos pasos\n",
    "# Primero parseamos la fecha, luego la establecemos como índice con set_index\n",
    "df = pd.read_csv('data/city_sales.csv', parse_dates = ['date'])\n",
    "df.set_index(['date'], inplace=True)\n",
    "df.head()"
   ]
  },
  {
   "cell_type": "code",
   "execution_count": null,
   "metadata": {
    "collapsed": true,
    "jupyter": {
     "outputs_hidden": true
    },
    "tags": []
   },
   "outputs": [],
   "source": [
    "# Forma más eficiente: usamos index_col='date' para establecer el índice al leer\n",
    "# Esto es más rápido y consume menos memoria que hacerlo en dos pasos\n",
    "df = pd.read_csv('data/city_sales.csv', parse_dates = ['date'], index_col = 'date')\n",
    "df.head()"
   ]
  },
  {
   "cell_type": "code",
   "execution_count": null,
   "metadata": {
    "collapsed": true,
    "jupyter": {
     "outputs_hidden": true
    },
    "tags": []
   },
   "outputs": [],
   "source": [
    "# Verificamos que ahora tenemos un DateTimeIndex\n",
    "# Esto nos permite usar funcionalidades avanzadas de selección por fechas\n",
    "df.index"
   ]
  },
  {
   "cell_type": "code",
   "execution_count": null,
   "metadata": {},
   "outputs": [],
   "source": [
    "# Creamos un DatetimeIndex desde diferentes formatos de entrada\n",
    "# pandas es muy flexible y puede interpretar varios formatos\n",
    "from datetime import datetime\n",
    "dates = pd.to_datetime([datetime(2015, 7, 3), '4th of July, 2015',\n",
    "                       '2015-Jul-6', '07-07-2015', '20150708'])\n",
    "dates"
   ]
  },
  {
   "attachments": {},
   "cell_type": "markdown",
   "metadata": {},
   "source": [
    "### 9. Seleccionar datos con un año específico y realizar agregaciones"
   ]
  },
  {
   "cell_type": "code",
   "execution_count": null,
   "metadata": {
    "collapsed": true,
    "jupyter": {
     "outputs_hidden": true
    },
    "tags": []
   },
   "outputs": [],
   "source": [
    "# Con un DateTimeIndex, podemos seleccionar datos por año usando solo el año\n",
    "# Esto devuelve todos los registros del año 2018\n",
    "df.loc['2018']"
   ]
  },
  {
   "cell_type": "code",
   "execution_count": null,
   "metadata": {},
   "outputs": [],
   "source": [
    "# Podemos combinar la selección por año con la selección de columna específica\n",
    "# Esto devuelve solo la columna 'num' para el año 2018\n",
    "df.loc['2018', 'num'].head()"
   ]
  },
  {
   "cell_type": "code",
   "execution_count": null,
   "metadata": {},
   "outputs": [],
   "source": [
    "# Seleccionamos datos de 2018, agrupamos por ciudad y sumamos\n",
    "# Esto nos muestra el total de ventas por ciudad en 2018\n",
    "df.loc['2018'].groupby('city').sum()"
   ]
  },
  {
   "attachments": {},
   "cell_type": "markdown",
   "metadata": {},
   "source": [
    "### 10. Seleccionar datos con un mes específico o un día específico del mes"
   ]
  },
  {
   "cell_type": "code",
   "execution_count": null,
   "metadata": {
    "collapsed": true,
    "jupyter": {
     "outputs_hidden": true
    },
    "tags": []
   },
   "outputs": [],
   "source": [
    "# Seleccionamos todos los datos de mayo de 2018 usando el formato 'YYYY-M'\n",
    "df.loc['2018-5'].head()"
   ]
  },
  {
   "cell_type": "code",
   "execution_count": null,
   "metadata": {},
   "outputs": [],
   "source": [
    "# Seleccionamos datos de un día específico: 1 de mayo de 2018\n",
    "df.loc['2018-5-1'].head()"
   ]
  },
  {
   "cell_type": "code",
   "execution_count": null,
   "metadata": {
    "collapsed": true,
    "jupyter": {
     "outputs_hidden": true
    },
    "tags": []
   },
   "outputs": [],
   "source": [
    "# Forma alternativa: filtramos usando una condición booleana\n",
    "# Seleccionamos todas las filas donde el mes es febrero (cualquier año)\n",
    "cond = df.index.month == 2\n",
    "df[cond].head()"
   ]
  },
  {
   "attachments": {},
   "cell_type": "markdown",
   "metadata": {},
   "source": [
    "### 11. Seleccionar datos entre dos fechas (obsoleto)"
   ]
  },
  {
   "cell_type": "code",
   "execution_count": null,
   "metadata": {
    "collapsed": true,
    "jupyter": {
     "outputs_hidden": true
    },
    "tags": []
   },
   "outputs": [],
   "source": [
    "# Seleccionamos datos entre dos años usando slicing\n",
    "# ADVERTENCIA: Este método genera un FutureWarning y puede ser obsoleto en futuras versiones\n",
    "df.loc['2016':'2018']"
   ]
  },
  {
   "cell_type": "code",
   "execution_count": null,
   "metadata": {},
   "outputs": [],
   "source": [
    "# between_time selecciona todas las filas dentro de un rango horario específico\n",
    "# Esto selecciona todos los registros entre 10:30 y 10:45 de TODOS los días\n",
    "df.between_time('10:30','10:45')"
   ]
  },
  {
   "cell_type": "code",
   "execution_count": null,
   "metadata": {},
   "outputs": [],
   "source": [
    "# Verificamos las dimensiones del DataFrame completo\n",
    "# 1795144 filas y 2 columnas\n",
    "df.shape"
   ]
  },
  {
   "attachments": {},
   "cell_type": "markdown",
   "metadata": {},
   "source": [
    "### 12. Operaciones con fechas"
   ]
  },
  {
   "cell_type": "code",
   "execution_count": null,
   "metadata": {},
   "outputs": [],
   "source": [
    "# Recreamos el DataFrame con fechas de nacimiento\n",
    "df = pd.DataFrame({'name': ['Tom', 'Andy', 'Lucas'],\n",
    "                 'DoB': ['08-05-1997', '04-28-1996', '12-16-1995']})\n",
    "\n",
    "df['DoB'] = pd.to_datetime(df['DoB'])\n",
    "df"
   ]
  },
  {
   "cell_type": "code",
   "execution_count": null,
   "metadata": {},
   "outputs": [],
   "source": [
    "# Usamos DateOffset para sumar o restar períodos de tiempo a las fechas\n",
    "# DateOffset permite operaciones con días, meses, años, etc.\n",
    "from pandas.tseries.offsets import DateOffset, BDay\n",
    "\n",
    "print(df['DoB'] + DateOffset(days = 5))  # Suma 5 días\n",
    "print(df['DoB'] + DateOffset(days = -5))  # Resta 5 días\n",
    "print(df['DoB'] + DateOffset(months = 5))  # Suma 5 meses"
   ]
  },
  {
   "cell_type": "code",
   "execution_count": null,
   "metadata": {},
   "outputs": [],
   "source": [
    "# BDay representa \"Business Days\" (días laborables)\n",
    "# Esto crea un objeto que representa 10 días laborables\n",
    "BDay(10)"
   ]
  },
  {
   "cell_type": "code",
   "execution_count": null,
   "metadata": {},
   "outputs": [],
   "source": [
    "# Sumamos 10 días laborables a las fechas de nacimiento\n",
    "# Nota: BDay excluye sábados y domingos automáticamente\n",
    "print(df['DoB'])\n",
    "print(df['DoB'] + BDay(10))"
   ]
  },
  {
   "cell_type": "code",
   "execution_count": null,
   "metadata": {},
   "outputs": [],
   "source": [
    "# Creamos una nueva columna con la fecha de nacimiento + 10 días laborables\n",
    "df['DoB+10BD'] = df['DoB'] + BDay(10)\n",
    "df"
   ]
  },
  {
   "cell_type": "code",
   "execution_count": null,
   "metadata": {},
   "outputs": [],
   "source": [
    "# Calculamos la diferencia en días calendario entre las dos fechas\n",
    "# Nota: aunque sumamos 10 días laborables, la diferencia en días calendario puede variar\n",
    "# dependiendo de cuántos fines de semana caen en ese período\n",
    "df['date_diff'] = (df['DoB+10BD'] - df['DoB']).dt.days\n",
    "df"
   ]
  },
  {
   "cell_type": "code",
   "execution_count": null,
   "metadata": {},
   "outputs": [],
   "source": [
    "# Verificamos los tipos de datos del DataFrame\n",
    "# date_diff es int64 porque representa días como número entero\n",
    "df.dtypes"
   ]
  },
  {
   "attachments": {},
   "cell_type": "markdown",
   "metadata": {
    "colab_type": "text",
    "id": "OcZwYC_c_teO"
   },
   "source": [
    "### 13. Secuencias regulares: ``pd.date_range()``\n",
    "\n",
    "Para hacer más conveniente la creación de secuencias de **fechas regulares**, Pandas ofrece algunas funciones para este propósito: ``pd.date_range()`` para timestamps, ``pd.period_range()`` para períodos, y ``pd.timedelta_range()`` para deltas de tiempo.\n",
    "Hemos visto que **``range()`` de Python y ``np.arange()`` de NumPy** convierten un punto de inicio, punto final y un tamaño de paso opcional en una secuencia.\n",
    "De manera similar, ``pd.date_range()`` acepta una fecha de inicio, una fecha final y un código de frecuencia opcional para crear una secuencia regular de fechas.\n",
    "Por defecto, la frecuencia es un día:"
   ]
  },
  {
   "cell_type": "code",
   "execution_count": null,
   "metadata": {
    "colab": {},
    "colab_type": "code",
    "collapsed": false,
    "id": "RpaIqXit_teP",
    "jupyter": {
     "outputs_hidden": false
    },
    "outputId": "25031a80-b2d8-41bd-f8f4-46266a76430c"
   },
   "outputs": [],
   "source": [
    "# Creamos un rango de fechas desde el 3 al 10 de julio de 2015\n",
    "# Por defecto, la frecuencia es diaria (freq='D')\n",
    "pd.date_range('2015-07-03', '2015-07-10')"
   ]
  },
  {
   "attachments": {},
   "cell_type": "markdown",
   "metadata": {
    "colab_type": "text",
    "id": "atA1NEsO_teS"
   },
   "source": [
    "Alternativamente, el rango de fechas puede especificarse no con una fecha de inicio y final, sino con una fecha de inicio y un número de períodos:"
   ]
  },
  {
   "cell_type": "code",
   "execution_count": null,
   "metadata": {
    "colab": {},
    "colab_type": "code",
    "collapsed": false,
    "id": "J3gfyEn4_teT",
    "jupyter": {
     "outputs_hidden": false
    },
    "outputId": "aa850e09-2d9c-4f39-9b16-8e694999c60b"
   },
   "outputs": [],
   "source": [
    "# Creamos 8 fechas consecutivas empezando desde el 3 de julio de 2015\n",
    "# Esto es equivalente al ejemplo anterior\n",
    "pd.date_range('2015-07-03', periods = 8)"
   ]
  },
  {
   "attachments": {},
   "cell_type": "markdown",
   "metadata": {
    "colab_type": "text",
    "id": "22UmLzgq_teV"
   },
   "source": [
    "El espaciado puede modificarse alterando el argumento ``freq``, que por defecto es ``D``.\n",
    "Por ejemplo, aquí construiremos un rango de timestamps con frecuencia mensual (inicio de mes):"
   ]
  },
  {
   "cell_type": "code",
   "execution_count": null,
   "metadata": {
    "colab": {},
    "colab_type": "code",
    "collapsed": false,
    "id": "dF8lsQwU_teW",
    "jupyter": {
     "outputs_hidden": false
    },
    "outputId": "ce0255bd-4283-4e66-9bcd-6c5d512ce407"
   },
   "outputs": [],
   "source": [
    "# Creamos 12 fechas con frecuencia mensual (MS = Month Start)\n",
    "# Esto genera el primer día de cada mes en 2015\n",
    "pd.date_range('2015-01-01', periods = 12, freq='MS')"
   ]
  },
  {
   "attachments": {},
   "cell_type": "markdown",
   "metadata": {},
   "source": [
    "### 14. Manejar valores faltantes"
   ]
  },
  {
   "cell_type": "code",
   "execution_count": null,
   "metadata": {},
   "outputs": [],
   "source": [
    "# Leemos el archivo de ventas por ciudad con fecha como índice\n",
    "df = pd.read_csv('data/city_sales.csv', parse_dates=['date'], index_col='date')\n",
    "df"
   ]
  },
  {
   "cell_type": "code",
   "execution_count": null,
   "metadata": {},
   "outputs": [],
   "source": [
    "# Creamos una ventana rodante (rolling window) de 3 períodos y calculamos la media\n",
    "# Las primeras 2 filas serán NaN porque no hay suficientes valores previos\n",
    "df['rolling_sum'] = df['num'].rolling(3).mean()\n",
    "df.head()"
   ]
  },
  {
   "cell_type": "code",
   "execution_count": null,
   "metadata": {},
   "outputs": [],
   "source": [
    "# Rellenamos los valores NaN usando backfill (relleno hacia atrás)\n",
    "# Los valores NaN se rellenan con el siguiente valor válido\n",
    "df['rolling_sum_back'] = df['rolling_sum'].fillna(method = 'backfill')\n",
    "df.head()"
   ]
  },
  {
   "cell_type": "code",
   "execution_count": null,
   "metadata": {},
   "outputs": [],
   "source": [
    "# Creamos un DataFrame con valores faltantes (None y NaN)\n",
    "df = pd.DataFrame({\"A\":[12, 4, 5, None, 1],\n",
    "                   \"B\":[None, 2, 54, 3, None],\n",
    "                   \"C\":[20, 16, None, 3, 8],\n",
    "                   \"D\":[14, 3, None, None, 6]})\n",
    "  \n",
    "# Mostramos el DataFrame\n",
    "df"
   ]
  },
  {
   "cell_type": "code",
   "execution_count": null,
   "metadata": {},
   "outputs": [],
   "source": [
    "# Interpolamos los valores faltantes usando interpolación lineal\n",
    "# Esto estima los valores faltantes basándose en los valores adyacentes\n",
    "df.interpolate(method = 'linear')"
   ]
  },
  {
   "attachments": {},
   "cell_type": "markdown",
   "metadata": {},
   "source": [
    "### 15. Remuestreo, Ventanas y Desplazamiento"
   ]
  },
  {
   "cell_type": "code",
   "execution_count": null,
   "metadata": {},
   "outputs": [],
   "source": [
    "# Leemos datos históricos de acciones de Google\n",
    "# Parseamos la columna 'Date' y la establecemos como índice\n",
    "goog = pd.read_csv('data/GOOG.csv')\n",
    "goog['Date'] =  pd.to_datetime(goog['Date'])\n",
    "goog.set_index('Date', inplace=True)\n",
    "goog\n"
   ]
  },
  {
   "cell_type": "code",
   "execution_count": null,
   "metadata": {},
   "outputs": [],
   "source": [
    "# Mostramos las primeras 10 filas del DataFrame de Google\n",
    "goog.head(10)"
   ]
  },
  {
   "cell_type": "code",
   "execution_count": null,
   "metadata": {},
   "outputs": [],
   "source": [
    "# Mostramos información general del DataFrame\n",
    "# Vemos que hay 2518 registros con 6 columnas numéricas\n",
    "goog.info()"
   ]
  },
  {
   "cell_type": "code",
   "execution_count": null,
   "metadata": {},
   "outputs": [],
   "source": [
    "# Rellenamos valores faltantes usando forward fill (relleno hacia adelante)\n",
    "# Esto propaga el último valor válido hacia adelante\n",
    "goog = goog.fillna(method='ffill')\n",
    "goog"
   ]
  },
  {
   "cell_type": "code",
   "execution_count": null,
   "metadata": {},
   "outputs": [],
   "source": [
    "\n",
    "# Graficamos el precio de cierre de Google a lo largo del tiempo\n",
    "goog['Close'].plot();"
   ]
  },
  {
   "cell_type": "code",
   "execution_count": null,
   "metadata": {},
   "outputs": [],
   "source": [
    "# Remuestreamos los datos a frecuencia anual de negocios (BA = Business Year) y calculamos la media\n",
    "# Esto nos da el precio promedio por año (considerando solo días laborables)\n",
    "goog.resample('BA').mean()"
   ]
  },
  {
   "cell_type": "code",
   "execution_count": null,
   "metadata": {},
   "outputs": [],
   "source": [
    "# asfreq devuelve el valor en las fechas especificadas sin agregar\n",
    "# Esto es diferente a resample que agrega (promedia, suma, etc.)\n",
    "goog.asfreq('BA')"
   ]
  },
  {
   "cell_type": "code",
   "execution_count": null,
   "metadata": {},
   "outputs": [],
   "source": [
    "# Mostramos el valor específico del 31 de diciembre de 2012\n",
    "goog.loc['2012-12-31']"
   ]
  },
  {
   "cell_type": "code",
   "execution_count": null,
   "metadata": {},
   "outputs": [],
   "source": [
    "# Comparamos visualmente tres métodos de trabajar con series temporales:\n",
    "# - input: datos originales (semi-transparente)\n",
    "# - resample: promedio anual (línea punteada)\n",
    "# - asfreq: valor específico al final de cada año (línea discontinua)\n",
    "import matplotlib.pyplot as plt\n",
    "plt.figure(figsize=(10,10))\n",
    "goog['Close'].plot(alpha=0.5, style='-')\n",
    "goog['Close'].resample('BA').mean().plot(style=':')\n",
    "goog['Close'].asfreq('BA').plot(style='--');\n",
    "\n",
    "plt.legend(['input', 'resample', 'asfreq'],\n",
    "           loc='upper left');"
   ]
  },
  {
   "cell_type": "code",
   "execution_count": null,
   "metadata": {
    "collapsed": true,
    "jupyter": {
     "outputs_hidden": true
    },
    "tags": []
   },
   "outputs": [],
   "source": [
    "# Mostramos nuevamente el resultado de asfreq para el año de negocios\n",
    "goog.asfreq('BA')"
   ]
  },
  {
   "attachments": {},
   "cell_type": "markdown",
   "metadata": {},
   "source": [
    "| Código | Descripción             | Código | Descripción                      |\n",
    "|--------|-------------------------|--------|----------------------------------|\n",
    "| ``D``  | Día de calendario       | ``B``  | Día laborable                    |\n",
    "| ``W``  | Semanal                 |        |                                  |\n",
    "| ``M``  | Fin de mes              | ``BM`` | Fin de mes laborable             |\n",
    "| ``Q``  | Fin de trimestre        | ``BQ`` | Fin de trimestre laborable       |\n",
    "| ``A``  | Fin de año              | ``BA`` | Fin de año laborable             |\n",
    "| ``H``  | Horas                   | ``BH`` | Horas laborables                 |\n",
    "| ``T``  | Minutos                 |        |                                  |\n",
    "| ``S``  | Segundos                |        |                                  |\n",
    "| ``L``  | Milisegundos            |        |                                  |\n",
    "| ``U``  | Microsegundos           |        |                                  |\n",
    "| ``N``  | Nanosegundos            |        |                                  |"
   ]
  },
  {
   "cell_type": "code",
   "execution_count": null,
   "metadata": {},
   "outputs": [],
   "source": [
    "# Extraemos solo la columna 'Close' para simplificar los análisis siguientes\n",
    "goog = goog['Close']"
   ]
  },
  {
   "cell_type": "code",
   "execution_count": null,
   "metadata": {
    "tags": []
   },
   "outputs": [],
   "source": [
    "# Creamos un DataFrame para analizar cambios semanales\n",
    "# shift(7) desplaza los datos 7 días hacia adelante\n",
    "# Calculamos la diferencia y el porcentaje de crecimiento semanal\n",
    "pd.DataFrame({'Data': goog,\n",
    "             'Data-7': goog.shift(7),\n",
    "             'Diff': goog - goog.shift(7),\n",
    "             '%Crec': round(((goog - goog.shift(7))/goog)*100,2)})"
   ]
  },
  {
   "cell_type": "code",
   "execution_count": null,
   "metadata": {},
   "outputs": [],
   "source": [
    "# Calculamos y graficamos el ROI (Return on Investment) anual\n",
    "# shift(261) desplaza aproximadamente un año (261 días laborables)\n",
    "# El ROI muestra el porcentaje de retorno comparado con hace un año\n",
    "ROI = 100 * (goog - goog.shift(261)) / goog.shift(261)\n",
    "ROI.plot()\n",
    "plt.ylabel('% Return on Investment');"
   ]
  },
  {
   "attachments": {},
   "cell_type": "markdown",
   "metadata": {},
   "source": [
    "### 16. Ventana rodante (Rolling window)"
   ]
  },
  {
   "cell_type": "code",
   "execution_count": null,
   "metadata": {},
   "outputs": [],
   "source": [
    "# Creamos un objeto de ventana rodante de 261 días (aproximadamente un año de trading)\n",
    "# center=True centra la ventana en lugar de alinearla al final\n",
    "rolling = goog.rolling(261, center=True) # 365 - fines de semana (aprox(52*2))"
   ]
  },
  {
   "cell_type": "code",
   "execution_count": null,
   "metadata": {},
   "outputs": [],
   "source": [
    "# Graficamos los datos originales junto con la media y desviación estándar rodantes\n",
    "# La media rodante suaviza las fluctuaciones y muestra la tendencia\n",
    "# La desviación estándar rodante muestra la volatilidad a lo largo del tiempo\n",
    "rolling = goog.rolling(261, center=True)\n",
    "\n",
    "data = pd.DataFrame({'input': goog,\n",
    "                     'one-year rolling_mean': rolling.mean(),\n",
    "                     'one-year rolling_std': rolling.std()})\n",
    "\n",
    "ax = data.plot(style=['-', '--', ':'])\n",
    "ax.lines[0].set_alpha(0.3)"
   ]
  },
  {
   "cell_type": "code",
   "execution_count": null,
   "metadata": {},
   "outputs": [],
   "source": [
    "# Verificamos cuántos días han pasado desde el inicio de los datos\n",
    "# Esto nos ayuda a entender el contexto para calcular medias rodantes\n",
    "today = datetime(year=2010, month=1, day=8)\n",
    "min_date = goog.index.min()\n",
    "print(today)\n",
    "print(min_date)\n",
    "print((today- min_date).days)"
   ]
  },
  {
   "cell_type": "code",
   "execution_count": null,
   "metadata": {},
   "outputs": [],
   "source": [
    "# Calculamos la media rodante de 4 días para una fecha específica\n",
    "# Esto promedia los valores de los 4 días previos (incluyendo el día actual)\n",
    "goog.rolling(4).mean().loc[today]"
   ]
  },
  {
   "cell_type": "code",
   "execution_count": null,
   "metadata": {},
   "outputs": [],
   "source": [
    "# Contamos cuántos días de trading tenemos en el dataset\n",
    "# 2518 días de trading (excluyendo fines de semana y festivos)\n",
    "len(goog.index)"
   ]
  },
  {
   "cell_type": "code",
   "execution_count": null,
   "metadata": {},
   "outputs": [],
   "source": [
    "# Contamos cuántos días de calendario hay entre la primera y última fecha\n",
    "# 3652 días de calendario (incluyendo todos los días)\n",
    "len(pd.date_range(goog.index.min(), goog.index.max()))"
   ]
  },
  {
   "cell_type": "code",
   "execution_count": null,
   "metadata": {},
   "outputs": [],
   "source": [
    "# Calculamos cuántos años de datos tenemos\n",
    "# Aproximadamente 10 años\n",
    "(goog.index.max() - goog.index.min()).days/365"
   ]
  },
  {
   "cell_type": "code",
   "execution_count": null,
   "metadata": {},
   "outputs": [],
   "source": [
    "# Estimamos cuántos fines de semana hay en 10 años\n",
    "# 10 años * 52 semanas/año * 2 días/fin de semana = 1040 días\n",
    "10*52*2"
   ]
  },
  {
   "cell_type": "code",
   "execution_count": null,
   "metadata": {},
   "outputs": [],
   "source": [
    "# Calculamos la diferencia entre días de calendario y días de trading\n",
    "# 3652 - 2518 = 1134 días no laborables (fines de semana + festivos)\n",
    "3652 - 2518"
   ]
  }
 ],
 "metadata": {
  "kernelspec": {
   "display_name": "Python 3",
   "language": "python",
   "name": "python3"
  },
  "language_info": {
   "codemirror_mode": {
    "name": "ipython",
    "version": 3
   },
   "file_extension": ".py",
   "mimetype": "text/x-python",
   "name": "python",
   "nbconvert_exporter": "python",
   "pygments_lexer": "ipython3",
   "version": "3.11.9"
  }
 },
 "nbformat": 4,
 "nbformat_minor": 4
}
