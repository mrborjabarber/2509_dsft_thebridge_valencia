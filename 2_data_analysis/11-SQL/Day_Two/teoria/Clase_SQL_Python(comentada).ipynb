{
 "cells": [
  {
   "cell_type": "markdown",
   "metadata": {},
   "source": [
    "![imagen](./img/python.jpg)\n",
    "\n",
    "# SQL en Python\n",
    "Podrás atacar a una base de datos SQL desde muchas plataformas/lenguajes. Por supuesto, Python es uno de ellos. Para ello **utilizaremos el módulo `sqlite3`**, que viene incluido en la suite de paquetes de Anaconda.\n",
    "\n",
    "\n",
    "1. [Configuración del entorno](#1.-Configuración-del-entorno)\n",
    "2. [Modelo de datos](#2.-Modelo-de-datos)\n",
    "3. [Queries](#3.-Queries)\n",
    "\n",
    "    3.1 [Primera query](#3.1-Primera-query)\n",
    "    \n",
    "    3.2 [SELECT](#3.2-SELECT)\n",
    "    \n",
    "    3.3 [LIMIT](#3.3-LIMIT)\n",
    "    \n",
    "    3.4 [DISTINCT](#3.4-DISTINCT)\n",
    "    \n",
    "    3.5 [WHERE](#3.5-WHERE)\n",
    "    \n",
    "    3.6 [ORDER BY](#3.6-ORDER-BY)\n",
    "    \n",
    "    3.7 [Agregaciones](#3.7-Agregaciones)\n",
    "    \n",
    "    3.8 [GROUP BY](#3.8-GROUP-BY)\n",
    "    \n",
    "    3.9 [JOIN](#3.9-JOIN)\n",
    "    \n",
    "    3.10 [VIEW y DROP](#3.10-VIEW-y-DROP)\n",
    "    \n",
    "4. [Errores](#4.-Errores)\n",
    "\n",
    "5. [Resumen](#5.-Resumen)\n"
   ]
  },
  {
   "cell_type": "markdown",
   "metadata": {},
   "source": [
    "## 1. Configuración del entorno\n",
    "En este taller usaremos también *Pandas*, que es el módulo para tratamiento de datos tabular que más se usa en Python.\n",
    "\n",
    "Importamos ambos paquetes"
   ]
  },
  {
   "cell_type": "code",
   "execution_count": null,
   "metadata": {},
   "outputs": [],
   "source": [
    "import pandas as pd\n",
    "import sqlite3"
   ]
  },
  {
   "cell_type": "markdown",
   "metadata": {},
   "source": [
    "Lo primero que hacemos es **establecer conexión con la base de datos**. En este taller simplemente leeremos la base de datos de un archivo, pero lo normal es que tengamos que configurar la conexión a una base de datos de la empresa. Para ello existen otras librerías como `pyodbc` en el caso de un SQLServer o `cx_Oracle`, si el servidor es Oracle.\n",
    "\n",
    "**¡Asegurate que tienes el archivo chinook.db en la ruta donde se encuentra este Notebook!**"
   ]
  },
  {
   "cell_type": "code",
   "execution_count": null,
   "metadata": {},
   "outputs": [],
   "source": [
    "import os\n",
    "os.getcwd()"
   ]
  },
  {
   "cell_type": "code",
   "execution_count": null,
   "metadata": {},
   "outputs": [],
   "source": [
    "# Conectamos con la base de datos chinook.db\n",
    "connection = sqlite3.connect(\"data/chinook.db\")\n",
    "\n",
    "# Obtenemos un cursor que utilizaremos para hacer las queries\n",
    "crsr = connection.cursor()"
   ]
  },
  {
   "cell_type": "code",
   "execution_count": null,
   "metadata": {},
   "outputs": [],
   "source": [
    "# Con esta función leemos los datos y lo pasamos a un DataFrame de Pandas\n",
    "def sql_query(query):\n",
    "\n",
    "    # Ejecuta la query\n",
    "    crsr.execute(query)\n",
    "\n",
    "    # Almacena los datos de la query \n",
    "    ans = crsr.fetchall()\n",
    "\n",
    "    # Obtenemos los nombres de las columnas de la tabla\n",
    "    names = [description[0] for description in crsr.description]\n",
    "\n",
    "    return pd.DataFrame(ans,columns=names)"
   ]
  },
  {
   "cell_type": "markdown",
   "metadata": {},
   "source": [
    "## 2. Modelo de datos\n",
    "Antes de empezar a atacar una base de datos, tendremos que saber qué hay dentro, y para ello lo mejor es ver cómo es su **modelo de datos**\n",
    "\n",
    "![imagen](./img/chinook_data_model.png)"
   ]
  },
  {
   "cell_type": "markdown",
   "metadata": {},
   "source": [
    "Puedes ver todas las tablas que hay en la base de datos con la siguiente sentencia"
   ]
  },
  {
   "cell_type": "code",
   "execution_count": null,
   "metadata": {},
   "outputs": [],
   "source": [
    "res = crsr.execute(\"SELECT name FROM sqlite_master WHERE type='table'\")\n",
    "for name in res:\n",
    "    print(name[0])"
   ]
  },
  {
   "cell_type": "markdown",
   "metadata": {},
   "source": [
    "## 3. Queries\n",
    "En las *queries* o consultas, escribiremos nuestra sentencia SQL para poder traernos datos de la base de datos. Las queries tienen esta pinta:\n",
    "\n",
    "```SQL\n",
    "SELECT campo1, campo2, campo3...\n",
    "FROM tabla\n",
    "WHERE condiciones\n",
    "```\n",
    "\n",
    "Por supuesto, hay más sentencias propias de SQL que iremos viendo a lo largo del Notebook. Fíjate que las **palabras reservadas en SQL se suelen poner en mayúsculas**, para diferenciarlas del resto. No da error si se pone de otra manera, ya que SQL **no es *case sensitive***, pero sí se suele hacer así."
   ]
  },
  {
   "cell_type": "markdown",
   "metadata": {},
   "source": [
    "### 3.1 Primera query"
   ]
  },
  {
   "cell_type": "code",
   "execution_count": null,
   "metadata": {},
   "outputs": [],
   "source": [
    "# Selecciona todos los campos (*) de la tabla tracks\n",
    "query = '''\n",
    "SELECT * \n",
    "FROM tracks\n",
    "'''\n",
    "\n",
    "df = sql_query(query)\n",
    "df"
   ]
  },
  {
   "cell_type": "markdown",
   "metadata": {},
   "source": [
    "### 3.2 SELECT\n",
    "**La sentencia `SELECT` se usa para filtrar columnas**. Podremos incluso renombrar algunas columnas dentro del propio `SELECT`. Dos opciones:\n",
    "* **SELECT * :** de esta forma lo que haremos es traer todos los campos de la tabla. NO es lo recomendable ya que hay tablas que pueden tener cientos de columnas y probablemente no necesitemos todas, por lo que afectará al rendimiento de la maquina y en definitiva al resto de usuarios. **Recuerda que las bases de datos son normalmente entornos compartidos por varios usuarios :)**\n",
    "* **SELECT campo1, campo2...:** sentencia para escoger los campos concretos que necesitamos.\n",
    "\n",
    "Además en la propia query podrás renombrar campos mediante la sintaxis `campo as nuevo_nombre`. **Si quieres poner espacios en el nombre del campo, tendrás que rodear el string con comillas dobles**\n",
    "\n",
    "SQL no es sensible a mayusculas y minusculas."
   ]
  },
  {
   "cell_type": "code",
   "execution_count": null,
   "metadata": {},
   "outputs": [],
   "source": [
    "# Selecciona solo los campos Name y Composer de tracks, renombrándolos\n",
    "query = '''\n",
    "SELECT Name as \"Nombre Cancion\", composer as \"Compositor\"\n",
    "FROM tracks\n",
    "'''\n",
    "\n",
    "sql_query(query)"
   ]
  },
  {
   "cell_type": "markdown",
   "metadata": {},
   "source": [
    "### 3.3 LIMIT\n",
    "Se usa para acotar el número de registros de la query. Va siempre al final. Por ejemplo `LIMIT 10`"
   ]
  },
  {
   "cell_type": "code",
   "execution_count": null,
   "metadata": {},
   "outputs": [],
   "source": [
    "# Selecciona Name y Composer de tracks, limitando el resultado a las primeras 10 filas\n",
    "query = '''\n",
    "SELECT Name as \"Nombre Cancion\", composer\n",
    "FROM tracks\n",
    "LIMIT 10\n",
    "'''\n",
    "\n",
    "sql_query(query)"
   ]
  },
  {
   "cell_type": "markdown",
   "metadata": {},
   "source": [
    "### 3.4 DISTINCT\n",
    "Se usa para obtener todos los registros únicos, es decir, sin duplicados. Muy útil tanto para eliminar dupicados, como para ver todas las casuísticas de un campo en concreto.\n",
    "\n",
    "**Mucho cuidado con esta sentencia ya que si la tabla tiene miles o millones de registros, puede ralentizar mucho la query.**"
   ]
  },
  {
   "cell_type": "code",
   "execution_count": null,
   "metadata": {},
   "outputs": [],
   "source": [
    "# Obtiene todos los valores únicos (sin duplicados) del campo Composer\n",
    "query = '''\n",
    "SELECT DISTINCT Composer\n",
    "FROM tracks\n",
    "'''\n",
    "\n",
    "sql_query(query)"
   ]
  },
  {
   "cell_type": "markdown",
   "metadata": {},
   "source": [
    "### 3.5 WHERE\n",
    "Se usa para filtrar filas. Ejemplos de uso:\n",
    "* **Un valor numérico**\n",
    "    * UnitPrice = 0.99\n",
    "    * UnitPrice >= 0.99\n",
    "    * UnitPrice < 0.99\n",
    "* **Un valor string**: Name = 'Restless and Wild'\n",
    "* **Varios valores**: GenreId in (1, 5, 12)\n",
    "* **string contenido**:\n",
    "    * strings que empiecen por 'A': Name like 'A%'\n",
    "    * strings que acaben en 'A': Name like '%A'\n",
    "    * strings que lleven 'A' en algun punto: Name like '%A%'\n",
    "* **Distinto de**: UnitPrice <> 0.99\n",
    "\n",
    "Probamos el `WHERE`"
   ]
  },
  {
   "cell_type": "code",
   "execution_count": null,
   "metadata": {},
   "outputs": [],
   "source": [
    "# Filtra las canciones con precio unitario mayor a 0.99\n",
    "query = '''\n",
    "SELECT * \n",
    "FROM tracks\n",
    "WHERE unitprice > 0.99\n",
    "'''\n",
    "\n",
    "sql_query(query)"
   ]
  },
  {
   "cell_type": "markdown",
   "metadata": {},
   "source": [
    "Veamos qué tal funciona el `LIKE`"
   ]
  },
  {
   "cell_type": "code",
   "execution_count": null,
   "metadata": {},
   "outputs": [],
   "source": [
    "# Busca todas las canciones donde el compositor contenga 'Brian Johnson'\n",
    "query = '''\n",
    "SELECT * \n",
    "FROM tracks\n",
    "WHERE composer LIKE '%Brian Johnson%'\n",
    "'''\n",
    "\n",
    "sql_query(query)"
   ]
  },
  {
   "cell_type": "markdown",
   "metadata": {},
   "source": [
    "Compliquemos un poco más el `WHERE`"
   ]
  },
  {
   "cell_type": "code",
   "execution_count": null,
   "metadata": {},
   "outputs": [],
   "source": [
    "# Filtra con múltiples condiciones: precio > 0.99 O tamaño > 100MB, Y género en (21,22,23), Y nombre contiene 'al'\n",
    "query = '''\n",
    "SELECT * \n",
    "FROM tracks\n",
    "WHERE (unitprice > 0.99 or bytes > 100000000) and genreid in (21, 22, 23) and Name LIKE '%al%'\n",
    "'''\n",
    "\n",
    "df = sql_query(query)\n",
    "df"
   ]
  },
  {
   "cell_type": "markdown",
   "metadata": {},
   "source": [
    "### 3.6 ORDER BY\n",
    "Podemos **ordenar la tabla por el campo/s que queramos**. Por defecto ordena alfabéticamente los strings y de menor a mayor los tipos numéricos. Si quieres que ordene al revés, tienes que poner `DESC` de la forma `ORDER BY campo DESC`"
   ]
  },
  {
   "cell_type": "code",
   "execution_count": null,
   "metadata": {},
   "outputs": [],
   "source": [
    "# Ordena todas las canciones por nombre de forma descendente (Z-A)\n",
    "query = '''\n",
    "SELECT * \n",
    "FROM tracks\n",
    "ORDER BY name DESC;\n",
    "'''\n",
    "\n",
    "sql_query(query)"
   ]
  },
  {
   "cell_type": "markdown",
   "metadata": {},
   "source": [
    "### 3.7 Agregaciones\n",
    "En ocasiones nos interesa obtener algún estadístico como el máximo de un campo, su desviación estándar o simplemente un conteo de registros no nulos. Para ello podemos usar funciones como `MAX`, `COUNT` o `AVG`. En [esta página](https://www.sqlservertutorial.net/sql-server-aggregate-functions/) encontrarás un resumen con las principales funciones."
   ]
  },
  {
   "cell_type": "code",
   "execution_count": null,
   "metadata": {},
   "outputs": [],
   "source": [
    "# Aggregations\n",
    "# Cuenta cuántas canciones tienen un nombre que empieza con 'a'\n",
    "query = '''\n",
    "SELECT COUNT(*)\n",
    "FROM tracks\n",
    "WHERE name LIKE 'a%';\n",
    "'''\n",
    "\n",
    "sql_query(query)"
   ]
  },
  {
   "cell_type": "code",
   "execution_count": null,
   "metadata": {},
   "outputs": [],
   "source": [
    "# Calcula el precio unitario promedio de todos los ítems de facturas\n",
    "query = '''\n",
    "SELECT AVG(unitprice)\n",
    "FROM invoice_items;\n",
    "'''\n",
    "\n",
    "sql_query(query)"
   ]
  },
  {
   "cell_type": "markdown",
   "metadata": {},
   "source": [
    "### 3.8 GROUP BY\n",
    "Es una sentencia muy útil para **calcular agregados en función de otro campo**. Por ejemplo, para calcular el total del precio unitario en función del género\n"
   ]
  },
  {
   "cell_type": "code",
   "execution_count": null,
   "metadata": {},
   "outputs": [],
   "source": [
    "# Agrupa por género y suma los precios unitarios, ordenando por total descendente y limitando a 10\n",
    "query = '''\n",
    "SELECT GenreId, SUM(unitprice) as TOT_PRICE\n",
    "FROM tracks\n",
    "GROUP BY GenreId\n",
    "ORDER BY TOT_PRICE DESC\n",
    "LIMIT 10;\n",
    "'''\n",
    "\n",
    "sql_query(query)"
   ]
  },
  {
   "cell_type": "markdown",
   "metadata": {},
   "source": [
    "O calcular cuantas canciones hay por compositor"
   ]
  },
  {
   "cell_type": "code",
   "execution_count": null,
   "metadata": {},
   "outputs": [],
   "source": [
    "# Cuenta cuántas canciones tiene cada compositor (excluyendo NULL), ordenando por cantidad y mostrando top 100\n",
    "query = '''\n",
    "SELECT composer, COUNT(trackid)\n",
    "FROM tracks\n",
    "WHERE Composer IS NOT NULL\n",
    "GROUP BY composer\n",
    "ORDER BY 2 DESC\n",
    "LIMIT 100\n",
    ";\n",
    "'''\n",
    "\n",
    "sql_query(query)"
   ]
  },
  {
   "cell_type": "markdown",
   "metadata": {},
   "source": [
    "### 3.9 JOIN\n",
    "Hasta ahora hemos hecho queries sobre una única tabla, pero **¿y si queremos juntar datos de varias tablas?** Para eso están los `JOIN`s. Para ello **necesitas tener uno o varios campos comunes entre ambas tablas, que denominan CLAVES**.\n",
    "\n",
    "**¿Cuándo usarlos?** Por ejemplo, si tenemos una tabla con un conjunto de clientes y necesitamos añadirles campos nuevos, tendremos que acudir a otras tablas donde esté ese identificador de cliente y aplicar un `JOIN`. Es lo que se conoce como *pegar campos* a otra tabla.\n",
    "\n",
    "O imagina que tienes una tabla con todos tus pedidos, con muchos campos(ciudad, dirección, cliente...) y en otra tabla únicamente los números de pedido que no se llegaron a entregar. Si quieres filtrar dentro de tu tabla total de pedidos los que no se llegaron a entregar, podrías aplicar un `INNER JOIN` de manera que te quedes con lo común en ambas tablas, siendo tu clave el identificativo del pedido..\n",
    "\n",
    "Existen varios tipos de JOINs:\n",
    "\n",
    "![imagen](./img/joins.jpg)"
   ]
  },
  {
   "cell_type": "markdown",
   "metadata": {},
   "source": [
    "![imagen](./img/chinook_data_model.png)"
   ]
  },
  {
   "cell_type": "code",
   "execution_count": null,
   "metadata": {},
   "outputs": [],
   "source": [
    "#INNER JOIN\n",
    "# Une tracks con genres para obtener el nombre del género de cada canción\n",
    "query = '''\n",
    "SELECT a.name as track_name, a.composer, b.name as genre_name\n",
    "FROM tracks AS a\n",
    "INNER JOIN genres AS b\n",
    "ON a.genreid = b.genreid\n",
    ";\n",
    "'''\n",
    "\n",
    "sql_query(query)"
   ]
  },
  {
   "cell_type": "code",
   "execution_count": null,
   "metadata": {},
   "outputs": [],
   "source": [
    "# Une tracks con genres, agrupa por género y suma precios, ordenando por total descendente y limitando a 10\n",
    "query = '''\n",
    "SELECT b.name as genre_name, SUM(a.unitprice) as TOT_PRICE\n",
    "FROM tracks as a\n",
    "INNER JOIN genres as b\n",
    "on a.GenreId=b.GenreId\n",
    "GROUP BY b.name\n",
    "ORDER BY TOT_PRICE DESC\n",
    "LIMIT 10;\n",
    "'''\n",
    "\n",
    "sql_query(query)"
   ]
  },
  {
   "cell_type": "markdown",
   "metadata": {},
   "source": [
    "![imagen](./img/chinook_data_model.png)"
   ]
  },
  {
   "cell_type": "code",
   "execution_count": null,
   "metadata": {},
   "outputs": [],
   "source": [
    "# Une tracks con invoice_items para obtener información de facturación de cada canción\n",
    "query = '''\n",
    "SELECT a.trackid, a.name, a.composer, b.invoicelineid, b.invoiceid\n",
    "FROM tracks AS a\n",
    "INNER JOIN invoice_items AS b\n",
    "ON a.trackid = b.trackid\n",
    ";\n",
    "'''\n",
    "\n",
    "sql_query(query)"
   ]
  },
  {
   "cell_type": "code",
   "execution_count": null,
   "metadata": {},
   "outputs": [],
   "source": [
    "# Selecciona el nombre de la canción y su álbum ID de la tabla tracks\n",
    "query = '''\n",
    "SELECT name as track_title, albumid\n",
    "FROM tracks\n",
    ";\n",
    "'''\n",
    "\n",
    "sql_query(query)"
   ]
  },
  {
   "cell_type": "code",
   "execution_count": null,
   "metadata": {},
   "outputs": [],
   "source": [
    "#LEFT JOIN\n",
    "# Une tracks con albums manteniendo todas las canciones incluso si no tienen álbum asociado\n",
    "query = '''\n",
    "SELECT a.name as track_title , b.title as album_title\n",
    "FROM tracks AS a\n",
    "LEFT JOIN albums AS b\n",
    "ON a.albumid = b.albumid\n",
    "'''\n",
    "\n",
    "df_lj = sql_query(query)\n",
    "# df_lj[df_lj['album_title'].isna()]\n",
    "df"
   ]
  },
  {
   "cell_type": "code",
   "execution_count": null,
   "metadata": {},
   "outputs": [],
   "source": [
    "# Une invoice_items con tracks (LEFT JOIN), manteniendo todos los ítems de factura, limitado a 5 filas\n",
    "query = '''\n",
    "SELECT * \n",
    "FROM invoice_items AS a\n",
    "LEFT JOIN tracks AS b\n",
    "ON a.trackid = b.trackid\n",
    "LIMIT 5;\n",
    "'''\n",
    "\n",
    "sql_query(query)"
   ]
  },
  {
   "cell_type": "code",
   "execution_count": null,
   "metadata": {},
   "outputs": [],
   "source": [
    "# Combina LEFT JOIN de invoice_items con tracks y LEFT JOIN inverso usando UNION (limitado a 5)\n",
    "query = '''\n",
    "SELECT * \n",
    "FROM invoice_items AS a\n",
    "LEFT JOIN tracks AS b\n",
    "ON a.trackid = b.trackid\n",
    "UNION\n",
    "SELECT *\n",
    "FROM tracks AS a\n",
    "LEFT JOIN invoice_items AS b\n",
    "ON a.trackid =b.trackid\n",
    "LIMIT 5;\n",
    "'''\n",
    "\n",
    "sql_query(query)"
   ]
  },
  {
   "cell_type": "code",
   "execution_count": null,
   "metadata": {},
   "outputs": [],
   "source": [
    "#FULL JOIN\n",
    "#FULL JOIN isn't supported in sqlite, \n",
    "#so we use a LEFT JOIN + RIGHT JOIN(inverse LEFT JOIN) as a workaround\n",
    "\n",
    "# Simula FULL JOIN combinando LEFT JOIN de invoice_items con tracks y viceversa usando UNION\n",
    "query = '''\n",
    "SELECT * \n",
    "FROM invoice_items AS a\n",
    "LEFT JOIN tracks AS b\n",
    "ON a.trackid = b.trackid\n",
    "UNION\n",
    "SELECT *\n",
    "FROM tracks AS a\n",
    "LEFT JOIN invoice_items AS b\n",
    "ON a.trackid =b.trackid;\n",
    "'''\n",
    "\n",
    "sql_query(query)"
   ]
  },
  {
   "cell_type": "markdown",
   "metadata": {},
   "source": [
    "### 3.10 VIEW y DROP\n",
    "En ocasiones resulta útil **dividir nuestras queries en varios pasos**, y para ello utilizamos la sentencia `VIEW`. Con `VIEW` creamos una *vista* de una tabla, es decir, obtenemos una tabla temporal que usaremos después.\n",
    "\n",
    "Estas vistas se guardarán en el archivo *.db*, por lo que tendrás que tener cuidado de no almacenar muchas tablas poco útiles.\n",
    "\n",
    "Primero, veamos cómo acceder a todas las vistas de la base de datos"
   ]
  },
  {
   "cell_type": "code",
   "execution_count": null,
   "metadata": {},
   "outputs": [],
   "source": [
    "res = crsr.execute(\"SELECT name FROM sqlite_master WHERE type='view'\")\n",
    "for name in res:\n",
    "    print(name[0])"
   ]
  },
  {
   "cell_type": "markdown",
   "metadata": {},
   "source": [
    "Creamos dos vistas nuevas"
   ]
  },
  {
   "cell_type": "code",
   "execution_count": null,
   "metadata": {},
   "outputs": [],
   "source": [
    "# Crea una vista llamada 'name_composer' con name, composer y genreid de tracks\n",
    "query1 = '''\n",
    "CREATE VIEW IF NOT EXISTS name_composer  as\n",
    "SELECT name, composer, genreid\n",
    "FROM tracks\n",
    ";\n",
    "'''\n",
    "\n",
    "# Crea una vista llamada 'genre' con géneros que empiezan con 'b'\n",
    "query2 = '''\n",
    "CREATE VIEW IF NOT EXISTS genre as\n",
    "SELECT name, genreid\n",
    "FROM genres\n",
    "WHERE name LIKE \"b%\";\n",
    "'''\n",
    "\n",
    "crsr.execute(query1)\n",
    "crsr.execute(query2)\n",
    "\n",
    "#sql_query(query)"
   ]
  },
  {
   "cell_type": "markdown",
   "metadata": {},
   "source": [
    "Comprueba que ahora tienes vistas nuevas en tu base de datos"
   ]
  },
  {
   "cell_type": "code",
   "execution_count": null,
   "metadata": {},
   "outputs": [],
   "source": [
    "res = crsr.execute(\"SELECT name FROM sqlite_master WHERE type='view';\")\n",
    "for name in res:\n",
    "    print(name[0])"
   ]
  },
  {
   "cell_type": "markdown",
   "metadata": {},
   "source": [
    "Puedes borrar las vistas mediante `DROP VIEW`. Prueba a borrarlas, comprueba que ya no existen y vuelve a crearlas.\n",
    "\n",
    "**NOTA**: `DROP` también lo podrás usar como `DROP TABLE`. Nos cargaríamos una tabla entera de la base de datos y ya no sería recuperable, el *ctrl + Z* no te va a salvar. así que mucho cuidado con esta sentencia."
   ]
  },
  {
   "cell_type": "code",
   "execution_count": null,
   "metadata": {},
   "outputs": [],
   "source": [
    "# Elimina la vista 'name_composer' si existe\n",
    "query1_ = '''\n",
    "DROP VIEW IF EXISTS name_composer;\n",
    "'''\n",
    "# Elimina la vista 'genre' si existe\n",
    "query2_ = '''\n",
    "DROP VIEW IF EXISTS genre;\n",
    "'''\n",
    "\n",
    "crsr.execute(query1_)\n",
    "crsr.execute(query2_)"
   ]
  },
  {
   "cell_type": "markdown",
   "metadata": {},
   "source": [
    "Ahora que ya tenemos nuestras vistas, vamos a realizar otra operación con ambas tablas. En este caso, aplicamos un `JOIN`\n",
    "\n",
    "Fíjate que la salida de esta query es la misma que la del primer `JOIN` de este Notebook, pero en este caso, hecho en dos pasos."
   ]
  },
  {
   "cell_type": "code",
   "execution_count": null,
   "metadata": {},
   "outputs": [],
   "source": [
    "# creamos otra vez las vistas\n",
    "\n",
    "# Une las vistas name_composer y genre para obtener canciones con géneros que empiezan con 'b'\n",
    "query = '''\n",
    "SELECT a.name, a.composer, b.name\n",
    "FROM name_composer AS a\n",
    "INNER JOIN genre AS b\n",
    "ON a.genreid = b.genreid\n",
    ";\n",
    "'''\n",
    "\n",
    "df = sql_query(query)"
   ]
  },
  {
   "cell_type": "code",
   "execution_count": null,
   "metadata": {},
   "outputs": [],
   "source": [
    "df"
   ]
  },
  {
   "cell_type": "code",
   "execution_count": null,
   "metadata": {},
   "outputs": [],
   "source": [
    "df.to_csv('my_dataset.csv')\n"
   ]
  },
  {
   "cell_type": "markdown",
   "metadata": {},
   "source": [
    "## 4. Errores"
   ]
  },
  {
   "cell_type": "markdown",
   "metadata": {},
   "source": [
    "<table align=\"left\">\n",
    " <tr><td width=\"80\"><img src=\"./img/error.png\" style=\"width:auto;height:auto\"></td>\n",
    "     <td style=\"text-align:left\">\n",
    "         <h3>ERRORES Acceso a base de datos que no existe</h3>\n",
    "         \n",
    " </td></tr>\n",
    "</table>"
   ]
  },
  {
   "cell_type": "markdown",
   "metadata": {},
   "source": [
    "¡Cuidado! No da error, sino que crea una base de datos vacía"
   ]
  },
  {
   "cell_type": "code",
   "execution_count": null,
   "metadata": {},
   "outputs": [],
   "source": [
    "# Conectamos con la base de datos chinook.db\n",
    "connection = sqlite3.connect(\"bbbb.db\")\n",
    "\n",
    "crsr = connection.cursor()"
   ]
  },
  {
   "cell_type": "markdown",
   "metadata": {},
   "source": [
    "<table align=\"left\">\n",
    " <tr><td width=\"80\"><img src=\"./img/error.png\" style=\"width:auto;height:auto\"></td>\n",
    "     <td style=\"text-align:left\">\n",
    "         <h3>ERRORES en la query</h3>\n",
    "         \n",
    " </td></tr>\n",
    "</table>"
   ]
  },
  {
   "cell_type": "markdown",
   "metadata": {},
   "source": [
    "Los errores son todos del mismo tipo: `OperationalError`. Esto nos indica que lo da el propio SQL, no es un error del intérprete de Python como tal. Ahora bien, aunque lo dé SQL, devuelve un descriptivo con el tipo de error, que está bastante bien para ver por donde van los tiros."
   ]
  },
  {
   "cell_type": "code",
   "execution_count": null,
   "metadata": {},
   "outputs": [],
   "source": [
    "query = '''\n",
    "SELECT * \n",
    "FROM tracksssss\n",
    "'''\n",
    "\n",
    "sql_query(query)"
   ]
  },
  {
   "cell_type": "code",
   "execution_count": null,
   "metadata": {},
   "outputs": [],
   "source": [
    "query = '''\n",
    "SELECT campo1, campo2\n",
    "FROM tracks\n",
    "'''\n",
    "\n",
    "sql_query(query)"
   ]
  },
  {
   "cell_type": "markdown",
   "metadata": {},
   "source": [
    "## 5. Resumen\n",
    "**SQL es el estándar que se utiliza en el acceso a las BBDD relacionales**, por lo que en prácticamente cualquier empresa te vas a encontrar una BD de este tipo. La sintaxis es:\n",
    "\n",
    "```SQL\n",
    "SELECT campo1, campo2, campo3...\n",
    "FROM tabla\n",
    "WHERE condicionales\n",
    "```\n",
    "\n",
    "Y podrás realizar las siguientes acciones:\n",
    "1. **Filtrar columnas**: mediante `SELECT`\n",
    "2. **Renombrar campos**: mediante `SELECT campo as nuevo_nombre`\n",
    "3. **Eliminar duplicados**: mediante `DISTINCT`\n",
    "4. **Limitar el número de registros**: `LIMIT`\n",
    "5. **Filtrar filas**: `WHERE`\n",
    "6. **Ordenar una tabla**: `ORDER BY campo1, campo2` y `DESC`\n",
    "7. **Agregar información**: sacar un KPI como un máximo o un conteo: `MAX`,`COUNT`,`AVG`...\n",
    "8. **Agregado a nivel grupo**: con `GROUP BY`. Se calculan las funciones de agregación para cada grupo de una columna.\n",
    "9. **Juntar datos**: mediante `JOIN`. Hay de varios tipos: `LEFT`, `RIGHT`, `FULL`, `INNER` y `OUTER`.\n",
    "10. **Tablas temporales**: con `VIEW`\n",
    "11. **Eliminar tablas o vistas**: con `DROP`\n",
    "\n",
    "Y si te manejas de maravilla con la librería pandas, **siempre puedes obtener tus datos mediante una query con sqlite3, y tratarlos posteriormente en Python, mediante las funciones de pandas.**"
   ]
  }
 ],
 "metadata": {
  "kernelspec": {
   "display_name": "Python 3",
   "language": "python",
   "name": "python3"
  },
  "language_info": {
   "codemirror_mode": {
    "name": "ipython",
    "version": 3
   },
   "file_extension": ".py",
   "mimetype": "text/x-python",
   "name": "python",
   "nbconvert_exporter": "python",
   "pygments_lexer": "ipython3",
   "version": "3.11.9"
  }
 },
 "nbformat": 4,
 "nbformat_minor": 4
}
