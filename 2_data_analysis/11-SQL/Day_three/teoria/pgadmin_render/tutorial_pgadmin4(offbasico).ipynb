{
  "cells": [
    {
      "cell_type": "markdown",
      "metadata": {},
      "source": [
        "# Tutorial de PostgreSQL para Principiantes: Comenzando con pgAdmin 4\n",
        "\n",
        "**Autor Original:** Rana Khalil  \n",
        "**Publicado:** 12 de enero de 2018  \n",
        "**Categoría:** Bases de Datos\n",
        "\n",
        "---"
      ]
    },
    {
      "cell_type": "markdown",
      "metadata": {},
      "source": [
        "## 📋 Descripción General\n",
        "\n",
        "**PostgreSQL** es un sistema de gestión de bases de datos objeto-relacional (ORDBMS) de código abierto que funciona en todos los sistemas operativos principales.\n",
        "\n",
        "**pgAdmin** es una herramienta de interfaz gráfica (GUI) que te permite conectarte y administrar bases de datos PostgreSQL de manera visual e intuitiva.\n",
        "\n",
        "### Requisitos Previos\n",
        "\n",
        "Para seguir este tutorial necesitas tener instalado:\n",
        "- PostgreSQL (versión 10 o superior)\n",
        "- pgAdmin 4"
      ]
    },
    {
      "cell_type": "markdown",
      "metadata": {},
      "source": [
        "---\n",
        "\n",
        "## 🔌 Paso 1: Conectarse al Servidor\n",
        "\n",
        "### Instrucciones:\n",
        "\n",
        "1. Abre **pgAdmin 4**\n",
        "2. En el panel izquierdo, haz **clic derecho** sobre **\"PostgreSQL\"**\n",
        "3. Selecciona **\"Connect Server\"** (Conectar Servidor)\n",
        "4. Ingresa tu **contraseña** cuando se te solicite\n",
        "5. El servidor aparecerá en el árbol de navegación del lado izquierdo\n",
        "6. Por defecto, se creará automáticamente una base de datos llamada **\"postgres\"**\n",
        "\n",
        "### 📸 Captura de Pantalla:\n",
        "\n",
        "![Conectar al Servidor](https://rkhal101.github.io/images/blogs/pgadmin-tutorial-1/connect_server.png)\n",
        "\n",
        "> **Nota:** El árbol de control (tree control) es el panel de la interfaz del lado izquierdo que se usa para navegar entre objetos."
      ]
    },
    {
      "cell_type": "markdown",
      "metadata": {},
      "source": [
        "---\n",
        "\n",
        "## 🗄️ Paso 2: Crear una Base de Datos\n",
        "\n",
        "### Instrucciones:\n",
        "\n",
        "1. Haz **clic derecho** sobre **\"Databases\"** (Bases de Datos)\n",
        "2. Selecciona **\"Create\"** → **\"Database\"**\n",
        "3. Ingresa el nombre de la base de datos (ejemplo: **\"tutorial1\"**)\n",
        "4. Haz clic en el botón **\"Save\"** (Guardar)\n",
        "\n",
        "### 📸 Captura de Pantalla:\n",
        "\n",
        "![Crear Base de Datos](https://rkhal101.github.io/images/blogs/pgadmin-tutorial-1/create_database.png)"
      ]
    },
    {
      "cell_type": "markdown",
      "metadata": {},
      "source": [
        "---\n",
        "\n",
        "## 📊 Paso 3: Crear una Tabla\n",
        "\n",
        "### Instrucciones:\n",
        "\n",
        "1. Expande **\"Schemas\"** → **\"public\"**\n",
        "2. Haz **clic derecho** sobre **\"Tables\"** (Tablas)\n",
        "3. Selecciona **\"Create\"** → **\"Table\"**\n",
        "4. Ingresa el nombre de la tabla (ejemplo: **\"persons\"**)\n",
        "5. Ve a la pestaña **\"Columns\"** (Columnas)\n",
        "6. Haz clic en el botón **\"+\"** para agregar columnas\n",
        "\n",
        "### Configuración de Columnas de Ejemplo:\n",
        "\n",
        "| Campo | Tipo de Dato | Longitud | Restricciones |\n",
        "|-------|--------------|----------|---------------|\n",
        "| first_name | character varying | 20 | NOT NULL, Primary Key |\n",
        "| last_name | character varying | 20 | |\n",
        "| age | integer | — | |\n",
        "\n",
        "### 📸 Capturas de Pantalla:\n",
        "\n",
        "![Crear Tabla](https://rkhal101.github.io/images/blogs/pgadmin-tutorial-1/create_table.png)\n",
        "\n",
        "![Agregar Columnas](https://rkhal101.github.io/images/blogs/pgadmin-tutorial-1/column.png)\n",
        "\n",
        "![Columnas Agregadas](https://rkhal101.github.io/images/blogs/pgadmin-tutorial-1/added_columns.png)\n",
        "\n",
        "![Tabla en el Árbol](https://rkhal101.github.io/images/blogs/pgadmin-tutorial-1/tree_control_table.png)\n",
        "\n",
        "> **Terminología Clave:**\n",
        "> - **character varying:** Almacenamiento de caracteres de longitud variable\n",
        "> - **Primary key:** Identificador único del registro\n",
        "> - **NOT NULL:** Restricción que requiere que el campo tenga un valor"
      ]
    },
    {
      "cell_type": "markdown",
      "metadata": {},
      "source": [
        "### 💻 Código SQL Equivalente:\n",
        "\n",
        "Si prefieres crear la tabla usando SQL directamente, puedes ejecutar el siguiente código:"
      ]
    },
    {
      "cell_type": "code",
      "execution_count": null,
      "metadata": {},
      "outputs": [],
      "source": [
        "-- Crear la tabla persons\n",
        "CREATE TABLE persons (\n",
        "    first_name VARCHAR(20) NOT NULL PRIMARY KEY,\n",
        "    last_name VARCHAR(20),\n",
        "    age INTEGER\n",
        ");"
      ]
    },
    {
      "cell_type": "markdown",
      "metadata": {},
      "source": [
        "---\n",
        "\n",
        "## ✏️ Paso 4: Insertar Datos\n",
        "\n",
        "### Instrucciones:\n",
        "\n",
        "1. Haz **clic derecho** sobre la tabla **\"persons\"**\n",
        "2. Selecciona **\"View / Edit Data\"** → **\"All Rows\"** (Ver/Editar Datos → Todas las Filas)\n",
        "3. Se abrirá el panel de edición de datos\n",
        "4. Ingresa los datos en las filas debajo de los encabezados de columna\n",
        "\n",
        "### Datos de Ejemplo:\n",
        "\n",
        "| first_name | last_name | age |\n",
        "|------------|-----------|-----|\n",
        "| Ahmed | Yacoub | 23 |\n",
        "| Timothy | Rogers | 18 |\n",
        "\n",
        "### 📸 Captura de Pantalla:\n",
        "\n",
        "![Datos Agregados](https://rkhal101.github.io/images/blogs/pgadmin-tutorial-1/added_rows.png)"
      ]
    },
    {
      "cell_type": "markdown",
      "metadata": {},
      "source": [
        "### 💻 Código SQL Equivalente:\n",
        "\n",
        "Para insertar los mismos datos usando SQL:"
      ]
    },
    {
      "cell_type": "code",
      "execution_count": null,
      "metadata": {},
      "outputs": [],
      "source": [
        "-- Insertar datos en la tabla persons\n",
        "INSERT INTO persons (first_name, last_name, age) VALUES \n",
        "    ('Ahmed', 'Yacoub', 23),\n",
        "    ('Timothy', 'Rogers', 18);"
      ]
    },
    {
      "cell_type": "markdown",
      "metadata": {},
      "source": [
        "---\n",
        "\n",
        "## 🔍 Paso 5: Consultar Datos (Crear Queries)\n",
        "\n",
        "### Instrucciones:\n",
        "\n",
        "1. Haz **clic derecho** sobre la tabla **\"persons\"**\n",
        "2. Selecciona **\"Scripts\"** → **\"SELECT Script\"**\n",
        "3. pgAdmin generará automáticamente una consulta SELECT\n",
        "4. Haz clic en el botón **\"Execute/Refresh\"** (⚡ rayo) para ejecutar la consulta\n",
        "5. Los resultados se mostrarán en la sección inferior\n",
        "\n",
        "### 📸 Capturas de Pantalla:\n",
        "\n",
        "![Script de Consulta](https://rkhal101.github.io/images/blogs/pgadmin-tutorial-1/query_script.png)\n",
        "\n",
        "![Consulta SELECT](https://rkhal101.github.io/images/blogs/pgadmin-tutorial-1/select.png)\n",
        "\n",
        "![Resultados de la Consulta](https://rkhal101.github.io/images/blogs/pgadmin-tutorial-1/select_output.png)"
      ]
    },
    {
      "cell_type": "markdown",
      "metadata": {},
      "source": [
        "### 💻 Consulta SELECT Básica:\n",
        "\n",
        "Ejecuta esta consulta para ver todos los datos de la tabla:"
      ]
    },
    {
      "cell_type": "code",
      "execution_count": null,
      "metadata": {},
      "outputs": [],
      "source": [
        "-- Seleccionar todos los datos de la tabla persons\n",
        "SELECT first_name, last_name, age \n",
        "FROM persons;"
      ]
    },
    {
      "cell_type": "markdown",
      "metadata": {},
      "source": [
        "### 💻 Consulta SELECT con Filtro:\n",
        "\n",
        "Para filtrar personas mayores de 20 años:"
      ]
    },
    {
      "cell_type": "code",
      "execution_count": null,
      "metadata": {},
      "outputs": [],
      "source": [
        "-- Seleccionar personas mayores de 20 años\n",
        "SELECT first_name, last_name, age \n",
        "FROM persons\n",
        "WHERE age > 20;"
      ]
    },
    {
      "cell_type": "markdown",
      "metadata": {},
      "source": [
        "### 💻 Consulta SELECT con Ordenamiento:\n",
        "\n",
        "Para ordenar los resultados por edad:"
      ]
    },
    {
      "cell_type": "code",
      "execution_count": null,
      "metadata": {},
      "outputs": [],
      "source": [
        "-- Ordenar personas por edad (de menor a mayor)\n",
        "SELECT first_name, last_name, age \n",
        "FROM persons\n",
        "ORDER BY age ASC;"
      ]
    },
    {
      "cell_type": "markdown",
      "metadata": {},
      "source": [
        "---\n",
        "\n",
        "## 🛠️ Operaciones Adicionales con pgAdmin 4\n",
        "\n",
        "### Abrir la Herramienta de Consultas (Query Tool)\n",
        "\n",
        "1. Selecciona tu base de datos en el árbol de navegación\n",
        "2. Haz **clic derecho** sobre la base de datos\n",
        "3. Selecciona **\"Query Tool\"**\n",
        "4. Escribe tus consultas SQL en el editor\n",
        "5. Haz clic en el botón **\"Execute\"** (▶ Play) para ejecutar\n",
        "\n",
        "### Verificar la Versión de PostgreSQL"
      ]
    },
    {
      "cell_type": "code",
      "execution_count": null,
      "metadata": {},
      "outputs": [],
      "source": [
        "-- Ver la versión de PostgreSQL instalada\n",
        "SELECT version();"
      ]
    },
    {
      "cell_type": "markdown",
      "metadata": {},
      "source": [
        "---\n",
        "\n",
        "## 📚 Comandos SQL Básicos Adicionales\n",
        "\n",
        "### Actualizar Datos (UPDATE)"
      ]
    },
    {
      "cell_type": "code",
      "execution_count": null,
      "metadata": {},
      "outputs": [],
      "source": [
        "-- Actualizar la edad de Ahmed\n",
        "UPDATE persons\n",
        "SET age = 24\n",
        "WHERE first_name = 'Ahmed';"
      ]
    },
    {
      "cell_type": "markdown",
      "metadata": {},
      "source": [
        "### Eliminar Datos (DELETE)"
      ]
    },
    {
      "cell_type": "code",
      "execution_count": null,
      "metadata": {},
      "outputs": [],
      "source": [
        "-- Eliminar una persona específica\n",
        "DELETE FROM persons\n",
        "WHERE first_name = 'Timothy';"
      ]
    },
    {
      "cell_type": "markdown",
      "metadata": {},
      "source": [
        "### Agregar una Nueva Columna"
      ]
    },
    {
      "cell_type": "code",
      "execution_count": null,
      "metadata": {},
      "outputs": [],
      "source": [
        "-- Agregar una columna de email a la tabla\n",
        "ALTER TABLE persons\n",
        "ADD COLUMN email VARCHAR(50);"
      ]
    },
    {
      "cell_type": "markdown",
      "metadata": {},
      "source": [
        "### Contar Registros"
      ]
    },
    {
      "cell_type": "code",
      "execution_count": null,
      "metadata": {},
      "outputs": [],
      "source": [
        "-- Contar el número total de personas en la tabla\n",
        "SELECT COUNT(*) AS total_personas\n",
        "FROM persons;"
      ]
    },
    {
      "cell_type": "markdown",
      "metadata": {},
      "source": [
        "### Calcular Promedio"
      ]
    },
    {
      "cell_type": "code",
      "execution_count": null,
      "metadata": {},
      "outputs": [],
      "source": [
        "-- Calcular la edad promedio\n",
        "SELECT AVG(age) AS edad_promedio\n",
        "FROM persons;"
      ]
    },
    {
      "cell_type": "markdown",
      "metadata": {},
      "source": [
        "---\n",
        "\n",
        "## 🎯 Ejercicios Prácticos\n",
        "\n",
        "### Ejercicio 1: Crear una nueva tabla\n",
        "\n",
        "Crea una tabla llamada \"empleados\" con las siguientes columnas:\n",
        "- id (integer, primary key)\n",
        "- nombre (varchar(50))\n",
        "- departamento (varchar(30))\n",
        "- salario (numeric)"
      ]
    },
    {
      "cell_type": "code",
      "execution_count": null,
      "metadata": {},
      "outputs": [],
      "source": [
        "-- Tu código aquí\n"
      ]
    },
    {
      "cell_type": "markdown",
      "metadata": {},
      "source": [
        "### Ejercicio 2: Insertar datos\n",
        "\n",
        "Inserta al menos 3 empleados en la tabla con diferentes departamentos y salarios."
      ]
    },
    {
      "cell_type": "code",
      "execution_count": null,
      "metadata": {},
      "outputs": [],
      "source": [
        "-- Tu código aquí\n"
      ]
    },
    {
      "cell_type": "markdown",
      "metadata": {},
      "source": [
        "### Ejercicio 3: Consultas con filtros\n",
        "\n",
        "Escribe una consulta para encontrar todos los empleados del departamento de \"Ventas\" con salario mayor a 30000."
      ]
    },
    {
      "cell_type": "code",
      "execution_count": null,
      "metadata": {},
      "outputs": [],
      "source": [
        "-- Tu código aquí\n"
      ]
    },
    {
      "cell_type": "markdown",
      "metadata": {},
      "source": [
        "---\n",
        "\n",
        "## 💡 Consejos y Buenas Prácticas\n",
        "\n",
        "1. **Usa nombres descriptivos:** Nombra tus tablas y columnas de forma clara y descriptiva\n",
        "2. **Siempre usa WHERE en UPDATE/DELETE:** Para evitar actualizar o eliminar todos los registros accidentalmente\n",
        "3. **Prueba primero con SELECT:** Antes de ejecutar UPDATE o DELETE, ejecuta un SELECT con el mismo WHERE para verificar qué registros se verán afectados\n",
        "4. **Usa comentarios:** Documenta tu código SQL con comentarios usando `--` para líneas simples o `/* */` para bloques\n",
        "5. **Haz respaldos:** Siempre respalda tu base de datos antes de hacer cambios importantes\n",
        "6. **Usa transacciones:** Para operaciones críticas, usa BEGIN, COMMIT y ROLLBACK"
      ]
    },
    {
      "cell_type": "markdown",
      "metadata": {},
      "source": [
        "---\n",
        "\n",
        "## 📖 Referencias y Recursos Adicionales\n",
        "\n",
        "- **Documentación Oficial de PostgreSQL:** [https://www.postgresql.org/docs/](https://www.postgresql.org/docs/)\n",
        "- **Documentación de pgAdmin 4:** [https://www.pgadmin.org/docs/](https://www.pgadmin.org/docs/)\n",
        "- **Tutorial Original:** [https://rkhal101.github.io/_posts/databases/postgresql_tutorial1](https://rkhal101.github.io/_posts/databases/postgresql_tutorial1)\n",
        "- **Wikipedia PostgreSQL:** [https://es.wikipedia.org/wiki/PostgreSQL](https://es.wikipedia.org/wiki/PostgreSQL)\n",
        "\n",
        "---\n",
        "\n",
        "## 👤 Créditos\n",
        "\n",
        "**Autor del Tutorial Original:** Rana Khalil  \n",
        "**Email:** rkhal101@uottawa.ca  \n",
        "**GitHub:** [rkhal101](https://github.com/rkhal101)  \n",
        "**Afiliación:** Universidad de Ottawa, Maestría en Ciencias de la Computación\n",
        "\n",
        "---\n",
        "\n",
        "## ✅ Resumen\n",
        "\n",
        "En este tutorial aprendiste:\n",
        "\n",
        "✔️ Cómo conectarte a un servidor PostgreSQL usando pgAdmin 4  \n",
        "✔️ Cómo crear una base de datos  \n",
        "✔️ Cómo crear tablas con columnas y restricciones  \n",
        "✔️ Cómo insertar datos usando la interfaz gráfica  \n",
        "✔️ Cómo ejecutar consultas SELECT para recuperar datos  \n",
        "✔️ Comandos SQL básicos (INSERT, UPDATE, DELETE, SELECT)  \n",
        "✔️ Buenas prácticas al trabajar con bases de datos\n",
        "\n",
        "**¡Felicidades! Ahora tienes los conocimientos básicos para trabajar con PostgreSQL y pgAdmin 4.**"
      ]
    }
  ],
  "metadata": {
    "kernelspec": {
      "display_name": "Python 3",
      "language": "python",
      "name": "python3"
    },
    "language_info": {
      "codemirror_mode": {
        "name": "ipython",
        "version": 3
      },
      "file_extension": ".py",
      "mimetype": "text/x-python",
      "name": "python",
      "nbconvert_exporter": "python",
      "pygments_lexer": "ipython3",
      "version": "3.8.0"
    }
  },
  "nbformat": 4,
  "nbformat_minor": 4
}
