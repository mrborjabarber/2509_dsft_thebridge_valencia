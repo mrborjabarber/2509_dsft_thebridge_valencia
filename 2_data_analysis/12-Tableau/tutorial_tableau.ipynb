{
 "cells": [
  {
   "cell_type": "markdown",
   "metadata": {},
   "source": [
    "# Tutorial Completo de Tableau Desktop\n",
    "\n",
    "## Información General\n",
    "\n",
    "**Versión:** Tableau Desktop 2022.4  \n",
    "**Tiempo estimado:** 1-3 horas  \n",
    "**Nivel:** Principiante  \n",
    "**Idioma:** Español\n",
    "\n",
    "---"
   ]
  },
  {
   "cell_type": "markdown",
   "metadata": {},
   "source": [
    "## Objetivo del Tutorial\n",
    "\n",
    "Este tutorial te guiará en el aprendizaje de Tableau Desktop, desde la conexión de datos hasta la creación y compartición de visualizaciones interactivas. Seguirás el caso de un empleado retail que analiza datos de ventas trimestrales para identificar productos y regiones con bajo rendimiento y presentar sus hallazgos al equipo.\n",
    "\n",
    "---"
   ]
  },
  {
   "cell_type": "markdown",
   "metadata": {},
   "source": [
    "## Estructura del Tutorial (8 Pasos)\n",
    "\n",
    "1. **Conectarse a datos**\n",
    "2. **Arrastrar y soltar campos**\n",
    "3. **Enfocarse en resultados**\n",
    "4. **Explorar datos geográficamente**\n",
    "5. **Profundizar en detalles**\n",
    "6. **Crear dashboards**\n",
    "7. **Construir historias**\n",
    "8. **Compartir hallazgos**\n",
    "\n",
    "---"
   ]
  },
  {
   "cell_type": "markdown",
   "metadata": {},
   "source": [
    "# PASO 1: Conectarse a Datos\n",
    "\n",
    "## Inicio de Tableau Desktop\n",
    "\n",
    "Cuando inicias Tableau Desktop, aparece la página de inicio con varias opciones de conexión.\n",
    "\n",
    "![Página de inicio de Tableau](https://help.tableau.com/current/guides/get-started-tutorial/es-es/Img/Connect1.png)"
   ]
  },
  {
   "cell_type": "markdown",
   "metadata": {},
   "source": [
    "## Opciones de Conexión Disponibles\n",
    "\n",
    "El panel \"Conectar\" te permite:\n",
    "\n",
    "- **Conectar a datos basados en archivos**\n",
    "  - Microsoft Excel\n",
    "  - PDF\n",
    "  - Archivos espaciales\n",
    "  - Archivos de texto\n",
    "\n",
    "- **Conectar a datos basados en servidor**\n",
    "  - Tableau Server\n",
    "  - Microsoft SQL Server\n",
    "  - Google Analytics\n",
    "  - Y muchas más opciones\n",
    "\n",
    "- **Reconectar a fuentes utilizadas anteriormente**\n",
    "  - Conexiones de datos guardadas\n",
    "\n",
    "![Panel de conexión](https://help.tableau.com/current/guides/get-started-tutorial/es-es/Img/Connect2.png)"
   ]
  },
  {
   "cell_type": "markdown",
   "metadata": {},
   "source": [
    "## Usando Datos de Muestra\n",
    "\n",
    "Para este tutorial, utilizaremos el conjunto de datos de muestra \"**Muestra - Supertienda**\":\n",
    "\n",
    "1. En el panel de conexión, localiza \"Muestra - Supertienda\"\n",
    "2. Haz clic en él para conectarte\n",
    "\n",
    "![Selección de Muestra - Supertienda](https://help.tableau.com/current/guides/get-started-tutorial/es-es/Img/Connect_Superstore.png)\n",
    "\n",
    "### ¿Qué Incluye el Conjunto de Datos?\n",
    "\n",
    "El dataset \"Supertienda\" contiene información sobre:\n",
    "- Productos\n",
    "- Ventas\n",
    "- Ganancias\n",
    "- Regiones\n",
    "- Categorías y subcategorías\n",
    "- Fechas de pedidos"
   ]
  },
  {
   "cell_type": "markdown",
   "metadata": {},
   "source": [
    "## Página de Fuente de Datos\n",
    "\n",
    "Una vez conectado, Tableau te lleva a la página de Fuente de Datos:\n",
    "\n",
    "![Vista de la página de fuente de datos](https://help.tableau.com/current/guides/get-started-tutorial/es-es/Img/Connect4.png)\n",
    "\n",
    "Aquí puedes:\n",
    "- Ver las primeras 1000 filas de datos\n",
    "- Ordenar columnas\n",
    "- Ocultar campos\n",
    "- Renombrar columnas\n",
    "- Ver los tipos de datos asignados\n",
    "\n",
    "**Importante:** Las modificaciones no afectan la fuente de datos original."
   ]
  },
  {
   "cell_type": "markdown",
   "metadata": {},
   "source": [
    "### Panel de Datos\n",
    "\n",
    "En la parte izquierda verás el **Panel de Datos** con:\n",
    "- **Dimensiones** (datos cualitativos): campos con iconos azules\n",
    "- **Medidas** (datos cuantitativos): campos con iconos verdes\n",
    "- **Campos geográficos**: identificados con iconos de globo\n",
    "\n",
    "---"
   ]
  },
  {
   "cell_type": "markdown",
   "metadata": {},
   "source": [
    "# PASO 2: Arrastrar y Soltar\n",
    "\n",
    "## Crear Tu Primera Visualización\n",
    "\n",
    "Tableau utiliza la técnica de arrastrar y soltar para crear visualizaciones de forma intuitiva.\n",
    "\n",
    "### Ejercicio 1: Gráfico de Líneas de Ventas por Año\n",
    "\n",
    "1. **Arrastra \"Fecha de Pedido\"** desde el panel de datos al estante **Columnas**\n",
    "   - Tableau crea automáticamente una columna para cada año en el conjunto de datos\n",
    "\n",
    "2. **Arrastra \"Ventas\"** al estante **Filas**\n",
    "   - Se genera un gráfico de líneas mostrando las ventas acumuladas como suma\n",
    "\n",
    "![Elementos del espacio de trabajo](https://help.tableau.com/current/guides/get-started-tutorial/es-es/Img/Drag28.png)"
   ]
  },
  {
   "cell_type": "markdown",
   "metadata": {},
   "source": [
    "### Vista del Espacio de Trabajo\n",
    "\n",
    "![Espacio de trabajo de Tableau](https://help.tableau.com/current/guides/get-started-tutorial/es-es/Img/Drag30.png)\n",
    "\n",
    "![Panel de datos y estantes](https://help.tableau.com/current/guides/get-started-tutorial/es-es/Img/Drag29.png)"
   ]
  },
  {
   "cell_type": "markdown",
   "metadata": {},
   "source": [
    "### Ejercicio 2: Ventas por Categoría\n",
    "\n",
    "3. **Arrastra \"Category\"** al estante **Columnas** (junto a Fecha de Pedido)\n",
    "   - La visualización se transforma en un gráfico de barras\n",
    "   - Muestra las ventas generales por cada categoría\n",
    "\n",
    "![Añadir dimensiones](https://help.tableau.com/current/guides/get-started-tutorial/es-es/Img/Drag1.png)\n",
    "\n",
    "![Resultado del gráfico](https://help.tableau.com/current/guides/get-started-tutorial/es-es/Img/Drag2.png)"
   ]
  },
  {
   "cell_type": "markdown",
   "metadata": {},
   "source": [
    "### Ejercicio 3: Añadir Subcategorías\n",
    "\n",
    "4. **Arrastra \"Sub-Category\"** al estante también\n",
    "   - Se crean 68 marcas desglosadas por categoría y año\n",
    "   - Mayor nivel de detalle\n",
    "\n",
    "![Gráfico detallado](https://help.tableau.com/current/guides/get-started-tutorial/es-es/Img/Drag4.png)"
   ]
  },
  {
   "cell_type": "markdown",
   "metadata": {},
   "source": [
    "## Elementos Clave del Espacio de Trabajo\n",
    "\n",
    "### Estantes de Columnas y Filas\n",
    "- **Columnas**: Define el eje horizontal (X)\n",
    "- **Filas**: Define el eje vertical (Y)\n",
    "- Receptáculos para agregar dimensiones y medidas\n",
    "\n",
    "![Estantes](https://help.tableau.com/current/guides/get-started-tutorial/es-es/Img/Drag5.png)"
   ]
  },
  {
   "cell_type": "markdown",
   "metadata": {},
   "source": [
    "### Tarjeta Marcas\n",
    "\n",
    "Controla las propiedades visuales de tu gráfico:\n",
    "- **Color**: Codificación por colores\n",
    "- **Tamaño**: Tamaño de las marcas\n",
    "- **Texto**: Etiquetas\n",
    "- **Detalle**: Nivel de granularidad\n",
    "- **Información sobre herramientas**: Tooltips interactivos\n",
    "- **Forma**: Tipo de marcadores\n",
    "\n",
    "![Tarjeta Marcas](https://help.tableau.com/current/guides/get-started-tutorial/es-es/Img/Drag6.png)"
   ]
  },
  {
   "cell_type": "markdown",
   "metadata": {},
   "source": [
    "## Cambiar Tipo de Gráfico\n",
    "\n",
    "Puedes cambiar rápidamente el tipo de visualización:\n",
    "\n",
    "1. Haz clic en el menú desplegable de la tarjeta Marcas\n",
    "2. Selecciona entre:\n",
    "   - Línea\n",
    "   - Barras\n",
    "   - Área\n",
    "   - Círculo\n",
    "   - Forma\n",
    "   - Texto\n",
    "   - Mapa\n",
    "   - Y más...\n",
    "\n",
    "![Tipos de gráficos](https://help.tableau.com/current/guides/get-started-tutorial/es-es/Img/Drag7.png)\n",
    "\n",
    "![Ejemplo de cambio](https://help.tableau.com/current/guides/get-started-tutorial/es-es/Img/Drag9.png)\n",
    "\n",
    "![Otro ejemplo](https://help.tableau.com/current/guides/get-started-tutorial/es-es/Img/Drag8.png)\n",
    "\n",
    "---"
   ]
  },
  {
   "cell_type": "markdown",
   "metadata": {},
   "source": [
    "# PASO 3: Enfocarse en Resultados\n",
    "\n",
    "## Técnicas para Concentrar el Análisis\n",
    "\n",
    "### 1. Filtrado de Datos\n",
    "\n",
    "Los filtros te permiten incluir o excluir valores específicos en tu vista:\n",
    "\n",
    "**Cómo crear un filtro:**\n",
    "1. Haz clic derecho en un campo del panel de datos\n",
    "2. Selecciona \"**Mostrar filtro**\"\n",
    "3. Aparece una tarjeta de filtro en el lado derecho\n",
    "\n",
    "![Vista con filtros aplicados](https://help.tableau.com/current/guides/get-started-tutorial/es-es/Img/Drag10.png)"
   ]
  },
  {
   "cell_type": "markdown",
   "metadata": {},
   "source": [
    "### 2. Codificación por Color\n",
    "\n",
    "Añadir color revela patrones ocultos en los datos:\n",
    "\n",
    "**Ejercicio: Identificar Rentabilidad**\n",
    "\n",
    "1. **Arrastra \"Profit\" (Ganancia)** a **Color** en la tarjeta Marcas\n",
    "2. Tableau aplica automáticamente:\n",
    "   - **Azul** para valores positivos (ganancias)\n",
    "   - **Naranja** para valores negativos (pérdidas)\n",
    "\n",
    "![Codificación por color](https://help.tableau.com/current/guides/get-started-tutorial/es-es/Img/Dragcolor1.png)\n",
    "\n",
    "![Resultado con color](https://help.tableau.com/current/guides/get-started-tutorial/es-es/Img/Dragcolor2.png)\n",
    "\n",
    "**Descubrimiento clave**: Puedes identificar instantáneamente qué productos o regiones están perdiendo dinero."
   ]
  },
  {
   "cell_type": "markdown",
   "metadata": {},
   "source": [
    "### 3. Añadir Dimensiones a las Filas\n",
    "\n",
    "Para comparar por región:\n",
    "\n",
    "1. **Arrastra \"Region\"** al estante **Filas**\n",
    "2. Se crean múltiples gráficos, uno por cada región\n",
    "3. Facilita la comparación regional\n",
    "\n",
    "![Desglose por región](https://help.tableau.com/current/guides/get-started-tutorial/es-es/Img/Drag12.png)"
   ]
  },
  {
   "cell_type": "markdown",
   "metadata": {},
   "source": [
    "### Aplicar Filtros Específicos\n",
    "\n",
    "![Filtros aplicados](https://help.tableau.com/current/guides/get-started-tutorial/es-es/Img/FocusFilter1.png)\n",
    "\n",
    "### Análisis por Región\n",
    "\n",
    "![Análisis regional](https://help.tableau.com/current/guides/get-started-tutorial/es-es/Img/FocusRegions1.png)\n",
    "\n",
    "![Detalle de máquinas](https://help.tableau.com/current/guides/get-started-tutorial/es-es/Img/Focus_MachineSpike.png)"
   ]
  },
  {
   "cell_type": "markdown",
   "metadata": {},
   "source": [
    "### Duplicar Hojas de Trabajo\n",
    "\n",
    "Para mantener diferentes versiones de tu análisis sin perder trabajo:\n",
    "\n",
    "1. Haz clic derecho en la pestaña de la hoja\n",
    "2. Selecciona \"**Duplicar**\"\n",
    "3. Continúa explorando en la nueva hoja\n",
    "\n",
    "![Análisis del Sur](https://help.tableau.com/current/guides/get-started-tutorial/es-es/Img/FocusSouth1.png)\n",
    "\n",
    "---"
   ]
  },
  {
   "cell_type": "markdown",
   "metadata": {},
   "source": [
    "# PASO 4: Explorar Datos Geográficamente\n",
    "\n",
    "## Funciones Geográficas en Tableau\n",
    "\n",
    "Tableau reconoce automáticamente datos geográficos comunes y ofrece 10 funciones geográficas asignables:\n",
    "\n",
    "1. Aeropuerto\n",
    "2. Código de área\n",
    "3. Ciudad\n",
    "4. País/región\n",
    "5. Provincia/Municipio/Condado\n",
    "6. NUTS Europa\n",
    "7. CC. AA./Estado/Provincia/Dpto.\n",
    "8. Código postal\n",
    "9. CBSA/MSA\n",
    "10. Distrito electoral"
   ]
  },
  {
   "cell_type": "markdown",
   "metadata": {},
   "source": [
    "## Crear una Vista de Mapa\n",
    "\n",
    "### Método Rápido:\n",
    "\n",
    "1. **Haz doble clic** en un campo geográfico (por ejemplo, \"State\")\n",
    "2. Tableau automáticamente:\n",
    "   - Agrega el campo a **Detalles** en la tarjeta Marcas\n",
    "   - Genera una vista de mapa\n",
    "   - Añade campos de **Latitud** y **Longitud** necesarios\n",
    "\n",
    "![Mapa básico](https://help.tableau.com/current/guides/get-started-tutorial/es-es/Img/Explore16.png)\n",
    "\n",
    "![Doble clic en campo geográfico](https://help.tableau.com/current/guides/get-started-tutorial/es-es/Img/explore17.png)"
   ]
  },
  {
   "cell_type": "markdown",
   "metadata": {},
   "source": [
    "## Análisis con Codificación de Color en Mapas\n",
    "\n",
    "### Crear un Mapa de Calor por Ventas:\n",
    "\n",
    "1. **Arrastra \"Sales\" (Ventas)** a **Color** en la tarjeta Marcas\n",
    "2. Se genera un mapa de calor con gradiente de color\n",
    "3. Estados con mayores ventas aparecen en azul más oscuro\n",
    "\n",
    "![Mapa de ventas](https://help.tableau.com/current/guides/get-started-tutorial/es-es/Img/Explore5.png)"
   ]
  },
  {
   "cell_type": "markdown",
   "metadata": {},
   "source": [
    "### Visualizar Ganancias (Positivas y Negativas):\n",
    "\n",
    "1. **Arrastra \"Profit\"** a **Color**\n",
    "2. Tableau selecciona automáticamente una **paleta divergente**:\n",
    "   - **Azul**: Estados rentables\n",
    "   - **Naranja**: Estados con pérdidas\n",
    "\n",
    "![Mapa de ganancias](https://help.tableau.com/current/guides/get-started-tutorial/es-es/Img/Explore22.png)"
   ]
  },
  {
   "cell_type": "markdown",
   "metadata": {},
   "source": [
    "## Personalizar Paletas de Color\n",
    "\n",
    "Para cambiar los colores:\n",
    "\n",
    "1. Haz clic en la leyenda de **Color**\n",
    "2. Selecciona \"**Editar colores**\"\n",
    "3. Elige una paleta diferente o personaliza los colores\n",
    "\n",
    "![Mapa personalizado](https://help.tableau.com/current/guides/get-started-tutorial/es-es/Img/Explore6.png)\n",
    "\n",
    "### Consideración Crítica\n",
    "\n",
    "**Visualizaciones coloridas pueden ser engañosas:**\n",
    "- Estados con mayores ventas no necesariamente son más rentables\n",
    "- Factores como densidad poblacional o número de tiendas pueden distorsionar la interpretación\n",
    "- Siempre analiza múltiples métricas juntas\n",
    "\n",
    "---"
   ]
  },
  {
   "cell_type": "markdown",
   "metadata": {},
   "source": [
    "# PASO 5: Profundizar en Detalles\n",
    "\n",
    "## Desglose Granular de Datos\n",
    "\n",
    "### Crear Filtros Top N\n",
    "\n",
    "Para ver solo los productos más relevantes:\n",
    "\n",
    "1. **Arrastra \"Sub-Category\"** al estante **Filas**\n",
    "2. Haz clic derecho en \"Sub-Category\" en el estante\n",
    "3. Selecciona \"**Filtro**\"\n",
    "4. En la pestaña \"**Superior**\", selecciona:\n",
    "   - Por campo: **Ventas**\n",
    "   - Los **5** superiores\n",
    "\n",
    "**Resultado:** Solo se muestran las 5 subcategorías con mayores ventas."
   ]
  },
  {
   "cell_type": "markdown",
   "metadata": {},
   "source": [
    "## Combinar Múltiples Niveles de Detalle\n",
    "\n",
    "Puedes crear análisis complejos combinando:\n",
    "- Múltiples dimensiones en Filas y Columnas\n",
    "- Filtros contextuales\n",
    "- Codificación por Color, Tamaño y Forma simultáneamente\n",
    "\n",
    "### Ejemplo: Análisis Multi-dimensional\n",
    "\n",
    "**Configuración:**\n",
    "- **Columnas**: Fecha de Pedido (Año)\n",
    "- **Filas**: Región, Sub-Category (filtrada a top 5)\n",
    "- **Color**: Profit\n",
    "- **Tamaño**: Sales"
   ]
  },
  {
   "cell_type": "markdown",
   "metadata": {},
   "source": [
    "## Ordenar Datos\n",
    "\n",
    "Para ordenar resultados:\n",
    "\n",
    "1. Haz clic en el icono de ordenación en la barra de herramientas\n",
    "2. O haz clic derecho en un eje y selecciona \"Ordenar\"\n",
    "3. Ordena por:\n",
    "   - Campo específico\n",
    "   - Alfabéticamente\n",
    "   - Manualmente\n",
    "\n",
    "---"
   ]
  },
  {
   "cell_type": "markdown",
   "metadata": {},
   "source": [
    "# PASO 6: Crear Dashboards\n",
    "\n",
    "## ¿Qué es un Dashboard?\n",
    "\n",
    "Un dashboard combina múltiples hojas de trabajo en una sola vista para presentar información integrada e interactiva."
   ]
  },
  {
   "cell_type": "markdown",
   "metadata": {},
   "source": [
    "## Construcción de un Dashboard\n",
    "\n",
    "### Paso 1: Crear un Nuevo Dashboard\n",
    "\n",
    "1. Haz clic en el icono de **Nuevo Dashboard** en la parte inferior\n",
    "2. Se abre un lienzo en blanco\n",
    "\n",
    "![Dashboard vacío](https://help.tableau.com/current/guides/get-started-tutorial/es-es/Img/Build1.png)"
   ]
  },
  {
   "cell_type": "markdown",
   "metadata": {},
   "source": [
    "### Paso 2: Agregar Hojas de Trabajo\n",
    "\n",
    "1. Desde el panel izquierdo, **arrastra tus hojas de trabajo** al dashboard\n",
    "2. Ejemplo: Arrastra \"Sales in the South\" y \"Profit Map\"\n",
    "\n",
    "![Agregando hojas](https://help.tableau.com/current/guides/get-started-tutorial/es-es/Img/Build2.png)"
   ]
  },
  {
   "cell_type": "markdown",
   "metadata": {},
   "source": [
    "### Paso 3: Organizar el Dashboard\n",
    "\n",
    "**Eliminar elementos innecesarios:**\n",
    "- Ocultar encabezados de columnas redundantes (Región, Categoría)\n",
    "- Suprimir títulos de vistas duplicados\n",
    "- Eliminar filtros redundantes\n",
    "- Reposicionar leyendas\n",
    "\n",
    "**Cómo ocultar elementos:**\n",
    "1. Haz clic derecho en el elemento\n",
    "2. Selecciona \"Ocultar\" o \"Ocultar título\"\n",
    "\n",
    "![Ocultar elementos](https://help.tableau.com/current/guides/get-started-tutorial/es-es/Img/Build2.5.png)\n",
    "\n",
    "![Dashboard organizado](https://help.tableau.com/current/guides/get-started-tutorial/es-es/Img/Build2.6.png)"
   ]
  },
  {
   "cell_type": "markdown",
   "metadata": {},
   "source": [
    "## Tipos de Objetos\n",
    "\n",
    "Tableau ofrece dos configuraciones:\n",
    "\n",
    "### Objetos en Mosaico\n",
    "- Se redimensionan automáticamente\n",
    "- Se organizan en una cuadrícula\n",
    "- Recomendado para layouts estructurados\n",
    "\n",
    "### Objetos Flotantes\n",
    "- Se pueden mover libremente\n",
    "- Se superponen si es necesario\n",
    "- Ideal para elementos decorativos o anotaciones"
   ]
  },
  {
   "cell_type": "markdown",
   "metadata": {},
   "source": [
    "## Añadir Interactividad\n",
    "\n",
    "Para crear dashboards interactivos:\n",
    "\n",
    "1. Haz clic en una visualización en el dashboard\n",
    "2. Selecciona el icono de embudo (filtro)\n",
    "3. Marca \"**Usar como filtro**\"\n",
    "\n",
    "![Usar como filtro](https://help.tableau.com/current/guides/get-started-tutorial/es-es/Img/build5.png)\n",
    "\n",
    "**Resultado:** Al hacer clic en un estado del mapa, el gráfico de barras se actualiza automáticamente para mostrar solo datos de ese estado.\n",
    "\n",
    "![Dashboard interactivo](https://help.tableau.com/current/guides/get-started-tutorial/es-es/Img/build6.png)\n",
    "\n",
    "![Resultado filtrado](https://help.tableau.com/current/guides/get-started-tutorial/es-es/Img/build7.png)"
   ]
  },
  {
   "cell_type": "markdown",
   "metadata": {},
   "source": [
    "## Diseño Responsivo\n",
    "\n",
    "Para optimizar el dashboard en diferentes dispositivos:\n",
    "\n",
    "1. Selecciona el menú desplegable de **Dispositivo**\n",
    "2. Elige entre: Escritorio, Tableta, Teléfono\n",
    "3. Ajusta el diseño para cada tipo de dispositivo\n",
    "\n",
    "---"
   ]
  },
  {
   "cell_type": "markdown",
   "metadata": {},
   "source": [
    "# PASO 7: Construir Historias\n",
    "\n",
    "## ¿Qué es una Historia en Tableau?\n",
    "\n",
    "Una historia permite explicar tu proceso de descubrimiento de datos de manera narrativa e interactiva. Es ideal para presentaciones donde guías a tu audiencia a través de tus hallazgos.\n",
    "\n",
    "## Estructura de una Historia\n",
    "\n",
    "**Componentes básicos:**\n",
    "- **Puntos de historia**: Hojas de trabajo o dashboards individuales\n",
    "- **Subtítulos descriptivos**: Contexto para cada punto\n",
    "- **Textos adicionales**: Narrativa complementaria\n",
    "- **Anotaciones**: Destacar datos específicos"
   ]
  },
  {
   "cell_type": "markdown",
   "metadata": {},
   "source": [
    "## Proceso de Creación\n",
    "\n",
    "### Paso 1: Iniciar una Nueva Historia\n",
    "\n",
    "1. Haz clic en el botón \"**Nueva historia**\" en la parte inferior\n",
    "2. Se abre un lienzo vacío\n",
    "\n",
    "![Nueva historia](https://help.tableau.com/current/guides/get-started-tutorial/es-es/Img/Story1.png)"
   ]
  },
  {
   "cell_type": "markdown",
   "metadata": {},
   "source": [
    "### Paso 2: Agregar Contenido\n",
    "\n",
    "1. Desde el panel izquierdo, **arrastra hojas de trabajo o dashboards** al lienzo\n",
    "2. Cada elemento se convierte en un \"punto de la historia\"\n",
    "\n",
    "![Primer punto de historia](https://help.tableau.com/current/guides/get-started-tutorial/es-es/Img/Story2_updated.png)"
   ]
  },
  {
   "cell_type": "markdown",
   "metadata": {},
   "source": [
    "### Paso 3: Añadir Subtítulos\n",
    "\n",
    "1. En el cuadro de texto superior, escribe un **subtítulo descriptivo**\n",
    "2. Ejemplo: \"Las ventas en el Sur han disminuido un 15%\"\n",
    "\n",
    "![Historia con subtítulo](https://help.tableau.com/current/guides/get-started-tutorial/es-es/Img/Story4_updated.png)"
   ]
  },
  {
   "cell_type": "markdown",
   "metadata": {},
   "source": [
    "### Paso 4: Duplicar Puntos\n",
    "\n",
    "Para crear variaciones de un punto:\n",
    "\n",
    "1. Haz clic derecho en un punto de historia\n",
    "2. Selecciona \"**Duplicar**\"\n",
    "3. Modifica el duplicado sin afectar el original\n",
    "\n",
    "![Barra de herramientas de historia](https://help.tableau.com/current/guides/get-started-tutorial/es-es/Img/get_started_tutorial_story_toolbar.png)"
   ]
  },
  {
   "cell_type": "markdown",
   "metadata": {},
   "source": [
    "### Paso 5: Aplicar Filtros en la Historia\n",
    "\n",
    "Para enfatizar hallazgos específicos:\n",
    "\n",
    "1. Dentro de un punto de historia, aplica filtros\n",
    "2. Los filtros solo afectan ese punto específico\n",
    "3. Guía la atención de la audiencia a lo más importante\n",
    "\n",
    "![Filtros en historia](https://help.tableau.com/current/guides/get-started-tutorial/es-es/Img/Story6.png)"
   ]
  },
  {
   "cell_type": "markdown",
   "metadata": {},
   "source": [
    "### Paso 6: Añadir Contexto Adicional\n",
    "\n",
    "Para incluir texto explicativo:\n",
    "\n",
    "1. Haz clic en \"**Arrastrar para añadir texto**\"\n",
    "2. Escribe tu narrativa\n",
    "3. Posiciona el cuadro de texto donde prefieras\n",
    "\n",
    "![Añadir texto](https://help.tableau.com/current/guides/get-started-tutorial/es-es/Img/Story9.png)"
   ]
  },
  {
   "cell_type": "markdown",
   "metadata": {},
   "source": [
    "## Elementos de Refinamiento\n",
    "\n",
    "### Anotaciones\n",
    "\n",
    "Para destacar datos específicos:\n",
    "\n",
    "1. Haz clic derecho en una marca (barra, punto, etc.)\n",
    "2. Selecciona \"**Anotar**\"\n",
    "3. Elige el tipo de anotación:\n",
    "   - Marca\n",
    "   - Punto\n",
    "   - Área\n",
    "\n",
    "![Anotaciones](https://help.tableau.com/current/guides/get-started-tutorial/es-es/Img/Story7.png)"
   ]
  },
  {
   "cell_type": "markdown",
   "metadata": {},
   "source": [
    "### Ajuste de Tamaño y Título\n",
    "\n",
    "1. En la barra lateral, ajusta el **tamaño del dashboard/hoja**\n",
    "2. Opciones:\n",
    "   - Tamaño fijo\n",
    "   - Automático\n",
    "   - Rango personalizado\n",
    "\n",
    "![Historia completa](https://help.tableau.com/current/guides/get-started-tutorial/es-es/Img/Story10.png)"
   ]
  },
  {
   "cell_type": "markdown",
   "metadata": {},
   "source": [
    "### Renombrar la Historia\n",
    "\n",
    "1. Haz doble clic en el título de la historia\n",
    "2. Escribe un nombre significativo\n",
    "3. Ejemplo: \"Análisis de Rentabilidad Q1-Q4\"\n",
    "\n",
    "## Modo de Presentación\n",
    "\n",
    "Para revisar tu historia antes de presentarla:\n",
    "\n",
    "1. Haz clic en el icono de **Modo de presentación**\n",
    "2. Navega por los puntos de la historia\n",
    "3. Verifica el flujo narrativo\n",
    "\n",
    "---"
   ]
  },
  {
   "cell_type": "markdown",
   "metadata": {},
   "source": [
    "# PASO 8: Compartir Hallazgos\n",
    "\n",
    "## Métodos de Compartición\n",
    "\n",
    "Tableau ofrece dos opciones principales para compartir tu trabajo:\n",
    "\n",
    "## Opción 1: Tableau Public (Gratuito)\n",
    "\n",
    "### ¿Qué es Tableau Public?\n",
    "\n",
    "- Plataforma gratuita para compartir visualizaciones\n",
    "- Acceso público a tus visualizaciones\n",
    "- Ideal para portfolios y proyectos personales\n",
    "\n",
    "### Consideración Importante\n",
    "\n",
    "**Cuando publicas en Tableau Public, el acceso a estas vistas es público** — tus visualizaciones y datos subyacentes son accesibles para cualquier persona en internet."
   ]
  },
  {
   "cell_type": "markdown",
   "metadata": {},
   "source": [
    "### Proceso de Publicación en Tableau Public\n",
    "\n",
    "1. Ve a **Servidor > Tableau Public > Guardar en Tableau Public**\n",
    "2. Inicia sesión con tu cuenta de Tableau Public (crea una si no la tienes)\n",
    "3. Crea un extracto de datos (requerido, ya que Tableau Public no admite conexiones de datos en vivo)\n",
    "\n",
    "![Guardar en Tableau Public](https://help.tableau.com/current/guides/get-started-tutorial/es-es/Img/Share7.png)\n",
    "\n",
    "![Proceso de guardado](https://help.tableau.com/current/guides/get-started-tutorial/es-es/Img/Share10.png)"
   ]
  },
  {
   "cell_type": "markdown",
   "metadata": {},
   "source": [
    "4. Completa los detalles:\n",
    "   - **Título**: Nombre de tu visualización\n",
    "   - **Descripción**: Breve explicación del contenido\n",
    "   - **Tags**: Palabras clave para búsqueda\n",
    "\n",
    "![Metadatos en Tableau Public](https://help.tableau.com/current/guides/get-started-tutorial/es-es/Img/Share8.png)\n",
    "\n",
    "5. Haz clic en \"**Guardar**\"\n",
    "\n",
    "![Confirmación de guardado](https://help.tableau.com/current/guides/get-started-tutorial/es-es/Img/Share9.png)"
   ]
  },
  {
   "cell_type": "markdown",
   "metadata": {},
   "source": [
    "### Opciones de Compartición en Tableau Public\n",
    "\n",
    "Una vez publicado, puedes compartir mediante:\n",
    "\n",
    "- **Código de inserción**: Para incorporar en sitios web\n",
    "- **Enlace directo**: URL única de tu visualización\n",
    "- **Correo electrónico**: Enviar el enlace directamente\n",
    "- **Redes sociales**: Twitter, LinkedIn, Facebook\n",
    "\n",
    "---"
   ]
  },
  {
   "cell_type": "markdown",
   "metadata": {},
   "source": [
    "## Opción 2: Tableau Server (Empresarial)\n",
    "\n",
    "### ¿Qué es Tableau Server?\n",
    "\n",
    "- Plataforma empresarial de Tableau\n",
    "- Control de acceso y permisos\n",
    "- Conexiones de datos en vivo\n",
    "- Colaboración dentro de la organización"
   ]
  },
  {
   "cell_type": "markdown",
   "metadata": {},
   "source": [
    "### Proceso de Publicación en Tableau Server\n",
    "\n",
    "1. Haz clic en el icono **Compartir** en la barra de herramientas\n",
    "   - O ve a **Servidor > Publicar libro de trabajo**\n",
    "\n",
    "![Icono de compartir](https://help.tableau.com/current/guides/get-started-tutorial/es-es/Img/Share_Icon.png)"
   ]
  },
  {
   "cell_type": "markdown",
   "metadata": {},
   "source": [
    "2. Introduce los detalles del servidor:\n",
    "   - **Dirección del servidor**\n",
    "   - **Credenciales de autenticación**\n",
    "\n",
    "![Conexión a Tableau Server](https://help.tableau.com/current/guides/get-started-tutorial/es-es/Img/Share1-gs.png)"
   ]
  },
  {
   "cell_type": "markdown",
   "metadata": {},
   "source": [
    "3. Configura las opciones de publicación:\n",
    "   - **Nombre del libro de trabajo**\n",
    "   - **Proyecto de destino**\n",
    "   - **Seleccionar hojas a publicar** (puedes elegir solo algunas)\n",
    "   - **Configurar permisos**\n",
    "\n",
    "![Opciones de publicación](https://help.tableau.com/current/guides/get-started-tutorial/es-es/Img/Share2-gs.png)\n",
    "\n",
    "![Configuración de publicación](https://help.tableau.com/current/guides/get-started-tutorial/es-es/Img/Share3-gs.png)"
   ]
  },
  {
   "cell_type": "markdown",
   "metadata": {},
   "source": [
    "4. Haz clic en \"**Publicar**\"\n",
    "\n",
    "![Publicación completa](https://help.tableau.com/current/guides/get-started-tutorial/es-es/Img/Share5.png)\n",
    "\n",
    "![Vista en Tableau Server](https://help.tableau.com/current/guides/get-started-tutorial/es-es/Img/Share6.png)"
   ]
  },
  {
   "cell_type": "markdown",
   "metadata": {},
   "source": [
    "### Acceso al Contenido Publicado\n",
    "\n",
    "Los miembros del equipo pueden:\n",
    "- Acceder a través del navegador web de Tableau Server\n",
    "- Interactuar con la historia completa\n",
    "- Compartir mediante:\n",
    "  - Código de inserción\n",
    "  - Enlaces internos\n",
    "  - Correo electrónico dentro de la organización\n",
    "\n",
    "![Compartir desde Tableau Server](https://help.tableau.com/current/guides/get-started-tutorial/es-es/Img/Share4.png)"
   ]
  },
  {
   "cell_type": "markdown",
   "metadata": {},
   "source": [
    "## Gestión de Permisos\n",
    "\n",
    "En Tableau Server puedes controlar:\n",
    "\n",
    "- **Ver**: Quién puede visualizar\n",
    "- **Interactuar**: Quién puede filtrar y explorar\n",
    "- **Editar**: Quién puede modificar\n",
    "- **Descargar**: Quién puede exportar datos\n",
    "\n",
    "---"
   ]
  },
  {
   "cell_type": "markdown",
   "metadata": {},
   "source": [
    "# Consejos Finales y Mejores Prácticas\n",
    "\n",
    "## Diseño de Visualizaciones\n",
    "\n",
    "1. **Menos es más**: No sobrecargues tus visualizaciones con demasiados elementos\n",
    "2. **Color con propósito**: Usa color para destacar información clave, no por decoración\n",
    "3. **Títulos descriptivos**: Asegúrate de que tus títulos expliquen claramente lo que muestra la visualización\n",
    "4. **Tooltips informativos**: Personaliza la información sobre herramientas para proporcionar contexto adicional"
   ]
  },
  {
   "cell_type": "markdown",
   "metadata": {},
   "source": [
    "## Análisis de Datos\n",
    "\n",
    "1. **Comienza con preguntas**: Define qué quieres descubrir antes de crear visualizaciones\n",
    "2. **Valida tus hallazgos**: Verifica números inesperados antes de presentarlos\n",
    "3. **Contexto es crucial**: Siempre proporciona contexto para tus datos (¿qué período? ¿qué región?)\n",
    "4. **Considera múltiples perspectivas**: No confíes en una sola métrica"
   ]
  },
  {
   "cell_type": "markdown",
   "metadata": {},
   "source": [
    "## Narrativa con Datos\n",
    "\n",
    "1. **Estructura clara**: Guía a tu audiencia de lo general a lo específico\n",
    "2. **Una idea por punto**: No intentes contar toda la historia en una sola diapositiva\n",
    "3. **Destaca lo importante**: Usa anotaciones y filtros para dirigir la atención\n",
    "4. **Cierra con acción**: Termina con recomendaciones claras basadas en tus hallazgos"
   ]
  },
  {
   "cell_type": "markdown",
   "metadata": {},
   "source": [
    "## Flujo de Trabajo\n",
    "\n",
    "1. **Guarda frecuentemente**: Tableau guarda automáticamente, pero crea copias de respaldo\n",
    "2. **Nombra tus hojas**: Usa nombres descriptivos en lugar de \"Hoja 1\", \"Hoja 2\"\n",
    "3. **Organiza tu trabajo**: Utiliza proyectos y carpetas para mantener orden\n",
    "4. **Documenta tu proceso**: Añade comentarios en tus cálculos y filtros complejos"
   ]
  },
  {
   "cell_type": "markdown",
   "metadata": {},
   "source": [
    "---\n",
    "\n",
    "# Recursos Adicionales\n",
    "\n",
    "## Documentación Oficial\n",
    "- [Tableau Help](https://help.tableau.com/)\n",
    "- [Tableau Training](https://www.tableau.com/learn/training)\n",
    "- [Tableau Community Forums](https://community.tableau.com/)\n",
    "\n",
    "## Práctica\n",
    "- [Tableau Public Gallery](https://public.tableau.com/gallery/) - Explora visualizaciones de la comunidad\n",
    "- [Sample Datasets](https://www.tableau.com/learn/articles/free-public-data-sets) - Conjuntos de datos gratuitos para practicar\n",
    "\n",
    "## Certificación\n",
    "- [Tableau Desktop Specialist](https://www.tableau.com/learn/certification/desktop-specialist)\n",
    "- [Tableau Certified Data Analyst](https://www.tableau.com/learn/certification/certified-data-analyst)"
   ]
  },
  {
   "cell_type": "markdown",
   "metadata": {},
   "source": [
    "---\n",
    "\n",
    "# Resumen del Tutorial\n",
    "\n",
    "Has aprendido a:\n",
    "\n",
    "- **Conectarte** a diferentes fuentes de datos  \n",
    "- **Crear visualizaciones** mediante arrastrar y soltar  \n",
    "- **Filtrar y enfocarte** en datos relevantes  \n",
    "- **Explorar geográficamente** con mapas interactivos  \n",
    "- **Desglosar datos** con filtros Top N y múltiples dimensiones  \n",
    "- **Construir dashboards** interactivos que combinan múltiples vistas  \n",
    "- **Crear historias** narrativas para presentar hallazgos  \n",
    "- **Compartir tu trabajo** mediante Tableau Public o Tableau Server"
   ]
  },
  {
   "cell_type": "markdown",
   "metadata": {},
   "source": [
    "---\n",
    "\n",
    "# Próximos Pasos\n",
    "\n",
    "1. **Practica con tus propios datos**: Aplica lo aprendido a un conjunto de datos de tu trabajo o interés personal\n",
    "2. **Explora funciones avanzadas**: Cálculos de tabla, parámetros, acciones de dashboard\n",
    "3. **Únete a la comunidad**: Participa en forums, webinars y eventos de Tableau\n",
    "4. **Construye un portfolio**: Crea y publica visualizaciones en Tableau Public\n",
    "5. **Considera la certificación**: Valida tus habilidades con una certificación oficial"
   ]
  },
  {
   "cell_type": "markdown",
   "metadata": {},
   "source": [
    "---\n",
    "\n",
    "# Preguntas Frecuentes\n",
    "\n",
    "**P: ¿Necesito Tableau Desktop para seguir este tutorial?**  \n",
    "R: Sí, este tutorial está diseñado para Tableau Desktop. Hay una versión de prueba gratuita de 14 días disponible.\n",
    "\n",
    "**P: ¿Puedo usar Tableau Public en lugar de Tableau Desktop?**  \n",
    "R: Tableau Public tiene funcionalidades limitadas y todos los datos son públicos. Es adecuado para aprendizaje básico.\n",
    "\n",
    "**P: ¿Los datos de \"Muestra - Supertienda\" vienen incluidos?**  \n",
    "R: Sí, Tableau Desktop incluye varios conjuntos de datos de muestra, incluyendo Supertienda.\n",
    "\n",
    "**P: ¿Cuánto tiempo lleva dominar Tableau?**  \n",
    "R: Con práctica regular, puedes crear visualizaciones efectivas en 1-2 meses. El dominio avanzado requiere 6-12 meses.\n",
    "\n",
    "**P: ¿Tableau es compatible con Excel?**  \n",
    "R: Sí, Tableau se conecta fácilmente a archivos Excel (.xls, .xlsx) y otras fuentes de datos."
   ]
  },
  {
   "cell_type": "markdown",
   "metadata": {},
   "source": [
    "---\n",
    "\n",
    "# ¡Felicidades!\n",
    "\n",
    "**¡Felicidades por completar este tutorial de Tableau Desktop!**\n",
    "\n",
    "Ahora tienes las habilidades fundamentales para analizar datos, crear visualizaciones impactantes y contar historias convincentes con tus datos. ¡Continúa practicando y explorando!"
   ]
  }
 ],
 "metadata": {
  "kernelspec": {
   "display_name": "Python 3",
   "language": "python",
   "name": "python3"
  },
  "language_info": {
   "codemirror_mode": {
    "name": "ipython",
    "version": 3
   },
   "file_extension": ".py",
   "mimetype": "text/x-python",
   "name": "python",
   "nbconvert_exporter": "python",
   "pygments_lexer": "ipython3",
   "version": "3.8.0"
  }
 },
 "nbformat": 4,
 "nbformat_minor": 4
}
