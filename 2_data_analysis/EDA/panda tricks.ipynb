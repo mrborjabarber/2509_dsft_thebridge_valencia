{
 "cells": [
  {
   "cell_type": "code",
   "execution_count": null,
   "id": "381893c8",
   "metadata": {},
   "outputs": [],
   "source": [
    "import pandas as pd\n",
    "\n",
    "df = pd.DataFrame({\n",
    "    'a': [1, 2, 3, 4],\n",
    "    'b': [10, 20, 30, 40]\n",
    "})"
   ]
  },
  {
   "cell_type": "markdown",
   "id": "19c93b51",
   "metadata": {},
   "source": [
    "pandas.eval() te permite evaluar expresiones de Python escritas como strings, pero de forma más rápida y eficiente, especialmente con DataFrames grandes.\n",
    "\n",
    "Está optimizada internamente: usa un motor de evaluación más rápido que el de Python, y evita crear copias innecesarias de datos en memoria."
   ]
  },
  {
   "cell_type": "code",
   "execution_count": null,
   "id": "d63a791e",
   "metadata": {},
   "outputs": [],
   "source": [
    "df.eval('c= a * b + 5 ' , inplace=True)\n",
    "print(df)"
   ]
  },
  {
   "cell_type": "code",
   "execution_count": 7,
   "id": "644eb692",
   "metadata": {},
   "outputs": [],
   "source": [
    "\n",
    "df = pd.DataFrame({\n",
    "    'A': [1, 5, 3, 9],\n",
    "    'B': [4, 2, 8, 6],\n",
    "    'C': [7, 3, 5, 1]\n",
    "})\n",
    "\n"
   ]
  },
  {
   "cell_type": "markdown",
   "id": "93d305ff",
   "metadata": {},
   "source": [
    "La lógica de pandas\n",
    "La clave está en entender que axis indica QUÉ se recorre/elimina, no sobre qué se opera:\n",
    "axis=0 → \"eje de las filas\"\n",
    "\n",
    "Significa: recorro/atravieso las filas (voy de fila en fila)\n",
    "Al recorrer filas, estoy comparando valores DENTRO de cada columna\n",
    "Resultado: opero por columna\n",
    "\n",
    "axis=1 → \"eje de las columnas\"\n",
    "\n",
    "Significa: recorro/atravieso las columnas (voy de columna en columna)\n",
    "Al recorrer columnas, estoy comparando valores DENTRO de cada fila\n",
    "Resultado: opero por fila"
   ]
  },
  {
   "cell_type": "code",
   "execution_count": 14,
   "id": "46846f16",
   "metadata": {},
   "outputs": [
    {
     "ename": "SyntaxError",
     "evalue": "invalid character '→' (U+2192) (788455010.py, line 23)",
     "output_type": "error",
     "traceback": [
      "  \u001b[36mCell\u001b[39m\u001b[36m \u001b[39m\u001b[32mIn[14]\u001b[39m\u001b[32m, line 23\u001b[39m\n\u001b[31m    \u001b[39m\u001b[31mMáximo de A: 30 → se pinta verde\u001b[39m\n                    ^\n\u001b[31mSyntaxError\u001b[39m\u001b[31m:\u001b[39m invalid character '→' (U+2192)\n"
     ]
    }
   ],
   "source": [
    "df.style.highlight_max(color='lightgreen', axis=0)\n",
    "```\n",
    "\n",
    "Esto hace 3 cosas:\n",
    "\n",
    "### a) `highlight_max`\n",
    "- Busca el **valor máximo**\n",
    "\n",
    "### b) `color='lightgreen'`\n",
    "- Lo resalta con color **verde claro**\n",
    "\n",
    "### c) `axis=0`\n",
    "- Busca el máximo **por columna** (recorre las filas hacia abajo)\n",
    "- Es decir, encuentra el valor más alto **dentro de cada columna**\n",
    "\n",
    "**Ejemplo:**\n",
    "```\n",
    "    A   B   C\n",
    "0  10  15   5\n",
    "1  20  25  45  \n",
    "2  30  35  25  \n",
    "\n",
    "Máximo de A: 30 → se pinta verde\n",
    "Máximo de B: 35 → se pinta verde  \n",
    "Máximo de C: 45 → se pinta verde"
   ]
  }
 ],
 "metadata": {
  "kernelspec": {
   "display_name": "Python 3",
   "language": "python",
   "name": "python3"
  },
  "language_info": {
   "codemirror_mode": {
    "name": "ipython",
    "version": 3
   },
   "file_extension": ".py",
   "mimetype": "text/x-python",
   "name": "python",
   "nbconvert_exporter": "python",
   "pygments_lexer": "ipython3",
   "version": "3.11.9"
  }
 },
 "nbformat": 4,
 "nbformat_minor": 5
}
